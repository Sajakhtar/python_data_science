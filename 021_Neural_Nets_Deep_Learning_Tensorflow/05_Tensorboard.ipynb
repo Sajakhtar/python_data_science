{
 "cells": [
  {
   "cell_type": "markdown",
   "metadata": {},
   "source": [
    "# Tensorboard\n",
    "\n",
    "---\n",
    "---\n",
    "\n",
    "**NOTE: You must watch the corresponding video to understand this lecture. This notebook can't serve as a full guide. Please watch the video BEFORE posting questions to the QA forum.**\n",
    "\n",
    "---\n",
    "---\n",
    "Tensorboard is a visualization tool from Google designed to work in conjunction with TensorFlow to visualize various aspects of your model\n",
    "\n",
    "Installation \n",
    "\n",
    "    conda install -c conda-forge tensorboard\n",
    "\n",
    "Or use Google Colab\n",
    "\n",
    "https://www.tensorflow.org/tensorboard/tensorboard_in_notebooks\n",
    "\n",
    "---\n",
    "\n",
    "Let's explore the built in data visualization capabilities that come with Tensorboard.\n",
    "\n",
    "Full official tutorial available here: https://www.tensorflow.org/tensorboard/get_started\n",
    "\n",
    "## Data"
   ]
  },
  {
   "cell_type": "code",
   "execution_count": 2,
   "metadata": {},
   "outputs": [],
   "source": [
    "import numpy as np\n",
    "import pandas as pd"
   ]
  },
  {
   "cell_type": "code",
   "execution_count": 3,
   "metadata": {},
   "outputs": [],
   "source": [
    "df = pd.read_csv('DATA/cancer_classification.csv')"
   ]
  },
  {
   "cell_type": "code",
   "execution_count": 4,
   "metadata": {},
   "outputs": [
    {
     "data": {
      "text/html": [
       "<div>\n",
       "<style scoped>\n",
       "    .dataframe tbody tr th:only-of-type {\n",
       "        vertical-align: middle;\n",
       "    }\n",
       "\n",
       "    .dataframe tbody tr th {\n",
       "        vertical-align: top;\n",
       "    }\n",
       "\n",
       "    .dataframe thead th {\n",
       "        text-align: right;\n",
       "    }\n",
       "</style>\n",
       "<table border=\"1\" class=\"dataframe\">\n",
       "  <thead>\n",
       "    <tr style=\"text-align: right;\">\n",
       "      <th></th>\n",
       "      <th>mean radius</th>\n",
       "      <th>mean texture</th>\n",
       "      <th>mean perimeter</th>\n",
       "      <th>mean area</th>\n",
       "      <th>mean smoothness</th>\n",
       "      <th>mean compactness</th>\n",
       "      <th>mean concavity</th>\n",
       "      <th>mean concave points</th>\n",
       "      <th>mean symmetry</th>\n",
       "      <th>mean fractal dimension</th>\n",
       "      <th>...</th>\n",
       "      <th>worst texture</th>\n",
       "      <th>worst perimeter</th>\n",
       "      <th>worst area</th>\n",
       "      <th>worst smoothness</th>\n",
       "      <th>worst compactness</th>\n",
       "      <th>worst concavity</th>\n",
       "      <th>worst concave points</th>\n",
       "      <th>worst symmetry</th>\n",
       "      <th>worst fractal dimension</th>\n",
       "      <th>benign_0__mal_1</th>\n",
       "    </tr>\n",
       "  </thead>\n",
       "  <tbody>\n",
       "    <tr>\n",
       "      <td>0</td>\n",
       "      <td>17.99</td>\n",
       "      <td>10.38</td>\n",
       "      <td>122.80</td>\n",
       "      <td>1001.0</td>\n",
       "      <td>0.11840</td>\n",
       "      <td>0.27760</td>\n",
       "      <td>0.3001</td>\n",
       "      <td>0.14710</td>\n",
       "      <td>0.2419</td>\n",
       "      <td>0.07871</td>\n",
       "      <td>...</td>\n",
       "      <td>17.33</td>\n",
       "      <td>184.60</td>\n",
       "      <td>2019.0</td>\n",
       "      <td>0.1622</td>\n",
       "      <td>0.6656</td>\n",
       "      <td>0.7119</td>\n",
       "      <td>0.2654</td>\n",
       "      <td>0.4601</td>\n",
       "      <td>0.11890</td>\n",
       "      <td>0</td>\n",
       "    </tr>\n",
       "    <tr>\n",
       "      <td>1</td>\n",
       "      <td>20.57</td>\n",
       "      <td>17.77</td>\n",
       "      <td>132.90</td>\n",
       "      <td>1326.0</td>\n",
       "      <td>0.08474</td>\n",
       "      <td>0.07864</td>\n",
       "      <td>0.0869</td>\n",
       "      <td>0.07017</td>\n",
       "      <td>0.1812</td>\n",
       "      <td>0.05667</td>\n",
       "      <td>...</td>\n",
       "      <td>23.41</td>\n",
       "      <td>158.80</td>\n",
       "      <td>1956.0</td>\n",
       "      <td>0.1238</td>\n",
       "      <td>0.1866</td>\n",
       "      <td>0.2416</td>\n",
       "      <td>0.1860</td>\n",
       "      <td>0.2750</td>\n",
       "      <td>0.08902</td>\n",
       "      <td>0</td>\n",
       "    </tr>\n",
       "    <tr>\n",
       "      <td>2</td>\n",
       "      <td>19.69</td>\n",
       "      <td>21.25</td>\n",
       "      <td>130.00</td>\n",
       "      <td>1203.0</td>\n",
       "      <td>0.10960</td>\n",
       "      <td>0.15990</td>\n",
       "      <td>0.1974</td>\n",
       "      <td>0.12790</td>\n",
       "      <td>0.2069</td>\n",
       "      <td>0.05999</td>\n",
       "      <td>...</td>\n",
       "      <td>25.53</td>\n",
       "      <td>152.50</td>\n",
       "      <td>1709.0</td>\n",
       "      <td>0.1444</td>\n",
       "      <td>0.4245</td>\n",
       "      <td>0.4504</td>\n",
       "      <td>0.2430</td>\n",
       "      <td>0.3613</td>\n",
       "      <td>0.08758</td>\n",
       "      <td>0</td>\n",
       "    </tr>\n",
       "    <tr>\n",
       "      <td>3</td>\n",
       "      <td>11.42</td>\n",
       "      <td>20.38</td>\n",
       "      <td>77.58</td>\n",
       "      <td>386.1</td>\n",
       "      <td>0.14250</td>\n",
       "      <td>0.28390</td>\n",
       "      <td>0.2414</td>\n",
       "      <td>0.10520</td>\n",
       "      <td>0.2597</td>\n",
       "      <td>0.09744</td>\n",
       "      <td>...</td>\n",
       "      <td>26.50</td>\n",
       "      <td>98.87</td>\n",
       "      <td>567.7</td>\n",
       "      <td>0.2098</td>\n",
       "      <td>0.8663</td>\n",
       "      <td>0.6869</td>\n",
       "      <td>0.2575</td>\n",
       "      <td>0.6638</td>\n",
       "      <td>0.17300</td>\n",
       "      <td>0</td>\n",
       "    </tr>\n",
       "    <tr>\n",
       "      <td>4</td>\n",
       "      <td>20.29</td>\n",
       "      <td>14.34</td>\n",
       "      <td>135.10</td>\n",
       "      <td>1297.0</td>\n",
       "      <td>0.10030</td>\n",
       "      <td>0.13280</td>\n",
       "      <td>0.1980</td>\n",
       "      <td>0.10430</td>\n",
       "      <td>0.1809</td>\n",
       "      <td>0.05883</td>\n",
       "      <td>...</td>\n",
       "      <td>16.67</td>\n",
       "      <td>152.20</td>\n",
       "      <td>1575.0</td>\n",
       "      <td>0.1374</td>\n",
       "      <td>0.2050</td>\n",
       "      <td>0.4000</td>\n",
       "      <td>0.1625</td>\n",
       "      <td>0.2364</td>\n",
       "      <td>0.07678</td>\n",
       "      <td>0</td>\n",
       "    </tr>\n",
       "  </tbody>\n",
       "</table>\n",
       "<p>5 rows × 31 columns</p>\n",
       "</div>"
      ],
      "text/plain": [
       "   mean radius  mean texture  mean perimeter  mean area  mean smoothness  \\\n",
       "0        17.99         10.38          122.80     1001.0          0.11840   \n",
       "1        20.57         17.77          132.90     1326.0          0.08474   \n",
       "2        19.69         21.25          130.00     1203.0          0.10960   \n",
       "3        11.42         20.38           77.58      386.1          0.14250   \n",
       "4        20.29         14.34          135.10     1297.0          0.10030   \n",
       "\n",
       "   mean compactness  mean concavity  mean concave points  mean symmetry  \\\n",
       "0           0.27760          0.3001              0.14710         0.2419   \n",
       "1           0.07864          0.0869              0.07017         0.1812   \n",
       "2           0.15990          0.1974              0.12790         0.2069   \n",
       "3           0.28390          0.2414              0.10520         0.2597   \n",
       "4           0.13280          0.1980              0.10430         0.1809   \n",
       "\n",
       "   mean fractal dimension  ...  worst texture  worst perimeter  worst area  \\\n",
       "0                 0.07871  ...          17.33           184.60      2019.0   \n",
       "1                 0.05667  ...          23.41           158.80      1956.0   \n",
       "2                 0.05999  ...          25.53           152.50      1709.0   \n",
       "3                 0.09744  ...          26.50            98.87       567.7   \n",
       "4                 0.05883  ...          16.67           152.20      1575.0   \n",
       "\n",
       "   worst smoothness  worst compactness  worst concavity  worst concave points  \\\n",
       "0            0.1622             0.6656           0.7119                0.2654   \n",
       "1            0.1238             0.1866           0.2416                0.1860   \n",
       "2            0.1444             0.4245           0.4504                0.2430   \n",
       "3            0.2098             0.8663           0.6869                0.2575   \n",
       "4            0.1374             0.2050           0.4000                0.1625   \n",
       "\n",
       "   worst symmetry  worst fractal dimension  benign_0__mal_1  \n",
       "0          0.4601                  0.11890                0  \n",
       "1          0.2750                  0.08902                0  \n",
       "2          0.3613                  0.08758                0  \n",
       "3          0.6638                  0.17300                0  \n",
       "4          0.2364                  0.07678                0  \n",
       "\n",
       "[5 rows x 31 columns]"
      ]
     },
     "execution_count": 4,
     "metadata": {},
     "output_type": "execute_result"
    }
   ],
   "source": [
    "df.head()"
   ]
  },
  {
   "cell_type": "markdown",
   "metadata": {},
   "source": [
    "### Train Test Split"
   ]
  },
  {
   "cell_type": "code",
   "execution_count": 5,
   "metadata": {},
   "outputs": [],
   "source": [
    "from sklearn.model_selection import train_test_split"
   ]
  },
  {
   "cell_type": "code",
   "execution_count": 6,
   "metadata": {},
   "outputs": [],
   "source": [
    "X = df.drop('benign_0__mal_1',axis=1).values\n",
    "y = df['benign_0__mal_1'].values"
   ]
  },
  {
   "cell_type": "code",
   "execution_count": 7,
   "metadata": {},
   "outputs": [],
   "source": [
    "X_train, X_test, y_train, y_test = train_test_split(X,y,test_size=0.25,random_state=101)"
   ]
  },
  {
   "cell_type": "markdown",
   "metadata": {},
   "source": [
    "\n",
    "### Scaling Data"
   ]
  },
  {
   "cell_type": "code",
   "execution_count": 8,
   "metadata": {},
   "outputs": [],
   "source": [
    "from sklearn.preprocessing import MinMaxScaler"
   ]
  },
  {
   "cell_type": "code",
   "execution_count": 9,
   "metadata": {},
   "outputs": [],
   "source": [
    "scaler = MinMaxScaler()"
   ]
  },
  {
   "cell_type": "code",
   "execution_count": 10,
   "metadata": {},
   "outputs": [
    {
     "data": {
      "text/plain": [
       "MinMaxScaler(copy=True, feature_range=(0, 1))"
      ]
     },
     "execution_count": 10,
     "metadata": {},
     "output_type": "execute_result"
    }
   ],
   "source": [
    "scaler.fit(X_train)"
   ]
  },
  {
   "cell_type": "code",
   "execution_count": 11,
   "metadata": {},
   "outputs": [],
   "source": [
    "X_train = scaler.transform(X_train)\n",
    "X_test = scaler.transform(X_test)"
   ]
  },
  {
   "cell_type": "markdown",
   "metadata": {},
   "source": [
    "## Creating the Model"
   ]
  },
  {
   "cell_type": "code",
   "execution_count": 12,
   "metadata": {},
   "outputs": [],
   "source": [
    "import tensorflow as tf\n",
    "from tensorflow.keras.models import Sequential\n",
    "from tensorflow.keras.layers import Dense, Activation,Dropout"
   ]
  },
  {
   "cell_type": "code",
   "execution_count": 13,
   "metadata": {},
   "outputs": [],
   "source": [
    "# import TensorBoard callback as well as EarlyStopping\n",
    "from tensorflow.keras.callbacks import EarlyStopping,TensorBoard"
   ]
  },
  {
   "cell_type": "code",
   "execution_count": 14,
   "metadata": {},
   "outputs": [],
   "source": [
    "early_stop = EarlyStopping(monitor='val_loss', mode='min', verbose=1, patience=25)"
   ]
  },
  {
   "cell_type": "code",
   "execution_count": 15,
   "metadata": {},
   "outputs": [
    {
     "data": {
      "text/plain": [
       "'C:\\\\Users\\\\Sajakhta\\\\Desktop\\\\Python_Data Science_ML_Bootcamp\\\\021_Neural_Nets_Deep_Learning_Tensorflow'"
      ]
     },
     "execution_count": 15,
     "metadata": {},
     "output_type": "execute_result"
    }
   ],
   "source": [
    "pwd\n",
    "# use \\\\ for file path"
   ]
  },
  {
   "cell_type": "markdown",
   "metadata": {},
   "source": [
    "## Creating the Tensorboard Callback\n",
    "\n",
    "TensorBoard is a visualization tool provided with TensorFlow.\n",
    "\n",
    "This callback logs events for TensorBoard, including:\n",
    "* Metrics summary plots\n",
    "* Training graph visualization\n",
    "* Activation histograms\n",
    "* Sampled profiling\n",
    "\n",
    "If you have installed TensorFlow with pip, you should be able\n",
    "to launch TensorBoard from the command line:\n",
    "\n",
    "```sh\n",
    "tensorboard --logdir=path_to_your_logs\n",
    "```\n",
    "\n",
    "You can find more information about TensorBoard\n",
    "[here](https://www.tensorflow.org/tensorboard/).\n",
    "\n",
    "    Arguments:\n",
    "        log_dir: the path of the directory where to save the log files to be\n",
    "          parsed by TensorBoard.\n",
    "        histogram_freq: frequency (in epochs) at which to compute activation and\n",
    "          weight histograms for the layers of the model. If set to 0, histograms\n",
    "          won't be computed. Validation data (or split) must be specified for\n",
    "          histogram visualizations.\n",
    "        write_graph: whether to visualize the graph in TensorBoard. The log file\n",
    "          can become quite large when write_graph is set to True.\n",
    "        write_images: whether to write model weights to visualize as image in\n",
    "          TensorBoard.\n",
    "        update_freq: `'batch'` or `'epoch'` or integer. When using `'batch'`,\n",
    "          writes the losses and metrics to TensorBoard after each batch. The same\n",
    "          applies for `'epoch'`. If using an integer, let's say `1000`, the\n",
    "          callback will write the metrics and losses to TensorBoard every 1000\n",
    "          samples. Note that writing too frequently to TensorBoard can slow down\n",
    "          your training.\n",
    "        profile_batch: Profile the batch to sample compute characteristics. By\n",
    "          default, it will profile the second batch. Set profile_batch=0 to\n",
    "          disable profiling. Must run in TensorFlow eager mode.\n",
    "        embeddings_freq: frequency (in epochs) at which embedding layers will\n",
    "          be visualized. If set to 0, embeddings won't be visualized.\n",
    "       "
   ]
  },
  {
   "cell_type": "code",
   "execution_count": 16,
   "metadata": {},
   "outputs": [],
   "source": [
    "from datetime import datetime"
   ]
  },
  {
   "cell_type": "code",
   "execution_count": 17,
   "metadata": {},
   "outputs": [
    {
     "data": {
      "text/plain": [
       "'2020-05-15--1721'"
      ]
     },
     "execution_count": 17,
     "metadata": {},
     "output_type": "execute_result"
    }
   ],
   "source": [
    "datetime.now().strftime(\"%Y-%m-%d--%H%M\")"
   ]
  },
  {
   "cell_type": "code",
   "execution_count": 18,
   "metadata": {},
   "outputs": [],
   "source": [
    "# TENSORBOARD CALLBACK\n",
    "\n",
    "# WINDOWS: Use \"logs\\\\fit\"\n",
    "# MACOS/LINUX: Use \"logs\\fit\"\n",
    "\n",
    "log_directory = 'logs\\\\fit' # file path to the logs, most important item\n",
    "\n",
    "# OPTIONAL: ADD A TIMESTAMP FOR UNIQUE FOLDER\n",
    "# if you're running the model multiple times with different params\n",
    "# timestamp = datetime.now().strftime(\"%Y-%m-%d--%H%M\")\n",
    "# log_directory = log_directory + '\\\\' + timestamp\n",
    "\n",
    "\n",
    "# histogram_freq=1 to calculate the weights of our layers after every epoch of training and create histograms\n",
    "# we'll histograms for each epcoh stacked on top of each other\n",
    "# update_freq set to 'epoch' beter to visualize per epoch\n",
    "\n",
    "board = TensorBoard(log_dir=log_directory,histogram_freq=1,\n",
    "    write_graph=True,\n",
    "    write_images=True,\n",
    "    update_freq='epoch',\n",
    "    profile_batch=2,\n",
    "    embeddings_freq=1)"
   ]
  },
  {
   "cell_type": "markdown",
   "metadata": {},
   "source": [
    "Now create the model layers:"
   ]
  },
  {
   "cell_type": "code",
   "execution_count": 19,
   "metadata": {},
   "outputs": [],
   "source": [
    "# same model as in our 03_Keras_Classification.ipynb\n",
    "model = Sequential()\n",
    "model.add(Dense(units=30,activation='relu'))\n",
    "model.add(Dropout(0.5))\n",
    "model.add(Dense(units=15,activation='relu'))\n",
    "model.add(Dropout(0.5))\n",
    "model.add(Dense(units=1,activation='sigmoid'))\n",
    "model.compile(loss='binary_crossentropy', optimizer='adam')"
   ]
  },
  {
   "cell_type": "markdown",
   "metadata": {},
   "source": [
    "## Train the Model"
   ]
  },
  {
   "cell_type": "code",
   "execution_count": 21,
   "metadata": {},
   "outputs": [
    {
     "name": "stdout",
     "output_type": "stream",
     "text": [
      "Train on 426 samples, validate on 143 samples\n",
      "Epoch 1/600\n",
      "426/426 [==============================] - 1s 1ms/sample - loss: 0.7346 - val_loss: 0.6669\n",
      "Epoch 2/600\n",
      "426/426 [==============================] - 0s 152us/sample - loss: 0.7000 - val_loss: 0.6478\n",
      "Epoch 3/600\n",
      "426/426 [==============================] - 0s 133us/sample - loss: 0.6505 - val_loss: 0.6237\n",
      "Epoch 4/600\n",
      "426/426 [==============================] - 0s 136us/sample - loss: 0.6320 - val_loss: 0.5952\n",
      "Epoch 5/600\n",
      "426/426 [==============================] - 0s 145us/sample - loss: 0.6052 - val_loss: 0.5653\n",
      "Epoch 6/600\n",
      "426/426 [==============================] - 0s 162us/sample - loss: 0.5980 - val_loss: 0.5359\n",
      "Epoch 7/600\n",
      "426/426 [==============================] - 0s 183us/sample - loss: 0.5660 - val_loss: 0.5119\n",
      "Epoch 8/600\n",
      "426/426 [==============================] - 0s 173us/sample - loss: 0.5439 - val_loss: 0.4854\n",
      "Epoch 9/600\n",
      "426/426 [==============================] - 0s 152us/sample - loss: 0.5234 - val_loss: 0.4596\n",
      "Epoch 10/600\n",
      "426/426 [==============================] - 0s 166us/sample - loss: 0.5011 - val_loss: 0.4259\n",
      "Epoch 11/600\n",
      "426/426 [==============================] - 0s 164us/sample - loss: 0.4778 - val_loss: 0.3972\n",
      "Epoch 12/600\n",
      "426/426 [==============================] - 0s 166us/sample - loss: 0.4523 - val_loss: 0.3689\n",
      "Epoch 13/600\n",
      "426/426 [==============================] - 0s 199us/sample - loss: 0.4220 - val_loss: 0.3427\n",
      "Epoch 14/600\n",
      "426/426 [==============================] - 0s 194us/sample - loss: 0.4215 - val_loss: 0.3202\n",
      "Epoch 15/600\n",
      "426/426 [==============================] - 0s 185us/sample - loss: 0.3908 - val_loss: 0.3010\n",
      "Epoch 16/600\n",
      "426/426 [==============================] - 0s 162us/sample - loss: 0.3598 - val_loss: 0.2824\n",
      "Epoch 17/600\n",
      "426/426 [==============================] - 0s 155us/sample - loss: 0.3723 - val_loss: 0.2697\n",
      "Epoch 18/600\n",
      "426/426 [==============================] - 0s 145us/sample - loss: 0.3532 - val_loss: 0.2542\n",
      "Epoch 19/600\n",
      "426/426 [==============================] - 0s 150us/sample - loss: 0.3416 - val_loss: 0.2436\n",
      "Epoch 20/600\n",
      "426/426 [==============================] - 0s 145us/sample - loss: 0.3366 - val_loss: 0.2320\n",
      "Epoch 21/600\n",
      "426/426 [==============================] - 0s 155us/sample - loss: 0.3279 - val_loss: 0.2203\n",
      "Epoch 22/600\n",
      "426/426 [==============================] - 0s 150us/sample - loss: 0.2915 - val_loss: 0.2028\n",
      "Epoch 23/600\n",
      "426/426 [==============================] - 0s 147us/sample - loss: 0.2842 - val_loss: 0.1924\n",
      "Epoch 24/600\n",
      "426/426 [==============================] - 0s 145us/sample - loss: 0.3038 - val_loss: 0.1900\n",
      "Epoch 25/600\n",
      "426/426 [==============================] - 0s 166us/sample - loss: 0.2604 - val_loss: 0.1924\n",
      "Epoch 26/600\n",
      "426/426 [==============================] - 0s 138us/sample - loss: 0.2794 - val_loss: 0.1798\n",
      "Epoch 27/600\n",
      "426/426 [==============================] - 0s 145us/sample - loss: 0.2711 - val_loss: 0.1739\n",
      "Epoch 28/600\n",
      "426/426 [==============================] - 0s 147us/sample - loss: 0.2546 - val_loss: 0.1649\n",
      "Epoch 29/600\n",
      "426/426 [==============================] - 0s 164us/sample - loss: 0.2461 - val_loss: 0.1606\n",
      "Epoch 30/600\n",
      "426/426 [==============================] - 0s 178us/sample - loss: 0.2426 - val_loss: 0.1548\n",
      "Epoch 31/600\n",
      "426/426 [==============================] - 0s 164us/sample - loss: 0.2328 - val_loss: 0.1527\n",
      "Epoch 32/600\n",
      "426/426 [==============================] - 0s 133us/sample - loss: 0.2390 - val_loss: 0.1448\n",
      "Epoch 33/600\n",
      "426/426 [==============================] - 0s 136us/sample - loss: 0.2337 - val_loss: 0.1402\n",
      "Epoch 34/600\n",
      "426/426 [==============================] - 0s 136us/sample - loss: 0.2128 - val_loss: 0.1381\n",
      "Epoch 35/600\n",
      "426/426 [==============================] - 0s 138us/sample - loss: 0.1961 - val_loss: 0.1330\n",
      "Epoch 36/600\n",
      "426/426 [==============================] - 0s 145us/sample - loss: 0.1962 - val_loss: 0.1239\n",
      "Epoch 37/600\n",
      "426/426 [==============================] - 0s 133us/sample - loss: 0.2179 - val_loss: 0.1334\n",
      "Epoch 38/600\n",
      "426/426 [==============================] - 0s 145us/sample - loss: 0.2111 - val_loss: 0.1293\n",
      "Epoch 39/600\n",
      "426/426 [==============================] - 0s 138us/sample - loss: 0.1910 - val_loss: 0.1226\n",
      "Epoch 40/600\n",
      "426/426 [==============================] - 0s 138us/sample - loss: 0.1748 - val_loss: 0.1158\n",
      "Epoch 41/600\n",
      "426/426 [==============================] - 0s 143us/sample - loss: 0.1902 - val_loss: 0.1306\n",
      "Epoch 42/600\n",
      "426/426 [==============================] - 0s 180us/sample - loss: 0.1885 - val_loss: 0.1165\n",
      "Epoch 43/600\n",
      "426/426 [==============================] - 0s 173us/sample - loss: 0.1833 - val_loss: 0.1165\n",
      "Epoch 44/600\n",
      "426/426 [==============================] - 0s 171us/sample - loss: 0.1963 - val_loss: 0.1245\n",
      "Epoch 45/600\n",
      "426/426 [==============================] - 0s 152us/sample - loss: 0.1928 - val_loss: 0.1159\n",
      "Epoch 46/600\n",
      "426/426 [==============================] - 0s 176us/sample - loss: 0.1713 - val_loss: 0.1114\n",
      "Epoch 47/600\n",
      "426/426 [==============================] - 0s 190us/sample - loss: 0.1896 - val_loss: 0.1059\n",
      "Epoch 48/600\n",
      "426/426 [==============================] - 0s 190us/sample - loss: 0.1774 - val_loss: 0.1072\n",
      "Epoch 49/600\n",
      "426/426 [==============================] - 0s 241us/sample - loss: 0.1664 - val_loss: 0.1157\n",
      "Epoch 50/600\n",
      "426/426 [==============================] - 0s 192us/sample - loss: 0.1816 - val_loss: 0.1094\n",
      "Epoch 51/600\n",
      "426/426 [==============================] - 0s 173us/sample - loss: 0.1537 - val_loss: 0.1020\n",
      "Epoch 52/600\n",
      "426/426 [==============================] - 0s 183us/sample - loss: 0.1460 - val_loss: 0.0990\n",
      "Epoch 53/600\n",
      "426/426 [==============================] - 0s 206us/sample - loss: 0.1674 - val_loss: 0.1052\n",
      "Epoch 54/600\n",
      "426/426 [==============================] - 0s 201us/sample - loss: 0.1527 - val_loss: 0.0982\n",
      "Epoch 55/600\n",
      "426/426 [==============================] - 0s 192us/sample - loss: 0.1691 - val_loss: 0.0988\n",
      "Epoch 56/600\n",
      "426/426 [==============================] - 0s 227us/sample - loss: 0.1629 - val_loss: 0.1179\n",
      "Epoch 57/600\n",
      "426/426 [==============================] - 0s 171us/sample - loss: 0.1492 - val_loss: 0.1064\n",
      "Epoch 58/600\n",
      "426/426 [==============================] - 0s 169us/sample - loss: 0.1446 - val_loss: 0.1040\n",
      "Epoch 59/600\n",
      "426/426 [==============================] - 0s 166us/sample - loss: 0.1513 - val_loss: 0.0994\n",
      "Epoch 60/600\n",
      "426/426 [==============================] - 0s 162us/sample - loss: 0.1421 - val_loss: 0.0953\n",
      "Epoch 61/600\n",
      "426/426 [==============================] - 0s 166us/sample - loss: 0.1514 - val_loss: 0.0971\n",
      "Epoch 62/600\n",
      "426/426 [==============================] - 0s 176us/sample - loss: 0.1313 - val_loss: 0.1006\n",
      "Epoch 63/600\n",
      "426/426 [==============================] - 0s 187us/sample - loss: 0.1407 - val_loss: 0.0961\n",
      "Epoch 64/600\n",
      "426/426 [==============================] - 0s 206us/sample - loss: 0.1347 - val_loss: 0.0958\n",
      "Epoch 65/600\n",
      "426/426 [==============================] - 0s 185us/sample - loss: 0.1383 - val_loss: 0.1086\n",
      "Epoch 66/600\n",
      "426/426 [==============================] - 0s 147us/sample - loss: 0.1399 - val_loss: 0.1054\n",
      "Epoch 67/600\n",
      "426/426 [==============================] - 0s 152us/sample - loss: 0.1418 - val_loss: 0.0912\n",
      "Epoch 68/600\n",
      "426/426 [==============================] - ETA: 0s - loss: 0.254 - 0s 136us/sample - loss: 0.1204 - val_loss: 0.0933\n",
      "Epoch 69/600\n",
      "426/426 [==============================] - 0s 140us/sample - loss: 0.1263 - val_loss: 0.1042\n",
      "Epoch 70/600\n",
      "426/426 [==============================] - 0s 131us/sample - loss: 0.1404 - val_loss: 0.1068\n",
      "Epoch 71/600\n",
      "426/426 [==============================] - 0s 147us/sample - loss: 0.1335 - val_loss: 0.0962\n",
      "Epoch 72/600\n",
      "426/426 [==============================] - 0s 145us/sample - loss: 0.1073 - val_loss: 0.0975\n",
      "Epoch 73/600\n",
      "426/426 [==============================] - 0s 145us/sample - loss: 0.1347 - val_loss: 0.0912\n",
      "Epoch 74/600\n",
      "426/426 [==============================] - 0s 140us/sample - loss: 0.1282 - val_loss: 0.0908\n",
      "Epoch 75/600\n",
      "426/426 [==============================] - 0s 140us/sample - loss: 0.1156 - val_loss: 0.1058\n",
      "Epoch 76/600\n",
      "426/426 [==============================] - 0s 133us/sample - loss: 0.1272 - val_loss: 0.1017\n",
      "Epoch 77/600\n"
     ]
    },
    {
     "name": "stdout",
     "output_type": "stream",
     "text": [
      "426/426 [==============================] - 0s 131us/sample - loss: 0.1173 - val_loss: 0.0940\n",
      "Epoch 78/600\n",
      "426/426 [==============================] - 0s 162us/sample - loss: 0.1124 - val_loss: 0.0891\n",
      "Epoch 79/600\n",
      "426/426 [==============================] - 0s 140us/sample - loss: 0.1465 - val_loss: 0.1027\n",
      "Epoch 80/600\n",
      "426/426 [==============================] - 0s 150us/sample - loss: 0.1235 - val_loss: 0.0965\n",
      "Epoch 81/600\n",
      "426/426 [==============================] - 0s 141us/sample - loss: 0.1165 - val_loss: 0.0905\n",
      "Epoch 82/600\n",
      "426/426 [==============================] - 0s 157us/sample - loss: 0.1078 - val_loss: 0.1032\n",
      "Epoch 83/600\n",
      "426/426 [==============================] - 0s 157us/sample - loss: 0.1074 - val_loss: 0.0888\n",
      "Epoch 84/600\n",
      "426/426 [==============================] - 0s 129us/sample - loss: 0.1140 - val_loss: 0.0981\n",
      "Epoch 85/600\n",
      "426/426 [==============================] - 0s 133us/sample - loss: 0.0999 - val_loss: 0.0956\n",
      "Epoch 86/600\n",
      "426/426 [==============================] - 0s 131us/sample - loss: 0.1219 - val_loss: 0.0851\n",
      "Epoch 87/600\n",
      "426/426 [==============================] - 0s 147us/sample - loss: 0.1274 - val_loss: 0.0915\n",
      "Epoch 88/600\n",
      "426/426 [==============================] - 0s 131us/sample - loss: 0.1059 - val_loss: 0.1034\n",
      "Epoch 89/600\n",
      "426/426 [==============================] - 0s 131us/sample - loss: 0.1125 - val_loss: 0.0919\n",
      "Epoch 90/600\n",
      "426/426 [==============================] - 0s 169us/sample - loss: 0.1365 - val_loss: 0.0945\n",
      "Epoch 91/600\n",
      "426/426 [==============================] - 0s 166us/sample - loss: 0.1028 - val_loss: 0.0946\n",
      "Epoch 92/600\n",
      "426/426 [==============================] - 0s 131us/sample - loss: 0.0891 - val_loss: 0.0927\n",
      "Epoch 93/600\n",
      "426/426 [==============================] - 0s 173us/sample - loss: 0.0902 - val_loss: 0.0939\n",
      "Epoch 94/600\n",
      "426/426 [==============================] - 0s 133us/sample - loss: 0.1004 - val_loss: 0.0868\n",
      "Epoch 95/600\n",
      "426/426 [==============================] - 0s 145us/sample - loss: 0.0848 - val_loss: 0.0917\n",
      "Epoch 96/600\n",
      "426/426 [==============================] - 0s 143us/sample - loss: 0.1056 - val_loss: 0.0895\n",
      "Epoch 97/600\n",
      "426/426 [==============================] - 0s 140us/sample - loss: 0.0886 - val_loss: 0.0861\n",
      "Epoch 98/600\n",
      "426/426 [==============================] - 0s 138us/sample - loss: 0.1074 - val_loss: 0.0886\n",
      "Epoch 99/600\n",
      "426/426 [==============================] - 0s 137us/sample - loss: 0.0812 - val_loss: 0.0862\n",
      "Epoch 100/600\n",
      "426/426 [==============================] - 0s 199us/sample - loss: 0.0868 - val_loss: 0.0980\n",
      "Epoch 101/600\n",
      "426/426 [==============================] - 0s 162us/sample - loss: 0.1444 - val_loss: 0.0923\n",
      "Epoch 102/600\n",
      "426/426 [==============================] - 0s 133us/sample - loss: 0.1162 - val_loss: 0.0847\n",
      "Epoch 103/600\n",
      "426/426 [==============================] - 0s 131us/sample - loss: 0.1131 - val_loss: 0.0997\n",
      "Epoch 104/600\n",
      "426/426 [==============================] - 0s 184us/sample - loss: 0.0897 - val_loss: 0.0945\n",
      "Epoch 105/600\n",
      "426/426 [==============================] - 0s 171us/sample - loss: 0.0989 - val_loss: 0.0884\n",
      "Epoch 106/600\n",
      "426/426 [==============================] - 0s 157us/sample - loss: 0.1237 - val_loss: 0.0865\n",
      "Epoch 107/600\n",
      "426/426 [==============================] - 0s 126us/sample - loss: 0.0906 - val_loss: 0.0932\n",
      "Epoch 108/600\n",
      "426/426 [==============================] - 0s 138us/sample - loss: 0.0975 - val_loss: 0.0917\n",
      "Epoch 109/600\n",
      "426/426 [==============================] - 0s 180us/sample - loss: 0.1022 - val_loss: 0.0848\n",
      "Epoch 110/600\n",
      "426/426 [==============================] - 0s 141us/sample - loss: 0.0886 - val_loss: 0.0898\n",
      "Epoch 111/600\n",
      "426/426 [==============================] - 0s 162us/sample - loss: 0.0857 - val_loss: 0.1051\n",
      "Epoch 112/600\n",
      "426/426 [==============================] - 0s 141us/sample - loss: 0.1116 - val_loss: 0.1057\n",
      "Epoch 113/600\n",
      "426/426 [==============================] - 0s 134us/sample - loss: 0.1043 - val_loss: 0.0842\n",
      "Epoch 114/600\n",
      "426/426 [==============================] - 0s 134us/sample - loss: 0.0980 - val_loss: 0.0848\n",
      "Epoch 115/600\n",
      "426/426 [==============================] - 0s 136us/sample - loss: 0.0715 - val_loss: 0.0911\n",
      "Epoch 116/600\n",
      "426/426 [==============================] - 0s 141us/sample - loss: 0.1000 - val_loss: 0.0887\n",
      "Epoch 117/600\n",
      "426/426 [==============================] - 0s 136us/sample - loss: 0.0788 - val_loss: 0.0891\n",
      "Epoch 118/600\n",
      "426/426 [==============================] - 0s 140us/sample - loss: 0.0800 - val_loss: 0.0812\n",
      "Epoch 119/600\n",
      "426/426 [==============================] - 0s 134us/sample - loss: 0.0927 - val_loss: 0.0998\n",
      "Epoch 120/600\n",
      "426/426 [==============================] - 0s 148us/sample - loss: 0.0941 - val_loss: 0.0950\n",
      "Epoch 121/600\n",
      "426/426 [==============================] - 0s 138us/sample - loss: 0.0922 - val_loss: 0.0905\n",
      "Epoch 122/600\n",
      "426/426 [==============================] - 0s 152us/sample - loss: 0.0778 - val_loss: 0.0995\n",
      "Epoch 123/600\n",
      "426/426 [==============================] - 0s 162us/sample - loss: 0.0998 - val_loss: 0.0918\n",
      "Epoch 124/600\n",
      "426/426 [==============================] - 0s 139us/sample - loss: 0.0843 - val_loss: 0.0855\n",
      "Epoch 125/600\n",
      "426/426 [==============================] - 0s 131us/sample - loss: 0.0991 - val_loss: 0.1012\n",
      "Epoch 126/600\n",
      "426/426 [==============================] - 0s 133us/sample - loss: 0.1033 - val_loss: 0.0901\n",
      "Epoch 127/600\n",
      "426/426 [==============================] - 0s 137us/sample - loss: 0.0867 - val_loss: 0.1076\n",
      "Epoch 128/600\n",
      "426/426 [==============================] - 0s 135us/sample - loss: 0.0798 - val_loss: 0.0881\n",
      "Epoch 129/600\n",
      "426/426 [==============================] - 0s 131us/sample - loss: 0.0908 - val_loss: 0.0828\n",
      "Epoch 130/600\n",
      "426/426 [==============================] - 0s 146us/sample - loss: 0.0797 - val_loss: 0.0833\n",
      "Epoch 131/600\n",
      "426/426 [==============================] - 0s 147us/sample - loss: 0.0881 - val_loss: 0.1016\n",
      "Epoch 132/600\n",
      "426/426 [==============================] - 0s 145us/sample - loss: 0.0819 - val_loss: 0.0896\n",
      "Epoch 133/600\n",
      "426/426 [==============================] - 0s 145us/sample - loss: 0.1060 - val_loss: 0.0937\n",
      "Epoch 134/600\n",
      "426/426 [==============================] - 0s 141us/sample - loss: 0.1160 - val_loss: 0.0881\n",
      "Epoch 135/600\n",
      "426/426 [==============================] - 0s 139us/sample - loss: 0.0980 - val_loss: 0.1048\n",
      "Epoch 136/600\n",
      "426/426 [==============================] - 0s 152us/sample - loss: 0.0957 - val_loss: 0.0873\n",
      "Epoch 137/600\n",
      "426/426 [==============================] - 0s 143us/sample - loss: 0.0913 - val_loss: 0.0920\n",
      "Epoch 138/600\n",
      "426/426 [==============================] - 0s 136us/sample - loss: 0.0750 - val_loss: 0.1200\n",
      "Epoch 139/600\n",
      "426/426 [==============================] - 0s 134us/sample - loss: 0.0982 - val_loss: 0.1008\n",
      "Epoch 140/600\n",
      "426/426 [==============================] - 0s 134us/sample - loss: 0.0980 - val_loss: 0.0885\n",
      "Epoch 141/600\n",
      "426/426 [==============================] - 0s 136us/sample - loss: 0.0870 - val_loss: 0.0888\n",
      "Epoch 142/600\n",
      "426/426 [==============================] - 0s 147us/sample - loss: 0.1078 - val_loss: 0.0998\n",
      "Epoch 143/600\n",
      "426/426 [==============================] - 0s 132us/sample - loss: 0.0973 - val_loss: 0.0814\n",
      "Epoch 00143: early stopping\n"
     ]
    },
    {
     "data": {
      "text/plain": [
       "<tensorflow.python.keras.callbacks.History at 0x1550e0e8dc8>"
      ]
     },
     "execution_count": 21,
     "metadata": {},
     "output_type": "execute_result"
    }
   ],
   "source": [
    "# fit model\n",
    "# pass in tensorboard callback\n",
    "model.fit(x=X_train, y=y_train, epochs=600, validation_data=(X_test, y_test), verbose=1,callbacks=[early_stop,board])\n",
    "# early stopping triggered at epoch 143"
   ]
  },
  {
   "cell_type": "markdown",
   "metadata": {},
   "source": [
    "# Running Tensorboard"
   ]
  },
  {
   "cell_type": "markdown",
   "metadata": {},
   "source": [
    "## Running through the Command Line\n",
    "\n",
    "**Watch video to see how to run Tensorboard through a command line call.**"
   ]
  },
  {
   "cell_type": "markdown",
   "metadata": {},
   "source": [
    "Tensorboard will run locally in your browser at [http://localhost:6006/](http://localhost:6006/)\n",
    " - Open in a new tab.\n",
    "\n",
    "**Run Tensorboard through command line or anaconda prompt**\n",
    "* activate environment\n",
    "    * conda info --envs\n",
    "    * conda activate env_name\n",
    "* Just need to remember log directory\n",
    "    * > cd to the the logs folder\n",
    "* Tensorboard command\n",
    "    * >tensorboard --logdir logs\\fit\n",
    "    * It will show Tensorboard is running on http://localhost:6006/\n",
    "    * Tensoreboard will use the files in logs\\fit folder for the visualizations\n",
    "    * Ctrl + C to quit\n",
    "* http://localhost:6006/#scalars\n",
    "    * Interactive plot of Training vs validation loss\n",
    "* http://localhost:6006/#images&_smoothingWeight=0.44&runSelectionState=eyJ0cmFpbiI6dHJ1ZSwidmFsaWRhdGlvbiI6dHJ1ZX0%3D\n",
    "    * images of weights\n",
    "    * difficult to interpret for our data, since we're not dealing with images in our dataset\n",
    "* http://localhost:6006/#graphs&_smoothingWeight=0.44&runSelectionState=eyJ0cmFpbiI6dHJ1ZSwidmFsaWRhdGlvbiI6dHJ1ZX0%3D&run=train\n",
    "    * graph for model\n",
    "    * shows the nodes\n",
    "* http://localhost:6006/#distributions&_smoothingWeight=0.44&runSelectionState=eyJ0cmFpbiI6dHJ1ZSwidmFsaWRhdGlvbiI6dHJ1ZX0%3D&run=train\n",
    "    * distributions\n",
    "    * range of weights throughout the different layers\n",
    "        dense2, dense1, dense\n",
    "    * more useful for convolutional neural networks\n",
    "* http://localhost:6006/#histograms&_smoothingWeight=0.44&runSelectionState=eyJ0cmFpbiI6dHJ1ZSwidmFsaWRhdGlvbiI6dHJ1ZX0%3D&run=train\n",
    "    * Histograms\n",
    "    * 3D layered \n",
    "    * difficult to interprest but shows how things are chaning through out time\n",
    "    * looking at dense_1/Bias_0 it shows how the bias values are changing with each epoch throughout time, the change less as you get closer to the stopping epoch\n",
    "    * Same is true for the weight histograms, see dense_1/Kernel_0\n",
    "* http://localhost:6006/#profile&_smoothingWeight=0.44&runSelectionState=eyJ0cmFpbiI6dHJ1ZSwidmFsaWRhdGlvbiI6dHJ1ZX0%3D&run=train\n",
    "    * profile\n",
    "* http://localhost:6006/#projector&_smoothingWeight=0.44&runSelectionState=eyJ0cmFpbiI6dHJ1ZSwidmFsaWRhdGlvbiI6dHJ1ZX0%3D&run=train\n",
    "    * Projector\n",
    "    * 3D projection"
   ]
  },
  {
   "cell_type": "code",
   "execution_count": 22,
   "metadata": {},
   "outputs": [
    {
     "name": "stdout",
     "output_type": "stream",
     "text": [
      "logs\\fit\n"
     ]
    }
   ],
   "source": [
    "print(log_directory)"
   ]
  },
  {
   "cell_type": "code",
   "execution_count": 23,
   "metadata": {},
   "outputs": [
    {
     "data": {
      "text/plain": [
       "'C:\\\\Users\\\\Sajakhta\\\\Desktop\\\\Python_Data Science_ML_Bootcamp\\\\021_Neural_Nets_Deep_Learning_Tensorflow'"
      ]
     },
     "execution_count": 23,
     "metadata": {},
     "output_type": "execute_result"
    }
   ],
   "source": [
    "pwd"
   ]
  },
  {
   "cell_type": "markdown",
   "metadata": {},
   "source": [
    "### Use cd at your command line to change directory to the file path reported back by pwd or your current .py file location.\n",
    "### Then run this code at your command line or terminal"
   ]
  },
  {
   "cell_type": "markdown",
   "metadata": {},
   "source": [
    "tensorboard --logdir logs\\fit"
   ]
  }
 ],
 "metadata": {
  "kernelspec": {
   "display_name": "Python 3",
   "language": "python",
   "name": "python3"
  },
  "language_info": {
   "codemirror_mode": {
    "name": "ipython",
    "version": 3
   },
   "file_extension": ".py",
   "mimetype": "text/x-python",
   "name": "python",
   "nbconvert_exporter": "python",
   "pygments_lexer": "ipython3",
   "version": "3.7.4"
  }
 },
 "nbformat": 4,
 "nbformat_minor": 2
}
