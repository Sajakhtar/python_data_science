{
 "cells": [
  {
   "cell_type": "markdown",
   "metadata": {},
   "source": [
    "___\n",
    "# Plotly and Cufflinks"
   ]
  },
  {
   "cell_type": "markdown",
   "metadata": {},
   "source": [
    "Plotly is a library that allows you to create interactive plots that you can use in dashboards or websites (you can save them as html files or static images).\n",
    "\n",
    "* Plotly is an interactive visualization library: https://plotly.com/\n",
    "* Cufflinks connects plotly with pandas: \n",
    "    * https://plotly.com/python/cufflinks/\n",
    "    * https://github.com/santosjorge/cufflinks\n",
    "    * Cufflinks has Technical Analysis charts for financial analysis with moving avg, bollinger bands, etc...\n",
    "\n",
    "## Installation\n",
    "\n",
    "In order for this all to work, you'll need to install plotly and cufflinks to call plots directly off of a pandas dataframe. These libraries are not currently available through **conda** but are available through **pip**. Install the libraries at your command line/terminal using:\n",
    "\n",
    "    conda install -c plotly plotly\n",
    "    conda install -c conda-forge cufflinks-py\n",
    "\n",
    "    pip install plotly\n",
    "    pip install cufflinks\n",
    "\n",
    "**NOTE: Make sure you only have one installation of Python on your computer when you do this, otherwise the installation may not work.**\n",
    "\n",
    "## Imports and Set-up"
   ]
  },
  {
   "cell_type": "code",
   "execution_count": 1,
   "metadata": {},
   "outputs": [],
   "source": [
    "import numpy as np\n",
    "import pandas as pd\n",
    "%matplotlib inline"
   ]
  },
  {
   "cell_type": "code",
   "execution_count": 2,
   "metadata": {},
   "outputs": [
    {
     "name": "stdout",
     "output_type": "stream",
     "text": [
      "4.6.0\n"
     ]
    }
   ],
   "source": [
    "from plotly import __version__\n",
    "from plotly.offline import download_plotlyjs, init_notebook_mode, plot, iplot\n",
    "\n",
    "print(__version__) # requires version >= 1.9.0"
   ]
  },
  {
   "cell_type": "code",
   "execution_count": 3,
   "metadata": {},
   "outputs": [],
   "source": [
    "import cufflinks as cf"
   ]
  },
  {
   "cell_type": "code",
   "execution_count": 5,
   "metadata": {},
   "outputs": [
    {
     "data": {
      "text/html": [
       "        <script type=\"text/javascript\">\n",
       "        window.PlotlyConfig = {MathJaxConfig: 'local'};\n",
       "        if (window.MathJax) {MathJax.Hub.Config({SVG: {font: \"STIX-Web\"}});}\n",
       "        if (typeof require !== 'undefined') {\n",
       "        require.undef(\"plotly\");\n",
       "        requirejs.config({\n",
       "            paths: {\n",
       "                'plotly': ['https://cdn.plot.ly/plotly-latest.min']\n",
       "            }\n",
       "        });\n",
       "        require(['plotly'], function(Plotly) {\n",
       "            window._Plotly = Plotly;\n",
       "        });\n",
       "        }\n",
       "        </script>\n",
       "        "
      ]
     },
     "metadata": {},
     "output_type": "display_data"
    }
   ],
   "source": [
    "# For Notebooks - connects JS to notebook\n",
    "init_notebook_mode(connected=True)"
   ]
  },
  {
   "cell_type": "code",
   "execution_count": 6,
   "metadata": {},
   "outputs": [
    {
     "data": {
      "text/html": [
       "        <script type=\"text/javascript\">\n",
       "        window.PlotlyConfig = {MathJaxConfig: 'local'};\n",
       "        if (window.MathJax) {MathJax.Hub.Config({SVG: {font: \"STIX-Web\"}});}\n",
       "        if (typeof require !== 'undefined') {\n",
       "        require.undef(\"plotly\");\n",
       "        requirejs.config({\n",
       "            paths: {\n",
       "                'plotly': ['https://cdn.plot.ly/plotly-latest.min']\n",
       "            }\n",
       "        });\n",
       "        require(['plotly'], function(Plotly) {\n",
       "            window._Plotly = Plotly;\n",
       "        });\n",
       "        }\n",
       "        </script>\n",
       "        "
      ]
     },
     "metadata": {},
     "output_type": "display_data"
    }
   ],
   "source": [
    "# For Cufflinks offline use\n",
    "cf.go_offline()"
   ]
  },
  {
   "cell_type": "markdown",
   "metadata": {},
   "source": [
    "### Fake Data"
   ]
  },
  {
   "cell_type": "code",
   "execution_count": 7,
   "metadata": {},
   "outputs": [],
   "source": [
    "df = pd.DataFrame(np.random.randn(100,4), columns='A B C D'.split())"
   ]
  },
  {
   "cell_type": "code",
   "execution_count": 8,
   "metadata": {},
   "outputs": [
    {
     "data": {
      "text/html": [
       "<div>\n",
       "<style scoped>\n",
       "    .dataframe tbody tr th:only-of-type {\n",
       "        vertical-align: middle;\n",
       "    }\n",
       "\n",
       "    .dataframe tbody tr th {\n",
       "        vertical-align: top;\n",
       "    }\n",
       "\n",
       "    .dataframe thead th {\n",
       "        text-align: right;\n",
       "    }\n",
       "</style>\n",
       "<table border=\"1\" class=\"dataframe\">\n",
       "  <thead>\n",
       "    <tr style=\"text-align: right;\">\n",
       "      <th></th>\n",
       "      <th>A</th>\n",
       "      <th>B</th>\n",
       "      <th>C</th>\n",
       "      <th>D</th>\n",
       "    </tr>\n",
       "  </thead>\n",
       "  <tbody>\n",
       "    <tr>\n",
       "      <td>0</td>\n",
       "      <td>0.208090</td>\n",
       "      <td>0.151358</td>\n",
       "      <td>2.005112</td>\n",
       "      <td>-1.456573</td>\n",
       "    </tr>\n",
       "    <tr>\n",
       "      <td>1</td>\n",
       "      <td>-0.019342</td>\n",
       "      <td>0.979516</td>\n",
       "      <td>-0.449361</td>\n",
       "      <td>0.526237</td>\n",
       "    </tr>\n",
       "    <tr>\n",
       "      <td>2</td>\n",
       "      <td>0.671093</td>\n",
       "      <td>1.421473</td>\n",
       "      <td>-0.908487</td>\n",
       "      <td>0.489458</td>\n",
       "    </tr>\n",
       "    <tr>\n",
       "      <td>3</td>\n",
       "      <td>-0.323743</td>\n",
       "      <td>-0.070973</td>\n",
       "      <td>-0.772162</td>\n",
       "      <td>-0.212930</td>\n",
       "    </tr>\n",
       "    <tr>\n",
       "      <td>4</td>\n",
       "      <td>-0.089340</td>\n",
       "      <td>-0.921066</td>\n",
       "      <td>0.654163</td>\n",
       "      <td>-0.163249</td>\n",
       "    </tr>\n",
       "  </tbody>\n",
       "</table>\n",
       "</div>"
      ],
      "text/plain": [
       "          A         B         C         D\n",
       "0  0.208090  0.151358  2.005112 -1.456573\n",
       "1 -0.019342  0.979516 -0.449361  0.526237\n",
       "2  0.671093  1.421473 -0.908487  0.489458\n",
       "3 -0.323743 -0.070973 -0.772162 -0.212930\n",
       "4 -0.089340 -0.921066  0.654163 -0.163249"
      ]
     },
     "execution_count": 8,
     "metadata": {},
     "output_type": "execute_result"
    }
   ],
   "source": [
    "df.head()"
   ]
  },
  {
   "cell_type": "code",
   "execution_count": 9,
   "metadata": {},
   "outputs": [],
   "source": [
    "df2 = pd.DataFrame({'Category':['A','B','C'], 'Values':[32,43,50]})"
   ]
  },
  {
   "cell_type": "code",
   "execution_count": 10,
   "metadata": {},
   "outputs": [
    {
     "data": {
      "text/html": [
       "<div>\n",
       "<style scoped>\n",
       "    .dataframe tbody tr th:only-of-type {\n",
       "        vertical-align: middle;\n",
       "    }\n",
       "\n",
       "    .dataframe tbody tr th {\n",
       "        vertical-align: top;\n",
       "    }\n",
       "\n",
       "    .dataframe thead th {\n",
       "        text-align: right;\n",
       "    }\n",
       "</style>\n",
       "<table border=\"1\" class=\"dataframe\">\n",
       "  <thead>\n",
       "    <tr style=\"text-align: right;\">\n",
       "      <th></th>\n",
       "      <th>Category</th>\n",
       "      <th>Values</th>\n",
       "    </tr>\n",
       "  </thead>\n",
       "  <tbody>\n",
       "    <tr>\n",
       "      <td>0</td>\n",
       "      <td>A</td>\n",
       "      <td>32</td>\n",
       "    </tr>\n",
       "    <tr>\n",
       "      <td>1</td>\n",
       "      <td>B</td>\n",
       "      <td>43</td>\n",
       "    </tr>\n",
       "    <tr>\n",
       "      <td>2</td>\n",
       "      <td>C</td>\n",
       "      <td>50</td>\n",
       "    </tr>\n",
       "  </tbody>\n",
       "</table>\n",
       "</div>"
      ],
      "text/plain": [
       "  Category  Values\n",
       "0        A      32\n",
       "1        B      43\n",
       "2        C      50"
      ]
     },
     "execution_count": 10,
     "metadata": {},
     "output_type": "execute_result"
    }
   ],
   "source": [
    "df2"
   ]
  },
  {
   "cell_type": "markdown",
   "metadata": {},
   "source": [
    "## Using Cufflinks and iplot()\n",
    "\n",
    "* scatter\n",
    "* bar\n",
    "* box\n",
    "* spread\n",
    "* ratio\n",
    "* heatmap\n",
    "* surface\n",
    "* histogram\n",
    "* bubble"
   ]
  },
  {
   "cell_type": "code",
   "execution_count": 11,
   "metadata": {},
   "outputs": [
    {
     "data": {
      "text/plain": [
       "<matplotlib.axes._subplots.AxesSubplot at 0x20d88127c88>"
      ]
     },
     "execution_count": 11,
     "metadata": {},
     "output_type": "execute_result"
    },
    {
     "data": {
      "image/png": "[encoded data removed]",
      "text/plain": [
       "<Figure size 432x288 with 1 Axes>"
      ]
     },
     "metadata": {
      "needs_background": "light"
     },
     "output_type": "display_data"
    }
   ],
   "source": [
    "df.plot() # matplotlib"
   ]
  },
  {
   "cell_type": "code",
   "execution_count": 13,
   "metadata": {},
   "outputs": [
    {
     "data": {
      "application/vnd.plotly.v1+json": {
       "config": {
        "linkText": "Export to plot.ly",
        "plotlyServerURL": "https://plot.ly",
        "showLink": true
       },
       "data": [
        {
         "line": {
          "color": "rgba(255, 153, 51, 1.0)",
          "dash": "solid",
          "shape": "linear",
          "width": 1.3
         },
         "mode": "lines",
         "name": "A",
         "text": "",
         "type": "scatter",
         "x": [
          0,
          1,
          2,
          3,
          4,
          5,
          6,
          7,
          8,
          9,
          10,
          11,
          12,
          13,
          14,
          15,
          16,
          17,
          18,
          19,
          20,
          21,
          22,
          23,
          24,
          25,
          26,
          27,
          28,
          29,
          30,
          31,
          32,
          33,
          34,
          35,
          36,
          37,
          38,
          39,
          40,
          41,
          42,
          43,
          44,
          45,
          46,
          47,
          48,
          49,
          50,
          51,
          52,
          53,
          54,
          55,
          56,
          57,
          58,
          59,
          60,
          61,
          62,
          63,
          64,
          65,
          66,
          67,
          68,
          69,
          70,
          71,
          72,
          73,
          74,
          75,
          76,
          77,
          78,
          79,
          80,
          81,
          82,
          83,
          84,
          85,
          86,
          87,
          88,
          89,
          90,
          91,
          92,
          93,
          94,
          95,
          96,
          97,
          98,
          99
         ],
         "y": [
          0.20809043819086845,
          -0.019341506915506363,
          0.6710928486171988,
          -0.32374262692684636,
          -0.08933950365355328,
          -2.4870153305002876,
          -0.0828445187959473,
          0.5765196640599008,
          -1.45974335926409,
          -0.7039420056988792,
          0.07374623781588262,
          1.3890599308664364,
          -0.4065140417790279,
          -1.5534252482243656,
          -0.5223086210478873,
          1.0283472012969124,
          -0.7782606201795501,
          -1.1134140955232776,
          1.545117883927185,
          0.6536675243606903,
          -0.4635661135202583,
          -1.3776886078026092,
          0.5157479741118118,
          0.48495411771132285,
          -1.498163791196165,
          0.186173316287323,
          -0.6084259450245122,
          0.1385458239150797,
          -0.34327731015590035,
          1.3057395117869839,
          -0.8507861830526204,
          0.07068108652281078,
          0.5609468060125844,
          0.8436003826923163,
          -0.5544739466474897,
          0.304567437465066,
          0.07380956245430079,
          0.6770820944557193,
          0.9958583944756741,
          -0.8843872234471372,
          -0.5686911224280439,
          -0.4833310001350282,
          1.0444287952056812,
          -1.0247446450677433,
          -0.04442966989560093,
          -0.8533122995490622,
          0.6530986336452997,
          -0.7022015322286137,
          1.2062876705027765,
          -2.0339563452164966,
          0.48742624290522124,
          0.6589028909488218,
          -2.3421002379617333,
          -0.7722454389655053,
          0.02882023909271555,
          -1.534494316301149,
          0.38125317141931553,
          0.9658911532176244,
          -0.36784839411375353,
          0.7996346562293096,
          -1.6665252924104532,
          -0.4099124667256445,
          -0.6272330819731242,
          0.22436834840107997,
          -0.587796897611996,
          -0.21185255449597312,
          -0.012570892599201121,
          -0.54279177228348,
          -2.6560874773893772,
          0.3149100180434697,
          2.010648660253624,
          0.5551898627890857,
          -1.4963775556776142,
          -0.5877273554807264,
          0.07257979710473213,
          0.15338192801483436,
          -0.5596087652557075,
          0.9007287289028704,
          0.7994878115707456,
          -0.8204821180718412,
          0.28035281575665505,
          0.23986792951813127,
          -0.19554464475260425,
          1.490723752902071,
          -0.20027691553987273,
          -0.5566182124634896,
          -0.2586965268169799,
          0.8988418941151963,
          -0.12990886192371434,
          0.02546613837971286,
          -1.0416098497036679,
          -1.5819094674443275,
          -0.13181985295975357,
          1.2325838746792015,
          -1.1327957870240355,
          0.34605049462143017,
          1.706190747987443,
          2.1433316293580784,
          0.3271201022174498,
          -0.7168867904851405
         ]
        },
        {
         "line": {
          "color": "rgba(55, 128, 191, 1.0)",
          "dash": "solid",
          "shape": "linear",
          "width": 1.3
         },
         "mode": "lines",
         "name": "B",
         "text": "",
         "type": "scatter",
         "x": [
          0,
          1,
          2,
          3,
          4,
          5,
          6,
          7,
          8,
          9,
          10,
          11,
          12,
          13,
          14,
          15,
          16,
          17,
          18,
          19,
          20,
          21,
          22,
          23,
          24,
          25,
          26,
          27,
          28,
          29,
          30,
          31,
          32,
          33,
          34,
          35,
          36,
          37,
          38,
          39,
          40,
          41,
          42,
          43,
          44,
          45,
          46,
          47,
          48,
          49,
          50,
          51,
          52,
          53,
          54,
          55,
          56,
          57,
          58,
          59,
          60,
          61,
          62,
          63,
          64,
          65,
          66,
          67,
          68,
          69,
          70,
          71,
          72,
          73,
          74,
          75,
          76,
          77,
          78,
          79,
          80,
          81,
          82,
          83,
          84,
          85,
          86,
          87,
          88,
          89,
          90,
          91,
          92,
          93,
          94,
          95,
          96,
          97,
          98,
          99
         ],
         "y": [
          0.15135829454715108,
          0.9795160147718429,
          1.4214734609290678,
          -0.07097325758683996,
          -0.9210663836667375,
          0.20378024537982453,
          -0.6100369380441374,
          -1.3466306621394803,
          -1.81632980066363,
          -0.15798779724206727,
          -1.018606443577509,
          -0.54437943019444,
          -0.48276994747208113,
          0.57798424272942,
          -0.970914049767164,
          -0.4352116885815418,
          0.8241358618851978,
          1.2918990512894106,
          -0.11878729385443036,
          -0.24842332641139903,
          0.4465616973650019,
          0.7155306943090513,
          1.9646290002462576,
          0.7485402486486966,
          2.301917351467514,
          -0.4584041069143579,
          -1.9769012314332277,
          -1.201105007029545,
          1.669260528563722,
          0.22156748859860562,
          -0.43902290576062286,
          -0.9269491629983333,
          -1.442120004125873,
          -1.1669983984588779,
          -0.2801873720734649,
          2.5275136591199066,
          -0.020117546102519243,
          -1.5074242850340052,
          -1.3581481255377978,
          1.0682872361234326,
          -0.4253891039927625,
          -0.9795015883734285,
          0.7178957327501252,
          -1.1761437747950894,
          -1.6540195151829544,
          1.6095607825891305,
          -0.8873683216168122,
          -1.6423713126718416,
          -0.17082902921556906,
          1.4433275020088596,
          -0.23514827551444784,
          -0.18210764579747643,
          -0.47380473108659904,
          -0.30564100505727737,
          0.39475719400621767,
          0.927733729671384,
          1.2414238982703922,
          0.0029357777775479636,
          0.869531108145011,
          -0.3108725300689207,
          0.31612727830321374,
          0.7637627871271956,
          -1.7022198823396548,
          0.9700454378831772,
          -2.2371234275566225,
          1.131637517157968,
          -0.393532240954233,
          -0.08165933539689739,
          0.36858334803231196,
          -1.6126676133120872,
          -0.5352745521823805,
          0.6346815353686975,
          1.238888755284414,
          -1.0276900358987127,
          -0.3355367973642946,
          0.37140192615612216,
          -0.8515083889392284,
          -2.9690855877133386,
          0.6140107859520972,
          0.43209277527755674,
          -1.0987784624213168,
          0.20215234928410972,
          -0.46102411065062787,
          1.4859285963890307,
          1.3911792195871207,
          -1.3670903285961076,
          0.22450940710990647,
          0.4101279410076213,
          1.977960208478093,
          0.43079393165742125,
          -2.9129924250906174,
          -0.7310092701771267,
          0.18258620922954666,
          2.392127291109862,
          -0.2879343642592824,
          1.8906107785898578,
          0.7400795074044674,
          -1.3617204379633567,
          0.7788471931365946,
          0.6913717081312138
         ]
        },
        {
         "line": {
          "color": "rgba(50, 171, 96, 1.0)",
          "dash": "solid",
          "shape": "linear",
          "width": 1.3
         },
         "mode": "lines",
         "name": "C",
         "text": "",
         "type": "scatter",
         "x": [
          0,
          1,
          2,
          3,
          4,
          5,
          6,
          7,
          8,
          9,
          10,
          11,
          12,
          13,
          14,
          15,
          16,
          17,
          18,
          19,
          20,
          21,
          22,
          23,
          24,
          25,
          26,
          27,
          28,
          29,
          30,
          31,
          32,
          33,
          34,
          35,
          36,
          37,
          38,
          39,
          40,
          41,
          42,
          43,
          44,
          45,
          46,
          47,
          48,
          49,
          50,
          51,
          52,
          53,
          54,
          55,
          56,
          57,
          58,
          59,
          60,
          61,
          62,
          63,
          64,
          65,
          66,
          67,
          68,
          69,
          70,
          71,
          72,
          73,
          74,
          75,
          76,
          77,
          78,
          79,
          80,
          81,
          82,
          83,
          84,
          85,
          86,
          87,
          88,
          89,
          90,
          91,
          92,
          93,
          94,
          95,
          96,
          97,
          98,
          99
         ],
         "y": [
          2.0051121159920675,
          -0.4493610805844231,
          -0.9084872076489361,
          -0.7721615517711781,
          0.6541627047739164,
          -0.3851615542298961,
          1.2241910700460494,
          -0.3594480352627832,
          0.5303515075821974,
          0.37821553681042497,
          1.5265608993568685,
          1.477366766187703,
          -0.8903976196943997,
          0.6275104381096709,
          -1.1658828346957355,
          0.5252728640062069,
          0.4116834027002824,
          2.704189848816628,
          -0.2226961420885588,
          1.0244875423195368,
          0.26495132075919875,
          -0.3335106453849119,
          -0.25051775523022307,
          -0.9421555886984696,
          -0.05185181898581905,
          0.9892425401502507,
          0.3019324275203719,
          0.05095758835038916,
          -1.4812719426708845,
          0.5548066618401524,
          0.03745238658246062,
          0.5074409459965565,
          -0.8466179648047617,
          -0.6704963196017796,
          -0.6190901486920855,
          0.17827190177240412,
          0.3664174458696268,
          2.350125669806303,
          0.043404170851318376,
          -1.3790506256730932,
          0.2737799407998692,
          0.2933588088351275,
          2.193998753638677,
          -0.9831277301264092,
          -0.6521040024729443,
          0.08051574029896495,
          -1.0062263833912914,
          1.6888321692647374,
          0.15860478630185132,
          -0.7264348973890741,
          0.5551346042795282,
          -1.3221054329247246,
          -1.2046506987274948,
          1.1490223551767262,
          -1.2035286945972503,
          1.1709154926969032,
          0.9661298764717131,
          -0.8044782297264162,
          -0.19666254507560318,
          0.21441701157769927,
          1.5613441239512482,
          0.6650992702780203,
          0.0815292219555825,
          0.05595055934265063,
          0.05073992580946308,
          -0.8345594810331837,
          0.6646967497706436,
          -0.6068052519359592,
          -0.09796794490886163,
          0.9956501209565106,
          0.032888702181209435,
          0.7282824374462252,
          -0.4421471221405374,
          -0.4996683018436185,
          -0.4598733633397587,
          -0.24246389263135104,
          -1.7254409975924612,
          -0.8704721991050504,
          -1.8617602897345804,
          -0.15657662661197377,
          -1.2433527551093784,
          0.8198948294225307,
          -0.15002325359623633,
          1.1776949232261975,
          -0.18486742703008133,
          -0.6473069114798748,
          -0.2878369954827269,
          -1.8137301176313945,
          0.7335294261397506,
          -1.5121779899245575,
          1.2057098440957132,
          -0.019324584000454413,
          0.6889436920135882,
          -0.5661336612740878,
          -0.5653254134268597,
          0.20453618725784742,
          0.40107083955132516,
          1.1740676398540935,
          -0.5776343666715368,
          2.5216844274068357
         ]
        },
        {
         "line": {
          "color": "rgba(128, 0, 128, 1.0)",
          "dash": "solid",
          "shape": "linear",
          "width": 1.3
         },
         "mode": "lines",
         "name": "D",
         "text": "",
         "type": "scatter",
         "x": [
          0,
          1,
          2,
          3,
          4,
          5,
          6,
          7,
          8,
          9,
          10,
          11,
          12,
          13,
          14,
          15,
          16,
          17,
          18,
          19,
          20,
          21,
          22,
          23,
          24,
          25,
          26,
          27,
          28,
          29,
          30,
          31,
          32,
          33,
          34,
          35,
          36,
          37,
          38,
          39,
          40,
          41,
          42,
          43,
          44,
          45,
          46,
          47,
          48,
          49,
          50,
          51,
          52,
          53,
          54,
          55,
          56,
          57,
          58,
          59,
          60,
          61,
          62,
          63,
          64,
          65,
          66,
          67,
          68,
          69,
          70,
          71,
          72,
          73,
          74,
          75,
          76,
          77,
          78,
          79,
          80,
          81,
          82,
          83,
          84,
          85,
          86,
          87,
          88,
          89,
          90,
          91,
          92,
          93,
          94,
          95,
          96,
          97,
          98,
          99
         ],
         "y": [
          -1.4565733558087668,
          0.5262369172878351,
          0.48945774743941195,
          -0.21293033404058415,
          -0.16324889199076464,
          0.630598484174999,
          0.692077637937127,
          -0.3331147371984391,
          0.1929030040351164,
          -0.3218766183486016,
          -1.6425369944411325,
          -0.7678250927492929,
          1.2659835307747669,
          0.8184210393122054,
          -0.024633339865551607,
          -1.249002879317465,
          0.9295234623087013,
          0.8493978136587808,
          -0.46047237624499265,
          -0.5778972033554954,
          0.4189611998456919,
          -0.5505020499045066,
          0.8781183000200152,
          -0.7305458201604784,
          0.4260424892761426,
          -1.1154404173816563,
          1.7386153510183529,
          1.8996270301248646,
          -0.022043989066206783,
          -2.08107613924143,
          0.10383859554091508,
          1.300271012272863,
          -0.44790591147914155,
          0.32454891365895494,
          0.723557539054515,
          -0.4526175565216972,
          1.5793439257679158,
          -1.2460820007359723,
          1.115935175496016,
          -0.07877482710809654,
          -1.730466220665265,
          1.846744729189646,
          -0.19870976067514978,
          -0.12123592053565618,
          1.3852277591750157,
          -0.2656543567586974,
          -0.07555173388232261,
          0.07777723955138618,
          0.907301321878093,
          -0.4107678910895667,
          1.0969607063495408,
          2.312284690894676,
          0.35708899337781286,
          -0.14919636371702155,
          0.10587794777827615,
          0.19445728205069596,
          -0.05300858756121772,
          0.8949819385269817,
          2.218827117112159,
          0.7060532591602858,
          -0.131418896375061,
          0.491284065175089,
          -0.9893054759795129,
          -0.08954705247396552,
          0.27609733254111335,
          1.702681047136967,
          0.22434733425503514,
          0.6696692982817731,
          2.314142962463807,
          1.0622561275932678,
          -0.4295730165307976,
          1.268635692597944,
          -0.5617857296247518,
          -0.04831566984239649,
          0.6961244218118591,
          0.04787514173602842,
          -2.4211481405527833,
          0.3895740200646518,
          -1.3291272982016469,
          0.11889810264841535,
          -0.08730316360939917,
          0.21079474055037464,
          0.5034361648353576,
          -0.868718445356883,
          -0.0994953565207857,
          0.15250135972298487,
          1.9040880921245162,
          0.0779133281913371,
          -1.245117905007259,
          -0.09485339001235499,
          0.8882549753384171,
          -0.26831172103457623,
          -0.9086119757298903,
          0.33148975957829013,
          -0.15318039179708207,
          0.11562239596100848,
          0.7578807194141244,
          -0.5585578756818593,
          -1.2714220005791093,
          -1.3660870756577828
         ]
        }
       ],
       "layout": {
        "legend": {
         "bgcolor": "#F5F6F9",
         "font": {
          "color": "#4D5663"
         }
        },
        "paper_bgcolor": "#F5F6F9",
        "plot_bgcolor": "#F5F6F9",
        "template": {
         "data": {
          "bar": [
           {
            "error_x": {
             "color": "#2a3f5f"
            },
            "error_y": {
             "color": "#2a3f5f"
            },
            "marker": {
             "line": {
              "color": "#E5ECF6",
              "width": 0.5
             }
            },
            "type": "bar"
           }
          ],
          "barpolar": [
           {
            "marker": {
             "line": {
              "color": "#E5ECF6",
              "width": 0.5
             }
            },
            "type": "barpolar"
           }
          ],
          "carpet": [
           {
            "aaxis": {
             "endlinecolor": "#2a3f5f",
             "gridcolor": "white",
             "linecolor": "white",
             "minorgridcolor": "white",
             "startlinecolor": "#2a3f5f"
            },
            "baxis": {
             "endlinecolor": "#2a3f5f",
             "gridcolor": "white",
             "linecolor": "white",
             "minorgridcolor": "white",
             "startlinecolor": "#2a3f5f"
            },
            "type": "carpet"
           }
          ],
          "choropleth": [
           {
            "colorbar": {
             "outlinewidth": 0,
             "ticks": ""
            },
            "type": "choropleth"
           }
          ],
          "contour": [
           {
            "colorbar": {
             "outlinewidth": 0,
             "ticks": ""
            },
            "colorscale": [
             [
              0,
              "#0d0887"
             ],
             [
              0.1111111111111111,
              "#46039f"
             ],
             [
              0.2222222222222222,
              "#7201a8"
             ],
             [
              0.3333333333333333,
              "#9c179e"
             ],
             [
              0.4444444444444444,
              "#bd3786"
             ],
             [
              0.5555555555555556,
              "#d8576b"
             ],
             [
              0.6666666666666666,
              "#ed7953"
             ],
             [
              0.7777777777777778,
              "#fb9f3a"
             ],
             [
              0.8888888888888888,
              "#fdca26"
             ],
             [
              1,
              "#f0f921"
             ]
            ],
            "type": "contour"
           }
          ],
          "contourcarpet": [
           {
            "colorbar": {
             "outlinewidth": 0,
             "ticks": ""
            },
            "type": "contourcarpet"
           }
          ],
          "heatmap": [
           {
            "colorbar": {
             "outlinewidth": 0,
             "ticks": ""
            },
            "colorscale": [
             [
              0,
              "#0d0887"
             ],
             [
              0.1111111111111111,
              "#46039f"
             ],
             [
              0.2222222222222222,
              "#7201a8"
             ],
             [
              0.3333333333333333,
              "#9c179e"
             ],
             [
              0.4444444444444444,
              "#bd3786"
             ],
             [
              0.5555555555555556,
              "#d8576b"
             ],
             [
              0.6666666666666666,
              "#ed7953"
             ],
             [
              0.7777777777777778,
              "#fb9f3a"
             ],
             [
              0.8888888888888888,
              "#fdca26"
             ],
             [
              1,
              "#f0f921"
             ]
            ],
            "type": "heatmap"
           }
          ],
          "heatmapgl": [
           {
            "colorbar": {
             "outlinewidth": 0,
             "ticks": ""
            },
            "colorscale": [
             [
              0,
              "#0d0887"
             ],
             [
              0.1111111111111111,
              "#46039f"
             ],
             [
              0.2222222222222222,
              "#7201a8"
             ],
             [
              0.3333333333333333,
              "#9c179e"
             ],
             [
              0.4444444444444444,
              "#bd3786"
             ],
             [
              0.5555555555555556,
              "#d8576b"
             ],
             [
              0.6666666666666666,
              "#ed7953"
             ],
             [
              0.7777777777777778,
              "#fb9f3a"
             ],
             [
              0.8888888888888888,
              "#fdca26"
             ],
             [
              1,
              "#f0f921"
             ]
            ],
            "type": "heatmapgl"
           }
          ],
          "histogram": [
           {
            "marker": {
             "colorbar": {
              "outlinewidth": 0,
              "ticks": ""
             }
            },
            "type": "histogram"
           }
          ],
          "histogram2d": [
           {
            "colorbar": {
             "outlinewidth": 0,
             "ticks": ""
            },
            "colorscale": [
             [
              0,
              "#0d0887"
             ],
             [
              0.1111111111111111,
              "#46039f"
             ],
             [
              0.2222222222222222,
              "#7201a8"
             ],
             [
              0.3333333333333333,
              "#9c179e"
             ],
             [
              0.4444444444444444,
              "#bd3786"
             ],
             [
              0.5555555555555556,
              "#d8576b"
             ],
             [
              0.6666666666666666,
              "#ed7953"
             ],
             [
              0.7777777777777778,
              "#fb9f3a"
             ],
             [
              0.8888888888888888,
              "#fdca26"
             ],
             [
              1,
              "#f0f921"
             ]
            ],
            "type": "histogram2d"
           }
          ],
          "histogram2dcontour": [
           {
            "colorbar": {
             "outlinewidth": 0,
             "ticks": ""
            },
            "colorscale": [
             [
              0,
              "#0d0887"
             ],
             [
              0.1111111111111111,
              "#46039f"
             ],
             [
              0.2222222222222222,
              "#7201a8"
             ],
             [
              0.3333333333333333,
              "#9c179e"
             ],
             [
              0.4444444444444444,
              "#bd3786"
             ],
             [
              0.5555555555555556,
              "#d8576b"
             ],
             [
              0.6666666666666666,
              "#ed7953"
             ],
             [
              0.7777777777777778,
              "#fb9f3a"
             ],
             [
              0.8888888888888888,
              "#fdca26"
             ],
             [
              1,
              "#f0f921"
             ]
            ],
            "type": "histogram2dcontour"
           }
          ],
          "mesh3d": [
           {
            "colorbar": {
             "outlinewidth": 0,
             "ticks": ""
            },
            "type": "mesh3d"
           }
          ],
          "parcoords": [
           {
            "line": {
             "colorbar": {
              "outlinewidth": 0,
              "ticks": ""
             }
            },
            "type": "parcoords"
           }
          ],
          "pie": [
           {
            "automargin": true,
            "type": "pie"
           }
          ],
          "scatter": [
           {
            "marker": {
             "colorbar": {
              "outlinewidth": 0,
              "ticks": ""
             }
            },
            "type": "scatter"
           }
          ],
          "scatter3d": [
           {
            "line": {
             "colorbar": {
              "outlinewidth": 0,
              "ticks": ""
             }
            },
            "marker": {
             "colorbar": {
              "outlinewidth": 0,
              "ticks": ""
             }
            },
            "type": "scatter3d"
           }
          ],
          "scattercarpet": [
           {
            "marker": {
             "colorbar": {
              "outlinewidth": 0,
              "ticks": ""
             }
            },
            "type": "scattercarpet"
           }
          ],
          "scattergeo": [
           {
            "marker": {
             "colorbar": {
              "outlinewidth": 0,
              "ticks": ""
             }
            },
            "type": "scattergeo"
           }
          ],
          "scattergl": [
           {
            "marker": {
             "colorbar": {
              "outlinewidth": 0,
              "ticks": ""
             }
            },
            "type": "scattergl"
           }
          ],
          "scattermapbox": [
           {
            "marker": {
             "colorbar": {
              "outlinewidth": 0,
              "ticks": ""
             }
            },
            "type": "scattermapbox"
           }
          ],
          "scatterpolar": [
           {
            "marker": {
             "colorbar": {
              "outlinewidth": 0,
              "ticks": ""
             }
            },
            "type": "scatterpolar"
           }
          ],
          "scatterpolargl": [
           {
            "marker": {
             "colorbar": {
              "outlinewidth": 0,
              "ticks": ""
             }
            },
            "type": "scatterpolargl"
           }
          ],
          "scatterternary": [
           {
            "marker": {
             "colorbar": {
              "outlinewidth": 0,
              "ticks": ""
             }
            },
            "type": "scatterternary"
           }
          ],
          "surface": [
           {
            "colorbar": {
             "outlinewidth": 0,
             "ticks": ""
            },
            "colorscale": [
             [
              0,
              "#0d0887"
             ],
             [
              0.1111111111111111,
              "#46039f"
             ],
             [
              0.2222222222222222,
              "#7201a8"
             ],
             [
              0.3333333333333333,
              "#9c179e"
             ],
             [
              0.4444444444444444,
              "#bd3786"
             ],
             [
              0.5555555555555556,
              "#d8576b"
             ],
             [
              0.6666666666666666,
              "#ed7953"
             ],
             [
              0.7777777777777778,
              "#fb9f3a"
             ],
             [
              0.8888888888888888,
              "#fdca26"
             ],
             [
              1,
              "#f0f921"
             ]
            ],
            "type": "surface"
           }
          ],
          "table": [
           {
            "cells": {
             "fill": {
              "color": "#EBF0F8"
             },
             "line": {
              "color": "white"
             }
            },
            "header": {
             "fill": {
              "color": "#C8D4E3"
             },
             "line": {
              "color": "white"
             }
            },
            "type": "table"
           }
          ]
         },
         "layout": {
          "annotationdefaults": {
           "arrowcolor": "#2a3f5f",
           "arrowhead": 0,
           "arrowwidth": 1
          },
          "coloraxis": {
           "colorbar": {
            "outlinewidth": 0,
            "ticks": ""
           }
          },
          "colorscale": {
           "diverging": [
            [
             0,
             "#8e0152"
            ],
            [
             0.1,
             "#c51b7d"
            ],
            [
             0.2,
             "#de77ae"
            ],
            [
             0.3,
             "#f1b6da"
            ],
            [
             0.4,
             "#fde0ef"
            ],
            [
             0.5,
             "#f7f7f7"
            ],
            [
             0.6,
             "#e6f5d0"
            ],
            [
             0.7,
             "#b8e186"
            ],
            [
             0.8,
             "#7fbc41"
            ],
            [
             0.9,
             "#4d9221"
            ],
            [
             1,
             "#276419"
            ]
           ],
           "sequential": [
            [
             0,
             "#0d0887"
            ],
            [
             0.1111111111111111,
             "#46039f"
            ],
            [
             0.2222222222222222,
             "#7201a8"
            ],
            [
             0.3333333333333333,
             "#9c179e"
            ],
            [
             0.4444444444444444,
             "#bd3786"
            ],
            [
             0.5555555555555556,
             "#d8576b"
            ],
            [
             0.6666666666666666,
             "#ed7953"
            ],
            [
             0.7777777777777778,
             "#fb9f3a"
            ],
            [
             0.8888888888888888,
             "#fdca26"
            ],
            [
             1,
             "#f0f921"
            ]
           ],
           "sequentialminus": [
            [
             0,
             "#0d0887"
            ],
            [
             0.1111111111111111,
             "#46039f"
            ],
            [
             0.2222222222222222,
             "#7201a8"
            ],
            [
             0.3333333333333333,
             "#9c179e"
            ],
            [
             0.4444444444444444,
             "#bd3786"
            ],
            [
             0.5555555555555556,
             "#d8576b"
            ],
            [
             0.6666666666666666,
             "#ed7953"
            ],
            [
             0.7777777777777778,
             "#fb9f3a"
            ],
            [
             0.8888888888888888,
             "#fdca26"
            ],
            [
             1,
             "#f0f921"
            ]
           ]
          },
          "colorway": [
           "#636efa",
           "#EF553B",
           "#00cc96",
           "#ab63fa",
           "#FFA15A",
           "#19d3f3",
           "#FF6692",
           "#B6E880",
           "#FF97FF",
           "#FECB52"
          ],
          "font": {
           "color": "#2a3f5f"
          },
          "geo": {
           "bgcolor": "white",
           "lakecolor": "white",
           "landcolor": "#E5ECF6",
           "showlakes": true,
           "showland": true,
           "subunitcolor": "white"
          },
          "hoverlabel": {
           "align": "left"
          },
          "hovermode": "closest",
          "mapbox": {
           "style": "light"
          },
          "paper_bgcolor": "white",
          "plot_bgcolor": "#E5ECF6",
          "polar": {
           "angularaxis": {
            "gridcolor": "white",
            "linecolor": "white",
            "ticks": ""
           },
           "bgcolor": "#E5ECF6",
           "radialaxis": {
            "gridcolor": "white",
            "linecolor": "white",
            "ticks": ""
           }
          },
          "scene": {
           "xaxis": {
            "backgroundcolor": "#E5ECF6",
            "gridcolor": "white",
            "gridwidth": 2,
            "linecolor": "white",
            "showbackground": true,
            "ticks": "",
            "zerolinecolor": "white"
           },
           "yaxis": {
            "backgroundcolor": "#E5ECF6",
            "gridcolor": "white",
            "gridwidth": 2,
            "linecolor": "white",
            "showbackground": true,
            "ticks": "",
            "zerolinecolor": "white"
           },
           "zaxis": {
            "backgroundcolor": "#E5ECF6",
            "gridcolor": "white",
            "gridwidth": 2,
            "linecolor": "white",
            "showbackground": true,
            "ticks": "",
            "zerolinecolor": "white"
           }
          },
          "shapedefaults": {
           "line": {
            "color": "#2a3f5f"
           }
          },
          "ternary": {
           "aaxis": {
            "gridcolor": "white",
            "linecolor": "white",
            "ticks": ""
           },
           "baxis": {
            "gridcolor": "white",
            "linecolor": "white",
            "ticks": ""
           },
           "bgcolor": "#E5ECF6",
           "caxis": {
            "gridcolor": "white",
            "linecolor": "white",
            "ticks": ""
           }
          },
          "title": {
           "x": 0.05
          },
          "xaxis": {
           "automargin": true,
           "gridcolor": "white",
           "linecolor": "white",
           "ticks": "",
           "title": {
            "standoff": 15
           },
           "zerolinecolor": "white",
           "zerolinewidth": 2
          },
          "yaxis": {
           "automargin": true,
           "gridcolor": "white",
           "linecolor": "white",
           "ticks": "",
           "title": {
            "standoff": 15
           },
           "zerolinecolor": "white",
           "zerolinewidth": 2
          }
         }
        },
        "title": {
         "font": {
          "color": "#4D5663"
         }
        },
        "xaxis": {
         "gridcolor": "#E1E5ED",
         "showgrid": true,
         "tickfont": {
          "color": "#4D5663"
         },
         "title": {
          "font": {
           "color": "#4D5663"
          },
          "text": ""
         },
         "zerolinecolor": "#E1E5ED"
        },
        "yaxis": {
         "gridcolor": "#E1E5ED",
         "showgrid": true,
         "tickfont": {
          "color": "#4D5663"
         },
         "title": {
          "font": {
           "color": "#4D5663"
          },
          "text": ""
         },
         "zerolinecolor": "#E1E5ED"
        }
       }
      },
      "text/html": [
       "<div>\n",
       "        \n",
       "        \n",
       "            <div id=\"04181242-e7a0-4b4c-9780-7bf357acbd4d\" class=\"plotly-graph-div\" style=\"height:525px; width:100%;\"></div>\n",
       "            <script type=\"text/javascript\">\n",
       "                require([\"plotly\"], function(Plotly) {\n",
       "                    window.PLOTLYENV=window.PLOTLYENV || {};\n",
       "                    window.PLOTLYENV.BASE_URL='https://plot.ly';\n",
       "                    \n",
       "                if (document.getElementById(\"04181242-e7a0-4b4c-9780-7bf357acbd4d\")) {\n",
       "                    Plotly.newPlot(\n",
       "                        '04181242-e7a0-4b4c-9780-7bf357acbd4d',\n",
       "                        [{\"line\": {\"color\": \"rgba(255, 153, 51, 1.0)\", \"dash\": \"solid\", \"shape\": \"linear\", \"width\": 1.3}, \"mode\": \"lines\", \"name\": \"A\", \"text\": \"\", \"type\": \"scatter\", \"x\": [0, 1, 2, 3, 4, 5, 6, 7, 8, 9, 10, 11, 12, 13, 14, 15, 16, 17, 18, 19, 20, 21, 22, 23, 24, 25, 26, 27, 28, 29, 30, 31, 32, 33, 34, 35, 36, 37, 38, 39, 40, 41, 42, 43, 44, 45, 46, 47, 48, 49, 50, 51, 52, 53, 54, 55, 56, 57, 58, 59, 60, 61, 62, 63, 64, 65, 66, 67, 68, 69, 70, 71, 72, 73, 74, 75, 76, 77, 78, 79, 80, 81, 82, 83, 84, 85, 86, 87, 88, 89, 90, 91, 92, 93, 94, 95, 96, 97, 98, 99], \"y\": [0.20809043819086845, -0.019341506915506363, 0.6710928486171988, -0.32374262692684636, -0.08933950365355328, -2.4870153305002876, -0.0828445187959473, 0.5765196640599008, -1.45974335926409, -0.7039420056988792, 0.07374623781588262, 1.3890599308664364, -0.4065140417790279, -1.5534252482243656, -0.5223086210478873, 1.0283472012969124, -0.7782606201795501, -1.1134140955232776, 1.545117883927185, 0.6536675243606903, -0.4635661135202583, -1.3776886078026092, 0.5157479741118118, 0.48495411771132285, -1.498163791196165, 0.186173316287323, -0.6084259450245122, 0.1385458239150797, -0.34327731015590035, 1.3057395117869839, -0.8507861830526204, 0.07068108652281078, 0.5609468060125844, 0.8436003826923163, -0.5544739466474897, 0.304567437465066, 0.07380956245430079, 0.6770820944557193, 0.9958583944756741, -0.8843872234471372, -0.5686911224280439, -0.4833310001350282, 1.0444287952056812, -1.0247446450677433, -0.04442966989560093, -0.8533122995490622, 0.6530986336452997, -0.7022015322286137, 1.2062876705027765, -2.0339563452164966, 0.48742624290522124, 0.6589028909488218, -2.3421002379617333, -0.7722454389655053, 0.02882023909271555, -1.534494316301149, 0.38125317141931553, 0.9658911532176244, -0.36784839411375353, 0.7996346562293096, -1.6665252924104532, -0.4099124667256445, -0.6272330819731242, 0.22436834840107997, -0.587796897611996, -0.21185255449597312, -0.012570892599201121, -0.54279177228348, -2.6560874773893772, 0.3149100180434697, 2.010648660253624, 0.5551898627890857, -1.4963775556776142, -0.5877273554807264, 0.07257979710473213, 0.15338192801483436, -0.5596087652557075, 0.9007287289028704, 0.7994878115707456, -0.8204821180718412, 0.28035281575665505, 0.23986792951813127, -0.19554464475260425, 1.490723752902071, -0.20027691553987273, -0.5566182124634896, -0.2586965268169799, 0.8988418941151963, -0.12990886192371434, 0.02546613837971286, -1.0416098497036679, -1.5819094674443275, -0.13181985295975357, 1.2325838746792015, -1.1327957870240355, 0.34605049462143017, 1.706190747987443, 2.1433316293580784, 0.3271201022174498, -0.7168867904851405]}, {\"line\": {\"color\": \"rgba(55, 128, 191, 1.0)\", \"dash\": \"solid\", \"shape\": \"linear\", \"width\": 1.3}, \"mode\": \"lines\", \"name\": \"B\", \"text\": \"\", \"type\": \"scatter\", \"x\": [0, 1, 2, 3, 4, 5, 6, 7, 8, 9, 10, 11, 12, 13, 14, 15, 16, 17, 18, 19, 20, 21, 22, 23, 24, 25, 26, 27, 28, 29, 30, 31, 32, 33, 34, 35, 36, 37, 38, 39, 40, 41, 42, 43, 44, 45, 46, 47, 48, 49, 50, 51, 52, 53, 54, 55, 56, 57, 58, 59, 60, 61, 62, 63, 64, 65, 66, 67, 68, 69, 70, 71, 72, 73, 74, 75, 76, 77, 78, 79, 80, 81, 82, 83, 84, 85, 86, 87, 88, 89, 90, 91, 92, 93, 94, 95, 96, 97, 98, 99], \"y\": [0.15135829454715108, 0.9795160147718429, 1.4214734609290678, -0.07097325758683996, -0.9210663836667375, 0.20378024537982453, -0.6100369380441374, -1.3466306621394803, -1.81632980066363, -0.15798779724206727, -1.018606443577509, -0.54437943019444, -0.48276994747208113, 0.57798424272942, -0.970914049767164, -0.4352116885815418, 0.8241358618851978, 1.2918990512894106, -0.11878729385443036, -0.24842332641139903, 0.4465616973650019, 0.7155306943090513, 1.9646290002462576, 0.7485402486486966, 2.301917351467514, -0.4584041069143579, -1.9769012314332277, -1.201105007029545, 1.669260528563722, 0.22156748859860562, -0.43902290576062286, -0.9269491629983333, -1.442120004125873, -1.1669983984588779, -0.2801873720734649, 2.5275136591199066, -0.020117546102519243, -1.5074242850340052, -1.3581481255377978, 1.0682872361234326, -0.4253891039927625, -0.9795015883734285, 0.7178957327501252, -1.1761437747950894, -1.6540195151829544, 1.6095607825891305, -0.8873683216168122, -1.6423713126718416, -0.17082902921556906, 1.4433275020088596, -0.23514827551444784, -0.18210764579747643, -0.47380473108659904, -0.30564100505727737, 0.39475719400621767, 0.927733729671384, 1.2414238982703922, 0.0029357777775479636, 0.869531108145011, -0.3108725300689207, 0.31612727830321374, 0.7637627871271956, -1.7022198823396548, 0.9700454378831772, -2.2371234275566225, 1.131637517157968, -0.393532240954233, -0.08165933539689739, 0.36858334803231196, -1.6126676133120872, -0.5352745521823805, 0.6346815353686975, 1.238888755284414, -1.0276900358987127, -0.3355367973642946, 0.37140192615612216, -0.8515083889392284, -2.9690855877133386, 0.6140107859520972, 0.43209277527755674, -1.0987784624213168, 0.20215234928410972, -0.46102411065062787, 1.4859285963890307, 1.3911792195871207, -1.3670903285961076, 0.22450940710990647, 0.4101279410076213, 1.977960208478093, 0.43079393165742125, -2.9129924250906174, -0.7310092701771267, 0.18258620922954666, 2.392127291109862, -0.2879343642592824, 1.8906107785898578, 0.7400795074044674, -1.3617204379633567, 0.7788471931365946, 0.6913717081312138]}, {\"line\": {\"color\": \"rgba(50, 171, 96, 1.0)\", \"dash\": \"solid\", \"shape\": \"linear\", \"width\": 1.3}, \"mode\": \"lines\", \"name\": \"C\", \"text\": \"\", \"type\": \"scatter\", \"x\": [0, 1, 2, 3, 4, 5, 6, 7, 8, 9, 10, 11, 12, 13, 14, 15, 16, 17, 18, 19, 20, 21, 22, 23, 24, 25, 26, 27, 28, 29, 30, 31, 32, 33, 34, 35, 36, 37, 38, 39, 40, 41, 42, 43, 44, 45, 46, 47, 48, 49, 50, 51, 52, 53, 54, 55, 56, 57, 58, 59, 60, 61, 62, 63, 64, 65, 66, 67, 68, 69, 70, 71, 72, 73, 74, 75, 76, 77, 78, 79, 80, 81, 82, 83, 84, 85, 86, 87, 88, 89, 90, 91, 92, 93, 94, 95, 96, 97, 98, 99], \"y\": [2.0051121159920675, -0.4493610805844231, -0.9084872076489361, -0.7721615517711781, 0.6541627047739164, -0.3851615542298961, 1.2241910700460494, -0.3594480352627832, 0.5303515075821974, 0.37821553681042497, 1.5265608993568685, 1.477366766187703, -0.8903976196943997, 0.6275104381096709, -1.1658828346957355, 0.5252728640062069, 0.4116834027002824, 2.704189848816628, -0.2226961420885588, 1.0244875423195368, 0.26495132075919875, -0.3335106453849119, -0.25051775523022307, -0.9421555886984696, -0.05185181898581905, 0.9892425401502507, 0.3019324275203719, 0.05095758835038916, -1.4812719426708845, 0.5548066618401524, 0.03745238658246062, 0.5074409459965565, -0.8466179648047617, -0.6704963196017796, -0.6190901486920855, 0.17827190177240412, 0.3664174458696268, 2.350125669806303, 0.043404170851318376, -1.3790506256730932, 0.2737799407998692, 0.2933588088351275, 2.193998753638677, -0.9831277301264092, -0.6521040024729443, 0.08051574029896495, -1.0062263833912914, 1.6888321692647374, 0.15860478630185132, -0.7264348973890741, 0.5551346042795282, -1.3221054329247246, -1.2046506987274948, 1.1490223551767262, -1.2035286945972503, 1.1709154926969032, 0.9661298764717131, -0.8044782297264162, -0.19666254507560318, 0.21441701157769927, 1.5613441239512482, 0.6650992702780203, 0.0815292219555825, 0.05595055934265063, 0.05073992580946308, -0.8345594810331837, 0.6646967497706436, -0.6068052519359592, -0.09796794490886163, 0.9956501209565106, 0.032888702181209435, 0.7282824374462252, -0.4421471221405374, -0.4996683018436185, -0.4598733633397587, -0.24246389263135104, -1.7254409975924612, -0.8704721991050504, -1.8617602897345804, -0.15657662661197377, -1.2433527551093784, 0.8198948294225307, -0.15002325359623633, 1.1776949232261975, -0.18486742703008133, -0.6473069114798748, -0.2878369954827269, -1.8137301176313945, 0.7335294261397506, -1.5121779899245575, 1.2057098440957132, -0.019324584000454413, 0.6889436920135882, -0.5661336612740878, -0.5653254134268597, 0.20453618725784742, 0.40107083955132516, 1.1740676398540935, -0.5776343666715368, 2.5216844274068357]}, {\"line\": {\"color\": \"rgba(128, 0, 128, 1.0)\", \"dash\": \"solid\", \"shape\": \"linear\", \"width\": 1.3}, \"mode\": \"lines\", \"name\": \"D\", \"text\": \"\", \"type\": \"scatter\", \"x\": [0, 1, 2, 3, 4, 5, 6, 7, 8, 9, 10, 11, 12, 13, 14, 15, 16, 17, 18, 19, 20, 21, 22, 23, 24, 25, 26, 27, 28, 29, 30, 31, 32, 33, 34, 35, 36, 37, 38, 39, 40, 41, 42, 43, 44, 45, 46, 47, 48, 49, 50, 51, 52, 53, 54, 55, 56, 57, 58, 59, 60, 61, 62, 63, 64, 65, 66, 67, 68, 69, 70, 71, 72, 73, 74, 75, 76, 77, 78, 79, 80, 81, 82, 83, 84, 85, 86, 87, 88, 89, 90, 91, 92, 93, 94, 95, 96, 97, 98, 99], \"y\": [-1.4565733558087668, 0.5262369172878351, 0.48945774743941195, -0.21293033404058415, -0.16324889199076464, 0.630598484174999, 0.692077637937127, -0.3331147371984391, 0.1929030040351164, -0.3218766183486016, -1.6425369944411325, -0.7678250927492929, 1.2659835307747669, 0.8184210393122054, -0.024633339865551607, -1.249002879317465, 0.9295234623087013, 0.8493978136587808, -0.46047237624499265, -0.5778972033554954, 0.4189611998456919, -0.5505020499045066, 0.8781183000200152, -0.7305458201604784, 0.4260424892761426, -1.1154404173816563, 1.7386153510183529, 1.8996270301248646, -0.022043989066206783, -2.08107613924143, 0.10383859554091508, 1.300271012272863, -0.44790591147914155, 0.32454891365895494, 0.723557539054515, -0.4526175565216972, 1.5793439257679158, -1.2460820007359723, 1.115935175496016, -0.07877482710809654, -1.730466220665265, 1.846744729189646, -0.19870976067514978, -0.12123592053565618, 1.3852277591750157, -0.2656543567586974, -0.07555173388232261, 0.07777723955138618, 0.907301321878093, -0.4107678910895667, 1.0969607063495408, 2.312284690894676, 0.35708899337781286, -0.14919636371702155, 0.10587794777827615, 0.19445728205069596, -0.05300858756121772, 0.8949819385269817, 2.218827117112159, 0.7060532591602858, -0.131418896375061, 0.491284065175089, -0.9893054759795129, -0.08954705247396552, 0.27609733254111335, 1.702681047136967, 0.22434733425503514, 0.6696692982817731, 2.314142962463807, 1.0622561275932678, -0.4295730165307976, 1.268635692597944, -0.5617857296247518, -0.04831566984239649, 0.6961244218118591, 0.04787514173602842, -2.4211481405527833, 0.3895740200646518, -1.3291272982016469, 0.11889810264841535, -0.08730316360939917, 0.21079474055037464, 0.5034361648353576, -0.868718445356883, -0.0994953565207857, 0.15250135972298487, 1.9040880921245162, 0.0779133281913371, -1.245117905007259, -0.09485339001235499, 0.8882549753384171, -0.26831172103457623, -0.9086119757298903, 0.33148975957829013, -0.15318039179708207, 0.11562239596100848, 0.7578807194141244, -0.5585578756818593, -1.2714220005791093, -1.3660870756577828]}],\n",
       "                        {\"legend\": {\"bgcolor\": \"#F5F6F9\", \"font\": {\"color\": \"#4D5663\"}}, \"paper_bgcolor\": \"#F5F6F9\", \"plot_bgcolor\": \"#F5F6F9\", \"template\": {\"data\": {\"bar\": [{\"error_x\": {\"color\": \"#2a3f5f\"}, \"error_y\": {\"color\": \"#2a3f5f\"}, \"marker\": {\"line\": {\"color\": \"#E5ECF6\", \"width\": 0.5}}, \"type\": \"bar\"}], \"barpolar\": [{\"marker\": {\"line\": {\"color\": \"#E5ECF6\", \"width\": 0.5}}, \"type\": \"barpolar\"}], \"carpet\": [{\"aaxis\": {\"endlinecolor\": \"#2a3f5f\", \"gridcolor\": \"white\", \"linecolor\": \"white\", \"minorgridcolor\": \"white\", \"startlinecolor\": \"#2a3f5f\"}, \"baxis\": {\"endlinecolor\": \"#2a3f5f\", \"gridcolor\": \"white\", \"linecolor\": \"white\", \"minorgridcolor\": \"white\", \"startlinecolor\": \"#2a3f5f\"}, \"type\": \"carpet\"}], \"choropleth\": [{\"colorbar\": {\"outlinewidth\": 0, \"ticks\": \"\"}, \"type\": \"choropleth\"}], \"contour\": [{\"colorbar\": {\"outlinewidth\": 0, \"ticks\": \"\"}, \"colorscale\": [[0.0, \"#0d0887\"], [0.1111111111111111, \"#46039f\"], [0.2222222222222222, \"#7201a8\"], [0.3333333333333333, \"#9c179e\"], [0.4444444444444444, \"#bd3786\"], [0.5555555555555556, \"#d8576b\"], [0.6666666666666666, \"#ed7953\"], [0.7777777777777778, \"#fb9f3a\"], [0.8888888888888888, \"#fdca26\"], [1.0, \"#f0f921\"]], \"type\": \"contour\"}], \"contourcarpet\": [{\"colorbar\": {\"outlinewidth\": 0, \"ticks\": \"\"}, \"type\": \"contourcarpet\"}], \"heatmap\": [{\"colorbar\": {\"outlinewidth\": 0, \"ticks\": \"\"}, \"colorscale\": [[0.0, \"#0d0887\"], [0.1111111111111111, \"#46039f\"], [0.2222222222222222, \"#7201a8\"], [0.3333333333333333, \"#9c179e\"], [0.4444444444444444, \"#bd3786\"], [0.5555555555555556, \"#d8576b\"], [0.6666666666666666, \"#ed7953\"], [0.7777777777777778, \"#fb9f3a\"], [0.8888888888888888, \"#fdca26\"], [1.0, \"#f0f921\"]], \"type\": \"heatmap\"}], \"heatmapgl\": [{\"colorbar\": {\"outlinewidth\": 0, \"ticks\": \"\"}, \"colorscale\": [[0.0, \"#0d0887\"], [0.1111111111111111, \"#46039f\"], [0.2222222222222222, \"#7201a8\"], [0.3333333333333333, \"#9c179e\"], [0.4444444444444444, \"#bd3786\"], [0.5555555555555556, \"#d8576b\"], [0.6666666666666666, \"#ed7953\"], [0.7777777777777778, \"#fb9f3a\"], [0.8888888888888888, \"#fdca26\"], [1.0, \"#f0f921\"]], \"type\": \"heatmapgl\"}], \"histogram\": [{\"marker\": {\"colorbar\": {\"outlinewidth\": 0, \"ticks\": \"\"}}, \"type\": \"histogram\"}], \"histogram2d\": [{\"colorbar\": {\"outlinewidth\": 0, \"ticks\": \"\"}, \"colorscale\": [[0.0, \"#0d0887\"], [0.1111111111111111, \"#46039f\"], [0.2222222222222222, \"#7201a8\"], [0.3333333333333333, \"#9c179e\"], [0.4444444444444444, \"#bd3786\"], [0.5555555555555556, \"#d8576b\"], [0.6666666666666666, \"#ed7953\"], [0.7777777777777778, \"#fb9f3a\"], [0.8888888888888888, \"#fdca26\"], [1.0, \"#f0f921\"]], \"type\": \"histogram2d\"}], \"histogram2dcontour\": [{\"colorbar\": {\"outlinewidth\": 0, \"ticks\": \"\"}, \"colorscale\": [[0.0, \"#0d0887\"], [0.1111111111111111, \"#46039f\"], [0.2222222222222222, \"#7201a8\"], [0.3333333333333333, \"#9c179e\"], [0.4444444444444444, \"#bd3786\"], [0.5555555555555556, \"#d8576b\"], [0.6666666666666666, \"#ed7953\"], [0.7777777777777778, \"#fb9f3a\"], [0.8888888888888888, \"#fdca26\"], [1.0, \"#f0f921\"]], \"type\": \"histogram2dcontour\"}], \"mesh3d\": [{\"colorbar\": {\"outlinewidth\": 0, \"ticks\": \"\"}, \"type\": \"mesh3d\"}], \"parcoords\": [{\"line\": {\"colorbar\": {\"outlinewidth\": 0, \"ticks\": \"\"}}, \"type\": \"parcoords\"}], \"pie\": [{\"automargin\": true, \"type\": \"pie\"}], \"scatter\": [{\"marker\": {\"colorbar\": {\"outlinewidth\": 0, \"ticks\": \"\"}}, \"type\": \"scatter\"}], \"scatter3d\": [{\"line\": {\"colorbar\": {\"outlinewidth\": 0, \"ticks\": \"\"}}, \"marker\": {\"colorbar\": {\"outlinewidth\": 0, \"ticks\": \"\"}}, \"type\": \"scatter3d\"}], \"scattercarpet\": [{\"marker\": {\"colorbar\": {\"outlinewidth\": 0, \"ticks\": \"\"}}, \"type\": \"scattercarpet\"}], \"scattergeo\": [{\"marker\": {\"colorbar\": {\"outlinewidth\": 0, \"ticks\": \"\"}}, \"type\": \"scattergeo\"}], \"scattergl\": [{\"marker\": {\"colorbar\": {\"outlinewidth\": 0, \"ticks\": \"\"}}, \"type\": \"scattergl\"}], \"scattermapbox\": [{\"marker\": {\"colorbar\": {\"outlinewidth\": 0, \"ticks\": \"\"}}, \"type\": \"scattermapbox\"}], \"scatterpolar\": [{\"marker\": {\"colorbar\": {\"outlinewidth\": 0, \"ticks\": \"\"}}, \"type\": \"scatterpolar\"}], \"scatterpolargl\": [{\"marker\": {\"colorbar\": {\"outlinewidth\": 0, \"ticks\": \"\"}}, \"type\": \"scatterpolargl\"}], \"scatterternary\": [{\"marker\": {\"colorbar\": {\"outlinewidth\": 0, \"ticks\": \"\"}}, \"type\": \"scatterternary\"}], \"surface\": [{\"colorbar\": {\"outlinewidth\": 0, \"ticks\": \"\"}, \"colorscale\": [[0.0, \"#0d0887\"], [0.1111111111111111, \"#46039f\"], [0.2222222222222222, \"#7201a8\"], [0.3333333333333333, \"#9c179e\"], [0.4444444444444444, \"#bd3786\"], [0.5555555555555556, \"#d8576b\"], [0.6666666666666666, \"#ed7953\"], [0.7777777777777778, \"#fb9f3a\"], [0.8888888888888888, \"#fdca26\"], [1.0, \"#f0f921\"]], \"type\": \"surface\"}], \"table\": [{\"cells\": {\"fill\": {\"color\": \"#EBF0F8\"}, \"line\": {\"color\": \"white\"}}, \"header\": {\"fill\": {\"color\": \"#C8D4E3\"}, \"line\": {\"color\": \"white\"}}, \"type\": \"table\"}]}, \"layout\": {\"annotationdefaults\": {\"arrowcolor\": \"#2a3f5f\", \"arrowhead\": 0, \"arrowwidth\": 1}, \"coloraxis\": {\"colorbar\": {\"outlinewidth\": 0, \"ticks\": \"\"}}, \"colorscale\": {\"diverging\": [[0, \"#8e0152\"], [0.1, \"#c51b7d\"], [0.2, \"#de77ae\"], [0.3, \"#f1b6da\"], [0.4, \"#fde0ef\"], [0.5, \"#f7f7f7\"], [0.6, \"#e6f5d0\"], [0.7, \"#b8e186\"], [0.8, \"#7fbc41\"], [0.9, \"#4d9221\"], [1, \"#276419\"]], \"sequential\": [[0.0, \"#0d0887\"], [0.1111111111111111, \"#46039f\"], [0.2222222222222222, \"#7201a8\"], [0.3333333333333333, \"#9c179e\"], [0.4444444444444444, \"#bd3786\"], [0.5555555555555556, \"#d8576b\"], [0.6666666666666666, \"#ed7953\"], [0.7777777777777778, \"#fb9f3a\"], [0.8888888888888888, \"#fdca26\"], [1.0, \"#f0f921\"]], \"sequentialminus\": [[0.0, \"#0d0887\"], [0.1111111111111111, \"#46039f\"], [0.2222222222222222, \"#7201a8\"], [0.3333333333333333, \"#9c179e\"], [0.4444444444444444, \"#bd3786\"], [0.5555555555555556, \"#d8576b\"], [0.6666666666666666, \"#ed7953\"], [0.7777777777777778, \"#fb9f3a\"], [0.8888888888888888, \"#fdca26\"], [1.0, \"#f0f921\"]]}, \"colorway\": [\"#636efa\", \"#EF553B\", \"#00cc96\", \"#ab63fa\", \"#FFA15A\", \"#19d3f3\", \"#FF6692\", \"#B6E880\", \"#FF97FF\", \"#FECB52\"], \"font\": {\"color\": \"#2a3f5f\"}, \"geo\": {\"bgcolor\": \"white\", \"lakecolor\": \"white\", \"landcolor\": \"#E5ECF6\", \"showlakes\": true, \"showland\": true, \"subunitcolor\": \"white\"}, \"hoverlabel\": {\"align\": \"left\"}, \"hovermode\": \"closest\", \"mapbox\": {\"style\": \"light\"}, \"paper_bgcolor\": \"white\", \"plot_bgcolor\": \"#E5ECF6\", \"polar\": {\"angularaxis\": {\"gridcolor\": \"white\", \"linecolor\": \"white\", \"ticks\": \"\"}, \"bgcolor\": \"#E5ECF6\", \"radialaxis\": {\"gridcolor\": \"white\", \"linecolor\": \"white\", \"ticks\": \"\"}}, \"scene\": {\"xaxis\": {\"backgroundcolor\": \"#E5ECF6\", \"gridcolor\": \"white\", \"gridwidth\": 2, \"linecolor\": \"white\", \"showbackground\": true, \"ticks\": \"\", \"zerolinecolor\": \"white\"}, \"yaxis\": {\"backgroundcolor\": \"#E5ECF6\", \"gridcolor\": \"white\", \"gridwidth\": 2, \"linecolor\": \"white\", \"showbackground\": true, \"ticks\": \"\", \"zerolinecolor\": \"white\"}, \"zaxis\": {\"backgroundcolor\": \"#E5ECF6\", \"gridcolor\": \"white\", \"gridwidth\": 2, \"linecolor\": \"white\", \"showbackground\": true, \"ticks\": \"\", \"zerolinecolor\": \"white\"}}, \"shapedefaults\": {\"line\": {\"color\": \"#2a3f5f\"}}, \"ternary\": {\"aaxis\": {\"gridcolor\": \"white\", \"linecolor\": \"white\", \"ticks\": \"\"}, \"baxis\": {\"gridcolor\": \"white\", \"linecolor\": \"white\", \"ticks\": \"\"}, \"bgcolor\": \"#E5ECF6\", \"caxis\": {\"gridcolor\": \"white\", \"linecolor\": \"white\", \"ticks\": \"\"}}, \"title\": {\"x\": 0.05}, \"xaxis\": {\"automargin\": true, \"gridcolor\": \"white\", \"linecolor\": \"white\", \"ticks\": \"\", \"title\": {\"standoff\": 15}, \"zerolinecolor\": \"white\", \"zerolinewidth\": 2}, \"yaxis\": {\"automargin\": true, \"gridcolor\": \"white\", \"linecolor\": \"white\", \"ticks\": \"\", \"title\": {\"standoff\": 15}, \"zerolinecolor\": \"white\", \"zerolinewidth\": 2}}}, \"title\": {\"font\": {\"color\": \"#4D5663\"}}, \"xaxis\": {\"gridcolor\": \"#E1E5ED\", \"showgrid\": true, \"tickfont\": {\"color\": \"#4D5663\"}, \"title\": {\"font\": {\"color\": \"#4D5663\"}, \"text\": \"\"}, \"zerolinecolor\": \"#E1E5ED\"}, \"yaxis\": {\"gridcolor\": \"#E1E5ED\", \"showgrid\": true, \"tickfont\": {\"color\": \"#4D5663\"}, \"title\": {\"font\": {\"color\": \"#4D5663\"}, \"text\": \"\"}, \"zerolinecolor\": \"#E1E5ED\"}},\n",
       "                        {\"showLink\": true, \"linkText\": \"Export to plot.ly\", \"plotlyServerURL\": \"https://plot.ly\", \"responsive\": true}\n",
       "                    ).then(function(){\n",
       "                            \n",
       "var gd = document.getElementById('04181242-e7a0-4b4c-9780-7bf357acbd4d');\n",
       "var x = new MutationObserver(function (mutations, observer) {{\n",
       "        var display = window.getComputedStyle(gd).display;\n",
       "        if (!display || display === 'none') {{\n",
       "            console.log([gd, 'removed!']);\n",
       "            Plotly.purge(gd);\n",
       "            observer.disconnect();\n",
       "        }}\n",
       "}});\n",
       "\n",
       "// Listen for the removal of the full notebook cells\n",
       "var notebookContainer = gd.closest('#notebook-container');\n",
       "if (notebookContainer) {{\n",
       "    x.observe(notebookContainer, {childList: true});\n",
       "}}\n",
       "\n",
       "// Listen for the clearing of the current output cell\n",
       "var outputEl = gd.closest('.output');\n",
       "if (outputEl) {{\n",
       "    x.observe(outputEl, {childList: true});\n",
       "}}\n",
       "\n",
       "                        })\n",
       "                };\n",
       "                });\n",
       "            </script>\n",
       "        </div>"
      ]
     },
     "metadata": {},
     "output_type": "display_data"
    }
   ],
   "source": [
    "# iplot for plotly - now interactive (download, pan, zoom, ...)\n",
    "df.iplot()"
   ]
  },
  {
   "cell_type": "markdown",
   "metadata": {},
   "source": [
    "## Scatter"
   ]
  },
  {
   "cell_type": "code",
   "execution_count": 18,
   "metadata": {},
   "outputs": [
    {
     "data": {
      "application/vnd.plotly.v1+json": {
       "config": {
        "linkText": "Export to plot.ly",
        "plotlyServerURL": "https://plot.ly",
        "showLink": true
       },
       "data": [
        {
         "line": {
          "color": "rgba(255, 153, 51, 1.0)",
          "dash": "solid",
          "shape": "linear",
          "width": 1.3
         },
         "marker": {
          "size": 10,
          "symbol": "circle"
         },
         "mode": "markers",
         "name": "B",
         "text": "",
         "type": "scatter",
         "x": [
          0.20809043819086845,
          -0.019341506915506363,
          0.6710928486171988,
          -0.32374262692684636,
          -0.08933950365355328,
          -2.4870153305002876,
          -0.0828445187959473,
          0.5765196640599008,
          -1.45974335926409,
          -0.7039420056988792,
          0.07374623781588262,
          1.3890599308664364,
          -0.4065140417790279,
          -1.5534252482243656,
          -0.5223086210478873,
          1.0283472012969124,
          -0.7782606201795501,
          -1.1134140955232776,
          1.545117883927185,
          0.6536675243606903,
          -0.4635661135202583,
          -1.3776886078026092,
          0.5157479741118118,
          0.48495411771132285,
          -1.498163791196165,
          0.186173316287323,
          -0.6084259450245122,
          0.1385458239150797,
          -0.34327731015590035,
          1.3057395117869839,
          -0.8507861830526204,
          0.07068108652281078,
          0.5609468060125844,
          0.8436003826923163,
          -0.5544739466474897,
          0.304567437465066,
          0.07380956245430079,
          0.6770820944557193,
          0.9958583944756741,
          -0.8843872234471372,
          -0.5686911224280439,
          -0.4833310001350282,
          1.0444287952056812,
          -1.0247446450677433,
          -0.04442966989560093,
          -0.8533122995490622,
          0.6530986336452997,
          -0.7022015322286137,
          1.2062876705027765,
          -2.0339563452164966,
          0.48742624290522124,
          0.6589028909488218,
          -2.3421002379617333,
          -0.7722454389655053,
          0.02882023909271555,
          -1.534494316301149,
          0.38125317141931553,
          0.9658911532176244,
          -0.36784839411375353,
          0.7996346562293096,
          -1.6665252924104532,
          -0.4099124667256445,
          -0.6272330819731242,
          0.22436834840107997,
          -0.587796897611996,
          -0.21185255449597312,
          -0.012570892599201121,
          -0.54279177228348,
          -2.6560874773893772,
          0.3149100180434697,
          2.010648660253624,
          0.5551898627890857,
          -1.4963775556776142,
          -0.5877273554807264,
          0.07257979710473213,
          0.15338192801483436,
          -0.5596087652557075,
          0.9007287289028704,
          0.7994878115707456,
          -0.8204821180718412,
          0.28035281575665505,
          0.23986792951813127,
          -0.19554464475260425,
          1.490723752902071,
          -0.20027691553987273,
          -0.5566182124634896,
          -0.2586965268169799,
          0.8988418941151963,
          -0.12990886192371434,
          0.02546613837971286,
          -1.0416098497036679,
          -1.5819094674443275,
          -0.13181985295975357,
          1.2325838746792015,
          -1.1327957870240355,
          0.34605049462143017,
          1.706190747987443,
          2.1433316293580784,
          0.3271201022174498,
          -0.7168867904851405
         ],
         "y": [
          0.15135829454715108,
          0.9795160147718429,
          1.4214734609290678,
          -0.07097325758683996,
          -0.9210663836667375,
          0.20378024537982453,
          -0.6100369380441374,
          -1.3466306621394803,
          -1.81632980066363,
          -0.15798779724206727,
          -1.018606443577509,
          -0.54437943019444,
          -0.48276994747208113,
          0.57798424272942,
          -0.970914049767164,
          -0.4352116885815418,
          0.8241358618851978,
          1.2918990512894106,
          -0.11878729385443036,
          -0.24842332641139903,
          0.4465616973650019,
          0.7155306943090513,
          1.9646290002462576,
          0.7485402486486966,
          2.301917351467514,
          -0.4584041069143579,
          -1.9769012314332277,
          -1.201105007029545,
          1.669260528563722,
          0.22156748859860562,
          -0.43902290576062286,
          -0.9269491629983333,
          -1.442120004125873,
          -1.1669983984588779,
          -0.2801873720734649,
          2.5275136591199066,
          -0.020117546102519243,
          -1.5074242850340052,
          -1.3581481255377978,
          1.0682872361234326,
          -0.4253891039927625,
          -0.9795015883734285,
          0.7178957327501252,
          -1.1761437747950894,
          -1.6540195151829544,
          1.6095607825891305,
          -0.8873683216168122,
          -1.6423713126718416,
          -0.17082902921556906,
          1.4433275020088596,
          -0.23514827551444784,
          -0.18210764579747643,
          -0.47380473108659904,
          -0.30564100505727737,
          0.39475719400621767,
          0.927733729671384,
          1.2414238982703922,
          0.0029357777775479636,
          0.869531108145011,
          -0.3108725300689207,
          0.31612727830321374,
          0.7637627871271956,
          -1.7022198823396548,
          0.9700454378831772,
          -2.2371234275566225,
          1.131637517157968,
          -0.393532240954233,
          -0.08165933539689739,
          0.36858334803231196,
          -1.6126676133120872,
          -0.5352745521823805,
          0.6346815353686975,
          1.238888755284414,
          -1.0276900358987127,
          -0.3355367973642946,
          0.37140192615612216,
          -0.8515083889392284,
          -2.9690855877133386,
          0.6140107859520972,
          0.43209277527755674,
          -1.0987784624213168,
          0.20215234928410972,
          -0.46102411065062787,
          1.4859285963890307,
          1.3911792195871207,
          -1.3670903285961076,
          0.22450940710990647,
          0.4101279410076213,
          1.977960208478093,
          0.43079393165742125,
          -2.9129924250906174,
          -0.7310092701771267,
          0.18258620922954666,
          2.392127291109862,
          -0.2879343642592824,
          1.8906107785898578,
          0.7400795074044674,
          -1.3617204379633567,
          0.7788471931365946,
          0.6913717081312138
         ]
        }
       ],
       "layout": {
        "legend": {
         "bgcolor": "#F5F6F9",
         "font": {
          "color": "#4D5663"
         }
        },
        "paper_bgcolor": "#F5F6F9",
        "plot_bgcolor": "#F5F6F9",
        "template": {
         "data": {
          "bar": [
           {
            "error_x": {
             "color": "#2a3f5f"
            },
            "error_y": {
             "color": "#2a3f5f"
            },
            "marker": {
             "line": {
              "color": "#E5ECF6",
              "width": 0.5
             }
            },
            "type": "bar"
           }
          ],
          "barpolar": [
           {
            "marker": {
             "line": {
              "color": "#E5ECF6",
              "width": 0.5
             }
            },
            "type": "barpolar"
           }
          ],
          "carpet": [
           {
            "aaxis": {
             "endlinecolor": "#2a3f5f",
             "gridcolor": "white",
             "linecolor": "white",
             "minorgridcolor": "white",
             "startlinecolor": "#2a3f5f"
            },
            "baxis": {
             "endlinecolor": "#2a3f5f",
             "gridcolor": "white",
             "linecolor": "white",
             "minorgridcolor": "white",
             "startlinecolor": "#2a3f5f"
            },
            "type": "carpet"
           }
          ],
          "choropleth": [
           {
            "colorbar": {
             "outlinewidth": 0,
             "ticks": ""
            },
            "type": "choropleth"
           }
          ],
          "contour": [
           {
            "colorbar": {
             "outlinewidth": 0,
             "ticks": ""
            },
            "colorscale": [
             [
              0,
              "#0d0887"
             ],
             [
              0.1111111111111111,
              "#46039f"
             ],
             [
              0.2222222222222222,
              "#7201a8"
             ],
             [
              0.3333333333333333,
              "#9c179e"
             ],
             [
              0.4444444444444444,
              "#bd3786"
             ],
             [
              0.5555555555555556,
              "#d8576b"
             ],
             [
              0.6666666666666666,
              "#ed7953"
             ],
             [
              0.7777777777777778,
              "#fb9f3a"
             ],
             [
              0.8888888888888888,
              "#fdca26"
             ],
             [
              1,
              "#f0f921"
             ]
            ],
            "type": "contour"
           }
          ],
          "contourcarpet": [
           {
            "colorbar": {
             "outlinewidth": 0,
             "ticks": ""
            },
            "type": "contourcarpet"
           }
          ],
          "heatmap": [
           {
            "colorbar": {
             "outlinewidth": 0,
             "ticks": ""
            },
            "colorscale": [
             [
              0,
              "#0d0887"
             ],
             [
              0.1111111111111111,
              "#46039f"
             ],
             [
              0.2222222222222222,
              "#7201a8"
             ],
             [
              0.3333333333333333,
              "#9c179e"
             ],
             [
              0.4444444444444444,
              "#bd3786"
             ],
             [
              0.5555555555555556,
              "#d8576b"
             ],
             [
              0.6666666666666666,
              "#ed7953"
             ],
             [
              0.7777777777777778,
              "#fb9f3a"
             ],
             [
              0.8888888888888888,
              "#fdca26"
             ],
             [
              1,
              "#f0f921"
             ]
            ],
            "type": "heatmap"
           }
          ],
          "heatmapgl": [
           {
            "colorbar": {
             "outlinewidth": 0,
             "ticks": ""
            },
            "colorscale": [
             [
              0,
              "#0d0887"
             ],
             [
              0.1111111111111111,
              "#46039f"
             ],
             [
              0.2222222222222222,
              "#7201a8"
             ],
             [
              0.3333333333333333,
              "#9c179e"
             ],
             [
              0.4444444444444444,
              "#bd3786"
             ],
             [
              0.5555555555555556,
              "#d8576b"
             ],
             [
              0.6666666666666666,
              "#ed7953"
             ],
             [
              0.7777777777777778,
              "#fb9f3a"
             ],
             [
              0.8888888888888888,
              "#fdca26"
             ],
             [
              1,
              "#f0f921"
             ]
            ],
            "type": "heatmapgl"
           }
          ],
          "histogram": [
           {
            "marker": {
             "colorbar": {
              "outlinewidth": 0,
              "ticks": ""
             }
            },
            "type": "histogram"
           }
          ],
          "histogram2d": [
           {
            "colorbar": {
             "outlinewidth": 0,
             "ticks": ""
            },
            "colorscale": [
             [
              0,
              "#0d0887"
             ],
             [
              0.1111111111111111,
              "#46039f"
             ],
             [
              0.2222222222222222,
              "#7201a8"
             ],
             [
              0.3333333333333333,
              "#9c179e"
             ],
             [
              0.4444444444444444,
              "#bd3786"
             ],
             [
              0.5555555555555556,
              "#d8576b"
             ],
             [
              0.6666666666666666,
              "#ed7953"
             ],
             [
              0.7777777777777778,
              "#fb9f3a"
             ],
             [
              0.8888888888888888,
              "#fdca26"
             ],
             [
              1,
              "#f0f921"
             ]
            ],
            "type": "histogram2d"
           }
          ],
          "histogram2dcontour": [
           {
            "colorbar": {
             "outlinewidth": 0,
             "ticks": ""
            },
            "colorscale": [
             [
              0,
              "#0d0887"
             ],
             [
              0.1111111111111111,
              "#46039f"
             ],
             [
              0.2222222222222222,
              "#7201a8"
             ],
             [
              0.3333333333333333,
              "#9c179e"
             ],
             [
              0.4444444444444444,
              "#bd3786"
             ],
             [
              0.5555555555555556,
              "#d8576b"
             ],
             [
              0.6666666666666666,
              "#ed7953"
             ],
             [
              0.7777777777777778,
              "#fb9f3a"
             ],
             [
              0.8888888888888888,
              "#fdca26"
             ],
             [
              1,
              "#f0f921"
             ]
            ],
            "type": "histogram2dcontour"
           }
          ],
          "mesh3d": [
           {
            "colorbar": {
             "outlinewidth": 0,
             "ticks": ""
            },
            "type": "mesh3d"
           }
          ],
          "parcoords": [
           {
            "line": {
             "colorbar": {
              "outlinewidth": 0,
              "ticks": ""
             }
            },
            "type": "parcoords"
           }
          ],
          "pie": [
           {
            "automargin": true,
            "type": "pie"
           }
          ],
          "scatter": [
           {
            "marker": {
             "colorbar": {
              "outlinewidth": 0,
              "ticks": ""
             }
            },
            "type": "scatter"
           }
          ],
          "scatter3d": [
           {
            "line": {
             "colorbar": {
              "outlinewidth": 0,
              "ticks": ""
             }
            },
            "marker": {
             "colorbar": {
              "outlinewidth": 0,
              "ticks": ""
             }
            },
            "type": "scatter3d"
           }
          ],
          "scattercarpet": [
           {
            "marker": {
             "colorbar": {
              "outlinewidth": 0,
              "ticks": ""
             }
            },
            "type": "scattercarpet"
           }
          ],
          "scattergeo": [
           {
            "marker": {
             "colorbar": {
              "outlinewidth": 0,
              "ticks": ""
             }
            },
            "type": "scattergeo"
           }
          ],
          "scattergl": [
           {
            "marker": {
             "colorbar": {
              "outlinewidth": 0,
              "ticks": ""
             }
            },
            "type": "scattergl"
           }
          ],
          "scattermapbox": [
           {
            "marker": {
             "colorbar": {
              "outlinewidth": 0,
              "ticks": ""
             }
            },
            "type": "scattermapbox"
           }
          ],
          "scatterpolar": [
           {
            "marker": {
             "colorbar": {
              "outlinewidth": 0,
              "ticks": ""
             }
            },
            "type": "scatterpolar"
           }
          ],
          "scatterpolargl": [
           {
            "marker": {
             "colorbar": {
              "outlinewidth": 0,
              "ticks": ""
             }
            },
            "type": "scatterpolargl"
           }
          ],
          "scatterternary": [
           {
            "marker": {
             "colorbar": {
              "outlinewidth": 0,
              "ticks": ""
             }
            },
            "type": "scatterternary"
           }
          ],
          "surface": [
           {
            "colorbar": {
             "outlinewidth": 0,
             "ticks": ""
            },
            "colorscale": [
             [
              0,
              "#0d0887"
             ],
             [
              0.1111111111111111,
              "#46039f"
             ],
             [
              0.2222222222222222,
              "#7201a8"
             ],
             [
              0.3333333333333333,
              "#9c179e"
             ],
             [
              0.4444444444444444,
              "#bd3786"
             ],
             [
              0.5555555555555556,
              "#d8576b"
             ],
             [
              0.6666666666666666,
              "#ed7953"
             ],
             [
              0.7777777777777778,
              "#fb9f3a"
             ],
             [
              0.8888888888888888,
              "#fdca26"
             ],
             [
              1,
              "#f0f921"
             ]
            ],
            "type": "surface"
           }
          ],
          "table": [
           {
            "cells": {
             "fill": {
              "color": "#EBF0F8"
             },
             "line": {
              "color": "white"
             }
            },
            "header": {
             "fill": {
              "color": "#C8D4E3"
             },
             "line": {
              "color": "white"
             }
            },
            "type": "table"
           }
          ]
         },
         "layout": {
          "annotationdefaults": {
           "arrowcolor": "#2a3f5f",
           "arrowhead": 0,
           "arrowwidth": 1
          },
          "coloraxis": {
           "colorbar": {
            "outlinewidth": 0,
            "ticks": ""
           }
          },
          "colorscale": {
           "diverging": [
            [
             0,
             "#8e0152"
            ],
            [
             0.1,
             "#c51b7d"
            ],
            [
             0.2,
             "#de77ae"
            ],
            [
             0.3,
             "#f1b6da"
            ],
            [
             0.4,
             "#fde0ef"
            ],
            [
             0.5,
             "#f7f7f7"
            ],
            [
             0.6,
             "#e6f5d0"
            ],
            [
             0.7,
             "#b8e186"
            ],
            [
             0.8,
             "#7fbc41"
            ],
            [
             0.9,
             "#4d9221"
            ],
            [
             1,
             "#276419"
            ]
           ],
           "sequential": [
            [
             0,
             "#0d0887"
            ],
            [
             0.1111111111111111,
             "#46039f"
            ],
            [
             0.2222222222222222,
             "#7201a8"
            ],
            [
             0.3333333333333333,
             "#9c179e"
            ],
            [
             0.4444444444444444,
             "#bd3786"
            ],
            [
             0.5555555555555556,
             "#d8576b"
            ],
            [
             0.6666666666666666,
             "#ed7953"
            ],
            [
             0.7777777777777778,
             "#fb9f3a"
            ],
            [
             0.8888888888888888,
             "#fdca26"
            ],
            [
             1,
             "#f0f921"
            ]
           ],
           "sequentialminus": [
            [
             0,
             "#0d0887"
            ],
            [
             0.1111111111111111,
             "#46039f"
            ],
            [
             0.2222222222222222,
             "#7201a8"
            ],
            [
             0.3333333333333333,
             "#9c179e"
            ],
            [
             0.4444444444444444,
             "#bd3786"
            ],
            [
             0.5555555555555556,
             "#d8576b"
            ],
            [
             0.6666666666666666,
             "#ed7953"
            ],
            [
             0.7777777777777778,
             "#fb9f3a"
            ],
            [
             0.8888888888888888,
             "#fdca26"
            ],
            [
             1,
             "#f0f921"
            ]
           ]
          },
          "colorway": [
           "#636efa",
           "#EF553B",
           "#00cc96",
           "#ab63fa",
           "#FFA15A",
           "#19d3f3",
           "#FF6692",
           "#B6E880",
           "#FF97FF",
           "#FECB52"
          ],
          "font": {
           "color": "#2a3f5f"
          },
          "geo": {
           "bgcolor": "white",
           "lakecolor": "white",
           "landcolor": "#E5ECF6",
           "showlakes": true,
           "showland": true,
           "subunitcolor": "white"
          },
          "hoverlabel": {
           "align": "left"
          },
          "hovermode": "closest",
          "mapbox": {
           "style": "light"
          },
          "paper_bgcolor": "white",
          "plot_bgcolor": "#E5ECF6",
          "polar": {
           "angularaxis": {
            "gridcolor": "white",
            "linecolor": "white",
            "ticks": ""
           },
           "bgcolor": "#E5ECF6",
           "radialaxis": {
            "gridcolor": "white",
            "linecolor": "white",
            "ticks": ""
           }
          },
          "scene": {
           "xaxis": {
            "backgroundcolor": "#E5ECF6",
            "gridcolor": "white",
            "gridwidth": 2,
            "linecolor": "white",
            "showbackground": true,
            "ticks": "",
            "zerolinecolor": "white"
           },
           "yaxis": {
            "backgroundcolor": "#E5ECF6",
            "gridcolor": "white",
            "gridwidth": 2,
            "linecolor": "white",
            "showbackground": true,
            "ticks": "",
            "zerolinecolor": "white"
           },
           "zaxis": {
            "backgroundcolor": "#E5ECF6",
            "gridcolor": "white",
            "gridwidth": 2,
            "linecolor": "white",
            "showbackground": true,
            "ticks": "",
            "zerolinecolor": "white"
           }
          },
          "shapedefaults": {
           "line": {
            "color": "#2a3f5f"
           }
          },
          "ternary": {
           "aaxis": {
            "gridcolor": "white",
            "linecolor": "white",
            "ticks": ""
           },
           "baxis": {
            "gridcolor": "white",
            "linecolor": "white",
            "ticks": ""
           },
           "bgcolor": "#E5ECF6",
           "caxis": {
            "gridcolor": "white",
            "linecolor": "white",
            "ticks": ""
           }
          },
          "title": {
           "x": 0.05
          },
          "xaxis": {
           "automargin": true,
           "gridcolor": "white",
           "linecolor": "white",
           "ticks": "",
           "title": {
            "standoff": 15
           },
           "zerolinecolor": "white",
           "zerolinewidth": 2
          },
          "yaxis": {
           "automargin": true,
           "gridcolor": "white",
           "linecolor": "white",
           "ticks": "",
           "title": {
            "standoff": 15
           },
           "zerolinecolor": "white",
           "zerolinewidth": 2
          }
         }
        },
        "title": {
         "font": {
          "color": "#4D5663"
         }
        },
        "xaxis": {
         "gridcolor": "#E1E5ED",
         "showgrid": true,
         "tickfont": {
          "color": "#4D5663"
         },
         "title": {
          "font": {
           "color": "#4D5663"
          },
          "text": ""
         },
         "zerolinecolor": "#E1E5ED"
        },
        "yaxis": {
         "gridcolor": "#E1E5ED",
         "showgrid": true,
         "tickfont": {
          "color": "#4D5663"
         },
         "title": {
          "font": {
           "color": "#4D5663"
          },
          "text": ""
         },
         "zerolinecolor": "#E1E5ED"
        }
       }
      },
      "text/html": [
       "<div>\n",
       "        \n",
       "        \n",
       "            <div id=\"0028cc5f-eb27-42a7-bc99-75400f9b2f01\" class=\"plotly-graph-div\" style=\"height:525px; width:100%;\"></div>\n",
       "            <script type=\"text/javascript\">\n",
       "                require([\"plotly\"], function(Plotly) {\n",
       "                    window.PLOTLYENV=window.PLOTLYENV || {};\n",
       "                    window.PLOTLYENV.BASE_URL='https://plot.ly';\n",
       "                    \n",
       "                if (document.getElementById(\"0028cc5f-eb27-42a7-bc99-75400f9b2f01\")) {\n",
       "                    Plotly.newPlot(\n",
       "                        '0028cc5f-eb27-42a7-bc99-75400f9b2f01',\n",
       "                        [{\"line\": {\"color\": \"rgba(255, 153, 51, 1.0)\", \"dash\": \"solid\", \"shape\": \"linear\", \"width\": 1.3}, \"marker\": {\"size\": 10, \"symbol\": \"circle\"}, \"mode\": \"markers\", \"name\": \"B\", \"text\": \"\", \"type\": \"scatter\", \"x\": [0.20809043819086845, -0.019341506915506363, 0.6710928486171988, -0.32374262692684636, -0.08933950365355328, -2.4870153305002876, -0.0828445187959473, 0.5765196640599008, -1.45974335926409, -0.7039420056988792, 0.07374623781588262, 1.3890599308664364, -0.4065140417790279, -1.5534252482243656, -0.5223086210478873, 1.0283472012969124, -0.7782606201795501, -1.1134140955232776, 1.545117883927185, 0.6536675243606903, -0.4635661135202583, -1.3776886078026092, 0.5157479741118118, 0.48495411771132285, -1.498163791196165, 0.186173316287323, -0.6084259450245122, 0.1385458239150797, -0.34327731015590035, 1.3057395117869839, -0.8507861830526204, 0.07068108652281078, 0.5609468060125844, 0.8436003826923163, -0.5544739466474897, 0.304567437465066, 0.07380956245430079, 0.6770820944557193, 0.9958583944756741, -0.8843872234471372, -0.5686911224280439, -0.4833310001350282, 1.0444287952056812, -1.0247446450677433, -0.04442966989560093, -0.8533122995490622, 0.6530986336452997, -0.7022015322286137, 1.2062876705027765, -2.0339563452164966, 0.48742624290522124, 0.6589028909488218, -2.3421002379617333, -0.7722454389655053, 0.02882023909271555, -1.534494316301149, 0.38125317141931553, 0.9658911532176244, -0.36784839411375353, 0.7996346562293096, -1.6665252924104532, -0.4099124667256445, -0.6272330819731242, 0.22436834840107997, -0.587796897611996, -0.21185255449597312, -0.012570892599201121, -0.54279177228348, -2.6560874773893772, 0.3149100180434697, 2.010648660253624, 0.5551898627890857, -1.4963775556776142, -0.5877273554807264, 0.07257979710473213, 0.15338192801483436, -0.5596087652557075, 0.9007287289028704, 0.7994878115707456, -0.8204821180718412, 0.28035281575665505, 0.23986792951813127, -0.19554464475260425, 1.490723752902071, -0.20027691553987273, -0.5566182124634896, -0.2586965268169799, 0.8988418941151963, -0.12990886192371434, 0.02546613837971286, -1.0416098497036679, -1.5819094674443275, -0.13181985295975357, 1.2325838746792015, -1.1327957870240355, 0.34605049462143017, 1.706190747987443, 2.1433316293580784, 0.3271201022174498, -0.7168867904851405], \"y\": [0.15135829454715108, 0.9795160147718429, 1.4214734609290678, -0.07097325758683996, -0.9210663836667375, 0.20378024537982453, -0.6100369380441374, -1.3466306621394803, -1.81632980066363, -0.15798779724206727, -1.018606443577509, -0.54437943019444, -0.48276994747208113, 0.57798424272942, -0.970914049767164, -0.4352116885815418, 0.8241358618851978, 1.2918990512894106, -0.11878729385443036, -0.24842332641139903, 0.4465616973650019, 0.7155306943090513, 1.9646290002462576, 0.7485402486486966, 2.301917351467514, -0.4584041069143579, -1.9769012314332277, -1.201105007029545, 1.669260528563722, 0.22156748859860562, -0.43902290576062286, -0.9269491629983333, -1.442120004125873, -1.1669983984588779, -0.2801873720734649, 2.5275136591199066, -0.020117546102519243, -1.5074242850340052, -1.3581481255377978, 1.0682872361234326, -0.4253891039927625, -0.9795015883734285, 0.7178957327501252, -1.1761437747950894, -1.6540195151829544, 1.6095607825891305, -0.8873683216168122, -1.6423713126718416, -0.17082902921556906, 1.4433275020088596, -0.23514827551444784, -0.18210764579747643, -0.47380473108659904, -0.30564100505727737, 0.39475719400621767, 0.927733729671384, 1.2414238982703922, 0.0029357777775479636, 0.869531108145011, -0.3108725300689207, 0.31612727830321374, 0.7637627871271956, -1.7022198823396548, 0.9700454378831772, -2.2371234275566225, 1.131637517157968, -0.393532240954233, -0.08165933539689739, 0.36858334803231196, -1.6126676133120872, -0.5352745521823805, 0.6346815353686975, 1.238888755284414, -1.0276900358987127, -0.3355367973642946, 0.37140192615612216, -0.8515083889392284, -2.9690855877133386, 0.6140107859520972, 0.43209277527755674, -1.0987784624213168, 0.20215234928410972, -0.46102411065062787, 1.4859285963890307, 1.3911792195871207, -1.3670903285961076, 0.22450940710990647, 0.4101279410076213, 1.977960208478093, 0.43079393165742125, -2.9129924250906174, -0.7310092701771267, 0.18258620922954666, 2.392127291109862, -0.2879343642592824, 1.8906107785898578, 0.7400795074044674, -1.3617204379633567, 0.7788471931365946, 0.6913717081312138]}],\n",
       "                        {\"legend\": {\"bgcolor\": \"#F5F6F9\", \"font\": {\"color\": \"#4D5663\"}}, \"paper_bgcolor\": \"#F5F6F9\", \"plot_bgcolor\": \"#F5F6F9\", \"template\": {\"data\": {\"bar\": [{\"error_x\": {\"color\": \"#2a3f5f\"}, \"error_y\": {\"color\": \"#2a3f5f\"}, \"marker\": {\"line\": {\"color\": \"#E5ECF6\", \"width\": 0.5}}, \"type\": \"bar\"}], \"barpolar\": [{\"marker\": {\"line\": {\"color\": \"#E5ECF6\", \"width\": 0.5}}, \"type\": \"barpolar\"}], \"carpet\": [{\"aaxis\": {\"endlinecolor\": \"#2a3f5f\", \"gridcolor\": \"white\", \"linecolor\": \"white\", \"minorgridcolor\": \"white\", \"startlinecolor\": \"#2a3f5f\"}, \"baxis\": {\"endlinecolor\": \"#2a3f5f\", \"gridcolor\": \"white\", \"linecolor\": \"white\", \"minorgridcolor\": \"white\", \"startlinecolor\": \"#2a3f5f\"}, \"type\": \"carpet\"}], \"choropleth\": [{\"colorbar\": {\"outlinewidth\": 0, \"ticks\": \"\"}, \"type\": \"choropleth\"}], \"contour\": [{\"colorbar\": {\"outlinewidth\": 0, \"ticks\": \"\"}, \"colorscale\": [[0.0, \"#0d0887\"], [0.1111111111111111, \"#46039f\"], [0.2222222222222222, \"#7201a8\"], [0.3333333333333333, \"#9c179e\"], [0.4444444444444444, \"#bd3786\"], [0.5555555555555556, \"#d8576b\"], [0.6666666666666666, \"#ed7953\"], [0.7777777777777778, \"#fb9f3a\"], [0.8888888888888888, \"#fdca26\"], [1.0, \"#f0f921\"]], \"type\": \"contour\"}], \"contourcarpet\": [{\"colorbar\": {\"outlinewidth\": 0, \"ticks\": \"\"}, \"type\": \"contourcarpet\"}], \"heatmap\": [{\"colorbar\": {\"outlinewidth\": 0, \"ticks\": \"\"}, \"colorscale\": [[0.0, \"#0d0887\"], [0.1111111111111111, \"#46039f\"], [0.2222222222222222, \"#7201a8\"], [0.3333333333333333, \"#9c179e\"], [0.4444444444444444, \"#bd3786\"], [0.5555555555555556, \"#d8576b\"], [0.6666666666666666, \"#ed7953\"], [0.7777777777777778, \"#fb9f3a\"], [0.8888888888888888, \"#fdca26\"], [1.0, \"#f0f921\"]], \"type\": \"heatmap\"}], \"heatmapgl\": [{\"colorbar\": {\"outlinewidth\": 0, \"ticks\": \"\"}, \"colorscale\": [[0.0, \"#0d0887\"], [0.1111111111111111, \"#46039f\"], [0.2222222222222222, \"#7201a8\"], [0.3333333333333333, \"#9c179e\"], [0.4444444444444444, \"#bd3786\"], [0.5555555555555556, \"#d8576b\"], [0.6666666666666666, \"#ed7953\"], [0.7777777777777778, \"#fb9f3a\"], [0.8888888888888888, \"#fdca26\"], [1.0, \"#f0f921\"]], \"type\": \"heatmapgl\"}], \"histogram\": [{\"marker\": {\"colorbar\": {\"outlinewidth\": 0, \"ticks\": \"\"}}, \"type\": \"histogram\"}], \"histogram2d\": [{\"colorbar\": {\"outlinewidth\": 0, \"ticks\": \"\"}, \"colorscale\": [[0.0, \"#0d0887\"], [0.1111111111111111, \"#46039f\"], [0.2222222222222222, \"#7201a8\"], [0.3333333333333333, \"#9c179e\"], [0.4444444444444444, \"#bd3786\"], [0.5555555555555556, \"#d8576b\"], [0.6666666666666666, \"#ed7953\"], [0.7777777777777778, \"#fb9f3a\"], [0.8888888888888888, \"#fdca26\"], [1.0, \"#f0f921\"]], \"type\": \"histogram2d\"}], \"histogram2dcontour\": [{\"colorbar\": {\"outlinewidth\": 0, \"ticks\": \"\"}, \"colorscale\": [[0.0, \"#0d0887\"], [0.1111111111111111, \"#46039f\"], [0.2222222222222222, \"#7201a8\"], [0.3333333333333333, \"#9c179e\"], [0.4444444444444444, \"#bd3786\"], [0.5555555555555556, \"#d8576b\"], [0.6666666666666666, \"#ed7953\"], [0.7777777777777778, \"#fb9f3a\"], [0.8888888888888888, \"#fdca26\"], [1.0, \"#f0f921\"]], \"type\": \"histogram2dcontour\"}], \"mesh3d\": [{\"colorbar\": {\"outlinewidth\": 0, \"ticks\": \"\"}, \"type\": \"mesh3d\"}], \"parcoords\": [{\"line\": {\"colorbar\": {\"outlinewidth\": 0, \"ticks\": \"\"}}, \"type\": \"parcoords\"}], \"pie\": [{\"automargin\": true, \"type\": \"pie\"}], \"scatter\": [{\"marker\": {\"colorbar\": {\"outlinewidth\": 0, \"ticks\": \"\"}}, \"type\": \"scatter\"}], \"scatter3d\": [{\"line\": {\"colorbar\": {\"outlinewidth\": 0, \"ticks\": \"\"}}, \"marker\": {\"colorbar\": {\"outlinewidth\": 0, \"ticks\": \"\"}}, \"type\": \"scatter3d\"}], \"scattercarpet\": [{\"marker\": {\"colorbar\": {\"outlinewidth\": 0, \"ticks\": \"\"}}, \"type\": \"scattercarpet\"}], \"scattergeo\": [{\"marker\": {\"colorbar\": {\"outlinewidth\": 0, \"ticks\": \"\"}}, \"type\": \"scattergeo\"}], \"scattergl\": [{\"marker\": {\"colorbar\": {\"outlinewidth\": 0, \"ticks\": \"\"}}, \"type\": \"scattergl\"}], \"scattermapbox\": [{\"marker\": {\"colorbar\": {\"outlinewidth\": 0, \"ticks\": \"\"}}, \"type\": \"scattermapbox\"}], \"scatterpolar\": [{\"marker\": {\"colorbar\": {\"outlinewidth\": 0, \"ticks\": \"\"}}, \"type\": \"scatterpolar\"}], \"scatterpolargl\": [{\"marker\": {\"colorbar\": {\"outlinewidth\": 0, \"ticks\": \"\"}}, \"type\": \"scatterpolargl\"}], \"scatterternary\": [{\"marker\": {\"colorbar\": {\"outlinewidth\": 0, \"ticks\": \"\"}}, \"type\": \"scatterternary\"}], \"surface\": [{\"colorbar\": {\"outlinewidth\": 0, \"ticks\": \"\"}, \"colorscale\": [[0.0, \"#0d0887\"], [0.1111111111111111, \"#46039f\"], [0.2222222222222222, \"#7201a8\"], [0.3333333333333333, \"#9c179e\"], [0.4444444444444444, \"#bd3786\"], [0.5555555555555556, \"#d8576b\"], [0.6666666666666666, \"#ed7953\"], [0.7777777777777778, \"#fb9f3a\"], [0.8888888888888888, \"#fdca26\"], [1.0, \"#f0f921\"]], \"type\": \"surface\"}], \"table\": [{\"cells\": {\"fill\": {\"color\": \"#EBF0F8\"}, \"line\": {\"color\": \"white\"}}, \"header\": {\"fill\": {\"color\": \"#C8D4E3\"}, \"line\": {\"color\": \"white\"}}, \"type\": \"table\"}]}, \"layout\": {\"annotationdefaults\": {\"arrowcolor\": \"#2a3f5f\", \"arrowhead\": 0, \"arrowwidth\": 1}, \"coloraxis\": {\"colorbar\": {\"outlinewidth\": 0, \"ticks\": \"\"}}, \"colorscale\": {\"diverging\": [[0, \"#8e0152\"], [0.1, \"#c51b7d\"], [0.2, \"#de77ae\"], [0.3, \"#f1b6da\"], [0.4, \"#fde0ef\"], [0.5, \"#f7f7f7\"], [0.6, \"#e6f5d0\"], [0.7, \"#b8e186\"], [0.8, \"#7fbc41\"], [0.9, \"#4d9221\"], [1, \"#276419\"]], \"sequential\": [[0.0, \"#0d0887\"], [0.1111111111111111, \"#46039f\"], [0.2222222222222222, \"#7201a8\"], [0.3333333333333333, \"#9c179e\"], [0.4444444444444444, \"#bd3786\"], [0.5555555555555556, \"#d8576b\"], [0.6666666666666666, \"#ed7953\"], [0.7777777777777778, \"#fb9f3a\"], [0.8888888888888888, \"#fdca26\"], [1.0, \"#f0f921\"]], \"sequentialminus\": [[0.0, \"#0d0887\"], [0.1111111111111111, \"#46039f\"], [0.2222222222222222, \"#7201a8\"], [0.3333333333333333, \"#9c179e\"], [0.4444444444444444, \"#bd3786\"], [0.5555555555555556, \"#d8576b\"], [0.6666666666666666, \"#ed7953\"], [0.7777777777777778, \"#fb9f3a\"], [0.8888888888888888, \"#fdca26\"], [1.0, \"#f0f921\"]]}, \"colorway\": [\"#636efa\", \"#EF553B\", \"#00cc96\", \"#ab63fa\", \"#FFA15A\", \"#19d3f3\", \"#FF6692\", \"#B6E880\", \"#FF97FF\", \"#FECB52\"], \"font\": {\"color\": \"#2a3f5f\"}, \"geo\": {\"bgcolor\": \"white\", \"lakecolor\": \"white\", \"landcolor\": \"#E5ECF6\", \"showlakes\": true, \"showland\": true, \"subunitcolor\": \"white\"}, \"hoverlabel\": {\"align\": \"left\"}, \"hovermode\": \"closest\", \"mapbox\": {\"style\": \"light\"}, \"paper_bgcolor\": \"white\", \"plot_bgcolor\": \"#E5ECF6\", \"polar\": {\"angularaxis\": {\"gridcolor\": \"white\", \"linecolor\": \"white\", \"ticks\": \"\"}, \"bgcolor\": \"#E5ECF6\", \"radialaxis\": {\"gridcolor\": \"white\", \"linecolor\": \"white\", \"ticks\": \"\"}}, \"scene\": {\"xaxis\": {\"backgroundcolor\": \"#E5ECF6\", \"gridcolor\": \"white\", \"gridwidth\": 2, \"linecolor\": \"white\", \"showbackground\": true, \"ticks\": \"\", \"zerolinecolor\": \"white\"}, \"yaxis\": {\"backgroundcolor\": \"#E5ECF6\", \"gridcolor\": \"white\", \"gridwidth\": 2, \"linecolor\": \"white\", \"showbackground\": true, \"ticks\": \"\", \"zerolinecolor\": \"white\"}, \"zaxis\": {\"backgroundcolor\": \"#E5ECF6\", \"gridcolor\": \"white\", \"gridwidth\": 2, \"linecolor\": \"white\", \"showbackground\": true, \"ticks\": \"\", \"zerolinecolor\": \"white\"}}, \"shapedefaults\": {\"line\": {\"color\": \"#2a3f5f\"}}, \"ternary\": {\"aaxis\": {\"gridcolor\": \"white\", \"linecolor\": \"white\", \"ticks\": \"\"}, \"baxis\": {\"gridcolor\": \"white\", \"linecolor\": \"white\", \"ticks\": \"\"}, \"bgcolor\": \"#E5ECF6\", \"caxis\": {\"gridcolor\": \"white\", \"linecolor\": \"white\", \"ticks\": \"\"}}, \"title\": {\"x\": 0.05}, \"xaxis\": {\"automargin\": true, \"gridcolor\": \"white\", \"linecolor\": \"white\", \"ticks\": \"\", \"title\": {\"standoff\": 15}, \"zerolinecolor\": \"white\", \"zerolinewidth\": 2}, \"yaxis\": {\"automargin\": true, \"gridcolor\": \"white\", \"linecolor\": \"white\", \"ticks\": \"\", \"title\": {\"standoff\": 15}, \"zerolinecolor\": \"white\", \"zerolinewidth\": 2}}}, \"title\": {\"font\": {\"color\": \"#4D5663\"}}, \"xaxis\": {\"gridcolor\": \"#E1E5ED\", \"showgrid\": true, \"tickfont\": {\"color\": \"#4D5663\"}, \"title\": {\"font\": {\"color\": \"#4D5663\"}, \"text\": \"\"}, \"zerolinecolor\": \"#E1E5ED\"}, \"yaxis\": {\"gridcolor\": \"#E1E5ED\", \"showgrid\": true, \"tickfont\": {\"color\": \"#4D5663\"}, \"title\": {\"font\": {\"color\": \"#4D5663\"}, \"text\": \"\"}, \"zerolinecolor\": \"#E1E5ED\"}},\n",
       "                        {\"showLink\": true, \"linkText\": \"Export to plot.ly\", \"plotlyServerURL\": \"https://plot.ly\", \"responsive\": true}\n",
       "                    ).then(function(){\n",
       "                            \n",
       "var gd = document.getElementById('0028cc5f-eb27-42a7-bc99-75400f9b2f01');\n",
       "var x = new MutationObserver(function (mutations, observer) {{\n",
       "        var display = window.getComputedStyle(gd).display;\n",
       "        if (!display || display === 'none') {{\n",
       "            console.log([gd, 'removed!']);\n",
       "            Plotly.purge(gd);\n",
       "            observer.disconnect();\n",
       "        }}\n",
       "}});\n",
       "\n",
       "// Listen for the removal of the full notebook cells\n",
       "var notebookContainer = gd.closest('#notebook-container');\n",
       "if (notebookContainer) {{\n",
       "    x.observe(notebookContainer, {childList: true});\n",
       "}}\n",
       "\n",
       "// Listen for the clearing of the current output cell\n",
       "var outputEl = gd.closest('.output');\n",
       "if (outputEl) {{\n",
       "    x.observe(outputEl, {childList: true});\n",
       "}}\n",
       "\n",
       "                        })\n",
       "                };\n",
       "                });\n",
       "            </script>\n",
       "        </div>"
      ]
     },
     "metadata": {},
     "output_type": "display_data"
    }
   ],
   "source": [
    "df.iplot(kind='scatter', x='A', y='B', mode='markers', size=10)"
   ]
  },
  {
   "cell_type": "markdown",
   "metadata": {},
   "source": [
    "## Bar Plots"
   ]
  },
  {
   "cell_type": "code",
   "execution_count": 20,
   "metadata": {},
   "outputs": [
    {
     "data": {
      "application/vnd.plotly.v1+json": {
       "config": {
        "linkText": "Export to plot.ly",
        "plotlyServerURL": "https://plot.ly",
        "showLink": true
       },
       "data": [
        {
         "marker": {
          "color": "rgba(255, 153, 51, 0.6)",
          "line": {
           "color": "rgba(255, 153, 51, 1.0)",
           "width": 1
          }
         },
         "name": "Values",
         "orientation": "v",
         "text": "",
         "type": "bar",
         "x": [
          "A",
          "B",
          "C"
         ],
         "y": [
          32,
          43,
          50
         ]
        }
       ],
       "layout": {
        "legend": {
         "bgcolor": "#F5F6F9",
         "font": {
          "color": "#4D5663"
         }
        },
        "paper_bgcolor": "#F5F6F9",
        "plot_bgcolor": "#F5F6F9",
        "template": {
         "data": {
          "bar": [
           {
            "error_x": {
             "color": "#2a3f5f"
            },
            "error_y": {
             "color": "#2a3f5f"
            },
            "marker": {
             "line": {
              "color": "#E5ECF6",
              "width": 0.5
             }
            },
            "type": "bar"
           }
          ],
          "barpolar": [
           {
            "marker": {
             "line": {
              "color": "#E5ECF6",
              "width": 0.5
             }
            },
            "type": "barpolar"
           }
          ],
          "carpet": [
           {
            "aaxis": {
             "endlinecolor": "#2a3f5f",
             "gridcolor": "white",
             "linecolor": "white",
             "minorgridcolor": "white",
             "startlinecolor": "#2a3f5f"
            },
            "baxis": {
             "endlinecolor": "#2a3f5f",
             "gridcolor": "white",
             "linecolor": "white",
             "minorgridcolor": "white",
             "startlinecolor": "#2a3f5f"
            },
            "type": "carpet"
           }
          ],
          "choropleth": [
           {
            "colorbar": {
             "outlinewidth": 0,
             "ticks": ""
            },
            "type": "choropleth"
           }
          ],
          "contour": [
           {
            "colorbar": {
             "outlinewidth": 0,
             "ticks": ""
            },
            "colorscale": [
             [
              0,
              "#0d0887"
             ],
             [
              0.1111111111111111,
              "#46039f"
             ],
             [
              0.2222222222222222,
              "#7201a8"
             ],
             [
              0.3333333333333333,
              "#9c179e"
             ],
             [
              0.4444444444444444,
              "#bd3786"
             ],
             [
              0.5555555555555556,
              "#d8576b"
             ],
             [
              0.6666666666666666,
              "#ed7953"
             ],
             [
              0.7777777777777778,
              "#fb9f3a"
             ],
             [
              0.8888888888888888,
              "#fdca26"
             ],
             [
              1,
              "#f0f921"
             ]
            ],
            "type": "contour"
           }
          ],
          "contourcarpet": [
           {
            "colorbar": {
             "outlinewidth": 0,
             "ticks": ""
            },
            "type": "contourcarpet"
           }
          ],
          "heatmap": [
           {
            "colorbar": {
             "outlinewidth": 0,
             "ticks": ""
            },
            "colorscale": [
             [
              0,
              "#0d0887"
             ],
             [
              0.1111111111111111,
              "#46039f"
             ],
             [
              0.2222222222222222,
              "#7201a8"
             ],
             [
              0.3333333333333333,
              "#9c179e"
             ],
             [
              0.4444444444444444,
              "#bd3786"
             ],
             [
              0.5555555555555556,
              "#d8576b"
             ],
             [
              0.6666666666666666,
              "#ed7953"
             ],
             [
              0.7777777777777778,
              "#fb9f3a"
             ],
             [
              0.8888888888888888,
              "#fdca26"
             ],
             [
              1,
              "#f0f921"
             ]
            ],
            "type": "heatmap"
           }
          ],
          "heatmapgl": [
           {
            "colorbar": {
             "outlinewidth": 0,
             "ticks": ""
            },
            "colorscale": [
             [
              0,
              "#0d0887"
             ],
             [
              0.1111111111111111,
              "#46039f"
             ],
             [
              0.2222222222222222,
              "#7201a8"
             ],
             [
              0.3333333333333333,
              "#9c179e"
             ],
             [
              0.4444444444444444,
              "#bd3786"
             ],
             [
              0.5555555555555556,
              "#d8576b"
             ],
             [
              0.6666666666666666,
              "#ed7953"
             ],
             [
              0.7777777777777778,
              "#fb9f3a"
             ],
             [
              0.8888888888888888,
              "#fdca26"
             ],
             [
              1,
              "#f0f921"
             ]
            ],
            "type": "heatmapgl"
           }
          ],
          "histogram": [
           {
            "marker": {
             "colorbar": {
              "outlinewidth": 0,
              "ticks": ""
             }
            },
            "type": "histogram"
           }
          ],
          "histogram2d": [
           {
            "colorbar": {
             "outlinewidth": 0,
             "ticks": ""
            },
            "colorscale": [
             [
              0,
              "#0d0887"
             ],
             [
              0.1111111111111111,
              "#46039f"
             ],
             [
              0.2222222222222222,
              "#7201a8"
             ],
             [
              0.3333333333333333,
              "#9c179e"
             ],
             [
              0.4444444444444444,
              "#bd3786"
             ],
             [
              0.5555555555555556,
              "#d8576b"
             ],
             [
              0.6666666666666666,
              "#ed7953"
             ],
             [
              0.7777777777777778,
              "#fb9f3a"
             ],
             [
              0.8888888888888888,
              "#fdca26"
             ],
             [
              1,
              "#f0f921"
             ]
            ],
            "type": "histogram2d"
           }
          ],
          "histogram2dcontour": [
           {
            "colorbar": {
             "outlinewidth": 0,
             "ticks": ""
            },
            "colorscale": [
             [
              0,
              "#0d0887"
             ],
             [
              0.1111111111111111,
              "#46039f"
             ],
             [
              0.2222222222222222,
              "#7201a8"
             ],
             [
              0.3333333333333333,
              "#9c179e"
             ],
             [
              0.4444444444444444,
              "#bd3786"
             ],
             [
              0.5555555555555556,
              "#d8576b"
             ],
             [
              0.6666666666666666,
              "#ed7953"
             ],
             [
              0.7777777777777778,
              "#fb9f3a"
             ],
             [
              0.8888888888888888,
              "#fdca26"
             ],
             [
              1,
              "#f0f921"
             ]
            ],
            "type": "histogram2dcontour"
           }
          ],
          "mesh3d": [
           {
            "colorbar": {
             "outlinewidth": 0,
             "ticks": ""
            },
            "type": "mesh3d"
           }
          ],
          "parcoords": [
           {
            "line": {
             "colorbar": {
              "outlinewidth": 0,
              "ticks": ""
             }
            },
            "type": "parcoords"
           }
          ],
          "pie": [
           {
            "automargin": true,
            "type": "pie"
           }
          ],
          "scatter": [
           {
            "marker": {
             "colorbar": {
              "outlinewidth": 0,
              "ticks": ""
             }
            },
            "type": "scatter"
           }
          ],
          "scatter3d": [
           {
            "line": {
             "colorbar": {
              "outlinewidth": 0,
              "ticks": ""
             }
            },
            "marker": {
             "colorbar": {
              "outlinewidth": 0,
              "ticks": ""
             }
            },
            "type": "scatter3d"
           }
          ],
          "scattercarpet": [
           {
            "marker": {
             "colorbar": {
              "outlinewidth": 0,
              "ticks": ""
             }
            },
            "type": "scattercarpet"
           }
          ],
          "scattergeo": [
           {
            "marker": {
             "colorbar": {
              "outlinewidth": 0,
              "ticks": ""
             }
            },
            "type": "scattergeo"
           }
          ],
          "scattergl": [
           {
            "marker": {
             "colorbar": {
              "outlinewidth": 0,
              "ticks": ""
             }
            },
            "type": "scattergl"
           }
          ],
          "scattermapbox": [
           {
            "marker": {
             "colorbar": {
              "outlinewidth": 0,
              "ticks": ""
             }
            },
            "type": "scattermapbox"
           }
          ],
          "scatterpolar": [
           {
            "marker": {
             "colorbar": {
              "outlinewidth": 0,
              "ticks": ""
             }
            },
            "type": "scatterpolar"
           }
          ],
          "scatterpolargl": [
           {
            "marker": {
             "colorbar": {
              "outlinewidth": 0,
              "ticks": ""
             }
            },
            "type": "scatterpolargl"
           }
          ],
          "scatterternary": [
           {
            "marker": {
             "colorbar": {
              "outlinewidth": 0,
              "ticks": ""
             }
            },
            "type": "scatterternary"
           }
          ],
          "surface": [
           {
            "colorbar": {
             "outlinewidth": 0,
             "ticks": ""
            },
            "colorscale": [
             [
              0,
              "#0d0887"
             ],
             [
              0.1111111111111111,
              "#46039f"
             ],
             [
              0.2222222222222222,
              "#7201a8"
             ],
             [
              0.3333333333333333,
              "#9c179e"
             ],
             [
              0.4444444444444444,
              "#bd3786"
             ],
             [
              0.5555555555555556,
              "#d8576b"
             ],
             [
              0.6666666666666666,
              "#ed7953"
             ],
             [
              0.7777777777777778,
              "#fb9f3a"
             ],
             [
              0.8888888888888888,
              "#fdca26"
             ],
             [
              1,
              "#f0f921"
             ]
            ],
            "type": "surface"
           }
          ],
          "table": [
           {
            "cells": {
             "fill": {
              "color": "#EBF0F8"
             },
             "line": {
              "color": "white"
             }
            },
            "header": {
             "fill": {
              "color": "#C8D4E3"
             },
             "line": {
              "color": "white"
             }
            },
            "type": "table"
           }
          ]
         },
         "layout": {
          "annotationdefaults": {
           "arrowcolor": "#2a3f5f",
           "arrowhead": 0,
           "arrowwidth": 1
          },
          "coloraxis": {
           "colorbar": {
            "outlinewidth": 0,
            "ticks": ""
           }
          },
          "colorscale": {
           "diverging": [
            [
             0,
             "#8e0152"
            ],
            [
             0.1,
             "#c51b7d"
            ],
            [
             0.2,
             "#de77ae"
            ],
            [
             0.3,
             "#f1b6da"
            ],
            [
             0.4,
             "#fde0ef"
            ],
            [
             0.5,
             "#f7f7f7"
            ],
            [
             0.6,
             "#e6f5d0"
            ],
            [
             0.7,
             "#b8e186"
            ],
            [
             0.8,
             "#7fbc41"
            ],
            [
             0.9,
             "#4d9221"
            ],
            [
             1,
             "#276419"
            ]
           ],
           "sequential": [
            [
             0,
             "#0d0887"
            ],
            [
             0.1111111111111111,
             "#46039f"
            ],
            [
             0.2222222222222222,
             "#7201a8"
            ],
            [
             0.3333333333333333,
             "#9c179e"
            ],
            [
             0.4444444444444444,
             "#bd3786"
            ],
            [
             0.5555555555555556,
             "#d8576b"
            ],
            [
             0.6666666666666666,
             "#ed7953"
            ],
            [
             0.7777777777777778,
             "#fb9f3a"
            ],
            [
             0.8888888888888888,
             "#fdca26"
            ],
            [
             1,
             "#f0f921"
            ]
           ],
           "sequentialminus": [
            [
             0,
             "#0d0887"
            ],
            [
             0.1111111111111111,
             "#46039f"
            ],
            [
             0.2222222222222222,
             "#7201a8"
            ],
            [
             0.3333333333333333,
             "#9c179e"
            ],
            [
             0.4444444444444444,
             "#bd3786"
            ],
            [
             0.5555555555555556,
             "#d8576b"
            ],
            [
             0.6666666666666666,
             "#ed7953"
            ],
            [
             0.7777777777777778,
             "#fb9f3a"
            ],
            [
             0.8888888888888888,
             "#fdca26"
            ],
            [
             1,
             "#f0f921"
            ]
           ]
          },
          "colorway": [
           "#636efa",
           "#EF553B",
           "#00cc96",
           "#ab63fa",
           "#FFA15A",
           "#19d3f3",
           "#FF6692",
           "#B6E880",
           "#FF97FF",
           "#FECB52"
          ],
          "font": {
           "color": "#2a3f5f"
          },
          "geo": {
           "bgcolor": "white",
           "lakecolor": "white",
           "landcolor": "#E5ECF6",
           "showlakes": true,
           "showland": true,
           "subunitcolor": "white"
          },
          "hoverlabel": {
           "align": "left"
          },
          "hovermode": "closest",
          "mapbox": {
           "style": "light"
          },
          "paper_bgcolor": "white",
          "plot_bgcolor": "#E5ECF6",
          "polar": {
           "angularaxis": {
            "gridcolor": "white",
            "linecolor": "white",
            "ticks": ""
           },
           "bgcolor": "#E5ECF6",
           "radialaxis": {
            "gridcolor": "white",
            "linecolor": "white",
            "ticks": ""
           }
          },
          "scene": {
           "xaxis": {
            "backgroundcolor": "#E5ECF6",
            "gridcolor": "white",
            "gridwidth": 2,
            "linecolor": "white",
            "showbackground": true,
            "ticks": "",
            "zerolinecolor": "white"
           },
           "yaxis": {
            "backgroundcolor": "#E5ECF6",
            "gridcolor": "white",
            "gridwidth": 2,
            "linecolor": "white",
            "showbackground": true,
            "ticks": "",
            "zerolinecolor": "white"
           },
           "zaxis": {
            "backgroundcolor": "#E5ECF6",
            "gridcolor": "white",
            "gridwidth": 2,
            "linecolor": "white",
            "showbackground": true,
            "ticks": "",
            "zerolinecolor": "white"
           }
          },
          "shapedefaults": {
           "line": {
            "color": "#2a3f5f"
           }
          },
          "ternary": {
           "aaxis": {
            "gridcolor": "white",
            "linecolor": "white",
            "ticks": ""
           },
           "baxis": {
            "gridcolor": "white",
            "linecolor": "white",
            "ticks": ""
           },
           "bgcolor": "#E5ECF6",
           "caxis": {
            "gridcolor": "white",
            "linecolor": "white",
            "ticks": ""
           }
          },
          "title": {
           "x": 0.05
          },
          "xaxis": {
           "automargin": true,
           "gridcolor": "white",
           "linecolor": "white",
           "ticks": "",
           "title": {
            "standoff": 15
           },
           "zerolinecolor": "white",
           "zerolinewidth": 2
          },
          "yaxis": {
           "automargin": true,
           "gridcolor": "white",
           "linecolor": "white",
           "ticks": "",
           "title": {
            "standoff": 15
           },
           "zerolinecolor": "white",
           "zerolinewidth": 2
          }
         }
        },
        "title": {
         "font": {
          "color": "#4D5663"
         }
        },
        "xaxis": {
         "gridcolor": "#E1E5ED",
         "showgrid": true,
         "tickfont": {
          "color": "#4D5663"
         },
         "title": {
          "font": {
           "color": "#4D5663"
          },
          "text": ""
         },
         "zerolinecolor": "#E1E5ED"
        },
        "yaxis": {
         "gridcolor": "#E1E5ED",
         "showgrid": true,
         "tickfont": {
          "color": "#4D5663"
         },
         "title": {
          "font": {
           "color": "#4D5663"
          },
          "text": ""
         },
         "zerolinecolor": "#E1E5ED"
        }
       }
      },
      "text/html": [
       "<div>\n",
       "        \n",
       "        \n",
       "            <div id=\"6aefea82-8c9f-472b-bc19-a0fdf7ab955c\" class=\"plotly-graph-div\" style=\"height:525px; width:100%;\"></div>\n",
       "            <script type=\"text/javascript\">\n",
       "                require([\"plotly\"], function(Plotly) {\n",
       "                    window.PLOTLYENV=window.PLOTLYENV || {};\n",
       "                    window.PLOTLYENV.BASE_URL='https://plot.ly';\n",
       "                    \n",
       "                if (document.getElementById(\"6aefea82-8c9f-472b-bc19-a0fdf7ab955c\")) {\n",
       "                    Plotly.newPlot(\n",
       "                        '6aefea82-8c9f-472b-bc19-a0fdf7ab955c',\n",
       "                        [{\"marker\": {\"color\": \"rgba(255, 153, 51, 0.6)\", \"line\": {\"color\": \"rgba(255, 153, 51, 1.0)\", \"width\": 1}}, \"name\": \"Values\", \"orientation\": \"v\", \"text\": \"\", \"type\": \"bar\", \"x\": [\"A\", \"B\", \"C\"], \"y\": [32, 43, 50]}],\n",
       "                        {\"legend\": {\"bgcolor\": \"#F5F6F9\", \"font\": {\"color\": \"#4D5663\"}}, \"paper_bgcolor\": \"#F5F6F9\", \"plot_bgcolor\": \"#F5F6F9\", \"template\": {\"data\": {\"bar\": [{\"error_x\": {\"color\": \"#2a3f5f\"}, \"error_y\": {\"color\": \"#2a3f5f\"}, \"marker\": {\"line\": {\"color\": \"#E5ECF6\", \"width\": 0.5}}, \"type\": \"bar\"}], \"barpolar\": [{\"marker\": {\"line\": {\"color\": \"#E5ECF6\", \"width\": 0.5}}, \"type\": \"barpolar\"}], \"carpet\": [{\"aaxis\": {\"endlinecolor\": \"#2a3f5f\", \"gridcolor\": \"white\", \"linecolor\": \"white\", \"minorgridcolor\": \"white\", \"startlinecolor\": \"#2a3f5f\"}, \"baxis\": {\"endlinecolor\": \"#2a3f5f\", \"gridcolor\": \"white\", \"linecolor\": \"white\", \"minorgridcolor\": \"white\", \"startlinecolor\": \"#2a3f5f\"}, \"type\": \"carpet\"}], \"choropleth\": [{\"colorbar\": {\"outlinewidth\": 0, \"ticks\": \"\"}, \"type\": \"choropleth\"}], \"contour\": [{\"colorbar\": {\"outlinewidth\": 0, \"ticks\": \"\"}, \"colorscale\": [[0.0, \"#0d0887\"], [0.1111111111111111, \"#46039f\"], [0.2222222222222222, \"#7201a8\"], [0.3333333333333333, \"#9c179e\"], [0.4444444444444444, \"#bd3786\"], [0.5555555555555556, \"#d8576b\"], [0.6666666666666666, \"#ed7953\"], [0.7777777777777778, \"#fb9f3a\"], [0.8888888888888888, \"#fdca26\"], [1.0, \"#f0f921\"]], \"type\": \"contour\"}], \"contourcarpet\": [{\"colorbar\": {\"outlinewidth\": 0, \"ticks\": \"\"}, \"type\": \"contourcarpet\"}], \"heatmap\": [{\"colorbar\": {\"outlinewidth\": 0, \"ticks\": \"\"}, \"colorscale\": [[0.0, \"#0d0887\"], [0.1111111111111111, \"#46039f\"], [0.2222222222222222, \"#7201a8\"], [0.3333333333333333, \"#9c179e\"], [0.4444444444444444, \"#bd3786\"], [0.5555555555555556, \"#d8576b\"], [0.6666666666666666, \"#ed7953\"], [0.7777777777777778, \"#fb9f3a\"], [0.8888888888888888, \"#fdca26\"], [1.0, \"#f0f921\"]], \"type\": \"heatmap\"}], \"heatmapgl\": [{\"colorbar\": {\"outlinewidth\": 0, \"ticks\": \"\"}, \"colorscale\": [[0.0, \"#0d0887\"], [0.1111111111111111, \"#46039f\"], [0.2222222222222222, \"#7201a8\"], [0.3333333333333333, \"#9c179e\"], [0.4444444444444444, \"#bd3786\"], [0.5555555555555556, \"#d8576b\"], [0.6666666666666666, \"#ed7953\"], [0.7777777777777778, \"#fb9f3a\"], [0.8888888888888888, \"#fdca26\"], [1.0, \"#f0f921\"]], \"type\": \"heatmapgl\"}], \"histogram\": [{\"marker\": {\"colorbar\": {\"outlinewidth\": 0, \"ticks\": \"\"}}, \"type\": \"histogram\"}], \"histogram2d\": [{\"colorbar\": {\"outlinewidth\": 0, \"ticks\": \"\"}, \"colorscale\": [[0.0, \"#0d0887\"], [0.1111111111111111, \"#46039f\"], [0.2222222222222222, \"#7201a8\"], [0.3333333333333333, \"#9c179e\"], [0.4444444444444444, \"#bd3786\"], [0.5555555555555556, \"#d8576b\"], [0.6666666666666666, \"#ed7953\"], [0.7777777777777778, \"#fb9f3a\"], [0.8888888888888888, \"#fdca26\"], [1.0, \"#f0f921\"]], \"type\": \"histogram2d\"}], \"histogram2dcontour\": [{\"colorbar\": {\"outlinewidth\": 0, \"ticks\": \"\"}, \"colorscale\": [[0.0, \"#0d0887\"], [0.1111111111111111, \"#46039f\"], [0.2222222222222222, \"#7201a8\"], [0.3333333333333333, \"#9c179e\"], [0.4444444444444444, \"#bd3786\"], [0.5555555555555556, \"#d8576b\"], [0.6666666666666666, \"#ed7953\"], [0.7777777777777778, \"#fb9f3a\"], [0.8888888888888888, \"#fdca26\"], [1.0, \"#f0f921\"]], \"type\": \"histogram2dcontour\"}], \"mesh3d\": [{\"colorbar\": {\"outlinewidth\": 0, \"ticks\": \"\"}, \"type\": \"mesh3d\"}], \"parcoords\": [{\"line\": {\"colorbar\": {\"outlinewidth\": 0, \"ticks\": \"\"}}, \"type\": \"parcoords\"}], \"pie\": [{\"automargin\": true, \"type\": \"pie\"}], \"scatter\": [{\"marker\": {\"colorbar\": {\"outlinewidth\": 0, \"ticks\": \"\"}}, \"type\": \"scatter\"}], \"scatter3d\": [{\"line\": {\"colorbar\": {\"outlinewidth\": 0, \"ticks\": \"\"}}, \"marker\": {\"colorbar\": {\"outlinewidth\": 0, \"ticks\": \"\"}}, \"type\": \"scatter3d\"}], \"scattercarpet\": [{\"marker\": {\"colorbar\": {\"outlinewidth\": 0, \"ticks\": \"\"}}, \"type\": \"scattercarpet\"}], \"scattergeo\": [{\"marker\": {\"colorbar\": {\"outlinewidth\": 0, \"ticks\": \"\"}}, \"type\": \"scattergeo\"}], \"scattergl\": [{\"marker\": {\"colorbar\": {\"outlinewidth\": 0, \"ticks\": \"\"}}, \"type\": \"scattergl\"}], \"scattermapbox\": [{\"marker\": {\"colorbar\": {\"outlinewidth\": 0, \"ticks\": \"\"}}, \"type\": \"scattermapbox\"}], \"scatterpolar\": [{\"marker\": {\"colorbar\": {\"outlinewidth\": 0, \"ticks\": \"\"}}, \"type\": \"scatterpolar\"}], \"scatterpolargl\": [{\"marker\": {\"colorbar\": {\"outlinewidth\": 0, \"ticks\": \"\"}}, \"type\": \"scatterpolargl\"}], \"scatterternary\": [{\"marker\": {\"colorbar\": {\"outlinewidth\": 0, \"ticks\": \"\"}}, \"type\": \"scatterternary\"}], \"surface\": [{\"colorbar\": {\"outlinewidth\": 0, \"ticks\": \"\"}, \"colorscale\": [[0.0, \"#0d0887\"], [0.1111111111111111, \"#46039f\"], [0.2222222222222222, \"#7201a8\"], [0.3333333333333333, \"#9c179e\"], [0.4444444444444444, \"#bd3786\"], [0.5555555555555556, \"#d8576b\"], [0.6666666666666666, \"#ed7953\"], [0.7777777777777778, \"#fb9f3a\"], [0.8888888888888888, \"#fdca26\"], [1.0, \"#f0f921\"]], \"type\": \"surface\"}], \"table\": [{\"cells\": {\"fill\": {\"color\": \"#EBF0F8\"}, \"line\": {\"color\": \"white\"}}, \"header\": {\"fill\": {\"color\": \"#C8D4E3\"}, \"line\": {\"color\": \"white\"}}, \"type\": \"table\"}]}, \"layout\": {\"annotationdefaults\": {\"arrowcolor\": \"#2a3f5f\", \"arrowhead\": 0, \"arrowwidth\": 1}, \"coloraxis\": {\"colorbar\": {\"outlinewidth\": 0, \"ticks\": \"\"}}, \"colorscale\": {\"diverging\": [[0, \"#8e0152\"], [0.1, \"#c51b7d\"], [0.2, \"#de77ae\"], [0.3, \"#f1b6da\"], [0.4, \"#fde0ef\"], [0.5, \"#f7f7f7\"], [0.6, \"#e6f5d0\"], [0.7, \"#b8e186\"], [0.8, \"#7fbc41\"], [0.9, \"#4d9221\"], [1, \"#276419\"]], \"sequential\": [[0.0, \"#0d0887\"], [0.1111111111111111, \"#46039f\"], [0.2222222222222222, \"#7201a8\"], [0.3333333333333333, \"#9c179e\"], [0.4444444444444444, \"#bd3786\"], [0.5555555555555556, \"#d8576b\"], [0.6666666666666666, \"#ed7953\"], [0.7777777777777778, \"#fb9f3a\"], [0.8888888888888888, \"#fdca26\"], [1.0, \"#f0f921\"]], \"sequentialminus\": [[0.0, \"#0d0887\"], [0.1111111111111111, \"#46039f\"], [0.2222222222222222, \"#7201a8\"], [0.3333333333333333, \"#9c179e\"], [0.4444444444444444, \"#bd3786\"], [0.5555555555555556, \"#d8576b\"], [0.6666666666666666, \"#ed7953\"], [0.7777777777777778, \"#fb9f3a\"], [0.8888888888888888, \"#fdca26\"], [1.0, \"#f0f921\"]]}, \"colorway\": [\"#636efa\", \"#EF553B\", \"#00cc96\", \"#ab63fa\", \"#FFA15A\", \"#19d3f3\", \"#FF6692\", \"#B6E880\", \"#FF97FF\", \"#FECB52\"], \"font\": {\"color\": \"#2a3f5f\"}, \"geo\": {\"bgcolor\": \"white\", \"lakecolor\": \"white\", \"landcolor\": \"#E5ECF6\", \"showlakes\": true, \"showland\": true, \"subunitcolor\": \"white\"}, \"hoverlabel\": {\"align\": \"left\"}, \"hovermode\": \"closest\", \"mapbox\": {\"style\": \"light\"}, \"paper_bgcolor\": \"white\", \"plot_bgcolor\": \"#E5ECF6\", \"polar\": {\"angularaxis\": {\"gridcolor\": \"white\", \"linecolor\": \"white\", \"ticks\": \"\"}, \"bgcolor\": \"#E5ECF6\", \"radialaxis\": {\"gridcolor\": \"white\", \"linecolor\": \"white\", \"ticks\": \"\"}}, \"scene\": {\"xaxis\": {\"backgroundcolor\": \"#E5ECF6\", \"gridcolor\": \"white\", \"gridwidth\": 2, \"linecolor\": \"white\", \"showbackground\": true, \"ticks\": \"\", \"zerolinecolor\": \"white\"}, \"yaxis\": {\"backgroundcolor\": \"#E5ECF6\", \"gridcolor\": \"white\", \"gridwidth\": 2, \"linecolor\": \"white\", \"showbackground\": true, \"ticks\": \"\", \"zerolinecolor\": \"white\"}, \"zaxis\": {\"backgroundcolor\": \"#E5ECF6\", \"gridcolor\": \"white\", \"gridwidth\": 2, \"linecolor\": \"white\", \"showbackground\": true, \"ticks\": \"\", \"zerolinecolor\": \"white\"}}, \"shapedefaults\": {\"line\": {\"color\": \"#2a3f5f\"}}, \"ternary\": {\"aaxis\": {\"gridcolor\": \"white\", \"linecolor\": \"white\", \"ticks\": \"\"}, \"baxis\": {\"gridcolor\": \"white\", \"linecolor\": \"white\", \"ticks\": \"\"}, \"bgcolor\": \"#E5ECF6\", \"caxis\": {\"gridcolor\": \"white\", \"linecolor\": \"white\", \"ticks\": \"\"}}, \"title\": {\"x\": 0.05}, \"xaxis\": {\"automargin\": true, \"gridcolor\": \"white\", \"linecolor\": \"white\", \"ticks\": \"\", \"title\": {\"standoff\": 15}, \"zerolinecolor\": \"white\", \"zerolinewidth\": 2}, \"yaxis\": {\"automargin\": true, \"gridcolor\": \"white\", \"linecolor\": \"white\", \"ticks\": \"\", \"title\": {\"standoff\": 15}, \"zerolinecolor\": \"white\", \"zerolinewidth\": 2}}}, \"title\": {\"font\": {\"color\": \"#4D5663\"}}, \"xaxis\": {\"gridcolor\": \"#E1E5ED\", \"showgrid\": true, \"tickfont\": {\"color\": \"#4D5663\"}, \"title\": {\"font\": {\"color\": \"#4D5663\"}, \"text\": \"\"}, \"zerolinecolor\": \"#E1E5ED\"}, \"yaxis\": {\"gridcolor\": \"#E1E5ED\", \"showgrid\": true, \"tickfont\": {\"color\": \"#4D5663\"}, \"title\": {\"font\": {\"color\": \"#4D5663\"}, \"text\": \"\"}, \"zerolinecolor\": \"#E1E5ED\"}},\n",
       "                        {\"showLink\": true, \"linkText\": \"Export to plot.ly\", \"plotlyServerURL\": \"https://plot.ly\", \"responsive\": true}\n",
       "                    ).then(function(){\n",
       "                            \n",
       "var gd = document.getElementById('6aefea82-8c9f-472b-bc19-a0fdf7ab955c');\n",
       "var x = new MutationObserver(function (mutations, observer) {{\n",
       "        var display = window.getComputedStyle(gd).display;\n",
       "        if (!display || display === 'none') {{\n",
       "            console.log([gd, 'removed!']);\n",
       "            Plotly.purge(gd);\n",
       "            observer.disconnect();\n",
       "        }}\n",
       "}});\n",
       "\n",
       "// Listen for the removal of the full notebook cells\n",
       "var notebookContainer = gd.closest('#notebook-container');\n",
       "if (notebookContainer) {{\n",
       "    x.observe(notebookContainer, {childList: true});\n",
       "}}\n",
       "\n",
       "// Listen for the clearing of the current output cell\n",
       "var outputEl = gd.closest('.output');\n",
       "if (outputEl) {{\n",
       "    x.observe(outputEl, {childList: true});\n",
       "}}\n",
       "\n",
       "                        })\n",
       "                };\n",
       "                });\n",
       "            </script>\n",
       "        </div>"
      ]
     },
     "metadata": {},
     "output_type": "display_data"
    }
   ],
   "source": [
    "df2.iplot(kind='bar', x='Category', y='Values')"
   ]
  },
  {
   "cell_type": "code",
   "execution_count": 27,
   "metadata": {},
   "outputs": [
    {
     "data": {
      "application/vnd.plotly.v1+json": {
       "config": {
        "linkText": "Export to plot.ly",
        "plotlyServerURL": "https://plot.ly",
        "showLink": true
       },
       "data": [
        {
         "marker": {
          "color": "rgba(255, 153, 51, 0.6)",
          "line": {
           "color": "rgba(255, 153, 51, 1.0)",
           "width": 1
          }
         },
         "name": "None",
         "orientation": "v",
         "text": "",
         "type": "bar",
         "x": [
          "A",
          "B",
          "C",
          "D"
         ],
         "y": [
          100,
          100,
          100,
          100
         ]
        }
       ],
       "layout": {
        "legend": {
         "bgcolor": "#F5F6F9",
         "font": {
          "color": "#4D5663"
         }
        },
        "paper_bgcolor": "#F5F6F9",
        "plot_bgcolor": "#F5F6F9",
        "template": {
         "data": {
          "bar": [
           {
            "error_x": {
             "color": "#2a3f5f"
            },
            "error_y": {
             "color": "#2a3f5f"
            },
            "marker": {
             "line": {
              "color": "#E5ECF6",
              "width": 0.5
             }
            },
            "type": "bar"
           }
          ],
          "barpolar": [
           {
            "marker": {
             "line": {
              "color": "#E5ECF6",
              "width": 0.5
             }
            },
            "type": "barpolar"
           }
          ],
          "carpet": [
           {
            "aaxis": {
             "endlinecolor": "#2a3f5f",
             "gridcolor": "white",
             "linecolor": "white",
             "minorgridcolor": "white",
             "startlinecolor": "#2a3f5f"
            },
            "baxis": {
             "endlinecolor": "#2a3f5f",
             "gridcolor": "white",
             "linecolor": "white",
             "minorgridcolor": "white",
             "startlinecolor": "#2a3f5f"
            },
            "type": "carpet"
           }
          ],
          "choropleth": [
           {
            "colorbar": {
             "outlinewidth": 0,
             "ticks": ""
            },
            "type": "choropleth"
           }
          ],
          "contour": [
           {
            "colorbar": {
             "outlinewidth": 0,
             "ticks": ""
            },
            "colorscale": [
             [
              0,
              "#0d0887"
             ],
             [
              0.1111111111111111,
              "#46039f"
             ],
             [
              0.2222222222222222,
              "#7201a8"
             ],
             [
              0.3333333333333333,
              "#9c179e"
             ],
             [
              0.4444444444444444,
              "#bd3786"
             ],
             [
              0.5555555555555556,
              "#d8576b"
             ],
             [
              0.6666666666666666,
              "#ed7953"
             ],
             [
              0.7777777777777778,
              "#fb9f3a"
             ],
             [
              0.8888888888888888,
              "#fdca26"
             ],
             [
              1,
              "#f0f921"
             ]
            ],
            "type": "contour"
           }
          ],
          "contourcarpet": [
           {
            "colorbar": {
             "outlinewidth": 0,
             "ticks": ""
            },
            "type": "contourcarpet"
           }
          ],
          "heatmap": [
           {
            "colorbar": {
             "outlinewidth": 0,
             "ticks": ""
            },
            "colorscale": [
             [
              0,
              "#0d0887"
             ],
             [
              0.1111111111111111,
              "#46039f"
             ],
             [
              0.2222222222222222,
              "#7201a8"
             ],
             [
              0.3333333333333333,
              "#9c179e"
             ],
             [
              0.4444444444444444,
              "#bd3786"
             ],
             [
              0.5555555555555556,
              "#d8576b"
             ],
             [
              0.6666666666666666,
              "#ed7953"
             ],
             [
              0.7777777777777778,
              "#fb9f3a"
             ],
             [
              0.8888888888888888,
              "#fdca26"
             ],
             [
              1,
              "#f0f921"
             ]
            ],
            "type": "heatmap"
           }
          ],
          "heatmapgl": [
           {
            "colorbar": {
             "outlinewidth": 0,
             "ticks": ""
            },
            "colorscale": [
             [
              0,
              "#0d0887"
             ],
             [
              0.1111111111111111,
              "#46039f"
             ],
             [
              0.2222222222222222,
              "#7201a8"
             ],
             [
              0.3333333333333333,
              "#9c179e"
             ],
             [
              0.4444444444444444,
              "#bd3786"
             ],
             [
              0.5555555555555556,
              "#d8576b"
             ],
             [
              0.6666666666666666,
              "#ed7953"
             ],
             [
              0.7777777777777778,
              "#fb9f3a"
             ],
             [
              0.8888888888888888,
              "#fdca26"
             ],
             [
              1,
              "#f0f921"
             ]
            ],
            "type": "heatmapgl"
           }
          ],
          "histogram": [
           {
            "marker": {
             "colorbar": {
              "outlinewidth": 0,
              "ticks": ""
             }
            },
            "type": "histogram"
           }
          ],
          "histogram2d": [
           {
            "colorbar": {
             "outlinewidth": 0,
             "ticks": ""
            },
            "colorscale": [
             [
              0,
              "#0d0887"
             ],
             [
              0.1111111111111111,
              "#46039f"
             ],
             [
              0.2222222222222222,
              "#7201a8"
             ],
             [
              0.3333333333333333,
              "#9c179e"
             ],
             [
              0.4444444444444444,
              "#bd3786"
             ],
             [
              0.5555555555555556,
              "#d8576b"
             ],
             [
              0.6666666666666666,
              "#ed7953"
             ],
             [
              0.7777777777777778,
              "#fb9f3a"
             ],
             [
              0.8888888888888888,
              "#fdca26"
             ],
             [
              1,
              "#f0f921"
             ]
            ],
            "type": "histogram2d"
           }
          ],
          "histogram2dcontour": [
           {
            "colorbar": {
             "outlinewidth": 0,
             "ticks": ""
            },
            "colorscale": [
             [
              0,
              "#0d0887"
             ],
             [
              0.1111111111111111,
              "#46039f"
             ],
             [
              0.2222222222222222,
              "#7201a8"
             ],
             [
              0.3333333333333333,
              "#9c179e"
             ],
             [
              0.4444444444444444,
              "#bd3786"
             ],
             [
              0.5555555555555556,
              "#d8576b"
             ],
             [
              0.6666666666666666,
              "#ed7953"
             ],
             [
              0.7777777777777778,
              "#fb9f3a"
             ],
             [
              0.8888888888888888,
              "#fdca26"
             ],
             [
              1,
              "#f0f921"
             ]
            ],
            "type": "histogram2dcontour"
           }
          ],
          "mesh3d": [
           {
            "colorbar": {
             "outlinewidth": 0,
             "ticks": ""
            },
            "type": "mesh3d"
           }
          ],
          "parcoords": [
           {
            "line": {
             "colorbar": {
              "outlinewidth": 0,
              "ticks": ""
             }
            },
            "type": "parcoords"
           }
          ],
          "pie": [
           {
            "automargin": true,
            "type": "pie"
           }
          ],
          "scatter": [
           {
            "marker": {
             "colorbar": {
              "outlinewidth": 0,
              "ticks": ""
             }
            },
            "type": "scatter"
           }
          ],
          "scatter3d": [
           {
            "line": {
             "colorbar": {
              "outlinewidth": 0,
              "ticks": ""
             }
            },
            "marker": {
             "colorbar": {
              "outlinewidth": 0,
              "ticks": ""
             }
            },
            "type": "scatter3d"
           }
          ],
          "scattercarpet": [
           {
            "marker": {
             "colorbar": {
              "outlinewidth": 0,
              "ticks": ""
             }
            },
            "type": "scattercarpet"
           }
          ],
          "scattergeo": [
           {
            "marker": {
             "colorbar": {
              "outlinewidth": 0,
              "ticks": ""
             }
            },
            "type": "scattergeo"
           }
          ],
          "scattergl": [
           {
            "marker": {
             "colorbar": {
              "outlinewidth": 0,
              "ticks": ""
             }
            },
            "type": "scattergl"
           }
          ],
          "scattermapbox": [
           {
            "marker": {
             "colorbar": {
              "outlinewidth": 0,
              "ticks": ""
             }
            },
            "type": "scattermapbox"
           }
          ],
          "scatterpolar": [
           {
            "marker": {
             "colorbar": {
              "outlinewidth": 0,
              "ticks": ""
             }
            },
            "type": "scatterpolar"
           }
          ],
          "scatterpolargl": [
           {
            "marker": {
             "colorbar": {
              "outlinewidth": 0,
              "ticks": ""
             }
            },
            "type": "scatterpolargl"
           }
          ],
          "scatterternary": [
           {
            "marker": {
             "colorbar": {
              "outlinewidth": 0,
              "ticks": ""
             }
            },
            "type": "scatterternary"
           }
          ],
          "surface": [
           {
            "colorbar": {
             "outlinewidth": 0,
             "ticks": ""
            },
            "colorscale": [
             [
              0,
              "#0d0887"
             ],
             [
              0.1111111111111111,
              "#46039f"
             ],
             [
              0.2222222222222222,
              "#7201a8"
             ],
             [
              0.3333333333333333,
              "#9c179e"
             ],
             [
              0.4444444444444444,
              "#bd3786"
             ],
             [
              0.5555555555555556,
              "#d8576b"
             ],
             [
              0.6666666666666666,
              "#ed7953"
             ],
             [
              0.7777777777777778,
              "#fb9f3a"
             ],
             [
              0.8888888888888888,
              "#fdca26"
             ],
             [
              1,
              "#f0f921"
             ]
            ],
            "type": "surface"
           }
          ],
          "table": [
           {
            "cells": {
             "fill": {
              "color": "#EBF0F8"
             },
             "line": {
              "color": "white"
             }
            },
            "header": {
             "fill": {
              "color": "#C8D4E3"
             },
             "line": {
              "color": "white"
             }
            },
            "type": "table"
           }
          ]
         },
         "layout": {
          "annotationdefaults": {
           "arrowcolor": "#2a3f5f",
           "arrowhead": 0,
           "arrowwidth": 1
          },
          "coloraxis": {
           "colorbar": {
            "outlinewidth": 0,
            "ticks": ""
           }
          },
          "colorscale": {
           "diverging": [
            [
             0,
             "#8e0152"
            ],
            [
             0.1,
             "#c51b7d"
            ],
            [
             0.2,
             "#de77ae"
            ],
            [
             0.3,
             "#f1b6da"
            ],
            [
             0.4,
             "#fde0ef"
            ],
            [
             0.5,
             "#f7f7f7"
            ],
            [
             0.6,
             "#e6f5d0"
            ],
            [
             0.7,
             "#b8e186"
            ],
            [
             0.8,
             "#7fbc41"
            ],
            [
             0.9,
             "#4d9221"
            ],
            [
             1,
             "#276419"
            ]
           ],
           "sequential": [
            [
             0,
             "#0d0887"
            ],
            [
             0.1111111111111111,
             "#46039f"
            ],
            [
             0.2222222222222222,
             "#7201a8"
            ],
            [
             0.3333333333333333,
             "#9c179e"
            ],
            [
             0.4444444444444444,
             "#bd3786"
            ],
            [
             0.5555555555555556,
             "#d8576b"
            ],
            [
             0.6666666666666666,
             "#ed7953"
            ],
            [
             0.7777777777777778,
             "#fb9f3a"
            ],
            [
             0.8888888888888888,
             "#fdca26"
            ],
            [
             1,
             "#f0f921"
            ]
           ],
           "sequentialminus": [
            [
             0,
             "#0d0887"
            ],
            [
             0.1111111111111111,
             "#46039f"
            ],
            [
             0.2222222222222222,
             "#7201a8"
            ],
            [
             0.3333333333333333,
             "#9c179e"
            ],
            [
             0.4444444444444444,
             "#bd3786"
            ],
            [
             0.5555555555555556,
             "#d8576b"
            ],
            [
             0.6666666666666666,
             "#ed7953"
            ],
            [
             0.7777777777777778,
             "#fb9f3a"
            ],
            [
             0.8888888888888888,
             "#fdca26"
            ],
            [
             1,
             "#f0f921"
            ]
           ]
          },
          "colorway": [
           "#636efa",
           "#EF553B",
           "#00cc96",
           "#ab63fa",
           "#FFA15A",
           "#19d3f3",
           "#FF6692",
           "#B6E880",
           "#FF97FF",
           "#FECB52"
          ],
          "font": {
           "color": "#2a3f5f"
          },
          "geo": {
           "bgcolor": "white",
           "lakecolor": "white",
           "landcolor": "#E5ECF6",
           "showlakes": true,
           "showland": true,
           "subunitcolor": "white"
          },
          "hoverlabel": {
           "align": "left"
          },
          "hovermode": "closest",
          "mapbox": {
           "style": "light"
          },
          "paper_bgcolor": "white",
          "plot_bgcolor": "#E5ECF6",
          "polar": {
           "angularaxis": {
            "gridcolor": "white",
            "linecolor": "white",
            "ticks": ""
           },
           "bgcolor": "#E5ECF6",
           "radialaxis": {
            "gridcolor": "white",
            "linecolor": "white",
            "ticks": ""
           }
          },
          "scene": {
           "xaxis": {
            "backgroundcolor": "#E5ECF6",
            "gridcolor": "white",
            "gridwidth": 2,
            "linecolor": "white",
            "showbackground": true,
            "ticks": "",
            "zerolinecolor": "white"
           },
           "yaxis": {
            "backgroundcolor": "#E5ECF6",
            "gridcolor": "white",
            "gridwidth": 2,
            "linecolor": "white",
            "showbackground": true,
            "ticks": "",
            "zerolinecolor": "white"
           },
           "zaxis": {
            "backgroundcolor": "#E5ECF6",
            "gridcolor": "white",
            "gridwidth": 2,
            "linecolor": "white",
            "showbackground": true,
            "ticks": "",
            "zerolinecolor": "white"
           }
          },
          "shapedefaults": {
           "line": {
            "color": "#2a3f5f"
           }
          },
          "ternary": {
           "aaxis": {
            "gridcolor": "white",
            "linecolor": "white",
            "ticks": ""
           },
           "baxis": {
            "gridcolor": "white",
            "linecolor": "white",
            "ticks": ""
           },
           "bgcolor": "#E5ECF6",
           "caxis": {
            "gridcolor": "white",
            "linecolor": "white",
            "ticks": ""
           }
          },
          "title": {
           "x": 0.05
          },
          "xaxis": {
           "automargin": true,
           "gridcolor": "white",
           "linecolor": "white",
           "ticks": "",
           "title": {
            "standoff": 15
           },
           "zerolinecolor": "white",
           "zerolinewidth": 2
          },
          "yaxis": {
           "automargin": true,
           "gridcolor": "white",
           "linecolor": "white",
           "ticks": "",
           "title": {
            "standoff": 15
           },
           "zerolinecolor": "white",
           "zerolinewidth": 2
          }
         }
        },
        "title": {
         "font": {
          "color": "#4D5663"
         }
        },
        "xaxis": {
         "gridcolor": "#E1E5ED",
         "showgrid": true,
         "tickfont": {
          "color": "#4D5663"
         },
         "title": {
          "font": {
           "color": "#4D5663"
          },
          "text": ""
         },
         "zerolinecolor": "#E1E5ED"
        },
        "yaxis": {
         "gridcolor": "#E1E5ED",
         "showgrid": true,
         "tickfont": {
          "color": "#4D5663"
         },
         "title": {
          "font": {
           "color": "#4D5663"
          },
          "text": ""
         },
         "zerolinecolor": "#E1E5ED"
        }
       }
      },
      "text/html": [
       "<div>\n",
       "        \n",
       "        \n",
       "            <div id=\"02e6920c-4c90-42db-842f-43f545409ea5\" class=\"plotly-graph-div\" style=\"height:525px; width:100%;\"></div>\n",
       "            <script type=\"text/javascript\">\n",
       "                require([\"plotly\"], function(Plotly) {\n",
       "                    window.PLOTLYENV=window.PLOTLYENV || {};\n",
       "                    window.PLOTLYENV.BASE_URL='https://plot.ly';\n",
       "                    \n",
       "                if (document.getElementById(\"02e6920c-4c90-42db-842f-43f545409ea5\")) {\n",
       "                    Plotly.newPlot(\n",
       "                        '02e6920c-4c90-42db-842f-43f545409ea5',\n",
       "                        [{\"marker\": {\"color\": \"rgba(255, 153, 51, 0.6)\", \"line\": {\"color\": \"rgba(255, 153, 51, 1.0)\", \"width\": 1}}, \"name\": \"None\", \"orientation\": \"v\", \"text\": \"\", \"type\": \"bar\", \"x\": [\"A\", \"B\", \"C\", \"D\"], \"y\": [100, 100, 100, 100]}],\n",
       "                        {\"legend\": {\"bgcolor\": \"#F5F6F9\", \"font\": {\"color\": \"#4D5663\"}}, \"paper_bgcolor\": \"#F5F6F9\", \"plot_bgcolor\": \"#F5F6F9\", \"template\": {\"data\": {\"bar\": [{\"error_x\": {\"color\": \"#2a3f5f\"}, \"error_y\": {\"color\": \"#2a3f5f\"}, \"marker\": {\"line\": {\"color\": \"#E5ECF6\", \"width\": 0.5}}, \"type\": \"bar\"}], \"barpolar\": [{\"marker\": {\"line\": {\"color\": \"#E5ECF6\", \"width\": 0.5}}, \"type\": \"barpolar\"}], \"carpet\": [{\"aaxis\": {\"endlinecolor\": \"#2a3f5f\", \"gridcolor\": \"white\", \"linecolor\": \"white\", \"minorgridcolor\": \"white\", \"startlinecolor\": \"#2a3f5f\"}, \"baxis\": {\"endlinecolor\": \"#2a3f5f\", \"gridcolor\": \"white\", \"linecolor\": \"white\", \"minorgridcolor\": \"white\", \"startlinecolor\": \"#2a3f5f\"}, \"type\": \"carpet\"}], \"choropleth\": [{\"colorbar\": {\"outlinewidth\": 0, \"ticks\": \"\"}, \"type\": \"choropleth\"}], \"contour\": [{\"colorbar\": {\"outlinewidth\": 0, \"ticks\": \"\"}, \"colorscale\": [[0.0, \"#0d0887\"], [0.1111111111111111, \"#46039f\"], [0.2222222222222222, \"#7201a8\"], [0.3333333333333333, \"#9c179e\"], [0.4444444444444444, \"#bd3786\"], [0.5555555555555556, \"#d8576b\"], [0.6666666666666666, \"#ed7953\"], [0.7777777777777778, \"#fb9f3a\"], [0.8888888888888888, \"#fdca26\"], [1.0, \"#f0f921\"]], \"type\": \"contour\"}], \"contourcarpet\": [{\"colorbar\": {\"outlinewidth\": 0, \"ticks\": \"\"}, \"type\": \"contourcarpet\"}], \"heatmap\": [{\"colorbar\": {\"outlinewidth\": 0, \"ticks\": \"\"}, \"colorscale\": [[0.0, \"#0d0887\"], [0.1111111111111111, \"#46039f\"], [0.2222222222222222, \"#7201a8\"], [0.3333333333333333, \"#9c179e\"], [0.4444444444444444, \"#bd3786\"], [0.5555555555555556, \"#d8576b\"], [0.6666666666666666, \"#ed7953\"], [0.7777777777777778, \"#fb9f3a\"], [0.8888888888888888, \"#fdca26\"], [1.0, \"#f0f921\"]], \"type\": \"heatmap\"}], \"heatmapgl\": [{\"colorbar\": {\"outlinewidth\": 0, \"ticks\": \"\"}, \"colorscale\": [[0.0, \"#0d0887\"], [0.1111111111111111, \"#46039f\"], [0.2222222222222222, \"#7201a8\"], [0.3333333333333333, \"#9c179e\"], [0.4444444444444444, \"#bd3786\"], [0.5555555555555556, \"#d8576b\"], [0.6666666666666666, \"#ed7953\"], [0.7777777777777778, \"#fb9f3a\"], [0.8888888888888888, \"#fdca26\"], [1.0, \"#f0f921\"]], \"type\": \"heatmapgl\"}], \"histogram\": [{\"marker\": {\"colorbar\": {\"outlinewidth\": 0, \"ticks\": \"\"}}, \"type\": \"histogram\"}], \"histogram2d\": [{\"colorbar\": {\"outlinewidth\": 0, \"ticks\": \"\"}, \"colorscale\": [[0.0, \"#0d0887\"], [0.1111111111111111, \"#46039f\"], [0.2222222222222222, \"#7201a8\"], [0.3333333333333333, \"#9c179e\"], [0.4444444444444444, \"#bd3786\"], [0.5555555555555556, \"#d8576b\"], [0.6666666666666666, \"#ed7953\"], [0.7777777777777778, \"#fb9f3a\"], [0.8888888888888888, \"#fdca26\"], [1.0, \"#f0f921\"]], \"type\": \"histogram2d\"}], \"histogram2dcontour\": [{\"colorbar\": {\"outlinewidth\": 0, \"ticks\": \"\"}, \"colorscale\": [[0.0, \"#0d0887\"], [0.1111111111111111, \"#46039f\"], [0.2222222222222222, \"#7201a8\"], [0.3333333333333333, \"#9c179e\"], [0.4444444444444444, \"#bd3786\"], [0.5555555555555556, \"#d8576b\"], [0.6666666666666666, \"#ed7953\"], [0.7777777777777778, \"#fb9f3a\"], [0.8888888888888888, \"#fdca26\"], [1.0, \"#f0f921\"]], \"type\": \"histogram2dcontour\"}], \"mesh3d\": [{\"colorbar\": {\"outlinewidth\": 0, \"ticks\": \"\"}, \"type\": \"mesh3d\"}], \"parcoords\": [{\"line\": {\"colorbar\": {\"outlinewidth\": 0, \"ticks\": \"\"}}, \"type\": \"parcoords\"}], \"pie\": [{\"automargin\": true, \"type\": \"pie\"}], \"scatter\": [{\"marker\": {\"colorbar\": {\"outlinewidth\": 0, \"ticks\": \"\"}}, \"type\": \"scatter\"}], \"scatter3d\": [{\"line\": {\"colorbar\": {\"outlinewidth\": 0, \"ticks\": \"\"}}, \"marker\": {\"colorbar\": {\"outlinewidth\": 0, \"ticks\": \"\"}}, \"type\": \"scatter3d\"}], \"scattercarpet\": [{\"marker\": {\"colorbar\": {\"outlinewidth\": 0, \"ticks\": \"\"}}, \"type\": \"scattercarpet\"}], \"scattergeo\": [{\"marker\": {\"colorbar\": {\"outlinewidth\": 0, \"ticks\": \"\"}}, \"type\": \"scattergeo\"}], \"scattergl\": [{\"marker\": {\"colorbar\": {\"outlinewidth\": 0, \"ticks\": \"\"}}, \"type\": \"scattergl\"}], \"scattermapbox\": [{\"marker\": {\"colorbar\": {\"outlinewidth\": 0, \"ticks\": \"\"}}, \"type\": \"scattermapbox\"}], \"scatterpolar\": [{\"marker\": {\"colorbar\": {\"outlinewidth\": 0, \"ticks\": \"\"}}, \"type\": \"scatterpolar\"}], \"scatterpolargl\": [{\"marker\": {\"colorbar\": {\"outlinewidth\": 0, \"ticks\": \"\"}}, \"type\": \"scatterpolargl\"}], \"scatterternary\": [{\"marker\": {\"colorbar\": {\"outlinewidth\": 0, \"ticks\": \"\"}}, \"type\": \"scatterternary\"}], \"surface\": [{\"colorbar\": {\"outlinewidth\": 0, \"ticks\": \"\"}, \"colorscale\": [[0.0, \"#0d0887\"], [0.1111111111111111, \"#46039f\"], [0.2222222222222222, \"#7201a8\"], [0.3333333333333333, \"#9c179e\"], [0.4444444444444444, \"#bd3786\"], [0.5555555555555556, \"#d8576b\"], [0.6666666666666666, \"#ed7953\"], [0.7777777777777778, \"#fb9f3a\"], [0.8888888888888888, \"#fdca26\"], [1.0, \"#f0f921\"]], \"type\": \"surface\"}], \"table\": [{\"cells\": {\"fill\": {\"color\": \"#EBF0F8\"}, \"line\": {\"color\": \"white\"}}, \"header\": {\"fill\": {\"color\": \"#C8D4E3\"}, \"line\": {\"color\": \"white\"}}, \"type\": \"table\"}]}, \"layout\": {\"annotationdefaults\": {\"arrowcolor\": \"#2a3f5f\", \"arrowhead\": 0, \"arrowwidth\": 1}, \"coloraxis\": {\"colorbar\": {\"outlinewidth\": 0, \"ticks\": \"\"}}, \"colorscale\": {\"diverging\": [[0, \"#8e0152\"], [0.1, \"#c51b7d\"], [0.2, \"#de77ae\"], [0.3, \"#f1b6da\"], [0.4, \"#fde0ef\"], [0.5, \"#f7f7f7\"], [0.6, \"#e6f5d0\"], [0.7, \"#b8e186\"], [0.8, \"#7fbc41\"], [0.9, \"#4d9221\"], [1, \"#276419\"]], \"sequential\": [[0.0, \"#0d0887\"], [0.1111111111111111, \"#46039f\"], [0.2222222222222222, \"#7201a8\"], [0.3333333333333333, \"#9c179e\"], [0.4444444444444444, \"#bd3786\"], [0.5555555555555556, \"#d8576b\"], [0.6666666666666666, \"#ed7953\"], [0.7777777777777778, \"#fb9f3a\"], [0.8888888888888888, \"#fdca26\"], [1.0, \"#f0f921\"]], \"sequentialminus\": [[0.0, \"#0d0887\"], [0.1111111111111111, \"#46039f\"], [0.2222222222222222, \"#7201a8\"], [0.3333333333333333, \"#9c179e\"], [0.4444444444444444, \"#bd3786\"], [0.5555555555555556, \"#d8576b\"], [0.6666666666666666, \"#ed7953\"], [0.7777777777777778, \"#fb9f3a\"], [0.8888888888888888, \"#fdca26\"], [1.0, \"#f0f921\"]]}, \"colorway\": [\"#636efa\", \"#EF553B\", \"#00cc96\", \"#ab63fa\", \"#FFA15A\", \"#19d3f3\", \"#FF6692\", \"#B6E880\", \"#FF97FF\", \"#FECB52\"], \"font\": {\"color\": \"#2a3f5f\"}, \"geo\": {\"bgcolor\": \"white\", \"lakecolor\": \"white\", \"landcolor\": \"#E5ECF6\", \"showlakes\": true, \"showland\": true, \"subunitcolor\": \"white\"}, \"hoverlabel\": {\"align\": \"left\"}, \"hovermode\": \"closest\", \"mapbox\": {\"style\": \"light\"}, \"paper_bgcolor\": \"white\", \"plot_bgcolor\": \"#E5ECF6\", \"polar\": {\"angularaxis\": {\"gridcolor\": \"white\", \"linecolor\": \"white\", \"ticks\": \"\"}, \"bgcolor\": \"#E5ECF6\", \"radialaxis\": {\"gridcolor\": \"white\", \"linecolor\": \"white\", \"ticks\": \"\"}}, \"scene\": {\"xaxis\": {\"backgroundcolor\": \"#E5ECF6\", \"gridcolor\": \"white\", \"gridwidth\": 2, \"linecolor\": \"white\", \"showbackground\": true, \"ticks\": \"\", \"zerolinecolor\": \"white\"}, \"yaxis\": {\"backgroundcolor\": \"#E5ECF6\", \"gridcolor\": \"white\", \"gridwidth\": 2, \"linecolor\": \"white\", \"showbackground\": true, \"ticks\": \"\", \"zerolinecolor\": \"white\"}, \"zaxis\": {\"backgroundcolor\": \"#E5ECF6\", \"gridcolor\": \"white\", \"gridwidth\": 2, \"linecolor\": \"white\", \"showbackground\": true, \"ticks\": \"\", \"zerolinecolor\": \"white\"}}, \"shapedefaults\": {\"line\": {\"color\": \"#2a3f5f\"}}, \"ternary\": {\"aaxis\": {\"gridcolor\": \"white\", \"linecolor\": \"white\", \"ticks\": \"\"}, \"baxis\": {\"gridcolor\": \"white\", \"linecolor\": \"white\", \"ticks\": \"\"}, \"bgcolor\": \"#E5ECF6\", \"caxis\": {\"gridcolor\": \"white\", \"linecolor\": \"white\", \"ticks\": \"\"}}, \"title\": {\"x\": 0.05}, \"xaxis\": {\"automargin\": true, \"gridcolor\": \"white\", \"linecolor\": \"white\", \"ticks\": \"\", \"title\": {\"standoff\": 15}, \"zerolinecolor\": \"white\", \"zerolinewidth\": 2}, \"yaxis\": {\"automargin\": true, \"gridcolor\": \"white\", \"linecolor\": \"white\", \"ticks\": \"\", \"title\": {\"standoff\": 15}, \"zerolinecolor\": \"white\", \"zerolinewidth\": 2}}}, \"title\": {\"font\": {\"color\": \"#4D5663\"}}, \"xaxis\": {\"gridcolor\": \"#E1E5ED\", \"showgrid\": true, \"tickfont\": {\"color\": \"#4D5663\"}, \"title\": {\"font\": {\"color\": \"#4D5663\"}, \"text\": \"\"}, \"zerolinecolor\": \"#E1E5ED\"}, \"yaxis\": {\"gridcolor\": \"#E1E5ED\", \"showgrid\": true, \"tickfont\": {\"color\": \"#4D5663\"}, \"title\": {\"font\": {\"color\": \"#4D5663\"}, \"text\": \"\"}, \"zerolinecolor\": \"#E1E5ED\"}},\n",
       "                        {\"showLink\": true, \"linkText\": \"Export to plot.ly\", \"plotlyServerURL\": \"https://plot.ly\", \"responsive\": true}\n",
       "                    ).then(function(){\n",
       "                            \n",
       "var gd = document.getElementById('02e6920c-4c90-42db-842f-43f545409ea5');\n",
       "var x = new MutationObserver(function (mutations, observer) {{\n",
       "        var display = window.getComputedStyle(gd).display;\n",
       "        if (!display || display === 'none') {{\n",
       "            console.log([gd, 'removed!']);\n",
       "            Plotly.purge(gd);\n",
       "            observer.disconnect();\n",
       "        }}\n",
       "}});\n",
       "\n",
       "// Listen for the removal of the full notebook cells\n",
       "var notebookContainer = gd.closest('#notebook-container');\n",
       "if (notebookContainer) {{\n",
       "    x.observe(notebookContainer, {childList: true});\n",
       "}}\n",
       "\n",
       "// Listen for the clearing of the current output cell\n",
       "var outputEl = gd.closest('.output');\n",
       "if (outputEl) {{\n",
       "    x.observe(outputEl, {childList: true});\n",
       "}}\n",
       "\n",
       "                        })\n",
       "                };\n",
       "                });\n",
       "            </script>\n",
       "        </div>"
      ]
     },
     "metadata": {},
     "output_type": "display_data"
    },
    {
     "data": {
      "application/vnd.plotly.v1+json": {
       "config": {
        "linkText": "Export to plot.ly",
        "plotlyServerURL": "https://plot.ly",
        "showLink": true
       },
       "data": [
        {
         "marker": {
          "color": "rgba(255, 153, 51, 0.6)",
          "line": {
           "color": "rgba(255, 153, 51, 1.0)",
           "width": 1
          }
         },
         "name": "None",
         "orientation": "v",
         "text": "",
         "type": "bar",
         "x": [
          "A",
          "B",
          "C",
          "D"
         ],
         "y": [
          -10.722132515498723,
          -3.9689119700087807,
          6.049203819548145,
          13.349037285659055
         ]
        }
       ],
       "layout": {
        "legend": {
         "bgcolor": "#F5F6F9",
         "font": {
          "color": "#4D5663"
         }
        },
        "paper_bgcolor": "#F5F6F9",
        "plot_bgcolor": "#F5F6F9",
        "template": {
         "data": {
          "bar": [
           {
            "error_x": {
             "color": "#2a3f5f"
            },
            "error_y": {
             "color": "#2a3f5f"
            },
            "marker": {
             "line": {
              "color": "#E5ECF6",
              "width": 0.5
             }
            },
            "type": "bar"
           }
          ],
          "barpolar": [
           {
            "marker": {
             "line": {
              "color": "#E5ECF6",
              "width": 0.5
             }
            },
            "type": "barpolar"
           }
          ],
          "carpet": [
           {
            "aaxis": {
             "endlinecolor": "#2a3f5f",
             "gridcolor": "white",
             "linecolor": "white",
             "minorgridcolor": "white",
             "startlinecolor": "#2a3f5f"
            },
            "baxis": {
             "endlinecolor": "#2a3f5f",
             "gridcolor": "white",
             "linecolor": "white",
             "minorgridcolor": "white",
             "startlinecolor": "#2a3f5f"
            },
            "type": "carpet"
           }
          ],
          "choropleth": [
           {
            "colorbar": {
             "outlinewidth": 0,
             "ticks": ""
            },
            "type": "choropleth"
           }
          ],
          "contour": [
           {
            "colorbar": {
             "outlinewidth": 0,
             "ticks": ""
            },
            "colorscale": [
             [
              0,
              "#0d0887"
             ],
             [
              0.1111111111111111,
              "#46039f"
             ],
             [
              0.2222222222222222,
              "#7201a8"
             ],
             [
              0.3333333333333333,
              "#9c179e"
             ],
             [
              0.4444444444444444,
              "#bd3786"
             ],
             [
              0.5555555555555556,
              "#d8576b"
             ],
             [
              0.6666666666666666,
              "#ed7953"
             ],
             [
              0.7777777777777778,
              "#fb9f3a"
             ],
             [
              0.8888888888888888,
              "#fdca26"
             ],
             [
              1,
              "#f0f921"
             ]
            ],
            "type": "contour"
           }
          ],
          "contourcarpet": [
           {
            "colorbar": {
             "outlinewidth": 0,
             "ticks": ""
            },
            "type": "contourcarpet"
           }
          ],
          "heatmap": [
           {
            "colorbar": {
             "outlinewidth": 0,
             "ticks": ""
            },
            "colorscale": [
             [
              0,
              "#0d0887"
             ],
             [
              0.1111111111111111,
              "#46039f"
             ],
             [
              0.2222222222222222,
              "#7201a8"
             ],
             [
              0.3333333333333333,
              "#9c179e"
             ],
             [
              0.4444444444444444,
              "#bd3786"
             ],
             [
              0.5555555555555556,
              "#d8576b"
             ],
             [
              0.6666666666666666,
              "#ed7953"
             ],
             [
              0.7777777777777778,
              "#fb9f3a"
             ],
             [
              0.8888888888888888,
              "#fdca26"
             ],
             [
              1,
              "#f0f921"
             ]
            ],
            "type": "heatmap"
           }
          ],
          "heatmapgl": [
           {
            "colorbar": {
             "outlinewidth": 0,
             "ticks": ""
            },
            "colorscale": [
             [
              0,
              "#0d0887"
             ],
             [
              0.1111111111111111,
              "#46039f"
             ],
             [
              0.2222222222222222,
              "#7201a8"
             ],
             [
              0.3333333333333333,
              "#9c179e"
             ],
             [
              0.4444444444444444,
              "#bd3786"
             ],
             [
              0.5555555555555556,
              "#d8576b"
             ],
             [
              0.6666666666666666,
              "#ed7953"
             ],
             [
              0.7777777777777778,
              "#fb9f3a"
             ],
             [
              0.8888888888888888,
              "#fdca26"
             ],
             [
              1,
              "#f0f921"
             ]
            ],
            "type": "heatmapgl"
           }
          ],
          "histogram": [
           {
            "marker": {
             "colorbar": {
              "outlinewidth": 0,
              "ticks": ""
             }
            },
            "type": "histogram"
           }
          ],
          "histogram2d": [
           {
            "colorbar": {
             "outlinewidth": 0,
             "ticks": ""
            },
            "colorscale": [
             [
              0,
              "#0d0887"
             ],
             [
              0.1111111111111111,
              "#46039f"
             ],
             [
              0.2222222222222222,
              "#7201a8"
             ],
             [
              0.3333333333333333,
              "#9c179e"
             ],
             [
              0.4444444444444444,
              "#bd3786"
             ],
             [
              0.5555555555555556,
              "#d8576b"
             ],
             [
              0.6666666666666666,
              "#ed7953"
             ],
             [
              0.7777777777777778,
              "#fb9f3a"
             ],
             [
              0.8888888888888888,
              "#fdca26"
             ],
             [
              1,
              "#f0f921"
             ]
            ],
            "type": "histogram2d"
           }
          ],
          "histogram2dcontour": [
           {
            "colorbar": {
             "outlinewidth": 0,
             "ticks": ""
            },
            "colorscale": [
             [
              0,
              "#0d0887"
             ],
             [
              0.1111111111111111,
              "#46039f"
             ],
             [
              0.2222222222222222,
              "#7201a8"
             ],
             [
              0.3333333333333333,
              "#9c179e"
             ],
             [
              0.4444444444444444,
              "#bd3786"
             ],
             [
              0.5555555555555556,
              "#d8576b"
             ],
             [
              0.6666666666666666,
              "#ed7953"
             ],
             [
              0.7777777777777778,
              "#fb9f3a"
             ],
             [
              0.8888888888888888,
              "#fdca26"
             ],
             [
              1,
              "#f0f921"
             ]
            ],
            "type": "histogram2dcontour"
           }
          ],
          "mesh3d": [
           {
            "colorbar": {
             "outlinewidth": 0,
             "ticks": ""
            },
            "type": "mesh3d"
           }
          ],
          "parcoords": [
           {
            "line": {
             "colorbar": {
              "outlinewidth": 0,
              "ticks": ""
             }
            },
            "type": "parcoords"
           }
          ],
          "pie": [
           {
            "automargin": true,
            "type": "pie"
           }
          ],
          "scatter": [
           {
            "marker": {
             "colorbar": {
              "outlinewidth": 0,
              "ticks": ""
             }
            },
            "type": "scatter"
           }
          ],
          "scatter3d": [
           {
            "line": {
             "colorbar": {
              "outlinewidth": 0,
              "ticks": ""
             }
            },
            "marker": {
             "colorbar": {
              "outlinewidth": 0,
              "ticks": ""
             }
            },
            "type": "scatter3d"
           }
          ],
          "scattercarpet": [
           {
            "marker": {
             "colorbar": {
              "outlinewidth": 0,
              "ticks": ""
             }
            },
            "type": "scattercarpet"
           }
          ],
          "scattergeo": [
           {
            "marker": {
             "colorbar": {
              "outlinewidth": 0,
              "ticks": ""
             }
            },
            "type": "scattergeo"
           }
          ],
          "scattergl": [
           {
            "marker": {
             "colorbar": {
              "outlinewidth": 0,
              "ticks": ""
             }
            },
            "type": "scattergl"
           }
          ],
          "scattermapbox": [
           {
            "marker": {
             "colorbar": {
              "outlinewidth": 0,
              "ticks": ""
             }
            },
            "type": "scattermapbox"
           }
          ],
          "scatterpolar": [
           {
            "marker": {
             "colorbar": {
              "outlinewidth": 0,
              "ticks": ""
             }
            },
            "type": "scatterpolar"
           }
          ],
          "scatterpolargl": [
           {
            "marker": {
             "colorbar": {
              "outlinewidth": 0,
              "ticks": ""
             }
            },
            "type": "scatterpolargl"
           }
          ],
          "scatterternary": [
           {
            "marker": {
             "colorbar": {
              "outlinewidth": 0,
              "ticks": ""
             }
            },
            "type": "scatterternary"
           }
          ],
          "surface": [
           {
            "colorbar": {
             "outlinewidth": 0,
             "ticks": ""
            },
            "colorscale": [
             [
              0,
              "#0d0887"
             ],
             [
              0.1111111111111111,
              "#46039f"
             ],
             [
              0.2222222222222222,
              "#7201a8"
             ],
             [
              0.3333333333333333,
              "#9c179e"
             ],
             [
              0.4444444444444444,
              "#bd3786"
             ],
             [
              0.5555555555555556,
              "#d8576b"
             ],
             [
              0.6666666666666666,
              "#ed7953"
             ],
             [
              0.7777777777777778,
              "#fb9f3a"
             ],
             [
              0.8888888888888888,
              "#fdca26"
             ],
             [
              1,
              "#f0f921"
             ]
            ],
            "type": "surface"
           }
          ],
          "table": [
           {
            "cells": {
             "fill": {
              "color": "#EBF0F8"
             },
             "line": {
              "color": "white"
             }
            },
            "header": {
             "fill": {
              "color": "#C8D4E3"
             },
             "line": {
              "color": "white"
             }
            },
            "type": "table"
           }
          ]
         },
         "layout": {
          "annotationdefaults": {
           "arrowcolor": "#2a3f5f",
           "arrowhead": 0,
           "arrowwidth": 1
          },
          "coloraxis": {
           "colorbar": {
            "outlinewidth": 0,
            "ticks": ""
           }
          },
          "colorscale": {
           "diverging": [
            [
             0,
             "#8e0152"
            ],
            [
             0.1,
             "#c51b7d"
            ],
            [
             0.2,
             "#de77ae"
            ],
            [
             0.3,
             "#f1b6da"
            ],
            [
             0.4,
             "#fde0ef"
            ],
            [
             0.5,
             "#f7f7f7"
            ],
            [
             0.6,
             "#e6f5d0"
            ],
            [
             0.7,
             "#b8e186"
            ],
            [
             0.8,
             "#7fbc41"
            ],
            [
             0.9,
             "#4d9221"
            ],
            [
             1,
             "#276419"
            ]
           ],
           "sequential": [
            [
             0,
             "#0d0887"
            ],
            [
             0.1111111111111111,
             "#46039f"
            ],
            [
             0.2222222222222222,
             "#7201a8"
            ],
            [
             0.3333333333333333,
             "#9c179e"
            ],
            [
             0.4444444444444444,
             "#bd3786"
            ],
            [
             0.5555555555555556,
             "#d8576b"
            ],
            [
             0.6666666666666666,
             "#ed7953"
            ],
            [
             0.7777777777777778,
             "#fb9f3a"
            ],
            [
             0.8888888888888888,
             "#fdca26"
            ],
            [
             1,
             "#f0f921"
            ]
           ],
           "sequentialminus": [
            [
             0,
             "#0d0887"
            ],
            [
             0.1111111111111111,
             "#46039f"
            ],
            [
             0.2222222222222222,
             "#7201a8"
            ],
            [
             0.3333333333333333,
             "#9c179e"
            ],
            [
             0.4444444444444444,
             "#bd3786"
            ],
            [
             0.5555555555555556,
             "#d8576b"
            ],
            [
             0.6666666666666666,
             "#ed7953"
            ],
            [
             0.7777777777777778,
             "#fb9f3a"
            ],
            [
             0.8888888888888888,
             "#fdca26"
            ],
            [
             1,
             "#f0f921"
            ]
           ]
          },
          "colorway": [
           "#636efa",
           "#EF553B",
           "#00cc96",
           "#ab63fa",
           "#FFA15A",
           "#19d3f3",
           "#FF6692",
           "#B6E880",
           "#FF97FF",
           "#FECB52"
          ],
          "font": {
           "color": "#2a3f5f"
          },
          "geo": {
           "bgcolor": "white",
           "lakecolor": "white",
           "landcolor": "#E5ECF6",
           "showlakes": true,
           "showland": true,
           "subunitcolor": "white"
          },
          "hoverlabel": {
           "align": "left"
          },
          "hovermode": "closest",
          "mapbox": {
           "style": "light"
          },
          "paper_bgcolor": "white",
          "plot_bgcolor": "#E5ECF6",
          "polar": {
           "angularaxis": {
            "gridcolor": "white",
            "linecolor": "white",
            "ticks": ""
           },
           "bgcolor": "#E5ECF6",
           "radialaxis": {
            "gridcolor": "white",
            "linecolor": "white",
            "ticks": ""
           }
          },
          "scene": {
           "xaxis": {
            "backgroundcolor": "#E5ECF6",
            "gridcolor": "white",
            "gridwidth": 2,
            "linecolor": "white",
            "showbackground": true,
            "ticks": "",
            "zerolinecolor": "white"
           },
           "yaxis": {
            "backgroundcolor": "#E5ECF6",
            "gridcolor": "white",
            "gridwidth": 2,
            "linecolor": "white",
            "showbackground": true,
            "ticks": "",
            "zerolinecolor": "white"
           },
           "zaxis": {
            "backgroundcolor": "#E5ECF6",
            "gridcolor": "white",
            "gridwidth": 2,
            "linecolor": "white",
            "showbackground": true,
            "ticks": "",
            "zerolinecolor": "white"
           }
          },
          "shapedefaults": {
           "line": {
            "color": "#2a3f5f"
           }
          },
          "ternary": {
           "aaxis": {
            "gridcolor": "white",
            "linecolor": "white",
            "ticks": ""
           },
           "baxis": {
            "gridcolor": "white",
            "linecolor": "white",
            "ticks": ""
           },
           "bgcolor": "#E5ECF6",
           "caxis": {
            "gridcolor": "white",
            "linecolor": "white",
            "ticks": ""
           }
          },
          "title": {
           "x": 0.05
          },
          "xaxis": {
           "automargin": true,
           "gridcolor": "white",
           "linecolor": "white",
           "ticks": "",
           "title": {
            "standoff": 15
           },
           "zerolinecolor": "white",
           "zerolinewidth": 2
          },
          "yaxis": {
           "automargin": true,
           "gridcolor": "white",
           "linecolor": "white",
           "ticks": "",
           "title": {
            "standoff": 15
           },
           "zerolinecolor": "white",
           "zerolinewidth": 2
          }
         }
        },
        "title": {
         "font": {
          "color": "#4D5663"
         }
        },
        "xaxis": {
         "gridcolor": "#E1E5ED",
         "showgrid": true,
         "tickfont": {
          "color": "#4D5663"
         },
         "title": {
          "font": {
           "color": "#4D5663"
          },
          "text": ""
         },
         "zerolinecolor": "#E1E5ED"
        },
        "yaxis": {
         "gridcolor": "#E1E5ED",
         "showgrid": true,
         "tickfont": {
          "color": "#4D5663"
         },
         "title": {
          "font": {
           "color": "#4D5663"
          },
          "text": ""
         },
         "zerolinecolor": "#E1E5ED"
        }
       }
      },
      "text/html": [
       "<div>\n",
       "        \n",
       "        \n",
       "            <div id=\"6b44d58b-cc17-478f-af43-dd01dd7f655b\" class=\"plotly-graph-div\" style=\"height:525px; width:100%;\"></div>\n",
       "            <script type=\"text/javascript\">\n",
       "                require([\"plotly\"], function(Plotly) {\n",
       "                    window.PLOTLYENV=window.PLOTLYENV || {};\n",
       "                    window.PLOTLYENV.BASE_URL='https://plot.ly';\n",
       "                    \n",
       "                if (document.getElementById(\"6b44d58b-cc17-478f-af43-dd01dd7f655b\")) {\n",
       "                    Plotly.newPlot(\n",
       "                        '6b44d58b-cc17-478f-af43-dd01dd7f655b',\n",
       "                        [{\"marker\": {\"color\": \"rgba(255, 153, 51, 0.6)\", \"line\": {\"color\": \"rgba(255, 153, 51, 1.0)\", \"width\": 1}}, \"name\": \"None\", \"orientation\": \"v\", \"text\": \"\", \"type\": \"bar\", \"x\": [\"A\", \"B\", \"C\", \"D\"], \"y\": [-10.722132515498723, -3.9689119700087807, 6.049203819548145, 13.349037285659055]}],\n",
       "                        {\"legend\": {\"bgcolor\": \"#F5F6F9\", \"font\": {\"color\": \"#4D5663\"}}, \"paper_bgcolor\": \"#F5F6F9\", \"plot_bgcolor\": \"#F5F6F9\", \"template\": {\"data\": {\"bar\": [{\"error_x\": {\"color\": \"#2a3f5f\"}, \"error_y\": {\"color\": \"#2a3f5f\"}, \"marker\": {\"line\": {\"color\": \"#E5ECF6\", \"width\": 0.5}}, \"type\": \"bar\"}], \"barpolar\": [{\"marker\": {\"line\": {\"color\": \"#E5ECF6\", \"width\": 0.5}}, \"type\": \"barpolar\"}], \"carpet\": [{\"aaxis\": {\"endlinecolor\": \"#2a3f5f\", \"gridcolor\": \"white\", \"linecolor\": \"white\", \"minorgridcolor\": \"white\", \"startlinecolor\": \"#2a3f5f\"}, \"baxis\": {\"endlinecolor\": \"#2a3f5f\", \"gridcolor\": \"white\", \"linecolor\": \"white\", \"minorgridcolor\": \"white\", \"startlinecolor\": \"#2a3f5f\"}, \"type\": \"carpet\"}], \"choropleth\": [{\"colorbar\": {\"outlinewidth\": 0, \"ticks\": \"\"}, \"type\": \"choropleth\"}], \"contour\": [{\"colorbar\": {\"outlinewidth\": 0, \"ticks\": \"\"}, \"colorscale\": [[0.0, \"#0d0887\"], [0.1111111111111111, \"#46039f\"], [0.2222222222222222, \"#7201a8\"], [0.3333333333333333, \"#9c179e\"], [0.4444444444444444, \"#bd3786\"], [0.5555555555555556, \"#d8576b\"], [0.6666666666666666, \"#ed7953\"], [0.7777777777777778, \"#fb9f3a\"], [0.8888888888888888, \"#fdca26\"], [1.0, \"#f0f921\"]], \"type\": \"contour\"}], \"contourcarpet\": [{\"colorbar\": {\"outlinewidth\": 0, \"ticks\": \"\"}, \"type\": \"contourcarpet\"}], \"heatmap\": [{\"colorbar\": {\"outlinewidth\": 0, \"ticks\": \"\"}, \"colorscale\": [[0.0, \"#0d0887\"], [0.1111111111111111, \"#46039f\"], [0.2222222222222222, \"#7201a8\"], [0.3333333333333333, \"#9c179e\"], [0.4444444444444444, \"#bd3786\"], [0.5555555555555556, \"#d8576b\"], [0.6666666666666666, \"#ed7953\"], [0.7777777777777778, \"#fb9f3a\"], [0.8888888888888888, \"#fdca26\"], [1.0, \"#f0f921\"]], \"type\": \"heatmap\"}], \"heatmapgl\": [{\"colorbar\": {\"outlinewidth\": 0, \"ticks\": \"\"}, \"colorscale\": [[0.0, \"#0d0887\"], [0.1111111111111111, \"#46039f\"], [0.2222222222222222, \"#7201a8\"], [0.3333333333333333, \"#9c179e\"], [0.4444444444444444, \"#bd3786\"], [0.5555555555555556, \"#d8576b\"], [0.6666666666666666, \"#ed7953\"], [0.7777777777777778, \"#fb9f3a\"], [0.8888888888888888, \"#fdca26\"], [1.0, \"#f0f921\"]], \"type\": \"heatmapgl\"}], \"histogram\": [{\"marker\": {\"colorbar\": {\"outlinewidth\": 0, \"ticks\": \"\"}}, \"type\": \"histogram\"}], \"histogram2d\": [{\"colorbar\": {\"outlinewidth\": 0, \"ticks\": \"\"}, \"colorscale\": [[0.0, \"#0d0887\"], [0.1111111111111111, \"#46039f\"], [0.2222222222222222, \"#7201a8\"], [0.3333333333333333, \"#9c179e\"], [0.4444444444444444, \"#bd3786\"], [0.5555555555555556, \"#d8576b\"], [0.6666666666666666, \"#ed7953\"], [0.7777777777777778, \"#fb9f3a\"], [0.8888888888888888, \"#fdca26\"], [1.0, \"#f0f921\"]], \"type\": \"histogram2d\"}], \"histogram2dcontour\": [{\"colorbar\": {\"outlinewidth\": 0, \"ticks\": \"\"}, \"colorscale\": [[0.0, \"#0d0887\"], [0.1111111111111111, \"#46039f\"], [0.2222222222222222, \"#7201a8\"], [0.3333333333333333, \"#9c179e\"], [0.4444444444444444, \"#bd3786\"], [0.5555555555555556, \"#d8576b\"], [0.6666666666666666, \"#ed7953\"], [0.7777777777777778, \"#fb9f3a\"], [0.8888888888888888, \"#fdca26\"], [1.0, \"#f0f921\"]], \"type\": \"histogram2dcontour\"}], \"mesh3d\": [{\"colorbar\": {\"outlinewidth\": 0, \"ticks\": \"\"}, \"type\": \"mesh3d\"}], \"parcoords\": [{\"line\": {\"colorbar\": {\"outlinewidth\": 0, \"ticks\": \"\"}}, \"type\": \"parcoords\"}], \"pie\": [{\"automargin\": true, \"type\": \"pie\"}], \"scatter\": [{\"marker\": {\"colorbar\": {\"outlinewidth\": 0, \"ticks\": \"\"}}, \"type\": \"scatter\"}], \"scatter3d\": [{\"line\": {\"colorbar\": {\"outlinewidth\": 0, \"ticks\": \"\"}}, \"marker\": {\"colorbar\": {\"outlinewidth\": 0, \"ticks\": \"\"}}, \"type\": \"scatter3d\"}], \"scattercarpet\": [{\"marker\": {\"colorbar\": {\"outlinewidth\": 0, \"ticks\": \"\"}}, \"type\": \"scattercarpet\"}], \"scattergeo\": [{\"marker\": {\"colorbar\": {\"outlinewidth\": 0, \"ticks\": \"\"}}, \"type\": \"scattergeo\"}], \"scattergl\": [{\"marker\": {\"colorbar\": {\"outlinewidth\": 0, \"ticks\": \"\"}}, \"type\": \"scattergl\"}], \"scattermapbox\": [{\"marker\": {\"colorbar\": {\"outlinewidth\": 0, \"ticks\": \"\"}}, \"type\": \"scattermapbox\"}], \"scatterpolar\": [{\"marker\": {\"colorbar\": {\"outlinewidth\": 0, \"ticks\": \"\"}}, \"type\": \"scatterpolar\"}], \"scatterpolargl\": [{\"marker\": {\"colorbar\": {\"outlinewidth\": 0, \"ticks\": \"\"}}, \"type\": \"scatterpolargl\"}], \"scatterternary\": [{\"marker\": {\"colorbar\": {\"outlinewidth\": 0, \"ticks\": \"\"}}, \"type\": \"scatterternary\"}], \"surface\": [{\"colorbar\": {\"outlinewidth\": 0, \"ticks\": \"\"}, \"colorscale\": [[0.0, \"#0d0887\"], [0.1111111111111111, \"#46039f\"], [0.2222222222222222, \"#7201a8\"], [0.3333333333333333, \"#9c179e\"], [0.4444444444444444, \"#bd3786\"], [0.5555555555555556, \"#d8576b\"], [0.6666666666666666, \"#ed7953\"], [0.7777777777777778, \"#fb9f3a\"], [0.8888888888888888, \"#fdca26\"], [1.0, \"#f0f921\"]], \"type\": \"surface\"}], \"table\": [{\"cells\": {\"fill\": {\"color\": \"#EBF0F8\"}, \"line\": {\"color\": \"white\"}}, \"header\": {\"fill\": {\"color\": \"#C8D4E3\"}, \"line\": {\"color\": \"white\"}}, \"type\": \"table\"}]}, \"layout\": {\"annotationdefaults\": {\"arrowcolor\": \"#2a3f5f\", \"arrowhead\": 0, \"arrowwidth\": 1}, \"coloraxis\": {\"colorbar\": {\"outlinewidth\": 0, \"ticks\": \"\"}}, \"colorscale\": {\"diverging\": [[0, \"#8e0152\"], [0.1, \"#c51b7d\"], [0.2, \"#de77ae\"], [0.3, \"#f1b6da\"], [0.4, \"#fde0ef\"], [0.5, \"#f7f7f7\"], [0.6, \"#e6f5d0\"], [0.7, \"#b8e186\"], [0.8, \"#7fbc41\"], [0.9, \"#4d9221\"], [1, \"#276419\"]], \"sequential\": [[0.0, \"#0d0887\"], [0.1111111111111111, \"#46039f\"], [0.2222222222222222, \"#7201a8\"], [0.3333333333333333, \"#9c179e\"], [0.4444444444444444, \"#bd3786\"], [0.5555555555555556, \"#d8576b\"], [0.6666666666666666, \"#ed7953\"], [0.7777777777777778, \"#fb9f3a\"], [0.8888888888888888, \"#fdca26\"], [1.0, \"#f0f921\"]], \"sequentialminus\": [[0.0, \"#0d0887\"], [0.1111111111111111, \"#46039f\"], [0.2222222222222222, \"#7201a8\"], [0.3333333333333333, \"#9c179e\"], [0.4444444444444444, \"#bd3786\"], [0.5555555555555556, \"#d8576b\"], [0.6666666666666666, \"#ed7953\"], [0.7777777777777778, \"#fb9f3a\"], [0.8888888888888888, \"#fdca26\"], [1.0, \"#f0f921\"]]}, \"colorway\": [\"#636efa\", \"#EF553B\", \"#00cc96\", \"#ab63fa\", \"#FFA15A\", \"#19d3f3\", \"#FF6692\", \"#B6E880\", \"#FF97FF\", \"#FECB52\"], \"font\": {\"color\": \"#2a3f5f\"}, \"geo\": {\"bgcolor\": \"white\", \"lakecolor\": \"white\", \"landcolor\": \"#E5ECF6\", \"showlakes\": true, \"showland\": true, \"subunitcolor\": \"white\"}, \"hoverlabel\": {\"align\": \"left\"}, \"hovermode\": \"closest\", \"mapbox\": {\"style\": \"light\"}, \"paper_bgcolor\": \"white\", \"plot_bgcolor\": \"#E5ECF6\", \"polar\": {\"angularaxis\": {\"gridcolor\": \"white\", \"linecolor\": \"white\", \"ticks\": \"\"}, \"bgcolor\": \"#E5ECF6\", \"radialaxis\": {\"gridcolor\": \"white\", \"linecolor\": \"white\", \"ticks\": \"\"}}, \"scene\": {\"xaxis\": {\"backgroundcolor\": \"#E5ECF6\", \"gridcolor\": \"white\", \"gridwidth\": 2, \"linecolor\": \"white\", \"showbackground\": true, \"ticks\": \"\", \"zerolinecolor\": \"white\"}, \"yaxis\": {\"backgroundcolor\": \"#E5ECF6\", \"gridcolor\": \"white\", \"gridwidth\": 2, \"linecolor\": \"white\", \"showbackground\": true, \"ticks\": \"\", \"zerolinecolor\": \"white\"}, \"zaxis\": {\"backgroundcolor\": \"#E5ECF6\", \"gridcolor\": \"white\", \"gridwidth\": 2, \"linecolor\": \"white\", \"showbackground\": true, \"ticks\": \"\", \"zerolinecolor\": \"white\"}}, \"shapedefaults\": {\"line\": {\"color\": \"#2a3f5f\"}}, \"ternary\": {\"aaxis\": {\"gridcolor\": \"white\", \"linecolor\": \"white\", \"ticks\": \"\"}, \"baxis\": {\"gridcolor\": \"white\", \"linecolor\": \"white\", \"ticks\": \"\"}, \"bgcolor\": \"#E5ECF6\", \"caxis\": {\"gridcolor\": \"white\", \"linecolor\": \"white\", \"ticks\": \"\"}}, \"title\": {\"x\": 0.05}, \"xaxis\": {\"automargin\": true, \"gridcolor\": \"white\", \"linecolor\": \"white\", \"ticks\": \"\", \"title\": {\"standoff\": 15}, \"zerolinecolor\": \"white\", \"zerolinewidth\": 2}, \"yaxis\": {\"automargin\": true, \"gridcolor\": \"white\", \"linecolor\": \"white\", \"ticks\": \"\", \"title\": {\"standoff\": 15}, \"zerolinecolor\": \"white\", \"zerolinewidth\": 2}}}, \"title\": {\"font\": {\"color\": \"#4D5663\"}}, \"xaxis\": {\"gridcolor\": \"#E1E5ED\", \"showgrid\": true, \"tickfont\": {\"color\": \"#4D5663\"}, \"title\": {\"font\": {\"color\": \"#4D5663\"}, \"text\": \"\"}, \"zerolinecolor\": \"#E1E5ED\"}, \"yaxis\": {\"gridcolor\": \"#E1E5ED\", \"showgrid\": true, \"tickfont\": {\"color\": \"#4D5663\"}, \"title\": {\"font\": {\"color\": \"#4D5663\"}, \"text\": \"\"}, \"zerolinecolor\": \"#E1E5ED\"}},\n",
       "                        {\"showLink\": true, \"linkText\": \"Export to plot.ly\", \"plotlyServerURL\": \"https://plot.ly\", \"responsive\": true}\n",
       "                    ).then(function(){\n",
       "                            \n",
       "var gd = document.getElementById('6b44d58b-cc17-478f-af43-dd01dd7f655b');\n",
       "var x = new MutationObserver(function (mutations, observer) {{\n",
       "        var display = window.getComputedStyle(gd).display;\n",
       "        if (!display || display === 'none') {{\n",
       "            console.log([gd, 'removed!']);\n",
       "            Plotly.purge(gd);\n",
       "            observer.disconnect();\n",
       "        }}\n",
       "}});\n",
       "\n",
       "// Listen for the removal of the full notebook cells\n",
       "var notebookContainer = gd.closest('#notebook-container');\n",
       "if (notebookContainer) {{\n",
       "    x.observe(notebookContainer, {childList: true});\n",
       "}}\n",
       "\n",
       "// Listen for the clearing of the current output cell\n",
       "var outputEl = gd.closest('.output');\n",
       "if (outputEl) {{\n",
       "    x.observe(outputEl, {childList: true});\n",
       "}}\n",
       "\n",
       "                        })\n",
       "                };\n",
       "                });\n",
       "            </script>\n",
       "        </div>"
      ]
     },
     "metadata": {},
     "output_type": "display_data"
    }
   ],
   "source": [
    "# call aggergate or groupby function on your data to use in a bar plot\n",
    "df.count().iplot(kind='bar')\n",
    "df.sum().iplot(kind='bar')"
   ]
  },
  {
   "cell_type": "markdown",
   "metadata": {},
   "source": [
    "## Boxplots"
   ]
  },
  {
   "cell_type": "code",
   "execution_count": 28,
   "metadata": {},
   "outputs": [
    {
     "data": {
      "application/vnd.plotly.v1+json": {
       "config": {
        "linkText": "Export to plot.ly",
        "plotlyServerURL": "https://plot.ly",
        "showLink": true
       },
       "data": [
        {
         "boxpoints": false,
         "line": {
          "width": 1.3
         },
         "marker": {
          "color": "rgba(255, 153, 51, 1.0)"
         },
         "name": "A",
         "orientation": "v",
         "type": "box",
         "y": [
          0.20809043819086845,
          -0.019341506915506363,
          0.6710928486171988,
          -0.32374262692684636,
          -0.08933950365355328,
          -2.4870153305002876,
          -0.0828445187959473,
          0.5765196640599008,
          -1.45974335926409,
          -0.7039420056988792,
          0.07374623781588262,
          1.3890599308664364,
          -0.4065140417790279,
          -1.5534252482243656,
          -0.5223086210478873,
          1.0283472012969124,
          -0.7782606201795501,
          -1.1134140955232776,
          1.545117883927185,
          0.6536675243606903,
          -0.4635661135202583,
          -1.3776886078026092,
          0.5157479741118118,
          0.48495411771132285,
          -1.498163791196165,
          0.186173316287323,
          -0.6084259450245122,
          0.1385458239150797,
          -0.34327731015590035,
          1.3057395117869839,
          -0.8507861830526204,
          0.07068108652281078,
          0.5609468060125844,
          0.8436003826923163,
          -0.5544739466474897,
          0.304567437465066,
          0.07380956245430079,
          0.6770820944557193,
          0.9958583944756741,
          -0.8843872234471372,
          -0.5686911224280439,
          -0.4833310001350282,
          1.0444287952056812,
          -1.0247446450677433,
          -0.04442966989560093,
          -0.8533122995490622,
          0.6530986336452997,
          -0.7022015322286137,
          1.2062876705027765,
          -2.0339563452164966,
          0.48742624290522124,
          0.6589028909488218,
          -2.3421002379617333,
          -0.7722454389655053,
          0.02882023909271555,
          -1.534494316301149,
          0.38125317141931553,
          0.9658911532176244,
          -0.36784839411375353,
          0.7996346562293096,
          -1.6665252924104532,
          -0.4099124667256445,
          -0.6272330819731242,
          0.22436834840107997,
          -0.587796897611996,
          -0.21185255449597312,
          -0.012570892599201121,
          -0.54279177228348,
          -2.6560874773893772,
          0.3149100180434697,
          2.010648660253624,
          0.5551898627890857,
          -1.4963775556776142,
          -0.5877273554807264,
          0.07257979710473213,
          0.15338192801483436,
          -0.5596087652557075,
          0.9007287289028704,
          0.7994878115707456,
          -0.8204821180718412,
          0.28035281575665505,
          0.23986792951813127,
          -0.19554464475260425,
          1.490723752902071,
          -0.20027691553987273,
          -0.5566182124634896,
          -0.2586965268169799,
          0.8988418941151963,
          -0.12990886192371434,
          0.02546613837971286,
          -1.0416098497036679,
          -1.5819094674443275,
          -0.13181985295975357,
          1.2325838746792015,
          -1.1327957870240355,
          0.34605049462143017,
          1.706190747987443,
          2.1433316293580784,
          0.3271201022174498,
          -0.7168867904851405
         ]
        },
        {
         "boxpoints": false,
         "line": {
          "width": 1.3
         },
         "marker": {
          "color": "rgba(55, 128, 191, 1.0)"
         },
         "name": "B",
         "orientation": "v",
         "type": "box",
         "y": [
          0.15135829454715108,
          0.9795160147718429,
          1.4214734609290678,
          -0.07097325758683996,
          -0.9210663836667375,
          0.20378024537982453,
          -0.6100369380441374,
          -1.3466306621394803,
          -1.81632980066363,
          -0.15798779724206727,
          -1.018606443577509,
          -0.54437943019444,
          -0.48276994747208113,
          0.57798424272942,
          -0.970914049767164,
          -0.4352116885815418,
          0.8241358618851978,
          1.2918990512894106,
          -0.11878729385443036,
          -0.24842332641139903,
          0.4465616973650019,
          0.7155306943090513,
          1.9646290002462576,
          0.7485402486486966,
          2.301917351467514,
          -0.4584041069143579,
          -1.9769012314332277,
          -1.201105007029545,
          1.669260528563722,
          0.22156748859860562,
          -0.43902290576062286,
          -0.9269491629983333,
          -1.442120004125873,
          -1.1669983984588779,
          -0.2801873720734649,
          2.5275136591199066,
          -0.020117546102519243,
          -1.5074242850340052,
          -1.3581481255377978,
          1.0682872361234326,
          -0.4253891039927625,
          -0.9795015883734285,
          0.7178957327501252,
          -1.1761437747950894,
          -1.6540195151829544,
          1.6095607825891305,
          -0.8873683216168122,
          -1.6423713126718416,
          -0.17082902921556906,
          1.4433275020088596,
          -0.23514827551444784,
          -0.18210764579747643,
          -0.47380473108659904,
          -0.30564100505727737,
          0.39475719400621767,
          0.927733729671384,
          1.2414238982703922,
          0.0029357777775479636,
          0.869531108145011,
          -0.3108725300689207,
          0.31612727830321374,
          0.7637627871271956,
          -1.7022198823396548,
          0.9700454378831772,
          -2.2371234275566225,
          1.131637517157968,
          -0.393532240954233,
          -0.08165933539689739,
          0.36858334803231196,
          -1.6126676133120872,
          -0.5352745521823805,
          0.6346815353686975,
          1.238888755284414,
          -1.0276900358987127,
          -0.3355367973642946,
          0.37140192615612216,
          -0.8515083889392284,
          -2.9690855877133386,
          0.6140107859520972,
          0.43209277527755674,
          -1.0987784624213168,
          0.20215234928410972,
          -0.46102411065062787,
          1.4859285963890307,
          1.3911792195871207,
          -1.3670903285961076,
          0.22450940710990647,
          0.4101279410076213,
          1.977960208478093,
          0.43079393165742125,
          -2.9129924250906174,
          -0.7310092701771267,
          0.18258620922954666,
          2.392127291109862,
          -0.2879343642592824,
          1.8906107785898578,
          0.7400795074044674,
          -1.3617204379633567,
          0.7788471931365946,
          0.6913717081312138
         ]
        },
        {
         "boxpoints": false,
         "line": {
          "width": 1.3
         },
         "marker": {
          "color": "rgba(50, 171, 96, 1.0)"
         },
         "name": "C",
         "orientation": "v",
         "type": "box",
         "y": [
          2.0051121159920675,
          -0.4493610805844231,
          -0.9084872076489361,
          -0.7721615517711781,
          0.6541627047739164,
          -0.3851615542298961,
          1.2241910700460494,
          -0.3594480352627832,
          0.5303515075821974,
          0.37821553681042497,
          1.5265608993568685,
          1.477366766187703,
          -0.8903976196943997,
          0.6275104381096709,
          -1.1658828346957355,
          0.5252728640062069,
          0.4116834027002824,
          2.704189848816628,
          -0.2226961420885588,
          1.0244875423195368,
          0.26495132075919875,
          -0.3335106453849119,
          -0.25051775523022307,
          -0.9421555886984696,
          -0.05185181898581905,
          0.9892425401502507,
          0.3019324275203719,
          0.05095758835038916,
          -1.4812719426708845,
          0.5548066618401524,
          0.03745238658246062,
          0.5074409459965565,
          -0.8466179648047617,
          -0.6704963196017796,
          -0.6190901486920855,
          0.17827190177240412,
          0.3664174458696268,
          2.350125669806303,
          0.043404170851318376,
          -1.3790506256730932,
          0.2737799407998692,
          0.2933588088351275,
          2.193998753638677,
          -0.9831277301264092,
          -0.6521040024729443,
          0.08051574029896495,
          -1.0062263833912914,
          1.6888321692647374,
          0.15860478630185132,
          -0.7264348973890741,
          0.5551346042795282,
          -1.3221054329247246,
          -1.2046506987274948,
          1.1490223551767262,
          -1.2035286945972503,
          1.1709154926969032,
          0.9661298764717131,
          -0.8044782297264162,
          -0.19666254507560318,
          0.21441701157769927,
          1.5613441239512482,
          0.6650992702780203,
          0.0815292219555825,
          0.05595055934265063,
          0.05073992580946308,
          -0.8345594810331837,
          0.6646967497706436,
          -0.6068052519359592,
          -0.09796794490886163,
          0.9956501209565106,
          0.032888702181209435,
          0.7282824374462252,
          -0.4421471221405374,
          -0.4996683018436185,
          -0.4598733633397587,
          -0.24246389263135104,
          -1.7254409975924612,
          -0.8704721991050504,
          -1.8617602897345804,
          -0.15657662661197377,
          -1.2433527551093784,
          0.8198948294225307,
          -0.15002325359623633,
          1.1776949232261975,
          -0.18486742703008133,
          -0.6473069114798748,
          -0.2878369954827269,
          -1.8137301176313945,
          0.7335294261397506,
          -1.5121779899245575,
          1.2057098440957132,
          -0.019324584000454413,
          0.6889436920135882,
          -0.5661336612740878,
          -0.5653254134268597,
          0.20453618725784742,
          0.40107083955132516,
          1.1740676398540935,
          -0.5776343666715368,
          2.5216844274068357
         ]
        },
        {
         "boxpoints": false,
         "line": {
          "width": 1.3
         },
         "marker": {
          "color": "rgba(128, 0, 128, 1.0)"
         },
         "name": "D",
         "orientation": "v",
         "type": "box",
         "y": [
          -1.4565733558087668,
          0.5262369172878351,
          0.48945774743941195,
          -0.21293033404058415,
          -0.16324889199076464,
          0.630598484174999,
          0.692077637937127,
          -0.3331147371984391,
          0.1929030040351164,
          -0.3218766183486016,
          -1.6425369944411325,
          -0.7678250927492929,
          1.2659835307747669,
          0.8184210393122054,
          -0.024633339865551607,
          -1.249002879317465,
          0.9295234623087013,
          0.8493978136587808,
          -0.46047237624499265,
          -0.5778972033554954,
          0.4189611998456919,
          -0.5505020499045066,
          0.8781183000200152,
          -0.7305458201604784,
          0.4260424892761426,
          -1.1154404173816563,
          1.7386153510183529,
          1.8996270301248646,
          -0.022043989066206783,
          -2.08107613924143,
          0.10383859554091508,
          1.300271012272863,
          -0.44790591147914155,
          0.32454891365895494,
          0.723557539054515,
          -0.4526175565216972,
          1.5793439257679158,
          -1.2460820007359723,
          1.115935175496016,
          -0.07877482710809654,
          -1.730466220665265,
          1.846744729189646,
          -0.19870976067514978,
          -0.12123592053565618,
          1.3852277591750157,
          -0.2656543567586974,
          -0.07555173388232261,
          0.07777723955138618,
          0.907301321878093,
          -0.4107678910895667,
          1.0969607063495408,
          2.312284690894676,
          0.35708899337781286,
          -0.14919636371702155,
          0.10587794777827615,
          0.19445728205069596,
          -0.05300858756121772,
          0.8949819385269817,
          2.218827117112159,
          0.7060532591602858,
          -0.131418896375061,
          0.491284065175089,
          -0.9893054759795129,
          -0.08954705247396552,
          0.27609733254111335,
          1.702681047136967,
          0.22434733425503514,
          0.6696692982817731,
          2.314142962463807,
          1.0622561275932678,
          -0.4295730165307976,
          1.268635692597944,
          -0.5617857296247518,
          -0.04831566984239649,
          0.6961244218118591,
          0.04787514173602842,
          -2.4211481405527833,
          0.3895740200646518,
          -1.3291272982016469,
          0.11889810264841535,
          -0.08730316360939917,
          0.21079474055037464,
          0.5034361648353576,
          -0.868718445356883,
          -0.0994953565207857,
          0.15250135972298487,
          1.9040880921245162,
          0.0779133281913371,
          -1.245117905007259,
          -0.09485339001235499,
          0.8882549753384171,
          -0.26831172103457623,
          -0.9086119757298903,
          0.33148975957829013,
          -0.15318039179708207,
          0.11562239596100848,
          0.7578807194141244,
          -0.5585578756818593,
          -1.2714220005791093,
          -1.3660870756577828
         ]
        }
       ],
       "layout": {
        "legend": {
         "bgcolor": "#F5F6F9",
         "font": {
          "color": "#4D5663"
         }
        },
        "paper_bgcolor": "#F5F6F9",
        "plot_bgcolor": "#F5F6F9",
        "template": {
         "data": {
          "bar": [
           {
            "error_x": {
             "color": "#2a3f5f"
            },
            "error_y": {
             "color": "#2a3f5f"
            },
            "marker": {
             "line": {
              "color": "#E5ECF6",
              "width": 0.5
             }
            },
            "type": "bar"
           }
          ],
          "barpolar": [
           {
            "marker": {
             "line": {
              "color": "#E5ECF6",
              "width": 0.5
             }
            },
            "type": "barpolar"
           }
          ],
          "carpet": [
           {
            "aaxis": {
             "endlinecolor": "#2a3f5f",
             "gridcolor": "white",
             "linecolor": "white",
             "minorgridcolor": "white",
             "startlinecolor": "#2a3f5f"
            },
            "baxis": {
             "endlinecolor": "#2a3f5f",
             "gridcolor": "white",
             "linecolor": "white",
             "minorgridcolor": "white",
             "startlinecolor": "#2a3f5f"
            },
            "type": "carpet"
           }
          ],
          "choropleth": [
           {
            "colorbar": {
             "outlinewidth": 0,
             "ticks": ""
            },
            "type": "choropleth"
           }
          ],
          "contour": [
           {
            "colorbar": {
             "outlinewidth": 0,
             "ticks": ""
            },
            "colorscale": [
             [
              0,
              "#0d0887"
             ],
             [
              0.1111111111111111,
              "#46039f"
             ],
             [
              0.2222222222222222,
              "#7201a8"
             ],
             [
              0.3333333333333333,
              "#9c179e"
             ],
             [
              0.4444444444444444,
              "#bd3786"
             ],
             [
              0.5555555555555556,
              "#d8576b"
             ],
             [
              0.6666666666666666,
              "#ed7953"
             ],
             [
              0.7777777777777778,
              "#fb9f3a"
             ],
             [
              0.8888888888888888,
              "#fdca26"
             ],
             [
              1,
              "#f0f921"
             ]
            ],
            "type": "contour"
           }
          ],
          "contourcarpet": [
           {
            "colorbar": {
             "outlinewidth": 0,
             "ticks": ""
            },
            "type": "contourcarpet"
           }
          ],
          "heatmap": [
           {
            "colorbar": {
             "outlinewidth": 0,
             "ticks": ""
            },
            "colorscale": [
             [
              0,
              "#0d0887"
             ],
             [
              0.1111111111111111,
              "#46039f"
             ],
             [
              0.2222222222222222,
              "#7201a8"
             ],
             [
              0.3333333333333333,
              "#9c179e"
             ],
             [
              0.4444444444444444,
              "#bd3786"
             ],
             [
              0.5555555555555556,
              "#d8576b"
             ],
             [
              0.6666666666666666,
              "#ed7953"
             ],
             [
              0.7777777777777778,
              "#fb9f3a"
             ],
             [
              0.8888888888888888,
              "#fdca26"
             ],
             [
              1,
              "#f0f921"
             ]
            ],
            "type": "heatmap"
           }
          ],
          "heatmapgl": [
           {
            "colorbar": {
             "outlinewidth": 0,
             "ticks": ""
            },
            "colorscale": [
             [
              0,
              "#0d0887"
             ],
             [
              0.1111111111111111,
              "#46039f"
             ],
             [
              0.2222222222222222,
              "#7201a8"
             ],
             [
              0.3333333333333333,
              "#9c179e"
             ],
             [
              0.4444444444444444,
              "#bd3786"
             ],
             [
              0.5555555555555556,
              "#d8576b"
             ],
             [
              0.6666666666666666,
              "#ed7953"
             ],
             [
              0.7777777777777778,
              "#fb9f3a"
             ],
             [
              0.8888888888888888,
              "#fdca26"
             ],
             [
              1,
              "#f0f921"
             ]
            ],
            "type": "heatmapgl"
           }
          ],
          "histogram": [
           {
            "marker": {
             "colorbar": {
              "outlinewidth": 0,
              "ticks": ""
             }
            },
            "type": "histogram"
           }
          ],
          "histogram2d": [
           {
            "colorbar": {
             "outlinewidth": 0,
             "ticks": ""
            },
            "colorscale": [
             [
              0,
              "#0d0887"
             ],
             [
              0.1111111111111111,
              "#46039f"
             ],
             [
              0.2222222222222222,
              "#7201a8"
             ],
             [
              0.3333333333333333,
              "#9c179e"
             ],
             [
              0.4444444444444444,
              "#bd3786"
             ],
             [
              0.5555555555555556,
              "#d8576b"
             ],
             [
              0.6666666666666666,
              "#ed7953"
             ],
             [
              0.7777777777777778,
              "#fb9f3a"
             ],
             [
              0.8888888888888888,
              "#fdca26"
             ],
             [
              1,
              "#f0f921"
             ]
            ],
            "type": "histogram2d"
           }
          ],
          "histogram2dcontour": [
           {
            "colorbar": {
             "outlinewidth": 0,
             "ticks": ""
            },
            "colorscale": [
             [
              0,
              "#0d0887"
             ],
             [
              0.1111111111111111,
              "#46039f"
             ],
             [
              0.2222222222222222,
              "#7201a8"
             ],
             [
              0.3333333333333333,
              "#9c179e"
             ],
             [
              0.4444444444444444,
              "#bd3786"
             ],
             [
              0.5555555555555556,
              "#d8576b"
             ],
             [
              0.6666666666666666,
              "#ed7953"
             ],
             [
              0.7777777777777778,
              "#fb9f3a"
             ],
             [
              0.8888888888888888,
              "#fdca26"
             ],
             [
              1,
              "#f0f921"
             ]
            ],
            "type": "histogram2dcontour"
           }
          ],
          "mesh3d": [
           {
            "colorbar": {
             "outlinewidth": 0,
             "ticks": ""
            },
            "type": "mesh3d"
           }
          ],
          "parcoords": [
           {
            "line": {
             "colorbar": {
              "outlinewidth": 0,
              "ticks": ""
             }
            },
            "type": "parcoords"
           }
          ],
          "pie": [
           {
            "automargin": true,
            "type": "pie"
           }
          ],
          "scatter": [
           {
            "marker": {
             "colorbar": {
              "outlinewidth": 0,
              "ticks": ""
             }
            },
            "type": "scatter"
           }
          ],
          "scatter3d": [
           {
            "line": {
             "colorbar": {
              "outlinewidth": 0,
              "ticks": ""
             }
            },
            "marker": {
             "colorbar": {
              "outlinewidth": 0,
              "ticks": ""
             }
            },
            "type": "scatter3d"
           }
          ],
          "scattercarpet": [
           {
            "marker": {
             "colorbar": {
              "outlinewidth": 0,
              "ticks": ""
             }
            },
            "type": "scattercarpet"
           }
          ],
          "scattergeo": [
           {
            "marker": {
             "colorbar": {
              "outlinewidth": 0,
              "ticks": ""
             }
            },
            "type": "scattergeo"
           }
          ],
          "scattergl": [
           {
            "marker": {
             "colorbar": {
              "outlinewidth": 0,
              "ticks": ""
             }
            },
            "type": "scattergl"
           }
          ],
          "scattermapbox": [
           {
            "marker": {
             "colorbar": {
              "outlinewidth": 0,
              "ticks": ""
             }
            },
            "type": "scattermapbox"
           }
          ],
          "scatterpolar": [
           {
            "marker": {
             "colorbar": {
              "outlinewidth": 0,
              "ticks": ""
             }
            },
            "type": "scatterpolar"
           }
          ],
          "scatterpolargl": [
           {
            "marker": {
             "colorbar": {
              "outlinewidth": 0,
              "ticks": ""
             }
            },
            "type": "scatterpolargl"
           }
          ],
          "scatterternary": [
           {
            "marker": {
             "colorbar": {
              "outlinewidth": 0,
              "ticks": ""
             }
            },
            "type": "scatterternary"
           }
          ],
          "surface": [
           {
            "colorbar": {
             "outlinewidth": 0,
             "ticks": ""
            },
            "colorscale": [
             [
              0,
              "#0d0887"
             ],
             [
              0.1111111111111111,
              "#46039f"
             ],
             [
              0.2222222222222222,
              "#7201a8"
             ],
             [
              0.3333333333333333,
              "#9c179e"
             ],
             [
              0.4444444444444444,
              "#bd3786"
             ],
             [
              0.5555555555555556,
              "#d8576b"
             ],
             [
              0.6666666666666666,
              "#ed7953"
             ],
             [
              0.7777777777777778,
              "#fb9f3a"
             ],
             [
              0.8888888888888888,
              "#fdca26"
             ],
             [
              1,
              "#f0f921"
             ]
            ],
            "type": "surface"
           }
          ],
          "table": [
           {
            "cells": {
             "fill": {
              "color": "#EBF0F8"
             },
             "line": {
              "color": "white"
             }
            },
            "header": {
             "fill": {
              "color": "#C8D4E3"
             },
             "line": {
              "color": "white"
             }
            },
            "type": "table"
           }
          ]
         },
         "layout": {
          "annotationdefaults": {
           "arrowcolor": "#2a3f5f",
           "arrowhead": 0,
           "arrowwidth": 1
          },
          "coloraxis": {
           "colorbar": {
            "outlinewidth": 0,
            "ticks": ""
           }
          },
          "colorscale": {
           "diverging": [
            [
             0,
             "#8e0152"
            ],
            [
             0.1,
             "#c51b7d"
            ],
            [
             0.2,
             "#de77ae"
            ],
            [
             0.3,
             "#f1b6da"
            ],
            [
             0.4,
             "#fde0ef"
            ],
            [
             0.5,
             "#f7f7f7"
            ],
            [
             0.6,
             "#e6f5d0"
            ],
            [
             0.7,
             "#b8e186"
            ],
            [
             0.8,
             "#7fbc41"
            ],
            [
             0.9,
             "#4d9221"
            ],
            [
             1,
             "#276419"
            ]
           ],
           "sequential": [
            [
             0,
             "#0d0887"
            ],
            [
             0.1111111111111111,
             "#46039f"
            ],
            [
             0.2222222222222222,
             "#7201a8"
            ],
            [
             0.3333333333333333,
             "#9c179e"
            ],
            [
             0.4444444444444444,
             "#bd3786"
            ],
            [
             0.5555555555555556,
             "#d8576b"
            ],
            [
             0.6666666666666666,
             "#ed7953"
            ],
            [
             0.7777777777777778,
             "#fb9f3a"
            ],
            [
             0.8888888888888888,
             "#fdca26"
            ],
            [
             1,
             "#f0f921"
            ]
           ],
           "sequentialminus": [
            [
             0,
             "#0d0887"
            ],
            [
             0.1111111111111111,
             "#46039f"
            ],
            [
             0.2222222222222222,
             "#7201a8"
            ],
            [
             0.3333333333333333,
             "#9c179e"
            ],
            [
             0.4444444444444444,
             "#bd3786"
            ],
            [
             0.5555555555555556,
             "#d8576b"
            ],
            [
             0.6666666666666666,
             "#ed7953"
            ],
            [
             0.7777777777777778,
             "#fb9f3a"
            ],
            [
             0.8888888888888888,
             "#fdca26"
            ],
            [
             1,
             "#f0f921"
            ]
           ]
          },
          "colorway": [
           "#636efa",
           "#EF553B",
           "#00cc96",
           "#ab63fa",
           "#FFA15A",
           "#19d3f3",
           "#FF6692",
           "#B6E880",
           "#FF97FF",
           "#FECB52"
          ],
          "font": {
           "color": "#2a3f5f"
          },
          "geo": {
           "bgcolor": "white",
           "lakecolor": "white",
           "landcolor": "#E5ECF6",
           "showlakes": true,
           "showland": true,
           "subunitcolor": "white"
          },
          "hoverlabel": {
           "align": "left"
          },
          "hovermode": "closest",
          "mapbox": {
           "style": "light"
          },
          "paper_bgcolor": "white",
          "plot_bgcolor": "#E5ECF6",
          "polar": {
           "angularaxis": {
            "gridcolor": "white",
            "linecolor": "white",
            "ticks": ""
           },
           "bgcolor": "#E5ECF6",
           "radialaxis": {
            "gridcolor": "white",
            "linecolor": "white",
            "ticks": ""
           }
          },
          "scene": {
           "xaxis": {
            "backgroundcolor": "#E5ECF6",
            "gridcolor": "white",
            "gridwidth": 2,
            "linecolor": "white",
            "showbackground": true,
            "ticks": "",
            "zerolinecolor": "white"
           },
           "yaxis": {
            "backgroundcolor": "#E5ECF6",
            "gridcolor": "white",
            "gridwidth": 2,
            "linecolor": "white",
            "showbackground": true,
            "ticks": "",
            "zerolinecolor": "white"
           },
           "zaxis": {
            "backgroundcolor": "#E5ECF6",
            "gridcolor": "white",
            "gridwidth": 2,
            "linecolor": "white",
            "showbackground": true,
            "ticks": "",
            "zerolinecolor": "white"
           }
          },
          "shapedefaults": {
           "line": {
            "color": "#2a3f5f"
           }
          },
          "ternary": {
           "aaxis": {
            "gridcolor": "white",
            "linecolor": "white",
            "ticks": ""
           },
           "baxis": {
            "gridcolor": "white",
            "linecolor": "white",
            "ticks": ""
           },
           "bgcolor": "#E5ECF6",
           "caxis": {
            "gridcolor": "white",
            "linecolor": "white",
            "ticks": ""
           }
          },
          "title": {
           "x": 0.05
          },
          "xaxis": {
           "automargin": true,
           "gridcolor": "white",
           "linecolor": "white",
           "ticks": "",
           "title": {
            "standoff": 15
           },
           "zerolinecolor": "white",
           "zerolinewidth": 2
          },
          "yaxis": {
           "automargin": true,
           "gridcolor": "white",
           "linecolor": "white",
           "ticks": "",
           "title": {
            "standoff": 15
           },
           "zerolinecolor": "white",
           "zerolinewidth": 2
          }
         }
        },
        "title": {
         "font": {
          "color": "#4D5663"
         }
        },
        "xaxis": {
         "gridcolor": "#E1E5ED",
         "showgrid": true,
         "tickfont": {
          "color": "#4D5663"
         },
         "title": {
          "font": {
           "color": "#4D5663"
          },
          "text": ""
         },
         "zerolinecolor": "#E1E5ED"
        },
        "yaxis": {
         "gridcolor": "#E1E5ED",
         "showgrid": true,
         "tickfont": {
          "color": "#4D5663"
         },
         "title": {
          "font": {
           "color": "#4D5663"
          },
          "text": ""
         },
         "zerolinecolor": "#E1E5ED"
        }
       }
      },
      "text/html": [
       "<div>\n",
       "        \n",
       "        \n",
       "            <div id=\"3fa75279-0416-4705-8b8a-2b976c2d83ed\" class=\"plotly-graph-div\" style=\"height:525px; width:100%;\"></div>\n",
       "            <script type=\"text/javascript\">\n",
       "                require([\"plotly\"], function(Plotly) {\n",
       "                    window.PLOTLYENV=window.PLOTLYENV || {};\n",
       "                    window.PLOTLYENV.BASE_URL='https://plot.ly';\n",
       "                    \n",
       "                if (document.getElementById(\"3fa75279-0416-4705-8b8a-2b976c2d83ed\")) {\n",
       "                    Plotly.newPlot(\n",
       "                        '3fa75279-0416-4705-8b8a-2b976c2d83ed',\n",
       "                        [{\"boxpoints\": false, \"line\": {\"width\": 1.3}, \"marker\": {\"color\": \"rgba(255, 153, 51, 1.0)\"}, \"name\": \"A\", \"orientation\": \"v\", \"type\": \"box\", \"y\": [0.20809043819086845, -0.019341506915506363, 0.6710928486171988, -0.32374262692684636, -0.08933950365355328, -2.4870153305002876, -0.0828445187959473, 0.5765196640599008, -1.45974335926409, -0.7039420056988792, 0.07374623781588262, 1.3890599308664364, -0.4065140417790279, -1.5534252482243656, -0.5223086210478873, 1.0283472012969124, -0.7782606201795501, -1.1134140955232776, 1.545117883927185, 0.6536675243606903, -0.4635661135202583, -1.3776886078026092, 0.5157479741118118, 0.48495411771132285, -1.498163791196165, 0.186173316287323, -0.6084259450245122, 0.1385458239150797, -0.34327731015590035, 1.3057395117869839, -0.8507861830526204, 0.07068108652281078, 0.5609468060125844, 0.8436003826923163, -0.5544739466474897, 0.304567437465066, 0.07380956245430079, 0.6770820944557193, 0.9958583944756741, -0.8843872234471372, -0.5686911224280439, -0.4833310001350282, 1.0444287952056812, -1.0247446450677433, -0.04442966989560093, -0.8533122995490622, 0.6530986336452997, -0.7022015322286137, 1.2062876705027765, -2.0339563452164966, 0.48742624290522124, 0.6589028909488218, -2.3421002379617333, -0.7722454389655053, 0.02882023909271555, -1.534494316301149, 0.38125317141931553, 0.9658911532176244, -0.36784839411375353, 0.7996346562293096, -1.6665252924104532, -0.4099124667256445, -0.6272330819731242, 0.22436834840107997, -0.587796897611996, -0.21185255449597312, -0.012570892599201121, -0.54279177228348, -2.6560874773893772, 0.3149100180434697, 2.010648660253624, 0.5551898627890857, -1.4963775556776142, -0.5877273554807264, 0.07257979710473213, 0.15338192801483436, -0.5596087652557075, 0.9007287289028704, 0.7994878115707456, -0.8204821180718412, 0.28035281575665505, 0.23986792951813127, -0.19554464475260425, 1.490723752902071, -0.20027691553987273, -0.5566182124634896, -0.2586965268169799, 0.8988418941151963, -0.12990886192371434, 0.02546613837971286, -1.0416098497036679, -1.5819094674443275, -0.13181985295975357, 1.2325838746792015, -1.1327957870240355, 0.34605049462143017, 1.706190747987443, 2.1433316293580784, 0.3271201022174498, -0.7168867904851405]}, {\"boxpoints\": false, \"line\": {\"width\": 1.3}, \"marker\": {\"color\": \"rgba(55, 128, 191, 1.0)\"}, \"name\": \"B\", \"orientation\": \"v\", \"type\": \"box\", \"y\": [0.15135829454715108, 0.9795160147718429, 1.4214734609290678, -0.07097325758683996, -0.9210663836667375, 0.20378024537982453, -0.6100369380441374, -1.3466306621394803, -1.81632980066363, -0.15798779724206727, -1.018606443577509, -0.54437943019444, -0.48276994747208113, 0.57798424272942, -0.970914049767164, -0.4352116885815418, 0.8241358618851978, 1.2918990512894106, -0.11878729385443036, -0.24842332641139903, 0.4465616973650019, 0.7155306943090513, 1.9646290002462576, 0.7485402486486966, 2.301917351467514, -0.4584041069143579, -1.9769012314332277, -1.201105007029545, 1.669260528563722, 0.22156748859860562, -0.43902290576062286, -0.9269491629983333, -1.442120004125873, -1.1669983984588779, -0.2801873720734649, 2.5275136591199066, -0.020117546102519243, -1.5074242850340052, -1.3581481255377978, 1.0682872361234326, -0.4253891039927625, -0.9795015883734285, 0.7178957327501252, -1.1761437747950894, -1.6540195151829544, 1.6095607825891305, -0.8873683216168122, -1.6423713126718416, -0.17082902921556906, 1.4433275020088596, -0.23514827551444784, -0.18210764579747643, -0.47380473108659904, -0.30564100505727737, 0.39475719400621767, 0.927733729671384, 1.2414238982703922, 0.0029357777775479636, 0.869531108145011, -0.3108725300689207, 0.31612727830321374, 0.7637627871271956, -1.7022198823396548, 0.9700454378831772, -2.2371234275566225, 1.131637517157968, -0.393532240954233, -0.08165933539689739, 0.36858334803231196, -1.6126676133120872, -0.5352745521823805, 0.6346815353686975, 1.238888755284414, -1.0276900358987127, -0.3355367973642946, 0.37140192615612216, -0.8515083889392284, -2.9690855877133386, 0.6140107859520972, 0.43209277527755674, -1.0987784624213168, 0.20215234928410972, -0.46102411065062787, 1.4859285963890307, 1.3911792195871207, -1.3670903285961076, 0.22450940710990647, 0.4101279410076213, 1.977960208478093, 0.43079393165742125, -2.9129924250906174, -0.7310092701771267, 0.18258620922954666, 2.392127291109862, -0.2879343642592824, 1.8906107785898578, 0.7400795074044674, -1.3617204379633567, 0.7788471931365946, 0.6913717081312138]}, {\"boxpoints\": false, \"line\": {\"width\": 1.3}, \"marker\": {\"color\": \"rgba(50, 171, 96, 1.0)\"}, \"name\": \"C\", \"orientation\": \"v\", \"type\": \"box\", \"y\": [2.0051121159920675, -0.4493610805844231, -0.9084872076489361, -0.7721615517711781, 0.6541627047739164, -0.3851615542298961, 1.2241910700460494, -0.3594480352627832, 0.5303515075821974, 0.37821553681042497, 1.5265608993568685, 1.477366766187703, -0.8903976196943997, 0.6275104381096709, -1.1658828346957355, 0.5252728640062069, 0.4116834027002824, 2.704189848816628, -0.2226961420885588, 1.0244875423195368, 0.26495132075919875, -0.3335106453849119, -0.25051775523022307, -0.9421555886984696, -0.05185181898581905, 0.9892425401502507, 0.3019324275203719, 0.05095758835038916, -1.4812719426708845, 0.5548066618401524, 0.03745238658246062, 0.5074409459965565, -0.8466179648047617, -0.6704963196017796, -0.6190901486920855, 0.17827190177240412, 0.3664174458696268, 2.350125669806303, 0.043404170851318376, -1.3790506256730932, 0.2737799407998692, 0.2933588088351275, 2.193998753638677, -0.9831277301264092, -0.6521040024729443, 0.08051574029896495, -1.0062263833912914, 1.6888321692647374, 0.15860478630185132, -0.7264348973890741, 0.5551346042795282, -1.3221054329247246, -1.2046506987274948, 1.1490223551767262, -1.2035286945972503, 1.1709154926969032, 0.9661298764717131, -0.8044782297264162, -0.19666254507560318, 0.21441701157769927, 1.5613441239512482, 0.6650992702780203, 0.0815292219555825, 0.05595055934265063, 0.05073992580946308, -0.8345594810331837, 0.6646967497706436, -0.6068052519359592, -0.09796794490886163, 0.9956501209565106, 0.032888702181209435, 0.7282824374462252, -0.4421471221405374, -0.4996683018436185, -0.4598733633397587, -0.24246389263135104, -1.7254409975924612, -0.8704721991050504, -1.8617602897345804, -0.15657662661197377, -1.2433527551093784, 0.8198948294225307, -0.15002325359623633, 1.1776949232261975, -0.18486742703008133, -0.6473069114798748, -0.2878369954827269, -1.8137301176313945, 0.7335294261397506, -1.5121779899245575, 1.2057098440957132, -0.019324584000454413, 0.6889436920135882, -0.5661336612740878, -0.5653254134268597, 0.20453618725784742, 0.40107083955132516, 1.1740676398540935, -0.5776343666715368, 2.5216844274068357]}, {\"boxpoints\": false, \"line\": {\"width\": 1.3}, \"marker\": {\"color\": \"rgba(128, 0, 128, 1.0)\"}, \"name\": \"D\", \"orientation\": \"v\", \"type\": \"box\", \"y\": [-1.4565733558087668, 0.5262369172878351, 0.48945774743941195, -0.21293033404058415, -0.16324889199076464, 0.630598484174999, 0.692077637937127, -0.3331147371984391, 0.1929030040351164, -0.3218766183486016, -1.6425369944411325, -0.7678250927492929, 1.2659835307747669, 0.8184210393122054, -0.024633339865551607, -1.249002879317465, 0.9295234623087013, 0.8493978136587808, -0.46047237624499265, -0.5778972033554954, 0.4189611998456919, -0.5505020499045066, 0.8781183000200152, -0.7305458201604784, 0.4260424892761426, -1.1154404173816563, 1.7386153510183529, 1.8996270301248646, -0.022043989066206783, -2.08107613924143, 0.10383859554091508, 1.300271012272863, -0.44790591147914155, 0.32454891365895494, 0.723557539054515, -0.4526175565216972, 1.5793439257679158, -1.2460820007359723, 1.115935175496016, -0.07877482710809654, -1.730466220665265, 1.846744729189646, -0.19870976067514978, -0.12123592053565618, 1.3852277591750157, -0.2656543567586974, -0.07555173388232261, 0.07777723955138618, 0.907301321878093, -0.4107678910895667, 1.0969607063495408, 2.312284690894676, 0.35708899337781286, -0.14919636371702155, 0.10587794777827615, 0.19445728205069596, -0.05300858756121772, 0.8949819385269817, 2.218827117112159, 0.7060532591602858, -0.131418896375061, 0.491284065175089, -0.9893054759795129, -0.08954705247396552, 0.27609733254111335, 1.702681047136967, 0.22434733425503514, 0.6696692982817731, 2.314142962463807, 1.0622561275932678, -0.4295730165307976, 1.268635692597944, -0.5617857296247518, -0.04831566984239649, 0.6961244218118591, 0.04787514173602842, -2.4211481405527833, 0.3895740200646518, -1.3291272982016469, 0.11889810264841535, -0.08730316360939917, 0.21079474055037464, 0.5034361648353576, -0.868718445356883, -0.0994953565207857, 0.15250135972298487, 1.9040880921245162, 0.0779133281913371, -1.245117905007259, -0.09485339001235499, 0.8882549753384171, -0.26831172103457623, -0.9086119757298903, 0.33148975957829013, -0.15318039179708207, 0.11562239596100848, 0.7578807194141244, -0.5585578756818593, -1.2714220005791093, -1.3660870756577828]}],\n",
       "                        {\"legend\": {\"bgcolor\": \"#F5F6F9\", \"font\": {\"color\": \"#4D5663\"}}, \"paper_bgcolor\": \"#F5F6F9\", \"plot_bgcolor\": \"#F5F6F9\", \"template\": {\"data\": {\"bar\": [{\"error_x\": {\"color\": \"#2a3f5f\"}, \"error_y\": {\"color\": \"#2a3f5f\"}, \"marker\": {\"line\": {\"color\": \"#E5ECF6\", \"width\": 0.5}}, \"type\": \"bar\"}], \"barpolar\": [{\"marker\": {\"line\": {\"color\": \"#E5ECF6\", \"width\": 0.5}}, \"type\": \"barpolar\"}], \"carpet\": [{\"aaxis\": {\"endlinecolor\": \"#2a3f5f\", \"gridcolor\": \"white\", \"linecolor\": \"white\", \"minorgridcolor\": \"white\", \"startlinecolor\": \"#2a3f5f\"}, \"baxis\": {\"endlinecolor\": \"#2a3f5f\", \"gridcolor\": \"white\", \"linecolor\": \"white\", \"minorgridcolor\": \"white\", \"startlinecolor\": \"#2a3f5f\"}, \"type\": \"carpet\"}], \"choropleth\": [{\"colorbar\": {\"outlinewidth\": 0, \"ticks\": \"\"}, \"type\": \"choropleth\"}], \"contour\": [{\"colorbar\": {\"outlinewidth\": 0, \"ticks\": \"\"}, \"colorscale\": [[0.0, \"#0d0887\"], [0.1111111111111111, \"#46039f\"], [0.2222222222222222, \"#7201a8\"], [0.3333333333333333, \"#9c179e\"], [0.4444444444444444, \"#bd3786\"], [0.5555555555555556, \"#d8576b\"], [0.6666666666666666, \"#ed7953\"], [0.7777777777777778, \"#fb9f3a\"], [0.8888888888888888, \"#fdca26\"], [1.0, \"#f0f921\"]], \"type\": \"contour\"}], \"contourcarpet\": [{\"colorbar\": {\"outlinewidth\": 0, \"ticks\": \"\"}, \"type\": \"contourcarpet\"}], \"heatmap\": [{\"colorbar\": {\"outlinewidth\": 0, \"ticks\": \"\"}, \"colorscale\": [[0.0, \"#0d0887\"], [0.1111111111111111, \"#46039f\"], [0.2222222222222222, \"#7201a8\"], [0.3333333333333333, \"#9c179e\"], [0.4444444444444444, \"#bd3786\"], [0.5555555555555556, \"#d8576b\"], [0.6666666666666666, \"#ed7953\"], [0.7777777777777778, \"#fb9f3a\"], [0.8888888888888888, \"#fdca26\"], [1.0, \"#f0f921\"]], \"type\": \"heatmap\"}], \"heatmapgl\": [{\"colorbar\": {\"outlinewidth\": 0, \"ticks\": \"\"}, \"colorscale\": [[0.0, \"#0d0887\"], [0.1111111111111111, \"#46039f\"], [0.2222222222222222, \"#7201a8\"], [0.3333333333333333, \"#9c179e\"], [0.4444444444444444, \"#bd3786\"], [0.5555555555555556, \"#d8576b\"], [0.6666666666666666, \"#ed7953\"], [0.7777777777777778, \"#fb9f3a\"], [0.8888888888888888, \"#fdca26\"], [1.0, \"#f0f921\"]], \"type\": \"heatmapgl\"}], \"histogram\": [{\"marker\": {\"colorbar\": {\"outlinewidth\": 0, \"ticks\": \"\"}}, \"type\": \"histogram\"}], \"histogram2d\": [{\"colorbar\": {\"outlinewidth\": 0, \"ticks\": \"\"}, \"colorscale\": [[0.0, \"#0d0887\"], [0.1111111111111111, \"#46039f\"], [0.2222222222222222, \"#7201a8\"], [0.3333333333333333, \"#9c179e\"], [0.4444444444444444, \"#bd3786\"], [0.5555555555555556, \"#d8576b\"], [0.6666666666666666, \"#ed7953\"], [0.7777777777777778, \"#fb9f3a\"], [0.8888888888888888, \"#fdca26\"], [1.0, \"#f0f921\"]], \"type\": \"histogram2d\"}], \"histogram2dcontour\": [{\"colorbar\": {\"outlinewidth\": 0, \"ticks\": \"\"}, \"colorscale\": [[0.0, \"#0d0887\"], [0.1111111111111111, \"#46039f\"], [0.2222222222222222, \"#7201a8\"], [0.3333333333333333, \"#9c179e\"], [0.4444444444444444, \"#bd3786\"], [0.5555555555555556, \"#d8576b\"], [0.6666666666666666, \"#ed7953\"], [0.7777777777777778, \"#fb9f3a\"], [0.8888888888888888, \"#fdca26\"], [1.0, \"#f0f921\"]], \"type\": \"histogram2dcontour\"}], \"mesh3d\": [{\"colorbar\": {\"outlinewidth\": 0, \"ticks\": \"\"}, \"type\": \"mesh3d\"}], \"parcoords\": [{\"line\": {\"colorbar\": {\"outlinewidth\": 0, \"ticks\": \"\"}}, \"type\": \"parcoords\"}], \"pie\": [{\"automargin\": true, \"type\": \"pie\"}], \"scatter\": [{\"marker\": {\"colorbar\": {\"outlinewidth\": 0, \"ticks\": \"\"}}, \"type\": \"scatter\"}], \"scatter3d\": [{\"line\": {\"colorbar\": {\"outlinewidth\": 0, \"ticks\": \"\"}}, \"marker\": {\"colorbar\": {\"outlinewidth\": 0, \"ticks\": \"\"}}, \"type\": \"scatter3d\"}], \"scattercarpet\": [{\"marker\": {\"colorbar\": {\"outlinewidth\": 0, \"ticks\": \"\"}}, \"type\": \"scattercarpet\"}], \"scattergeo\": [{\"marker\": {\"colorbar\": {\"outlinewidth\": 0, \"ticks\": \"\"}}, \"type\": \"scattergeo\"}], \"scattergl\": [{\"marker\": {\"colorbar\": {\"outlinewidth\": 0, \"ticks\": \"\"}}, \"type\": \"scattergl\"}], \"scattermapbox\": [{\"marker\": {\"colorbar\": {\"outlinewidth\": 0, \"ticks\": \"\"}}, \"type\": \"scattermapbox\"}], \"scatterpolar\": [{\"marker\": {\"colorbar\": {\"outlinewidth\": 0, \"ticks\": \"\"}}, \"type\": \"scatterpolar\"}], \"scatterpolargl\": [{\"marker\": {\"colorbar\": {\"outlinewidth\": 0, \"ticks\": \"\"}}, \"type\": \"scatterpolargl\"}], \"scatterternary\": [{\"marker\": {\"colorbar\": {\"outlinewidth\": 0, \"ticks\": \"\"}}, \"type\": \"scatterternary\"}], \"surface\": [{\"colorbar\": {\"outlinewidth\": 0, \"ticks\": \"\"}, \"colorscale\": [[0.0, \"#0d0887\"], [0.1111111111111111, \"#46039f\"], [0.2222222222222222, \"#7201a8\"], [0.3333333333333333, \"#9c179e\"], [0.4444444444444444, \"#bd3786\"], [0.5555555555555556, \"#d8576b\"], [0.6666666666666666, \"#ed7953\"], [0.7777777777777778, \"#fb9f3a\"], [0.8888888888888888, \"#fdca26\"], [1.0, \"#f0f921\"]], \"type\": \"surface\"}], \"table\": [{\"cells\": {\"fill\": {\"color\": \"#EBF0F8\"}, \"line\": {\"color\": \"white\"}}, \"header\": {\"fill\": {\"color\": \"#C8D4E3\"}, \"line\": {\"color\": \"white\"}}, \"type\": \"table\"}]}, \"layout\": {\"annotationdefaults\": {\"arrowcolor\": \"#2a3f5f\", \"arrowhead\": 0, \"arrowwidth\": 1}, \"coloraxis\": {\"colorbar\": {\"outlinewidth\": 0, \"ticks\": \"\"}}, \"colorscale\": {\"diverging\": [[0, \"#8e0152\"], [0.1, \"#c51b7d\"], [0.2, \"#de77ae\"], [0.3, \"#f1b6da\"], [0.4, \"#fde0ef\"], [0.5, \"#f7f7f7\"], [0.6, \"#e6f5d0\"], [0.7, \"#b8e186\"], [0.8, \"#7fbc41\"], [0.9, \"#4d9221\"], [1, \"#276419\"]], \"sequential\": [[0.0, \"#0d0887\"], [0.1111111111111111, \"#46039f\"], [0.2222222222222222, \"#7201a8\"], [0.3333333333333333, \"#9c179e\"], [0.4444444444444444, \"#bd3786\"], [0.5555555555555556, \"#d8576b\"], [0.6666666666666666, \"#ed7953\"], [0.7777777777777778, \"#fb9f3a\"], [0.8888888888888888, \"#fdca26\"], [1.0, \"#f0f921\"]], \"sequentialminus\": [[0.0, \"#0d0887\"], [0.1111111111111111, \"#46039f\"], [0.2222222222222222, \"#7201a8\"], [0.3333333333333333, \"#9c179e\"], [0.4444444444444444, \"#bd3786\"], [0.5555555555555556, \"#d8576b\"], [0.6666666666666666, \"#ed7953\"], [0.7777777777777778, \"#fb9f3a\"], [0.8888888888888888, \"#fdca26\"], [1.0, \"#f0f921\"]]}, \"colorway\": [\"#636efa\", \"#EF553B\", \"#00cc96\", \"#ab63fa\", \"#FFA15A\", \"#19d3f3\", \"#FF6692\", \"#B6E880\", \"#FF97FF\", \"#FECB52\"], \"font\": {\"color\": \"#2a3f5f\"}, \"geo\": {\"bgcolor\": \"white\", \"lakecolor\": \"white\", \"landcolor\": \"#E5ECF6\", \"showlakes\": true, \"showland\": true, \"subunitcolor\": \"white\"}, \"hoverlabel\": {\"align\": \"left\"}, \"hovermode\": \"closest\", \"mapbox\": {\"style\": \"light\"}, \"paper_bgcolor\": \"white\", \"plot_bgcolor\": \"#E5ECF6\", \"polar\": {\"angularaxis\": {\"gridcolor\": \"white\", \"linecolor\": \"white\", \"ticks\": \"\"}, \"bgcolor\": \"#E5ECF6\", \"radialaxis\": {\"gridcolor\": \"white\", \"linecolor\": \"white\", \"ticks\": \"\"}}, \"scene\": {\"xaxis\": {\"backgroundcolor\": \"#E5ECF6\", \"gridcolor\": \"white\", \"gridwidth\": 2, \"linecolor\": \"white\", \"showbackground\": true, \"ticks\": \"\", \"zerolinecolor\": \"white\"}, \"yaxis\": {\"backgroundcolor\": \"#E5ECF6\", \"gridcolor\": \"white\", \"gridwidth\": 2, \"linecolor\": \"white\", \"showbackground\": true, \"ticks\": \"\", \"zerolinecolor\": \"white\"}, \"zaxis\": {\"backgroundcolor\": \"#E5ECF6\", \"gridcolor\": \"white\", \"gridwidth\": 2, \"linecolor\": \"white\", \"showbackground\": true, \"ticks\": \"\", \"zerolinecolor\": \"white\"}}, \"shapedefaults\": {\"line\": {\"color\": \"#2a3f5f\"}}, \"ternary\": {\"aaxis\": {\"gridcolor\": \"white\", \"linecolor\": \"white\", \"ticks\": \"\"}, \"baxis\": {\"gridcolor\": \"white\", \"linecolor\": \"white\", \"ticks\": \"\"}, \"bgcolor\": \"#E5ECF6\", \"caxis\": {\"gridcolor\": \"white\", \"linecolor\": \"white\", \"ticks\": \"\"}}, \"title\": {\"x\": 0.05}, \"xaxis\": {\"automargin\": true, \"gridcolor\": \"white\", \"linecolor\": \"white\", \"ticks\": \"\", \"title\": {\"standoff\": 15}, \"zerolinecolor\": \"white\", \"zerolinewidth\": 2}, \"yaxis\": {\"automargin\": true, \"gridcolor\": \"white\", \"linecolor\": \"white\", \"ticks\": \"\", \"title\": {\"standoff\": 15}, \"zerolinecolor\": \"white\", \"zerolinewidth\": 2}}}, \"title\": {\"font\": {\"color\": \"#4D5663\"}}, \"xaxis\": {\"gridcolor\": \"#E1E5ED\", \"showgrid\": true, \"tickfont\": {\"color\": \"#4D5663\"}, \"title\": {\"font\": {\"color\": \"#4D5663\"}, \"text\": \"\"}, \"zerolinecolor\": \"#E1E5ED\"}, \"yaxis\": {\"gridcolor\": \"#E1E5ED\", \"showgrid\": true, \"tickfont\": {\"color\": \"#4D5663\"}, \"title\": {\"font\": {\"color\": \"#4D5663\"}, \"text\": \"\"}, \"zerolinecolor\": \"#E1E5ED\"}},\n",
       "                        {\"showLink\": true, \"linkText\": \"Export to plot.ly\", \"plotlyServerURL\": \"https://plot.ly\", \"responsive\": true}\n",
       "                    ).then(function(){\n",
       "                            \n",
       "var gd = document.getElementById('3fa75279-0416-4705-8b8a-2b976c2d83ed');\n",
       "var x = new MutationObserver(function (mutations, observer) {{\n",
       "        var display = window.getComputedStyle(gd).display;\n",
       "        if (!display || display === 'none') {{\n",
       "            console.log([gd, 'removed!']);\n",
       "            Plotly.purge(gd);\n",
       "            observer.disconnect();\n",
       "        }}\n",
       "}});\n",
       "\n",
       "// Listen for the removal of the full notebook cells\n",
       "var notebookContainer = gd.closest('#notebook-container');\n",
       "if (notebookContainer) {{\n",
       "    x.observe(notebookContainer, {childList: true});\n",
       "}}\n",
       "\n",
       "// Listen for the clearing of the current output cell\n",
       "var outputEl = gd.closest('.output');\n",
       "if (outputEl) {{\n",
       "    x.observe(outputEl, {childList: true});\n",
       "}}\n",
       "\n",
       "                        })\n",
       "                };\n",
       "                });\n",
       "            </script>\n",
       "        </div>"
      ]
     },
     "metadata": {},
     "output_type": "display_data"
    }
   ],
   "source": [
    "df.iplot(kind='box')"
   ]
  },
  {
   "cell_type": "markdown",
   "metadata": {},
   "source": [
    "## 3d Surface"
   ]
  },
  {
   "cell_type": "code",
   "execution_count": 32,
   "metadata": {},
   "outputs": [],
   "source": [
    "df3 = pd.DataFrame({'x':[1,2,3,4,5], 'y':[10,20,30,15,5], 'z':[5,4,3,2,1]})"
   ]
  },
  {
   "cell_type": "code",
   "execution_count": 33,
   "metadata": {},
   "outputs": [
    {
     "data": {
      "text/html": [
       "<div>\n",
       "<style scoped>\n",
       "    .dataframe tbody tr th:only-of-type {\n",
       "        vertical-align: middle;\n",
       "    }\n",
       "\n",
       "    .dataframe tbody tr th {\n",
       "        vertical-align: top;\n",
       "    }\n",
       "\n",
       "    .dataframe thead th {\n",
       "        text-align: right;\n",
       "    }\n",
       "</style>\n",
       "<table border=\"1\" class=\"dataframe\">\n",
       "  <thead>\n",
       "    <tr style=\"text-align: right;\">\n",
       "      <th></th>\n",
       "      <th>x</th>\n",
       "      <th>y</th>\n",
       "      <th>z</th>\n",
       "    </tr>\n",
       "  </thead>\n",
       "  <tbody>\n",
       "    <tr>\n",
       "      <td>0</td>\n",
       "      <td>1</td>\n",
       "      <td>10</td>\n",
       "      <td>5</td>\n",
       "    </tr>\n",
       "    <tr>\n",
       "      <td>1</td>\n",
       "      <td>2</td>\n",
       "      <td>20</td>\n",
       "      <td>4</td>\n",
       "    </tr>\n",
       "    <tr>\n",
       "      <td>2</td>\n",
       "      <td>3</td>\n",
       "      <td>30</td>\n",
       "      <td>3</td>\n",
       "    </tr>\n",
       "    <tr>\n",
       "      <td>3</td>\n",
       "      <td>4</td>\n",
       "      <td>15</td>\n",
       "      <td>2</td>\n",
       "    </tr>\n",
       "    <tr>\n",
       "      <td>4</td>\n",
       "      <td>5</td>\n",
       "      <td>5</td>\n",
       "      <td>1</td>\n",
       "    </tr>\n",
       "  </tbody>\n",
       "</table>\n",
       "</div>"
      ],
      "text/plain": [
       "   x   y  z\n",
       "0  1  10  5\n",
       "1  2  20  4\n",
       "2  3  30  3\n",
       "3  4  15  2\n",
       "4  5   5  1"
      ]
     },
     "execution_count": 33,
     "metadata": {},
     "output_type": "execute_result"
    }
   ],
   "source": [
    "df3.head()"
   ]
  },
  {
   "cell_type": "code",
   "execution_count": 37,
   "metadata": {},
   "outputs": [
    {
     "data": {
      "application/vnd.plotly.v1+json": {
       "config": {
        "linkText": "Export to plot.ly",
        "plotlyServerURL": "https://plot.ly",
        "showLink": true
       },
       "data": [
        {
         "colorscale": [
          [
           0,
           "rgb(165,0,38)"
          ],
          [
           0.1,
           "rgb(215,48,39)"
          ],
          [
           0.2,
           "rgb(244,109,67)"
          ],
          [
           0.3,
           "rgb(253,174,97)"
          ],
          [
           0.4,
           "rgb(254,224,144)"
          ],
          [
           0.5,
           "rgb(255,255,191)"
          ],
          [
           0.6,
           "rgb(224,243,248)"
          ],
          [
           0.7,
           "rgb(171,217,233)"
          ],
          [
           0.8,
           "rgb(116,173,209)"
          ],
          [
           0.9,
           "rgb(69,117,180)"
          ],
          [
           1,
           "rgb(49,54,149)"
          ]
         ],
         "type": "surface",
         "x": [
          0,
          1,
          2,
          3,
          4
         ],
         "y": [
          "x",
          "y",
          "z"
         ],
         "z": [
          [
           1,
           2,
           3,
           4,
           5
          ],
          [
           10,
           20,
           30,
           15,
           5
          ],
          [
           5,
           4,
           3,
           2,
           1
          ]
         ]
        }
       ],
       "layout": {
        "legend": {
         "bgcolor": "#F5F6F9",
         "font": {
          "color": "#4D5663"
         }
        },
        "paper_bgcolor": "#F5F6F9",
        "plot_bgcolor": "#F5F6F9",
        "template": {
         "data": {
          "bar": [
           {
            "error_x": {
             "color": "#2a3f5f"
            },
            "error_y": {
             "color": "#2a3f5f"
            },
            "marker": {
             "line": {
              "color": "#E5ECF6",
              "width": 0.5
             }
            },
            "type": "bar"
           }
          ],
          "barpolar": [
           {
            "marker": {
             "line": {
              "color": "#E5ECF6",
              "width": 0.5
             }
            },
            "type": "barpolar"
           }
          ],
          "carpet": [
           {
            "aaxis": {
             "endlinecolor": "#2a3f5f",
             "gridcolor": "white",
             "linecolor": "white",
             "minorgridcolor": "white",
             "startlinecolor": "#2a3f5f"
            },
            "baxis": {
             "endlinecolor": "#2a3f5f",
             "gridcolor": "white",
             "linecolor": "white",
             "minorgridcolor": "white",
             "startlinecolor": "#2a3f5f"
            },
            "type": "carpet"
           }
          ],
          "choropleth": [
           {
            "colorbar": {
             "outlinewidth": 0,
             "ticks": ""
            },
            "type": "choropleth"
           }
          ],
          "contour": [
           {
            "colorbar": {
             "outlinewidth": 0,
             "ticks": ""
            },
            "colorscale": [
             [
              0,
              "#0d0887"
             ],
             [
              0.1111111111111111,
              "#46039f"
             ],
             [
              0.2222222222222222,
              "#7201a8"
             ],
             [
              0.3333333333333333,
              "#9c179e"
             ],
             [
              0.4444444444444444,
              "#bd3786"
             ],
             [
              0.5555555555555556,
              "#d8576b"
             ],
             [
              0.6666666666666666,
              "#ed7953"
             ],
             [
              0.7777777777777778,
              "#fb9f3a"
             ],
             [
              0.8888888888888888,
              "#fdca26"
             ],
             [
              1,
              "#f0f921"
             ]
            ],
            "type": "contour"
           }
          ],
          "contourcarpet": [
           {
            "colorbar": {
             "outlinewidth": 0,
             "ticks": ""
            },
            "type": "contourcarpet"
           }
          ],
          "heatmap": [
           {
            "colorbar": {
             "outlinewidth": 0,
             "ticks": ""
            },
            "colorscale": [
             [
              0,
              "#0d0887"
             ],
             [
              0.1111111111111111,
              "#46039f"
             ],
             [
              0.2222222222222222,
              "#7201a8"
             ],
             [
              0.3333333333333333,
              "#9c179e"
             ],
             [
              0.4444444444444444,
              "#bd3786"
             ],
             [
              0.5555555555555556,
              "#d8576b"
             ],
             [
              0.6666666666666666,
              "#ed7953"
             ],
             [
              0.7777777777777778,
              "#fb9f3a"
             ],
             [
              0.8888888888888888,
              "#fdca26"
             ],
             [
              1,
              "#f0f921"
             ]
            ],
            "type": "heatmap"
           }
          ],
          "heatmapgl": [
           {
            "colorbar": {
             "outlinewidth": 0,
             "ticks": ""
            },
            "colorscale": [
             [
              0,
              "#0d0887"
             ],
             [
              0.1111111111111111,
              "#46039f"
             ],
             [
              0.2222222222222222,
              "#7201a8"
             ],
             [
              0.3333333333333333,
              "#9c179e"
             ],
             [
              0.4444444444444444,
              "#bd3786"
             ],
             [
              0.5555555555555556,
              "#d8576b"
             ],
             [
              0.6666666666666666,
              "#ed7953"
             ],
             [
              0.7777777777777778,
              "#fb9f3a"
             ],
             [
              0.8888888888888888,
              "#fdca26"
             ],
             [
              1,
              "#f0f921"
             ]
            ],
            "type": "heatmapgl"
           }
          ],
          "histogram": [
           {
            "marker": {
             "colorbar": {
              "outlinewidth": 0,
              "ticks": ""
             }
            },
            "type": "histogram"
           }
          ],
          "histogram2d": [
           {
            "colorbar": {
             "outlinewidth": 0,
             "ticks": ""
            },
            "colorscale": [
             [
              0,
              "#0d0887"
             ],
             [
              0.1111111111111111,
              "#46039f"
             ],
             [
              0.2222222222222222,
              "#7201a8"
             ],
             [
              0.3333333333333333,
              "#9c179e"
             ],
             [
              0.4444444444444444,
              "#bd3786"
             ],
             [
              0.5555555555555556,
              "#d8576b"
             ],
             [
              0.6666666666666666,
              "#ed7953"
             ],
             [
              0.7777777777777778,
              "#fb9f3a"
             ],
             [
              0.8888888888888888,
              "#fdca26"
             ],
             [
              1,
              "#f0f921"
             ]
            ],
            "type": "histogram2d"
           }
          ],
          "histogram2dcontour": [
           {
            "colorbar": {
             "outlinewidth": 0,
             "ticks": ""
            },
            "colorscale": [
             [
              0,
              "#0d0887"
             ],
             [
              0.1111111111111111,
              "#46039f"
             ],
             [
              0.2222222222222222,
              "#7201a8"
             ],
             [
              0.3333333333333333,
              "#9c179e"
             ],
             [
              0.4444444444444444,
              "#bd3786"
             ],
             [
              0.5555555555555556,
              "#d8576b"
             ],
             [
              0.6666666666666666,
              "#ed7953"
             ],
             [
              0.7777777777777778,
              "#fb9f3a"
             ],
             [
              0.8888888888888888,
              "#fdca26"
             ],
             [
              1,
              "#f0f921"
             ]
            ],
            "type": "histogram2dcontour"
           }
          ],
          "mesh3d": [
           {
            "colorbar": {
             "outlinewidth": 0,
             "ticks": ""
            },
            "type": "mesh3d"
           }
          ],
          "parcoords": [
           {
            "line": {
             "colorbar": {
              "outlinewidth": 0,
              "ticks": ""
             }
            },
            "type": "parcoords"
           }
          ],
          "pie": [
           {
            "automargin": true,
            "type": "pie"
           }
          ],
          "scatter": [
           {
            "marker": {
             "colorbar": {
              "outlinewidth": 0,
              "ticks": ""
             }
            },
            "type": "scatter"
           }
          ],
          "scatter3d": [
           {
            "line": {
             "colorbar": {
              "outlinewidth": 0,
              "ticks": ""
             }
            },
            "marker": {
             "colorbar": {
              "outlinewidth": 0,
              "ticks": ""
             }
            },
            "type": "scatter3d"
           }
          ],
          "scattercarpet": [
           {
            "marker": {
             "colorbar": {
              "outlinewidth": 0,
              "ticks": ""
             }
            },
            "type": "scattercarpet"
           }
          ],
          "scattergeo": [
           {
            "marker": {
             "colorbar": {
              "outlinewidth": 0,
              "ticks": ""
             }
            },
            "type": "scattergeo"
           }
          ],
          "scattergl": [
           {
            "marker": {
             "colorbar": {
              "outlinewidth": 0,
              "ticks": ""
             }
            },
            "type": "scattergl"
           }
          ],
          "scattermapbox": [
           {
            "marker": {
             "colorbar": {
              "outlinewidth": 0,
              "ticks": ""
             }
            },
            "type": "scattermapbox"
           }
          ],
          "scatterpolar": [
           {
            "marker": {
             "colorbar": {
              "outlinewidth": 0,
              "ticks": ""
             }
            },
            "type": "scatterpolar"
           }
          ],
          "scatterpolargl": [
           {
            "marker": {
             "colorbar": {
              "outlinewidth": 0,
              "ticks": ""
             }
            },
            "type": "scatterpolargl"
           }
          ],
          "scatterternary": [
           {
            "marker": {
             "colorbar": {
              "outlinewidth": 0,
              "ticks": ""
             }
            },
            "type": "scatterternary"
           }
          ],
          "surface": [
           {
            "colorbar": {
             "outlinewidth": 0,
             "ticks": ""
            },
            "colorscale": [
             [
              0,
              "#0d0887"
             ],
             [
              0.1111111111111111,
              "#46039f"
             ],
             [
              0.2222222222222222,
              "#7201a8"
             ],
             [
              0.3333333333333333,
              "#9c179e"
             ],
             [
              0.4444444444444444,
              "#bd3786"
             ],
             [
              0.5555555555555556,
              "#d8576b"
             ],
             [
              0.6666666666666666,
              "#ed7953"
             ],
             [
              0.7777777777777778,
              "#fb9f3a"
             ],
             [
              0.8888888888888888,
              "#fdca26"
             ],
             [
              1,
              "#f0f921"
             ]
            ],
            "type": "surface"
           }
          ],
          "table": [
           {
            "cells": {
             "fill": {
              "color": "#EBF0F8"
             },
             "line": {
              "color": "white"
             }
            },
            "header": {
             "fill": {
              "color": "#C8D4E3"
             },
             "line": {
              "color": "white"
             }
            },
            "type": "table"
           }
          ]
         },
         "layout": {
          "annotationdefaults": {
           "arrowcolor": "#2a3f5f",
           "arrowhead": 0,
           "arrowwidth": 1
          },
          "coloraxis": {
           "colorbar": {
            "outlinewidth": 0,
            "ticks": ""
           }
          },
          "colorscale": {
           "diverging": [
            [
             0,
             "#8e0152"
            ],
            [
             0.1,
             "#c51b7d"
            ],
            [
             0.2,
             "#de77ae"
            ],
            [
             0.3,
             "#f1b6da"
            ],
            [
             0.4,
             "#fde0ef"
            ],
            [
             0.5,
             "#f7f7f7"
            ],
            [
             0.6,
             "#e6f5d0"
            ],
            [
             0.7,
             "#b8e186"
            ],
            [
             0.8,
             "#7fbc41"
            ],
            [
             0.9,
             "#4d9221"
            ],
            [
             1,
             "#276419"
            ]
           ],
           "sequential": [
            [
             0,
             "#0d0887"
            ],
            [
             0.1111111111111111,
             "#46039f"
            ],
            [
             0.2222222222222222,
             "#7201a8"
            ],
            [
             0.3333333333333333,
             "#9c179e"
            ],
            [
             0.4444444444444444,
             "#bd3786"
            ],
            [
             0.5555555555555556,
             "#d8576b"
            ],
            [
             0.6666666666666666,
             "#ed7953"
            ],
            [
             0.7777777777777778,
             "#fb9f3a"
            ],
            [
             0.8888888888888888,
             "#fdca26"
            ],
            [
             1,
             "#f0f921"
            ]
           ],
           "sequentialminus": [
            [
             0,
             "#0d0887"
            ],
            [
             0.1111111111111111,
             "#46039f"
            ],
            [
             0.2222222222222222,
             "#7201a8"
            ],
            [
             0.3333333333333333,
             "#9c179e"
            ],
            [
             0.4444444444444444,
             "#bd3786"
            ],
            [
             0.5555555555555556,
             "#d8576b"
            ],
            [
             0.6666666666666666,
             "#ed7953"
            ],
            [
             0.7777777777777778,
             "#fb9f3a"
            ],
            [
             0.8888888888888888,
             "#fdca26"
            ],
            [
             1,
             "#f0f921"
            ]
           ]
          },
          "colorway": [
           "#636efa",
           "#EF553B",
           "#00cc96",
           "#ab63fa",
           "#FFA15A",
           "#19d3f3",
           "#FF6692",
           "#B6E880",
           "#FF97FF",
           "#FECB52"
          ],
          "font": {
           "color": "#2a3f5f"
          },
          "geo": {
           "bgcolor": "white",
           "lakecolor": "white",
           "landcolor": "#E5ECF6",
           "showlakes": true,
           "showland": true,
           "subunitcolor": "white"
          },
          "hoverlabel": {
           "align": "left"
          },
          "hovermode": "closest",
          "mapbox": {
           "style": "light"
          },
          "paper_bgcolor": "white",
          "plot_bgcolor": "#E5ECF6",
          "polar": {
           "angularaxis": {
            "gridcolor": "white",
            "linecolor": "white",
            "ticks": ""
           },
           "bgcolor": "#E5ECF6",
           "radialaxis": {
            "gridcolor": "white",
            "linecolor": "white",
            "ticks": ""
           }
          },
          "scene": {
           "xaxis": {
            "backgroundcolor": "#E5ECF6",
            "gridcolor": "white",
            "gridwidth": 2,
            "linecolor": "white",
            "showbackground": true,
            "ticks": "",
            "zerolinecolor": "white"
           },
           "yaxis": {
            "backgroundcolor": "#E5ECF6",
            "gridcolor": "white",
            "gridwidth": 2,
            "linecolor": "white",
            "showbackground": true,
            "ticks": "",
            "zerolinecolor": "white"
           },
           "zaxis": {
            "backgroundcolor": "#E5ECF6",
            "gridcolor": "white",
            "gridwidth": 2,
            "linecolor": "white",
            "showbackground": true,
            "ticks": "",
            "zerolinecolor": "white"
           }
          },
          "shapedefaults": {
           "line": {
            "color": "#2a3f5f"
           }
          },
          "ternary": {
           "aaxis": {
            "gridcolor": "white",
            "linecolor": "white",
            "ticks": ""
           },
           "baxis": {
            "gridcolor": "white",
            "linecolor": "white",
            "ticks": ""
           },
           "bgcolor": "#E5ECF6",
           "caxis": {
            "gridcolor": "white",
            "linecolor": "white",
            "ticks": ""
           }
          },
          "title": {
           "x": 0.05
          },
          "xaxis": {
           "automargin": true,
           "gridcolor": "white",
           "linecolor": "white",
           "ticks": "",
           "title": {
            "standoff": 15
           },
           "zerolinecolor": "white",
           "zerolinewidth": 2
          },
          "yaxis": {
           "automargin": true,
           "gridcolor": "white",
           "linecolor": "white",
           "ticks": "",
           "title": {
            "standoff": 15
           },
           "zerolinecolor": "white",
           "zerolinewidth": 2
          }
         }
        },
        "title": {
         "font": {
          "color": "#4D5663"
         }
        },
        "xaxis": {
         "gridcolor": "#E1E5ED",
         "showgrid": true,
         "tickfont": {
          "color": "#4D5663"
         },
         "title": {
          "font": {
           "color": "#4D5663"
          },
          "text": ""
         },
         "zerolinecolor": "#E1E5ED"
        },
        "yaxis": {
         "gridcolor": "#E1E5ED",
         "showgrid": true,
         "tickfont": {
          "color": "#4D5663"
         },
         "title": {
          "font": {
           "color": "#4D5663"
          },
          "text": ""
         },
         "zerolinecolor": "#E1E5ED"
        }
       }
      },
      "text/html": [
       "<div>\n",
       "        \n",
       "        \n",
       "            <div id=\"b8b66f0d-7abb-4514-8389-ec948a250015\" class=\"plotly-graph-div\" style=\"height:525px; width:100%;\"></div>\n",
       "            <script type=\"text/javascript\">\n",
       "                require([\"plotly\"], function(Plotly) {\n",
       "                    window.PLOTLYENV=window.PLOTLYENV || {};\n",
       "                    window.PLOTLYENV.BASE_URL='https://plot.ly';\n",
       "                    \n",
       "                if (document.getElementById(\"b8b66f0d-7abb-4514-8389-ec948a250015\")) {\n",
       "                    Plotly.newPlot(\n",
       "                        'b8b66f0d-7abb-4514-8389-ec948a250015',\n",
       "                        [{\"colorscale\": [[0.0, \"rgb(165,0,38)\"], [0.1, \"rgb(215,48,39)\"], [0.2, \"rgb(244,109,67)\"], [0.3, \"rgb(253,174,97)\"], [0.4, \"rgb(254,224,144)\"], [0.5, \"rgb(255,255,191)\"], [0.6, \"rgb(224,243,248)\"], [0.7, \"rgb(171,217,233)\"], [0.8, \"rgb(116,173,209)\"], [0.9, \"rgb(69,117,180)\"], [1.0, \"rgb(49,54,149)\"]], \"type\": \"surface\", \"x\": [0, 1, 2, 3, 4], \"y\": [\"x\", \"y\", \"z\"], \"z\": [[1, 2, 3, 4, 5], [10, 20, 30, 15, 5], [5, 4, 3, 2, 1]]}],\n",
       "                        {\"legend\": {\"bgcolor\": \"#F5F6F9\", \"font\": {\"color\": \"#4D5663\"}}, \"paper_bgcolor\": \"#F5F6F9\", \"plot_bgcolor\": \"#F5F6F9\", \"template\": {\"data\": {\"bar\": [{\"error_x\": {\"color\": \"#2a3f5f\"}, \"error_y\": {\"color\": \"#2a3f5f\"}, \"marker\": {\"line\": {\"color\": \"#E5ECF6\", \"width\": 0.5}}, \"type\": \"bar\"}], \"barpolar\": [{\"marker\": {\"line\": {\"color\": \"#E5ECF6\", \"width\": 0.5}}, \"type\": \"barpolar\"}], \"carpet\": [{\"aaxis\": {\"endlinecolor\": \"#2a3f5f\", \"gridcolor\": \"white\", \"linecolor\": \"white\", \"minorgridcolor\": \"white\", \"startlinecolor\": \"#2a3f5f\"}, \"baxis\": {\"endlinecolor\": \"#2a3f5f\", \"gridcolor\": \"white\", \"linecolor\": \"white\", \"minorgridcolor\": \"white\", \"startlinecolor\": \"#2a3f5f\"}, \"type\": \"carpet\"}], \"choropleth\": [{\"colorbar\": {\"outlinewidth\": 0, \"ticks\": \"\"}, \"type\": \"choropleth\"}], \"contour\": [{\"colorbar\": {\"outlinewidth\": 0, \"ticks\": \"\"}, \"colorscale\": [[0.0, \"#0d0887\"], [0.1111111111111111, \"#46039f\"], [0.2222222222222222, \"#7201a8\"], [0.3333333333333333, \"#9c179e\"], [0.4444444444444444, \"#bd3786\"], [0.5555555555555556, \"#d8576b\"], [0.6666666666666666, \"#ed7953\"], [0.7777777777777778, \"#fb9f3a\"], [0.8888888888888888, \"#fdca26\"], [1.0, \"#f0f921\"]], \"type\": \"contour\"}], \"contourcarpet\": [{\"colorbar\": {\"outlinewidth\": 0, \"ticks\": \"\"}, \"type\": \"contourcarpet\"}], \"heatmap\": [{\"colorbar\": {\"outlinewidth\": 0, \"ticks\": \"\"}, \"colorscale\": [[0.0, \"#0d0887\"], [0.1111111111111111, \"#46039f\"], [0.2222222222222222, \"#7201a8\"], [0.3333333333333333, \"#9c179e\"], [0.4444444444444444, \"#bd3786\"], [0.5555555555555556, \"#d8576b\"], [0.6666666666666666, \"#ed7953\"], [0.7777777777777778, \"#fb9f3a\"], [0.8888888888888888, \"#fdca26\"], [1.0, \"#f0f921\"]], \"type\": \"heatmap\"}], \"heatmapgl\": [{\"colorbar\": {\"outlinewidth\": 0, \"ticks\": \"\"}, \"colorscale\": [[0.0, \"#0d0887\"], [0.1111111111111111, \"#46039f\"], [0.2222222222222222, \"#7201a8\"], [0.3333333333333333, \"#9c179e\"], [0.4444444444444444, \"#bd3786\"], [0.5555555555555556, \"#d8576b\"], [0.6666666666666666, \"#ed7953\"], [0.7777777777777778, \"#fb9f3a\"], [0.8888888888888888, \"#fdca26\"], [1.0, \"#f0f921\"]], \"type\": \"heatmapgl\"}], \"histogram\": [{\"marker\": {\"colorbar\": {\"outlinewidth\": 0, \"ticks\": \"\"}}, \"type\": \"histogram\"}], \"histogram2d\": [{\"colorbar\": {\"outlinewidth\": 0, \"ticks\": \"\"}, \"colorscale\": [[0.0, \"#0d0887\"], [0.1111111111111111, \"#46039f\"], [0.2222222222222222, \"#7201a8\"], [0.3333333333333333, \"#9c179e\"], [0.4444444444444444, \"#bd3786\"], [0.5555555555555556, \"#d8576b\"], [0.6666666666666666, \"#ed7953\"], [0.7777777777777778, \"#fb9f3a\"], [0.8888888888888888, \"#fdca26\"], [1.0, \"#f0f921\"]], \"type\": \"histogram2d\"}], \"histogram2dcontour\": [{\"colorbar\": {\"outlinewidth\": 0, \"ticks\": \"\"}, \"colorscale\": [[0.0, \"#0d0887\"], [0.1111111111111111, \"#46039f\"], [0.2222222222222222, \"#7201a8\"], [0.3333333333333333, \"#9c179e\"], [0.4444444444444444, \"#bd3786\"], [0.5555555555555556, \"#d8576b\"], [0.6666666666666666, \"#ed7953\"], [0.7777777777777778, \"#fb9f3a\"], [0.8888888888888888, \"#fdca26\"], [1.0, \"#f0f921\"]], \"type\": \"histogram2dcontour\"}], \"mesh3d\": [{\"colorbar\": {\"outlinewidth\": 0, \"ticks\": \"\"}, \"type\": \"mesh3d\"}], \"parcoords\": [{\"line\": {\"colorbar\": {\"outlinewidth\": 0, \"ticks\": \"\"}}, \"type\": \"parcoords\"}], \"pie\": [{\"automargin\": true, \"type\": \"pie\"}], \"scatter\": [{\"marker\": {\"colorbar\": {\"outlinewidth\": 0, \"ticks\": \"\"}}, \"type\": \"scatter\"}], \"scatter3d\": [{\"line\": {\"colorbar\": {\"outlinewidth\": 0, \"ticks\": \"\"}}, \"marker\": {\"colorbar\": {\"outlinewidth\": 0, \"ticks\": \"\"}}, \"type\": \"scatter3d\"}], \"scattercarpet\": [{\"marker\": {\"colorbar\": {\"outlinewidth\": 0, \"ticks\": \"\"}}, \"type\": \"scattercarpet\"}], \"scattergeo\": [{\"marker\": {\"colorbar\": {\"outlinewidth\": 0, \"ticks\": \"\"}}, \"type\": \"scattergeo\"}], \"scattergl\": [{\"marker\": {\"colorbar\": {\"outlinewidth\": 0, \"ticks\": \"\"}}, \"type\": \"scattergl\"}], \"scattermapbox\": [{\"marker\": {\"colorbar\": {\"outlinewidth\": 0, \"ticks\": \"\"}}, \"type\": \"scattermapbox\"}], \"scatterpolar\": [{\"marker\": {\"colorbar\": {\"outlinewidth\": 0, \"ticks\": \"\"}}, \"type\": \"scatterpolar\"}], \"scatterpolargl\": [{\"marker\": {\"colorbar\": {\"outlinewidth\": 0, \"ticks\": \"\"}}, \"type\": \"scatterpolargl\"}], \"scatterternary\": [{\"marker\": {\"colorbar\": {\"outlinewidth\": 0, \"ticks\": \"\"}}, \"type\": \"scatterternary\"}], \"surface\": [{\"colorbar\": {\"outlinewidth\": 0, \"ticks\": \"\"}, \"colorscale\": [[0.0, \"#0d0887\"], [0.1111111111111111, \"#46039f\"], [0.2222222222222222, \"#7201a8\"], [0.3333333333333333, \"#9c179e\"], [0.4444444444444444, \"#bd3786\"], [0.5555555555555556, \"#d8576b\"], [0.6666666666666666, \"#ed7953\"], [0.7777777777777778, \"#fb9f3a\"], [0.8888888888888888, \"#fdca26\"], [1.0, \"#f0f921\"]], \"type\": \"surface\"}], \"table\": [{\"cells\": {\"fill\": {\"color\": \"#EBF0F8\"}, \"line\": {\"color\": \"white\"}}, \"header\": {\"fill\": {\"color\": \"#C8D4E3\"}, \"line\": {\"color\": \"white\"}}, \"type\": \"table\"}]}, \"layout\": {\"annotationdefaults\": {\"arrowcolor\": \"#2a3f5f\", \"arrowhead\": 0, \"arrowwidth\": 1}, \"coloraxis\": {\"colorbar\": {\"outlinewidth\": 0, \"ticks\": \"\"}}, \"colorscale\": {\"diverging\": [[0, \"#8e0152\"], [0.1, \"#c51b7d\"], [0.2, \"#de77ae\"], [0.3, \"#f1b6da\"], [0.4, \"#fde0ef\"], [0.5, \"#f7f7f7\"], [0.6, \"#e6f5d0\"], [0.7, \"#b8e186\"], [0.8, \"#7fbc41\"], [0.9, \"#4d9221\"], [1, \"#276419\"]], \"sequential\": [[0.0, \"#0d0887\"], [0.1111111111111111, \"#46039f\"], [0.2222222222222222, \"#7201a8\"], [0.3333333333333333, \"#9c179e\"], [0.4444444444444444, \"#bd3786\"], [0.5555555555555556, \"#d8576b\"], [0.6666666666666666, \"#ed7953\"], [0.7777777777777778, \"#fb9f3a\"], [0.8888888888888888, \"#fdca26\"], [1.0, \"#f0f921\"]], \"sequentialminus\": [[0.0, \"#0d0887\"], [0.1111111111111111, \"#46039f\"], [0.2222222222222222, \"#7201a8\"], [0.3333333333333333, \"#9c179e\"], [0.4444444444444444, \"#bd3786\"], [0.5555555555555556, \"#d8576b\"], [0.6666666666666666, \"#ed7953\"], [0.7777777777777778, \"#fb9f3a\"], [0.8888888888888888, \"#fdca26\"], [1.0, \"#f0f921\"]]}, \"colorway\": [\"#636efa\", \"#EF553B\", \"#00cc96\", \"#ab63fa\", \"#FFA15A\", \"#19d3f3\", \"#FF6692\", \"#B6E880\", \"#FF97FF\", \"#FECB52\"], \"font\": {\"color\": \"#2a3f5f\"}, \"geo\": {\"bgcolor\": \"white\", \"lakecolor\": \"white\", \"landcolor\": \"#E5ECF6\", \"showlakes\": true, \"showland\": true, \"subunitcolor\": \"white\"}, \"hoverlabel\": {\"align\": \"left\"}, \"hovermode\": \"closest\", \"mapbox\": {\"style\": \"light\"}, \"paper_bgcolor\": \"white\", \"plot_bgcolor\": \"#E5ECF6\", \"polar\": {\"angularaxis\": {\"gridcolor\": \"white\", \"linecolor\": \"white\", \"ticks\": \"\"}, \"bgcolor\": \"#E5ECF6\", \"radialaxis\": {\"gridcolor\": \"white\", \"linecolor\": \"white\", \"ticks\": \"\"}}, \"scene\": {\"xaxis\": {\"backgroundcolor\": \"#E5ECF6\", \"gridcolor\": \"white\", \"gridwidth\": 2, \"linecolor\": \"white\", \"showbackground\": true, \"ticks\": \"\", \"zerolinecolor\": \"white\"}, \"yaxis\": {\"backgroundcolor\": \"#E5ECF6\", \"gridcolor\": \"white\", \"gridwidth\": 2, \"linecolor\": \"white\", \"showbackground\": true, \"ticks\": \"\", \"zerolinecolor\": \"white\"}, \"zaxis\": {\"backgroundcolor\": \"#E5ECF6\", \"gridcolor\": \"white\", \"gridwidth\": 2, \"linecolor\": \"white\", \"showbackground\": true, \"ticks\": \"\", \"zerolinecolor\": \"white\"}}, \"shapedefaults\": {\"line\": {\"color\": \"#2a3f5f\"}}, \"ternary\": {\"aaxis\": {\"gridcolor\": \"white\", \"linecolor\": \"white\", \"ticks\": \"\"}, \"baxis\": {\"gridcolor\": \"white\", \"linecolor\": \"white\", \"ticks\": \"\"}, \"bgcolor\": \"#E5ECF6\", \"caxis\": {\"gridcolor\": \"white\", \"linecolor\": \"white\", \"ticks\": \"\"}}, \"title\": {\"x\": 0.05}, \"xaxis\": {\"automargin\": true, \"gridcolor\": \"white\", \"linecolor\": \"white\", \"ticks\": \"\", \"title\": {\"standoff\": 15}, \"zerolinecolor\": \"white\", \"zerolinewidth\": 2}, \"yaxis\": {\"automargin\": true, \"gridcolor\": \"white\", \"linecolor\": \"white\", \"ticks\": \"\", \"title\": {\"standoff\": 15}, \"zerolinecolor\": \"white\", \"zerolinewidth\": 2}}}, \"title\": {\"font\": {\"color\": \"#4D5663\"}}, \"xaxis\": {\"gridcolor\": \"#E1E5ED\", \"showgrid\": true, \"tickfont\": {\"color\": \"#4D5663\"}, \"title\": {\"font\": {\"color\": \"#4D5663\"}, \"text\": \"\"}, \"zerolinecolor\": \"#E1E5ED\"}, \"yaxis\": {\"gridcolor\": \"#E1E5ED\", \"showgrid\": true, \"tickfont\": {\"color\": \"#4D5663\"}, \"title\": {\"font\": {\"color\": \"#4D5663\"}, \"text\": \"\"}, \"zerolinecolor\": \"#E1E5ED\"}},\n",
       "                        {\"showLink\": true, \"linkText\": \"Export to plot.ly\", \"plotlyServerURL\": \"https://plot.ly\", \"responsive\": true}\n",
       "                    ).then(function(){\n",
       "                            \n",
       "var gd = document.getElementById('b8b66f0d-7abb-4514-8389-ec948a250015');\n",
       "var x = new MutationObserver(function (mutations, observer) {{\n",
       "        var display = window.getComputedStyle(gd).display;\n",
       "        if (!display || display === 'none') {{\n",
       "            console.log([gd, 'removed!']);\n",
       "            Plotly.purge(gd);\n",
       "            observer.disconnect();\n",
       "        }}\n",
       "}});\n",
       "\n",
       "// Listen for the removal of the full notebook cells\n",
       "var notebookContainer = gd.closest('#notebook-container');\n",
       "if (notebookContainer) {{\n",
       "    x.observe(notebookContainer, {childList: true});\n",
       "}}\n",
       "\n",
       "// Listen for the clearing of the current output cell\n",
       "var outputEl = gd.closest('.output');\n",
       "if (outputEl) {{\n",
       "    x.observe(outputEl, {childList: true});\n",
       "}}\n",
       "\n",
       "                        })\n",
       "                };\n",
       "                });\n",
       "            </script>\n",
       "        </div>"
      ]
     },
     "metadata": {},
     "output_type": "display_data"
    }
   ],
   "source": [
    "df3.iplot(kind='surface', colorscale='rdylbu')\n",
    "# check plotly docs for colorscales"
   ]
  },
  {
   "cell_type": "markdown",
   "metadata": {},
   "source": [
    "## Spread"
   ]
  },
  {
   "cell_type": "code",
   "execution_count": 38,
   "metadata": {},
   "outputs": [
    {
     "data": {
      "application/vnd.plotly.v1+json": {
       "config": {
        "linkText": "Export to plot.ly",
        "plotlyServerURL": "https://plot.ly",
        "showLink": true
       },
       "data": [
        {
         "line": {
          "color": "rgba(255, 153, 51, 1.0)",
          "dash": "solid",
          "shape": "linear",
          "width": 1.3
         },
         "mode": "lines",
         "name": "A",
         "text": "",
         "type": "scatter",
         "x": [
          0,
          1,
          2,
          3,
          4,
          5,
          6,
          7,
          8,
          9,
          10,
          11,
          12,
          13,
          14,
          15,
          16,
          17,
          18,
          19,
          20,
          21,
          22,
          23,
          24,
          25,
          26,
          27,
          28,
          29,
          30,
          31,
          32,
          33,
          34,
          35,
          36,
          37,
          38,
          39,
          40,
          41,
          42,
          43,
          44,
          45,
          46,
          47,
          48,
          49,
          50,
          51,
          52,
          53,
          54,
          55,
          56,
          57,
          58,
          59,
          60,
          61,
          62,
          63,
          64,
          65,
          66,
          67,
          68,
          69,
          70,
          71,
          72,
          73,
          74,
          75,
          76,
          77,
          78,
          79,
          80,
          81,
          82,
          83,
          84,
          85,
          86,
          87,
          88,
          89,
          90,
          91,
          92,
          93,
          94,
          95,
          96,
          97,
          98,
          99
         ],
         "y": [
          0.20809043819086845,
          -0.019341506915506363,
          0.6710928486171988,
          -0.32374262692684636,
          -0.08933950365355328,
          -2.4870153305002876,
          -0.0828445187959473,
          0.5765196640599008,
          -1.45974335926409,
          -0.7039420056988792,
          0.07374623781588262,
          1.3890599308664364,
          -0.4065140417790279,
          -1.5534252482243656,
          -0.5223086210478873,
          1.0283472012969124,
          -0.7782606201795501,
          -1.1134140955232776,
          1.545117883927185,
          0.6536675243606903,
          -0.4635661135202583,
          -1.3776886078026092,
          0.5157479741118118,
          0.48495411771132285,
          -1.498163791196165,
          0.186173316287323,
          -0.6084259450245122,
          0.1385458239150797,
          -0.34327731015590035,
          1.3057395117869839,
          -0.8507861830526204,
          0.07068108652281078,
          0.5609468060125844,
          0.8436003826923163,
          -0.5544739466474897,
          0.304567437465066,
          0.07380956245430079,
          0.6770820944557193,
          0.9958583944756741,
          -0.8843872234471372,
          -0.5686911224280439,
          -0.4833310001350282,
          1.0444287952056812,
          -1.0247446450677433,
          -0.04442966989560093,
          -0.8533122995490622,
          0.6530986336452997,
          -0.7022015322286137,
          1.2062876705027765,
          -2.0339563452164966,
          0.48742624290522124,
          0.6589028909488218,
          -2.3421002379617333,
          -0.7722454389655053,
          0.02882023909271555,
          -1.534494316301149,
          0.38125317141931553,
          0.9658911532176244,
          -0.36784839411375353,
          0.7996346562293096,
          -1.6665252924104532,
          -0.4099124667256445,
          -0.6272330819731242,
          0.22436834840107997,
          -0.587796897611996,
          -0.21185255449597312,
          -0.012570892599201121,
          -0.54279177228348,
          -2.6560874773893772,
          0.3149100180434697,
          2.010648660253624,
          0.5551898627890857,
          -1.4963775556776142,
          -0.5877273554807264,
          0.07257979710473213,
          0.15338192801483436,
          -0.5596087652557075,
          0.9007287289028704,
          0.7994878115707456,
          -0.8204821180718412,
          0.28035281575665505,
          0.23986792951813127,
          -0.19554464475260425,
          1.490723752902071,
          -0.20027691553987273,
          -0.5566182124634896,
          -0.2586965268169799,
          0.8988418941151963,
          -0.12990886192371434,
          0.02546613837971286,
          -1.0416098497036679,
          -1.5819094674443275,
          -0.13181985295975357,
          1.2325838746792015,
          -1.1327957870240355,
          0.34605049462143017,
          1.706190747987443,
          2.1433316293580784,
          0.3271201022174498,
          -0.7168867904851405
         ]
        },
        {
         "line": {
          "color": "rgba(55, 128, 191, 1.0)",
          "dash": "solid",
          "shape": "linear",
          "width": 1.3
         },
         "mode": "lines",
         "name": "B",
         "text": "",
         "type": "scatter",
         "x": [
          0,
          1,
          2,
          3,
          4,
          5,
          6,
          7,
          8,
          9,
          10,
          11,
          12,
          13,
          14,
          15,
          16,
          17,
          18,
          19,
          20,
          21,
          22,
          23,
          24,
          25,
          26,
          27,
          28,
          29,
          30,
          31,
          32,
          33,
          34,
          35,
          36,
          37,
          38,
          39,
          40,
          41,
          42,
          43,
          44,
          45,
          46,
          47,
          48,
          49,
          50,
          51,
          52,
          53,
          54,
          55,
          56,
          57,
          58,
          59,
          60,
          61,
          62,
          63,
          64,
          65,
          66,
          67,
          68,
          69,
          70,
          71,
          72,
          73,
          74,
          75,
          76,
          77,
          78,
          79,
          80,
          81,
          82,
          83,
          84,
          85,
          86,
          87,
          88,
          89,
          90,
          91,
          92,
          93,
          94,
          95,
          96,
          97,
          98,
          99
         ],
         "y": [
          0.15135829454715108,
          0.9795160147718429,
          1.4214734609290678,
          -0.07097325758683996,
          -0.9210663836667375,
          0.20378024537982453,
          -0.6100369380441374,
          -1.3466306621394803,
          -1.81632980066363,
          -0.15798779724206727,
          -1.018606443577509,
          -0.54437943019444,
          -0.48276994747208113,
          0.57798424272942,
          -0.970914049767164,
          -0.4352116885815418,
          0.8241358618851978,
          1.2918990512894106,
          -0.11878729385443036,
          -0.24842332641139903,
          0.4465616973650019,
          0.7155306943090513,
          1.9646290002462576,
          0.7485402486486966,
          2.301917351467514,
          -0.4584041069143579,
          -1.9769012314332277,
          -1.201105007029545,
          1.669260528563722,
          0.22156748859860562,
          -0.43902290576062286,
          -0.9269491629983333,
          -1.442120004125873,
          -1.1669983984588779,
          -0.2801873720734649,
          2.5275136591199066,
          -0.020117546102519243,
          -1.5074242850340052,
          -1.3581481255377978,
          1.0682872361234326,
          -0.4253891039927625,
          -0.9795015883734285,
          0.7178957327501252,
          -1.1761437747950894,
          -1.6540195151829544,
          1.6095607825891305,
          -0.8873683216168122,
          -1.6423713126718416,
          -0.17082902921556906,
          1.4433275020088596,
          -0.23514827551444784,
          -0.18210764579747643,
          -0.47380473108659904,
          -0.30564100505727737,
          0.39475719400621767,
          0.927733729671384,
          1.2414238982703922,
          0.0029357777775479636,
          0.869531108145011,
          -0.3108725300689207,
          0.31612727830321374,
          0.7637627871271956,
          -1.7022198823396548,
          0.9700454378831772,
          -2.2371234275566225,
          1.131637517157968,
          -0.393532240954233,
          -0.08165933539689739,
          0.36858334803231196,
          -1.6126676133120872,
          -0.5352745521823805,
          0.6346815353686975,
          1.238888755284414,
          -1.0276900358987127,
          -0.3355367973642946,
          0.37140192615612216,
          -0.8515083889392284,
          -2.9690855877133386,
          0.6140107859520972,
          0.43209277527755674,
          -1.0987784624213168,
          0.20215234928410972,
          -0.46102411065062787,
          1.4859285963890307,
          1.3911792195871207,
          -1.3670903285961076,
          0.22450940710990647,
          0.4101279410076213,
          1.977960208478093,
          0.43079393165742125,
          -2.9129924250906174,
          -0.7310092701771267,
          0.18258620922954666,
          2.392127291109862,
          -0.2879343642592824,
          1.8906107785898578,
          0.7400795074044674,
          -1.3617204379633567,
          0.7788471931365946,
          0.6913717081312138
         ]
        },
        {
         "connectgaps": false,
         "fill": "tozeroy",
         "line": {
          "color": "green",
          "dash": "solid",
          "shape": "linear",
          "width": 0.5
         },
         "mode": "lines",
         "name": "Spread",
         "showlegend": false,
         "type": "scatter",
         "x": [
          0,
          1,
          2,
          3,
          4,
          5,
          6,
          7,
          8,
          9,
          10,
          11,
          12,
          13,
          14,
          15,
          16,
          17,
          18,
          19,
          20,
          21,
          22,
          23,
          24,
          25,
          26,
          27,
          28,
          29,
          30,
          31,
          32,
          33,
          34,
          35,
          36,
          37,
          38,
          39,
          40,
          41,
          42,
          43,
          44,
          45,
          46,
          47,
          48,
          49,
          50,
          51,
          52,
          53,
          54,
          55,
          56,
          57,
          58,
          59,
          60,
          61,
          62,
          63,
          64,
          65,
          66,
          67,
          68,
          69,
          70,
          71,
          72,
          73,
          74,
          75,
          76,
          77,
          78,
          79,
          80,
          81,
          82,
          83,
          84,
          85,
          86,
          87,
          88,
          89,
          90,
          91,
          92,
          93,
          94,
          95,
          96,
          97,
          98,
          99
         ],
         "xaxis": "x2",
         "y": [
          0.05673214364371737,
          "",
          "",
          "",
          0.8317268800131843,
          "",
          0.52719241924819,
          1.9231503261993812,
          0.3565864413995399,
          "",
          1.0923526813933917,
          1.9334393610608764,
          0.07625590569305324,
          "",
          0.44860542871927667,
          1.4635588898784542,
          "",
          "",
          1.6639051777816154,
          0.9020908507720893,
          "",
          "",
          "",
          "",
          "",
          0.6445774232016809,
          1.3684752864087155,
          1.3396508309446247,
          "",
          1.0841720231883782,
          "",
          0.9976302495211441,
          2.003066810138457,
          2.0105987811511943,
          "",
          "",
          0.09392710855682003,
          2.1845063794897244,
          2.354006520013472,
          "",
          "",
          0.49617058823840027,
          0.326533062455556,
          0.15139912972734604,
          1.6095898452873536,
          "",
          1.540466955262112,
          0.9401697804432279,
          1.3771166997183455,
          "",
          0.722574518419669,
          0.8410105367462982,
          "",
          "",
          "",
          "",
          "",
          0.9629553754400765,
          "",
          1.1105071862982303,
          "",
          "",
          1.0749868003665306,
          "",
          1.6493265299446265,
          "",
          0.38096134835503187,
          "",
          "",
          1.9275776313555568,
          2.5459232124360045,
          "",
          "",
          0.43996268041798625,
          0.4081165944690267,
          "",
          0.29189962368352096,
          3.869814316616209,
          0.18547702561864832,
          "",
          1.3791312781779719,
          0.03771558023402155,
          0.2654794658980236,
          0.0047951565130401885,
          "",
          0.8104721161326179,
          "",
          0.48871395310757504,
          "",
          "",
          1.8713825753869495,
          "",
          "",
          "",
          "",
          "",
          0.9661112405829756,
          3.505052067321435,
          "",
          ""
         ],
         "yaxis": "y2"
        },
        {
         "connectgaps": false,
         "fill": "tozeroy",
         "line": {
          "color": "red",
          "dash": "solid",
          "shape": "linear",
          "width": 0.5
         },
         "mode": "lines",
         "name": "Spread",
         "showlegend": false,
         "type": "scatter",
         "x": [
          0,
          1,
          2,
          3,
          4,
          5,
          6,
          7,
          8,
          9,
          10,
          11,
          12,
          13,
          14,
          15,
          16,
          17,
          18,
          19,
          20,
          21,
          22,
          23,
          24,
          25,
          26,
          27,
          28,
          29,
          30,
          31,
          32,
          33,
          34,
          35,
          36,
          37,
          38,
          39,
          40,
          41,
          42,
          43,
          44,
          45,
          46,
          47,
          48,
          49,
          50,
          51,
          52,
          53,
          54,
          55,
          56,
          57,
          58,
          59,
          60,
          61,
          62,
          63,
          64,
          65,
          66,
          67,
          68,
          69,
          70,
          71,
          72,
          73,
          74,
          75,
          76,
          77,
          78,
          79,
          80,
          81,
          82,
          83,
          84,
          85,
          86,
          87,
          88,
          89,
          90,
          91,
          92,
          93,
          94,
          95,
          96,
          97,
          98,
          99
         ],
         "xaxis": "x2",
         "y": [
          "",
          -0.9988575216873493,
          -0.750380612311869,
          -0.2527693693400064,
          "",
          -2.690795575880112,
          "",
          "",
          "",
          -0.545954208456812,
          "",
          "",
          "",
          -2.1314094909537857,
          "",
          "",
          -1.6023964820647478,
          -2.4053131468126883,
          "",
          "",
          -0.9101278108852602,
          -2.0932193021116605,
          -1.4488810261344458,
          -0.26358613093737376,
          -3.800081142663679,
          "",
          "",
          "",
          -2.0125378387196227,
          "",
          -0.4117632772919976,
          "",
          "",
          "",
          -0.27428657457402483,
          -2.2229462216548406,
          "",
          "",
          "",
          -1.9526744595705696,
          -0.1433020184352814,
          "",
          "",
          "",
          "",
          -2.462873082138193,
          "",
          "",
          "",
          -3.4772838472253564,
          "",
          "",
          -1.8682955068751341,
          -0.466604433908228,
          -0.36593695491350214,
          -2.462228045972533,
          -0.8601707268510768,
          "",
          -1.2373795022587646,
          "",
          -1.9826525707136669,
          -1.17367525385284,
          "",
          -0.7456770894820972,
          "",
          -1.343490071653941,
          "",
          -0.46113243688658256,
          -3.024670825421689,
          "",
          "",
          -0.07949167257961187,
          -2.735266310962028,
          "",
          "",
          -0.2180199981412878,
          "",
          "",
          "",
          -1.252574893349398,
          "",
          "",
          "",
          "",
          -1.5914561351269934,
          "",
          -0.4832059339268864,
          "",
          -2.1078690704018075,
          -0.4053277932777084,
          "",
          -0.8509001972672008,
          -0.31440606218930023,
          -1.1595434164306604,
          -0.8448614227647531,
          -1.5445602839684276,
          "",
          "",
          -0.45172709091914476,
          -1.4082584986163544
         ],
         "yaxis": "y2"
        }
       ],
       "layout": {
        "hovermode": "x",
        "legend": {
         "bgcolor": "#F5F6F9",
         "font": {
          "color": "#4D5663"
         }
        },
        "paper_bgcolor": "#F5F6F9",
        "plot_bgcolor": "#F5F6F9",
        "template": {
         "data": {
          "bar": [
           {
            "error_x": {
             "color": "#2a3f5f"
            },
            "error_y": {
             "color": "#2a3f5f"
            },
            "marker": {
             "line": {
              "color": "#E5ECF6",
              "width": 0.5
             }
            },
            "type": "bar"
           }
          ],
          "barpolar": [
           {
            "marker": {
             "line": {
              "color": "#E5ECF6",
              "width": 0.5
             }
            },
            "type": "barpolar"
           }
          ],
          "carpet": [
           {
            "aaxis": {
             "endlinecolor": "#2a3f5f",
             "gridcolor": "white",
             "linecolor": "white",
             "minorgridcolor": "white",
             "startlinecolor": "#2a3f5f"
            },
            "baxis": {
             "endlinecolor": "#2a3f5f",
             "gridcolor": "white",
             "linecolor": "white",
             "minorgridcolor": "white",
             "startlinecolor": "#2a3f5f"
            },
            "type": "carpet"
           }
          ],
          "choropleth": [
           {
            "colorbar": {
             "outlinewidth": 0,
             "ticks": ""
            },
            "type": "choropleth"
           }
          ],
          "contour": [
           {
            "colorbar": {
             "outlinewidth": 0,
             "ticks": ""
            },
            "colorscale": [
             [
              0,
              "#0d0887"
             ],
             [
              0.1111111111111111,
              "#46039f"
             ],
             [
              0.2222222222222222,
              "#7201a8"
             ],
             [
              0.3333333333333333,
              "#9c179e"
             ],
             [
              0.4444444444444444,
              "#bd3786"
             ],
             [
              0.5555555555555556,
              "#d8576b"
             ],
             [
              0.6666666666666666,
              "#ed7953"
             ],
             [
              0.7777777777777778,
              "#fb9f3a"
             ],
             [
              0.8888888888888888,
              "#fdca26"
             ],
             [
              1,
              "#f0f921"
             ]
            ],
            "type": "contour"
           }
          ],
          "contourcarpet": [
           {
            "colorbar": {
             "outlinewidth": 0,
             "ticks": ""
            },
            "type": "contourcarpet"
           }
          ],
          "heatmap": [
           {
            "colorbar": {
             "outlinewidth": 0,
             "ticks": ""
            },
            "colorscale": [
             [
              0,
              "#0d0887"
             ],
             [
              0.1111111111111111,
              "#46039f"
             ],
             [
              0.2222222222222222,
              "#7201a8"
             ],
             [
              0.3333333333333333,
              "#9c179e"
             ],
             [
              0.4444444444444444,
              "#bd3786"
             ],
             [
              0.5555555555555556,
              "#d8576b"
             ],
             [
              0.6666666666666666,
              "#ed7953"
             ],
             [
              0.7777777777777778,
              "#fb9f3a"
             ],
             [
              0.8888888888888888,
              "#fdca26"
             ],
             [
              1,
              "#f0f921"
             ]
            ],
            "type": "heatmap"
           }
          ],
          "heatmapgl": [
           {
            "colorbar": {
             "outlinewidth": 0,
             "ticks": ""
            },
            "colorscale": [
             [
              0,
              "#0d0887"
             ],
             [
              0.1111111111111111,
              "#46039f"
             ],
             [
              0.2222222222222222,
              "#7201a8"
             ],
             [
              0.3333333333333333,
              "#9c179e"
             ],
             [
              0.4444444444444444,
              "#bd3786"
             ],
             [
              0.5555555555555556,
              "#d8576b"
             ],
             [
              0.6666666666666666,
              "#ed7953"
             ],
             [
              0.7777777777777778,
              "#fb9f3a"
             ],
             [
              0.8888888888888888,
              "#fdca26"
             ],
             [
              1,
              "#f0f921"
             ]
            ],
            "type": "heatmapgl"
           }
          ],
          "histogram": [
           {
            "marker": {
             "colorbar": {
              "outlinewidth": 0,
              "ticks": ""
             }
            },
            "type": "histogram"
           }
          ],
          "histogram2d": [
           {
            "colorbar": {
             "outlinewidth": 0,
             "ticks": ""
            },
            "colorscale": [
             [
              0,
              "#0d0887"
             ],
             [
              0.1111111111111111,
              "#46039f"
             ],
             [
              0.2222222222222222,
              "#7201a8"
             ],
             [
              0.3333333333333333,
              "#9c179e"
             ],
             [
              0.4444444444444444,
              "#bd3786"
             ],
             [
              0.5555555555555556,
              "#d8576b"
             ],
             [
              0.6666666666666666,
              "#ed7953"
             ],
             [
              0.7777777777777778,
              "#fb9f3a"
             ],
             [
              0.8888888888888888,
              "#fdca26"
             ],
             [
              1,
              "#f0f921"
             ]
            ],
            "type": "histogram2d"
           }
          ],
          "histogram2dcontour": [
           {
            "colorbar": {
             "outlinewidth": 0,
             "ticks": ""
            },
            "colorscale": [
             [
              0,
              "#0d0887"
             ],
             [
              0.1111111111111111,
              "#46039f"
             ],
             [
              0.2222222222222222,
              "#7201a8"
             ],
             [
              0.3333333333333333,
              "#9c179e"
             ],
             [
              0.4444444444444444,
              "#bd3786"
             ],
             [
              0.5555555555555556,
              "#d8576b"
             ],
             [
              0.6666666666666666,
              "#ed7953"
             ],
             [
              0.7777777777777778,
              "#fb9f3a"
             ],
             [
              0.8888888888888888,
              "#fdca26"
             ],
             [
              1,
              "#f0f921"
             ]
            ],
            "type": "histogram2dcontour"
           }
          ],
          "mesh3d": [
           {
            "colorbar": {
             "outlinewidth": 0,
             "ticks": ""
            },
            "type": "mesh3d"
           }
          ],
          "parcoords": [
           {
            "line": {
             "colorbar": {
              "outlinewidth": 0,
              "ticks": ""
             }
            },
            "type": "parcoords"
           }
          ],
          "pie": [
           {
            "automargin": true,
            "type": "pie"
           }
          ],
          "scatter": [
           {
            "marker": {
             "colorbar": {
              "outlinewidth": 0,
              "ticks": ""
             }
            },
            "type": "scatter"
           }
          ],
          "scatter3d": [
           {
            "line": {
             "colorbar": {
              "outlinewidth": 0,
              "ticks": ""
             }
            },
            "marker": {
             "colorbar": {
              "outlinewidth": 0,
              "ticks": ""
             }
            },
            "type": "scatter3d"
           }
          ],
          "scattercarpet": [
           {
            "marker": {
             "colorbar": {
              "outlinewidth": 0,
              "ticks": ""
             }
            },
            "type": "scattercarpet"
           }
          ],
          "scattergeo": [
           {
            "marker": {
             "colorbar": {
              "outlinewidth": 0,
              "ticks": ""
             }
            },
            "type": "scattergeo"
           }
          ],
          "scattergl": [
           {
            "marker": {
             "colorbar": {
              "outlinewidth": 0,
              "ticks": ""
             }
            },
            "type": "scattergl"
           }
          ],
          "scattermapbox": [
           {
            "marker": {
             "colorbar": {
              "outlinewidth": 0,
              "ticks": ""
             }
            },
            "type": "scattermapbox"
           }
          ],
          "scatterpolar": [
           {
            "marker": {
             "colorbar": {
              "outlinewidth": 0,
              "ticks": ""
             }
            },
            "type": "scatterpolar"
           }
          ],
          "scatterpolargl": [
           {
            "marker": {
             "colorbar": {
              "outlinewidth": 0,
              "ticks": ""
             }
            },
            "type": "scatterpolargl"
           }
          ],
          "scatterternary": [
           {
            "marker": {
             "colorbar": {
              "outlinewidth": 0,
              "ticks": ""
             }
            },
            "type": "scatterternary"
           }
          ],
          "surface": [
           {
            "colorbar": {
             "outlinewidth": 0,
             "ticks": ""
            },
            "colorscale": [
             [
              0,
              "#0d0887"
             ],
             [
              0.1111111111111111,
              "#46039f"
             ],
             [
              0.2222222222222222,
              "#7201a8"
             ],
             [
              0.3333333333333333,
              "#9c179e"
             ],
             [
              0.4444444444444444,
              "#bd3786"
             ],
             [
              0.5555555555555556,
              "#d8576b"
             ],
             [
              0.6666666666666666,
              "#ed7953"
             ],
             [
              0.7777777777777778,
              "#fb9f3a"
             ],
             [
              0.8888888888888888,
              "#fdca26"
             ],
             [
              1,
              "#f0f921"
             ]
            ],
            "type": "surface"
           }
          ],
          "table": [
           {
            "cells": {
             "fill": {
              "color": "#EBF0F8"
             },
             "line": {
              "color": "white"
             }
            },
            "header": {
             "fill": {
              "color": "#C8D4E3"
             },
             "line": {
              "color": "white"
             }
            },
            "type": "table"
           }
          ]
         },
         "layout": {
          "annotationdefaults": {
           "arrowcolor": "#2a3f5f",
           "arrowhead": 0,
           "arrowwidth": 1
          },
          "coloraxis": {
           "colorbar": {
            "outlinewidth": 0,
            "ticks": ""
           }
          },
          "colorscale": {
           "diverging": [
            [
             0,
             "#8e0152"
            ],
            [
             0.1,
             "#c51b7d"
            ],
            [
             0.2,
             "#de77ae"
            ],
            [
             0.3,
             "#f1b6da"
            ],
            [
             0.4,
             "#fde0ef"
            ],
            [
             0.5,
             "#f7f7f7"
            ],
            [
             0.6,
             "#e6f5d0"
            ],
            [
             0.7,
             "#b8e186"
            ],
            [
             0.8,
             "#7fbc41"
            ],
            [
             0.9,
             "#4d9221"
            ],
            [
             1,
             "#276419"
            ]
           ],
           "sequential": [
            [
             0,
             "#0d0887"
            ],
            [
             0.1111111111111111,
             "#46039f"
            ],
            [
             0.2222222222222222,
             "#7201a8"
            ],
            [
             0.3333333333333333,
             "#9c179e"
            ],
            [
             0.4444444444444444,
             "#bd3786"
            ],
            [
             0.5555555555555556,
             "#d8576b"
            ],
            [
             0.6666666666666666,
             "#ed7953"
            ],
            [
             0.7777777777777778,
             "#fb9f3a"
            ],
            [
             0.8888888888888888,
             "#fdca26"
            ],
            [
             1,
             "#f0f921"
            ]
           ],
           "sequentialminus": [
            [
             0,
             "#0d0887"
            ],
            [
             0.1111111111111111,
             "#46039f"
            ],
            [
             0.2222222222222222,
             "#7201a8"
            ],
            [
             0.3333333333333333,
             "#9c179e"
            ],
            [
             0.4444444444444444,
             "#bd3786"
            ],
            [
             0.5555555555555556,
             "#d8576b"
            ],
            [
             0.6666666666666666,
             "#ed7953"
            ],
            [
             0.7777777777777778,
             "#fb9f3a"
            ],
            [
             0.8888888888888888,
             "#fdca26"
            ],
            [
             1,
             "#f0f921"
            ]
           ]
          },
          "colorway": [
           "#636efa",
           "#EF553B",
           "#00cc96",
           "#ab63fa",
           "#FFA15A",
           "#19d3f3",
           "#FF6692",
           "#B6E880",
           "#FF97FF",
           "#FECB52"
          ],
          "font": {
           "color": "#2a3f5f"
          },
          "geo": {
           "bgcolor": "white",
           "lakecolor": "white",
           "landcolor": "#E5ECF6",
           "showlakes": true,
           "showland": true,
           "subunitcolor": "white"
          },
          "hoverlabel": {
           "align": "left"
          },
          "hovermode": "closest",
          "mapbox": {
           "style": "light"
          },
          "paper_bgcolor": "white",
          "plot_bgcolor": "#E5ECF6",
          "polar": {
           "angularaxis": {
            "gridcolor": "white",
            "linecolor": "white",
            "ticks": ""
           },
           "bgcolor": "#E5ECF6",
           "radialaxis": {
            "gridcolor": "white",
            "linecolor": "white",
            "ticks": ""
           }
          },
          "scene": {
           "xaxis": {
            "backgroundcolor": "#E5ECF6",
            "gridcolor": "white",
            "gridwidth": 2,
            "linecolor": "white",
            "showbackground": true,
            "ticks": "",
            "zerolinecolor": "white"
           },
           "yaxis": {
            "backgroundcolor": "#E5ECF6",
            "gridcolor": "white",
            "gridwidth": 2,
            "linecolor": "white",
            "showbackground": true,
            "ticks": "",
            "zerolinecolor": "white"
           },
           "zaxis": {
            "backgroundcolor": "#E5ECF6",
            "gridcolor": "white",
            "gridwidth": 2,
            "linecolor": "white",
            "showbackground": true,
            "ticks": "",
            "zerolinecolor": "white"
           }
          },
          "shapedefaults": {
           "line": {
            "color": "#2a3f5f"
           }
          },
          "ternary": {
           "aaxis": {
            "gridcolor": "white",
            "linecolor": "white",
            "ticks": ""
           },
           "baxis": {
            "gridcolor": "white",
            "linecolor": "white",
            "ticks": ""
           },
           "bgcolor": "#E5ECF6",
           "caxis": {
            "gridcolor": "white",
            "linecolor": "white",
            "ticks": ""
           }
          },
          "title": {
           "x": 0.05
          },
          "xaxis": {
           "automargin": true,
           "gridcolor": "white",
           "linecolor": "white",
           "ticks": "",
           "title": {
            "standoff": 15
           },
           "zerolinecolor": "white",
           "zerolinewidth": 2
          },
          "yaxis": {
           "automargin": true,
           "gridcolor": "white",
           "linecolor": "white",
           "ticks": "",
           "title": {
            "standoff": 15
           },
           "zerolinecolor": "white",
           "zerolinewidth": 2
          }
         }
        },
        "title": {
         "font": {
          "color": "#4D5663"
         }
        },
        "xaxis": {
         "gridcolor": "#E1E5ED",
         "showgrid": true,
         "tickfont": {
          "color": "#4D5663"
         },
         "title": {
          "font": {
           "color": "#4D5663"
          },
          "text": ""
         },
         "zerolinecolor": "#E1E5ED"
        },
        "xaxis2": {
         "anchor": "y2",
         "gridcolor": "#E1E5ED",
         "showgrid": true,
         "showticklabels": false,
         "tickfont": {
          "color": "#4D5663"
         },
         "title": {
          "font": {
           "color": "#4D5663"
          },
          "text": ""
         },
         "zerolinecolor": "#E1E5ED"
        },
        "yaxis": {
         "domain": [
          0.3,
          1
         ],
         "gridcolor": "#E1E5ED",
         "showgrid": true,
         "tickfont": {
          "color": "#4D5663"
         },
         "title": {
          "font": {
           "color": "#4D5663"
          },
          "text": ""
         },
         "zerolinecolor": "#E1E5ED"
        },
        "yaxis2": {
         "domain": [
          0,
          0.25
         ],
         "gridcolor": "#E1E5ED",
         "showgrid": true,
         "tickfont": {
          "color": "#4D5663"
         },
         "title": {
          "font": {
           "color": "#4D5663"
          },
          "text": "Spread"
         },
         "zerolinecolor": "#E1E5ED"
        }
       }
      },
      "text/html": [
       "<div>\n",
       "        \n",
       "        \n",
       "            <div id=\"b409b4d3-9883-4404-b46f-f1db4b0c414e\" class=\"plotly-graph-div\" style=\"height:525px; width:100%;\"></div>\n",
       "            <script type=\"text/javascript\">\n",
       "                require([\"plotly\"], function(Plotly) {\n",
       "                    window.PLOTLYENV=window.PLOTLYENV || {};\n",
       "                    window.PLOTLYENV.BASE_URL='https://plot.ly';\n",
       "                    \n",
       "                if (document.getElementById(\"b409b4d3-9883-4404-b46f-f1db4b0c414e\")) {\n",
       "                    Plotly.newPlot(\n",
       "                        'b409b4d3-9883-4404-b46f-f1db4b0c414e',\n",
       "                        [{\"line\": {\"color\": \"rgba(255, 153, 51, 1.0)\", \"dash\": \"solid\", \"shape\": \"linear\", \"width\": 1.3}, \"mode\": \"lines\", \"name\": \"A\", \"text\": \"\", \"type\": \"scatter\", \"x\": [0, 1, 2, 3, 4, 5, 6, 7, 8, 9, 10, 11, 12, 13, 14, 15, 16, 17, 18, 19, 20, 21, 22, 23, 24, 25, 26, 27, 28, 29, 30, 31, 32, 33, 34, 35, 36, 37, 38, 39, 40, 41, 42, 43, 44, 45, 46, 47, 48, 49, 50, 51, 52, 53, 54, 55, 56, 57, 58, 59, 60, 61, 62, 63, 64, 65, 66, 67, 68, 69, 70, 71, 72, 73, 74, 75, 76, 77, 78, 79, 80, 81, 82, 83, 84, 85, 86, 87, 88, 89, 90, 91, 92, 93, 94, 95, 96, 97, 98, 99], \"y\": [0.20809043819086845, -0.019341506915506363, 0.6710928486171988, -0.32374262692684636, -0.08933950365355328, -2.4870153305002876, -0.0828445187959473, 0.5765196640599008, -1.45974335926409, -0.7039420056988792, 0.07374623781588262, 1.3890599308664364, -0.4065140417790279, -1.5534252482243656, -0.5223086210478873, 1.0283472012969124, -0.7782606201795501, -1.1134140955232776, 1.545117883927185, 0.6536675243606903, -0.4635661135202583, -1.3776886078026092, 0.5157479741118118, 0.48495411771132285, -1.498163791196165, 0.186173316287323, -0.6084259450245122, 0.1385458239150797, -0.34327731015590035, 1.3057395117869839, -0.8507861830526204, 0.07068108652281078, 0.5609468060125844, 0.8436003826923163, -0.5544739466474897, 0.304567437465066, 0.07380956245430079, 0.6770820944557193, 0.9958583944756741, -0.8843872234471372, -0.5686911224280439, -0.4833310001350282, 1.0444287952056812, -1.0247446450677433, -0.04442966989560093, -0.8533122995490622, 0.6530986336452997, -0.7022015322286137, 1.2062876705027765, -2.0339563452164966, 0.48742624290522124, 0.6589028909488218, -2.3421002379617333, -0.7722454389655053, 0.02882023909271555, -1.534494316301149, 0.38125317141931553, 0.9658911532176244, -0.36784839411375353, 0.7996346562293096, -1.6665252924104532, -0.4099124667256445, -0.6272330819731242, 0.22436834840107997, -0.587796897611996, -0.21185255449597312, -0.012570892599201121, -0.54279177228348, -2.6560874773893772, 0.3149100180434697, 2.010648660253624, 0.5551898627890857, -1.4963775556776142, -0.5877273554807264, 0.07257979710473213, 0.15338192801483436, -0.5596087652557075, 0.9007287289028704, 0.7994878115707456, -0.8204821180718412, 0.28035281575665505, 0.23986792951813127, -0.19554464475260425, 1.490723752902071, -0.20027691553987273, -0.5566182124634896, -0.2586965268169799, 0.8988418941151963, -0.12990886192371434, 0.02546613837971286, -1.0416098497036679, -1.5819094674443275, -0.13181985295975357, 1.2325838746792015, -1.1327957870240355, 0.34605049462143017, 1.706190747987443, 2.1433316293580784, 0.3271201022174498, -0.7168867904851405]}, {\"line\": {\"color\": \"rgba(55, 128, 191, 1.0)\", \"dash\": \"solid\", \"shape\": \"linear\", \"width\": 1.3}, \"mode\": \"lines\", \"name\": \"B\", \"text\": \"\", \"type\": \"scatter\", \"x\": [0, 1, 2, 3, 4, 5, 6, 7, 8, 9, 10, 11, 12, 13, 14, 15, 16, 17, 18, 19, 20, 21, 22, 23, 24, 25, 26, 27, 28, 29, 30, 31, 32, 33, 34, 35, 36, 37, 38, 39, 40, 41, 42, 43, 44, 45, 46, 47, 48, 49, 50, 51, 52, 53, 54, 55, 56, 57, 58, 59, 60, 61, 62, 63, 64, 65, 66, 67, 68, 69, 70, 71, 72, 73, 74, 75, 76, 77, 78, 79, 80, 81, 82, 83, 84, 85, 86, 87, 88, 89, 90, 91, 92, 93, 94, 95, 96, 97, 98, 99], \"y\": [0.15135829454715108, 0.9795160147718429, 1.4214734609290678, -0.07097325758683996, -0.9210663836667375, 0.20378024537982453, -0.6100369380441374, -1.3466306621394803, -1.81632980066363, -0.15798779724206727, -1.018606443577509, -0.54437943019444, -0.48276994747208113, 0.57798424272942, -0.970914049767164, -0.4352116885815418, 0.8241358618851978, 1.2918990512894106, -0.11878729385443036, -0.24842332641139903, 0.4465616973650019, 0.7155306943090513, 1.9646290002462576, 0.7485402486486966, 2.301917351467514, -0.4584041069143579, -1.9769012314332277, -1.201105007029545, 1.669260528563722, 0.22156748859860562, -0.43902290576062286, -0.9269491629983333, -1.442120004125873, -1.1669983984588779, -0.2801873720734649, 2.5275136591199066, -0.020117546102519243, -1.5074242850340052, -1.3581481255377978, 1.0682872361234326, -0.4253891039927625, -0.9795015883734285, 0.7178957327501252, -1.1761437747950894, -1.6540195151829544, 1.6095607825891305, -0.8873683216168122, -1.6423713126718416, -0.17082902921556906, 1.4433275020088596, -0.23514827551444784, -0.18210764579747643, -0.47380473108659904, -0.30564100505727737, 0.39475719400621767, 0.927733729671384, 1.2414238982703922, 0.0029357777775479636, 0.869531108145011, -0.3108725300689207, 0.31612727830321374, 0.7637627871271956, -1.7022198823396548, 0.9700454378831772, -2.2371234275566225, 1.131637517157968, -0.393532240954233, -0.08165933539689739, 0.36858334803231196, -1.6126676133120872, -0.5352745521823805, 0.6346815353686975, 1.238888755284414, -1.0276900358987127, -0.3355367973642946, 0.37140192615612216, -0.8515083889392284, -2.9690855877133386, 0.6140107859520972, 0.43209277527755674, -1.0987784624213168, 0.20215234928410972, -0.46102411065062787, 1.4859285963890307, 1.3911792195871207, -1.3670903285961076, 0.22450940710990647, 0.4101279410076213, 1.977960208478093, 0.43079393165742125, -2.9129924250906174, -0.7310092701771267, 0.18258620922954666, 2.392127291109862, -0.2879343642592824, 1.8906107785898578, 0.7400795074044674, -1.3617204379633567, 0.7788471931365946, 0.6913717081312138]}, {\"connectgaps\": false, \"fill\": \"tozeroy\", \"line\": {\"color\": \"green\", \"dash\": \"solid\", \"shape\": \"linear\", \"width\": 0.5}, \"mode\": \"lines\", \"name\": \"Spread\", \"showlegend\": false, \"type\": \"scatter\", \"x\": [0, 1, 2, 3, 4, 5, 6, 7, 8, 9, 10, 11, 12, 13, 14, 15, 16, 17, 18, 19, 20, 21, 22, 23, 24, 25, 26, 27, 28, 29, 30, 31, 32, 33, 34, 35, 36, 37, 38, 39, 40, 41, 42, 43, 44, 45, 46, 47, 48, 49, 50, 51, 52, 53, 54, 55, 56, 57, 58, 59, 60, 61, 62, 63, 64, 65, 66, 67, 68, 69, 70, 71, 72, 73, 74, 75, 76, 77, 78, 79, 80, 81, 82, 83, 84, 85, 86, 87, 88, 89, 90, 91, 92, 93, 94, 95, 96, 97, 98, 99], \"xaxis\": \"x2\", \"y\": [0.05673214364371737, \"\", \"\", \"\", 0.8317268800131843, \"\", 0.52719241924819, 1.9231503261993812, 0.3565864413995399, \"\", 1.0923526813933917, 1.9334393610608764, 0.07625590569305324, \"\", 0.44860542871927667, 1.4635588898784542, \"\", \"\", 1.6639051777816154, 0.9020908507720893, \"\", \"\", \"\", \"\", \"\", 0.6445774232016809, 1.3684752864087155, 1.3396508309446247, \"\", 1.0841720231883782, \"\", 0.9976302495211441, 2.003066810138457, 2.0105987811511943, \"\", \"\", 0.09392710855682003, 2.1845063794897244, 2.354006520013472, \"\", \"\", 0.49617058823840027, 0.326533062455556, 0.15139912972734604, 1.6095898452873536, \"\", 1.540466955262112, 0.9401697804432279, 1.3771166997183455, \"\", 0.722574518419669, 0.8410105367462982, \"\", \"\", \"\", \"\", \"\", 0.9629553754400765, \"\", 1.1105071862982303, \"\", \"\", 1.0749868003665306, \"\", 1.6493265299446265, \"\", 0.38096134835503187, \"\", \"\", 1.9275776313555568, 2.5459232124360045, \"\", \"\", 0.43996268041798625, 0.4081165944690267, \"\", 0.29189962368352096, 3.869814316616209, 0.18547702561864832, \"\", 1.3791312781779719, 0.03771558023402155, 0.2654794658980236, 0.0047951565130401885, \"\", 0.8104721161326179, \"\", 0.48871395310757504, \"\", \"\", 1.8713825753869495, \"\", \"\", \"\", \"\", \"\", 0.9661112405829756, 3.505052067321435, \"\", \"\"], \"yaxis\": \"y2\"}, {\"connectgaps\": false, \"fill\": \"tozeroy\", \"line\": {\"color\": \"red\", \"dash\": \"solid\", \"shape\": \"linear\", \"width\": 0.5}, \"mode\": \"lines\", \"name\": \"Spread\", \"showlegend\": false, \"type\": \"scatter\", \"x\": [0, 1, 2, 3, 4, 5, 6, 7, 8, 9, 10, 11, 12, 13, 14, 15, 16, 17, 18, 19, 20, 21, 22, 23, 24, 25, 26, 27, 28, 29, 30, 31, 32, 33, 34, 35, 36, 37, 38, 39, 40, 41, 42, 43, 44, 45, 46, 47, 48, 49, 50, 51, 52, 53, 54, 55, 56, 57, 58, 59, 60, 61, 62, 63, 64, 65, 66, 67, 68, 69, 70, 71, 72, 73, 74, 75, 76, 77, 78, 79, 80, 81, 82, 83, 84, 85, 86, 87, 88, 89, 90, 91, 92, 93, 94, 95, 96, 97, 98, 99], \"xaxis\": \"x2\", \"y\": [\"\", -0.9988575216873493, -0.750380612311869, -0.2527693693400064, \"\", -2.690795575880112, \"\", \"\", \"\", -0.545954208456812, \"\", \"\", \"\", -2.1314094909537857, \"\", \"\", -1.6023964820647478, -2.4053131468126883, \"\", \"\", -0.9101278108852602, -2.0932193021116605, -1.4488810261344458, -0.26358613093737376, -3.800081142663679, \"\", \"\", \"\", -2.0125378387196227, \"\", -0.4117632772919976, \"\", \"\", \"\", -0.27428657457402483, -2.2229462216548406, \"\", \"\", \"\", -1.9526744595705696, -0.1433020184352814, \"\", \"\", \"\", \"\", -2.462873082138193, \"\", \"\", \"\", -3.4772838472253564, \"\", \"\", -1.8682955068751341, -0.466604433908228, -0.36593695491350214, -2.462228045972533, -0.8601707268510768, \"\", -1.2373795022587646, \"\", -1.9826525707136669, -1.17367525385284, \"\", -0.7456770894820972, \"\", -1.343490071653941, \"\", -0.46113243688658256, -3.024670825421689, \"\", \"\", -0.07949167257961187, -2.735266310962028, \"\", \"\", -0.2180199981412878, \"\", \"\", \"\", -1.252574893349398, \"\", \"\", \"\", \"\", -1.5914561351269934, \"\", -0.4832059339268864, \"\", -2.1078690704018075, -0.4053277932777084, \"\", -0.8509001972672008, -0.31440606218930023, -1.1595434164306604, -0.8448614227647531, -1.5445602839684276, \"\", \"\", -0.45172709091914476, -1.4082584986163544], \"yaxis\": \"y2\"}],\n",
       "                        {\"hovermode\": \"x\", \"legend\": {\"bgcolor\": \"#F5F6F9\", \"font\": {\"color\": \"#4D5663\"}}, \"paper_bgcolor\": \"#F5F6F9\", \"plot_bgcolor\": \"#F5F6F9\", \"template\": {\"data\": {\"bar\": [{\"error_x\": {\"color\": \"#2a3f5f\"}, \"error_y\": {\"color\": \"#2a3f5f\"}, \"marker\": {\"line\": {\"color\": \"#E5ECF6\", \"width\": 0.5}}, \"type\": \"bar\"}], \"barpolar\": [{\"marker\": {\"line\": {\"color\": \"#E5ECF6\", \"width\": 0.5}}, \"type\": \"barpolar\"}], \"carpet\": [{\"aaxis\": {\"endlinecolor\": \"#2a3f5f\", \"gridcolor\": \"white\", \"linecolor\": \"white\", \"minorgridcolor\": \"white\", \"startlinecolor\": \"#2a3f5f\"}, \"baxis\": {\"endlinecolor\": \"#2a3f5f\", \"gridcolor\": \"white\", \"linecolor\": \"white\", \"minorgridcolor\": \"white\", \"startlinecolor\": \"#2a3f5f\"}, \"type\": \"carpet\"}], \"choropleth\": [{\"colorbar\": {\"outlinewidth\": 0, \"ticks\": \"\"}, \"type\": \"choropleth\"}], \"contour\": [{\"colorbar\": {\"outlinewidth\": 0, \"ticks\": \"\"}, \"colorscale\": [[0.0, \"#0d0887\"], [0.1111111111111111, \"#46039f\"], [0.2222222222222222, \"#7201a8\"], [0.3333333333333333, \"#9c179e\"], [0.4444444444444444, \"#bd3786\"], [0.5555555555555556, \"#d8576b\"], [0.6666666666666666, \"#ed7953\"], [0.7777777777777778, \"#fb9f3a\"], [0.8888888888888888, \"#fdca26\"], [1.0, \"#f0f921\"]], \"type\": \"contour\"}], \"contourcarpet\": [{\"colorbar\": {\"outlinewidth\": 0, \"ticks\": \"\"}, \"type\": \"contourcarpet\"}], \"heatmap\": [{\"colorbar\": {\"outlinewidth\": 0, \"ticks\": \"\"}, \"colorscale\": [[0.0, \"#0d0887\"], [0.1111111111111111, \"#46039f\"], [0.2222222222222222, \"#7201a8\"], [0.3333333333333333, \"#9c179e\"], [0.4444444444444444, \"#bd3786\"], [0.5555555555555556, \"#d8576b\"], [0.6666666666666666, \"#ed7953\"], [0.7777777777777778, \"#fb9f3a\"], [0.8888888888888888, \"#fdca26\"], [1.0, \"#f0f921\"]], \"type\": \"heatmap\"}], \"heatmapgl\": [{\"colorbar\": {\"outlinewidth\": 0, \"ticks\": \"\"}, \"colorscale\": [[0.0, \"#0d0887\"], [0.1111111111111111, \"#46039f\"], [0.2222222222222222, \"#7201a8\"], [0.3333333333333333, \"#9c179e\"], [0.4444444444444444, \"#bd3786\"], [0.5555555555555556, \"#d8576b\"], [0.6666666666666666, \"#ed7953\"], [0.7777777777777778, \"#fb9f3a\"], [0.8888888888888888, \"#fdca26\"], [1.0, \"#f0f921\"]], \"type\": \"heatmapgl\"}], \"histogram\": [{\"marker\": {\"colorbar\": {\"outlinewidth\": 0, \"ticks\": \"\"}}, \"type\": \"histogram\"}], \"histogram2d\": [{\"colorbar\": {\"outlinewidth\": 0, \"ticks\": \"\"}, \"colorscale\": [[0.0, \"#0d0887\"], [0.1111111111111111, \"#46039f\"], [0.2222222222222222, \"#7201a8\"], [0.3333333333333333, \"#9c179e\"], [0.4444444444444444, \"#bd3786\"], [0.5555555555555556, \"#d8576b\"], [0.6666666666666666, \"#ed7953\"], [0.7777777777777778, \"#fb9f3a\"], [0.8888888888888888, \"#fdca26\"], [1.0, \"#f0f921\"]], \"type\": \"histogram2d\"}], \"histogram2dcontour\": [{\"colorbar\": {\"outlinewidth\": 0, \"ticks\": \"\"}, \"colorscale\": [[0.0, \"#0d0887\"], [0.1111111111111111, \"#46039f\"], [0.2222222222222222, \"#7201a8\"], [0.3333333333333333, \"#9c179e\"], [0.4444444444444444, \"#bd3786\"], [0.5555555555555556, \"#d8576b\"], [0.6666666666666666, \"#ed7953\"], [0.7777777777777778, \"#fb9f3a\"], [0.8888888888888888, \"#fdca26\"], [1.0, \"#f0f921\"]], \"type\": \"histogram2dcontour\"}], \"mesh3d\": [{\"colorbar\": {\"outlinewidth\": 0, \"ticks\": \"\"}, \"type\": \"mesh3d\"}], \"parcoords\": [{\"line\": {\"colorbar\": {\"outlinewidth\": 0, \"ticks\": \"\"}}, \"type\": \"parcoords\"}], \"pie\": [{\"automargin\": true, \"type\": \"pie\"}], \"scatter\": [{\"marker\": {\"colorbar\": {\"outlinewidth\": 0, \"ticks\": \"\"}}, \"type\": \"scatter\"}], \"scatter3d\": [{\"line\": {\"colorbar\": {\"outlinewidth\": 0, \"ticks\": \"\"}}, \"marker\": {\"colorbar\": {\"outlinewidth\": 0, \"ticks\": \"\"}}, \"type\": \"scatter3d\"}], \"scattercarpet\": [{\"marker\": {\"colorbar\": {\"outlinewidth\": 0, \"ticks\": \"\"}}, \"type\": \"scattercarpet\"}], \"scattergeo\": [{\"marker\": {\"colorbar\": {\"outlinewidth\": 0, \"ticks\": \"\"}}, \"type\": \"scattergeo\"}], \"scattergl\": [{\"marker\": {\"colorbar\": {\"outlinewidth\": 0, \"ticks\": \"\"}}, \"type\": \"scattergl\"}], \"scattermapbox\": [{\"marker\": {\"colorbar\": {\"outlinewidth\": 0, \"ticks\": \"\"}}, \"type\": \"scattermapbox\"}], \"scatterpolar\": [{\"marker\": {\"colorbar\": {\"outlinewidth\": 0, \"ticks\": \"\"}}, \"type\": \"scatterpolar\"}], \"scatterpolargl\": [{\"marker\": {\"colorbar\": {\"outlinewidth\": 0, \"ticks\": \"\"}}, \"type\": \"scatterpolargl\"}], \"scatterternary\": [{\"marker\": {\"colorbar\": {\"outlinewidth\": 0, \"ticks\": \"\"}}, \"type\": \"scatterternary\"}], \"surface\": [{\"colorbar\": {\"outlinewidth\": 0, \"ticks\": \"\"}, \"colorscale\": [[0.0, \"#0d0887\"], [0.1111111111111111, \"#46039f\"], [0.2222222222222222, \"#7201a8\"], [0.3333333333333333, \"#9c179e\"], [0.4444444444444444, \"#bd3786\"], [0.5555555555555556, \"#d8576b\"], [0.6666666666666666, \"#ed7953\"], [0.7777777777777778, \"#fb9f3a\"], [0.8888888888888888, \"#fdca26\"], [1.0, \"#f0f921\"]], \"type\": \"surface\"}], \"table\": [{\"cells\": {\"fill\": {\"color\": \"#EBF0F8\"}, \"line\": {\"color\": \"white\"}}, \"header\": {\"fill\": {\"color\": \"#C8D4E3\"}, \"line\": {\"color\": \"white\"}}, \"type\": \"table\"}]}, \"layout\": {\"annotationdefaults\": {\"arrowcolor\": \"#2a3f5f\", \"arrowhead\": 0, \"arrowwidth\": 1}, \"coloraxis\": {\"colorbar\": {\"outlinewidth\": 0, \"ticks\": \"\"}}, \"colorscale\": {\"diverging\": [[0, \"#8e0152\"], [0.1, \"#c51b7d\"], [0.2, \"#de77ae\"], [0.3, \"#f1b6da\"], [0.4, \"#fde0ef\"], [0.5, \"#f7f7f7\"], [0.6, \"#e6f5d0\"], [0.7, \"#b8e186\"], [0.8, \"#7fbc41\"], [0.9, \"#4d9221\"], [1, \"#276419\"]], \"sequential\": [[0.0, \"#0d0887\"], [0.1111111111111111, \"#46039f\"], [0.2222222222222222, \"#7201a8\"], [0.3333333333333333, \"#9c179e\"], [0.4444444444444444, \"#bd3786\"], [0.5555555555555556, \"#d8576b\"], [0.6666666666666666, \"#ed7953\"], [0.7777777777777778, \"#fb9f3a\"], [0.8888888888888888, \"#fdca26\"], [1.0, \"#f0f921\"]], \"sequentialminus\": [[0.0, \"#0d0887\"], [0.1111111111111111, \"#46039f\"], [0.2222222222222222, \"#7201a8\"], [0.3333333333333333, \"#9c179e\"], [0.4444444444444444, \"#bd3786\"], [0.5555555555555556, \"#d8576b\"], [0.6666666666666666, \"#ed7953\"], [0.7777777777777778, \"#fb9f3a\"], [0.8888888888888888, \"#fdca26\"], [1.0, \"#f0f921\"]]}, \"colorway\": [\"#636efa\", \"#EF553B\", \"#00cc96\", \"#ab63fa\", \"#FFA15A\", \"#19d3f3\", \"#FF6692\", \"#B6E880\", \"#FF97FF\", \"#FECB52\"], \"font\": {\"color\": \"#2a3f5f\"}, \"geo\": {\"bgcolor\": \"white\", \"lakecolor\": \"white\", \"landcolor\": \"#E5ECF6\", \"showlakes\": true, \"showland\": true, \"subunitcolor\": \"white\"}, \"hoverlabel\": {\"align\": \"left\"}, \"hovermode\": \"closest\", \"mapbox\": {\"style\": \"light\"}, \"paper_bgcolor\": \"white\", \"plot_bgcolor\": \"#E5ECF6\", \"polar\": {\"angularaxis\": {\"gridcolor\": \"white\", \"linecolor\": \"white\", \"ticks\": \"\"}, \"bgcolor\": \"#E5ECF6\", \"radialaxis\": {\"gridcolor\": \"white\", \"linecolor\": \"white\", \"ticks\": \"\"}}, \"scene\": {\"xaxis\": {\"backgroundcolor\": \"#E5ECF6\", \"gridcolor\": \"white\", \"gridwidth\": 2, \"linecolor\": \"white\", \"showbackground\": true, \"ticks\": \"\", \"zerolinecolor\": \"white\"}, \"yaxis\": {\"backgroundcolor\": \"#E5ECF6\", \"gridcolor\": \"white\", \"gridwidth\": 2, \"linecolor\": \"white\", \"showbackground\": true, \"ticks\": \"\", \"zerolinecolor\": \"white\"}, \"zaxis\": {\"backgroundcolor\": \"#E5ECF6\", \"gridcolor\": \"white\", \"gridwidth\": 2, \"linecolor\": \"white\", \"showbackground\": true, \"ticks\": \"\", \"zerolinecolor\": \"white\"}}, \"shapedefaults\": {\"line\": {\"color\": \"#2a3f5f\"}}, \"ternary\": {\"aaxis\": {\"gridcolor\": \"white\", \"linecolor\": \"white\", \"ticks\": \"\"}, \"baxis\": {\"gridcolor\": \"white\", \"linecolor\": \"white\", \"ticks\": \"\"}, \"bgcolor\": \"#E5ECF6\", \"caxis\": {\"gridcolor\": \"white\", \"linecolor\": \"white\", \"ticks\": \"\"}}, \"title\": {\"x\": 0.05}, \"xaxis\": {\"automargin\": true, \"gridcolor\": \"white\", \"linecolor\": \"white\", \"ticks\": \"\", \"title\": {\"standoff\": 15}, \"zerolinecolor\": \"white\", \"zerolinewidth\": 2}, \"yaxis\": {\"automargin\": true, \"gridcolor\": \"white\", \"linecolor\": \"white\", \"ticks\": \"\", \"title\": {\"standoff\": 15}, \"zerolinecolor\": \"white\", \"zerolinewidth\": 2}}}, \"title\": {\"font\": {\"color\": \"#4D5663\"}}, \"xaxis\": {\"gridcolor\": \"#E1E5ED\", \"showgrid\": true, \"tickfont\": {\"color\": \"#4D5663\"}, \"title\": {\"font\": {\"color\": \"#4D5663\"}, \"text\": \"\"}, \"zerolinecolor\": \"#E1E5ED\"}, \"xaxis2\": {\"anchor\": \"y2\", \"gridcolor\": \"#E1E5ED\", \"showgrid\": true, \"showticklabels\": false, \"tickfont\": {\"color\": \"#4D5663\"}, \"title\": {\"font\": {\"color\": \"#4D5663\"}, \"text\": \"\"}, \"zerolinecolor\": \"#E1E5ED\"}, \"yaxis\": {\"domain\": [0.3, 1], \"gridcolor\": \"#E1E5ED\", \"showgrid\": true, \"tickfont\": {\"color\": \"#4D5663\"}, \"title\": {\"font\": {\"color\": \"#4D5663\"}, \"text\": \"\"}, \"zerolinecolor\": \"#E1E5ED\"}, \"yaxis2\": {\"domain\": [0, 0.25], \"gridcolor\": \"#E1E5ED\", \"showgrid\": true, \"tickfont\": {\"color\": \"#4D5663\"}, \"title\": {\"font\": {\"color\": \"#4D5663\"}, \"text\": \"Spread\"}, \"zerolinecolor\": \"#E1E5ED\"}},\n",
       "                        {\"showLink\": true, \"linkText\": \"Export to plot.ly\", \"plotlyServerURL\": \"https://plot.ly\", \"responsive\": true}\n",
       "                    ).then(function(){\n",
       "                            \n",
       "var gd = document.getElementById('b409b4d3-9883-4404-b46f-f1db4b0c414e');\n",
       "var x = new MutationObserver(function (mutations, observer) {{\n",
       "        var display = window.getComputedStyle(gd).display;\n",
       "        if (!display || display === 'none') {{\n",
       "            console.log([gd, 'removed!']);\n",
       "            Plotly.purge(gd);\n",
       "            observer.disconnect();\n",
       "        }}\n",
       "}});\n",
       "\n",
       "// Listen for the removal of the full notebook cells\n",
       "var notebookContainer = gd.closest('#notebook-container');\n",
       "if (notebookContainer) {{\n",
       "    x.observe(notebookContainer, {childList: true});\n",
       "}}\n",
       "\n",
       "// Listen for the clearing of the current output cell\n",
       "var outputEl = gd.closest('.output');\n",
       "if (outputEl) {{\n",
       "    x.observe(outputEl, {childList: true});\n",
       "}}\n",
       "\n",
       "                        })\n",
       "                };\n",
       "                });\n",
       "            </script>\n",
       "        </div>"
      ]
     },
     "metadata": {},
     "output_type": "display_data"
    }
   ],
   "source": [
    "df[['A','B']].iplot(kind='spread')"
   ]
  },
  {
   "cell_type": "markdown",
   "metadata": {},
   "source": [
    "## histogram"
   ]
  },
  {
   "cell_type": "code",
   "execution_count": 46,
   "metadata": {},
   "outputs": [
    {
     "data": {
      "application/vnd.plotly.v1+json": {
       "config": {
        "linkText": "Export to plot.ly",
        "plotlyServerURL": "https://plot.ly",
        "showLink": true
       },
       "data": [
        {
         "histfunc": "count",
         "histnorm": "",
         "marker": {
          "color": "rgba(255, 153, 51, 1.0)",
          "line": {
           "color": "#4D5663",
           "width": 1.3
          }
         },
         "name": "A",
         "nbinsx": 25,
         "opacity": 0.8,
         "orientation": "v",
         "type": "histogram",
         "x": [
          0.20809043819086845,
          -0.019341506915506363,
          0.6710928486171988,
          -0.32374262692684636,
          -0.08933950365355328,
          -2.4870153305002876,
          -0.0828445187959473,
          0.5765196640599008,
          -1.45974335926409,
          -0.7039420056988792,
          0.07374623781588262,
          1.3890599308664364,
          -0.4065140417790279,
          -1.5534252482243656,
          -0.5223086210478873,
          1.0283472012969124,
          -0.7782606201795501,
          -1.1134140955232776,
          1.545117883927185,
          0.6536675243606903,
          -0.4635661135202583,
          -1.3776886078026092,
          0.5157479741118118,
          0.48495411771132285,
          -1.498163791196165,
          0.186173316287323,
          -0.6084259450245122,
          0.1385458239150797,
          -0.34327731015590035,
          1.3057395117869839,
          -0.8507861830526204,
          0.07068108652281078,
          0.5609468060125844,
          0.8436003826923163,
          -0.5544739466474897,
          0.304567437465066,
          0.07380956245430079,
          0.6770820944557193,
          0.9958583944756741,
          -0.8843872234471372,
          -0.5686911224280439,
          -0.4833310001350282,
          1.0444287952056812,
          -1.0247446450677433,
          -0.04442966989560093,
          -0.8533122995490622,
          0.6530986336452997,
          -0.7022015322286137,
          1.2062876705027765,
          -2.0339563452164966,
          0.48742624290522124,
          0.6589028909488218,
          -2.3421002379617333,
          -0.7722454389655053,
          0.02882023909271555,
          -1.534494316301149,
          0.38125317141931553,
          0.9658911532176244,
          -0.36784839411375353,
          0.7996346562293096,
          -1.6665252924104532,
          -0.4099124667256445,
          -0.6272330819731242,
          0.22436834840107997,
          -0.587796897611996,
          -0.21185255449597312,
          -0.012570892599201121,
          -0.54279177228348,
          -2.6560874773893772,
          0.3149100180434697,
          2.010648660253624,
          0.5551898627890857,
          -1.4963775556776142,
          -0.5877273554807264,
          0.07257979710473213,
          0.15338192801483436,
          -0.5596087652557075,
          0.9007287289028704,
          0.7994878115707456,
          -0.8204821180718412,
          0.28035281575665505,
          0.23986792951813127,
          -0.19554464475260425,
          1.490723752902071,
          -0.20027691553987273,
          -0.5566182124634896,
          -0.2586965268169799,
          0.8988418941151963,
          -0.12990886192371434,
          0.02546613837971286,
          -1.0416098497036679,
          -1.5819094674443275,
          -0.13181985295975357,
          1.2325838746792015,
          -1.1327957870240355,
          0.34605049462143017,
          1.706190747987443,
          2.1433316293580784,
          0.3271201022174498,
          -0.7168867904851405
         ]
        }
       ],
       "layout": {
        "barmode": "overlay",
        "legend": {
         "bgcolor": "#F5F6F9",
         "font": {
          "color": "#4D5663"
         }
        },
        "paper_bgcolor": "#F5F6F9",
        "plot_bgcolor": "#F5F6F9",
        "template": {
         "data": {
          "bar": [
           {
            "error_x": {
             "color": "#2a3f5f"
            },
            "error_y": {
             "color": "#2a3f5f"
            },
            "marker": {
             "line": {
              "color": "#E5ECF6",
              "width": 0.5
             }
            },
            "type": "bar"
           }
          ],
          "barpolar": [
           {
            "marker": {
             "line": {
              "color": "#E5ECF6",
              "width": 0.5
             }
            },
            "type": "barpolar"
           }
          ],
          "carpet": [
           {
            "aaxis": {
             "endlinecolor": "#2a3f5f",
             "gridcolor": "white",
             "linecolor": "white",
             "minorgridcolor": "white",
             "startlinecolor": "#2a3f5f"
            },
            "baxis": {
             "endlinecolor": "#2a3f5f",
             "gridcolor": "white",
             "linecolor": "white",
             "minorgridcolor": "white",
             "startlinecolor": "#2a3f5f"
            },
            "type": "carpet"
           }
          ],
          "choropleth": [
           {
            "colorbar": {
             "outlinewidth": 0,
             "ticks": ""
            },
            "type": "choropleth"
           }
          ],
          "contour": [
           {
            "colorbar": {
             "outlinewidth": 0,
             "ticks": ""
            },
            "colorscale": [
             [
              0,
              "#0d0887"
             ],
             [
              0.1111111111111111,
              "#46039f"
             ],
             [
              0.2222222222222222,
              "#7201a8"
             ],
             [
              0.3333333333333333,
              "#9c179e"
             ],
             [
              0.4444444444444444,
              "#bd3786"
             ],
             [
              0.5555555555555556,
              "#d8576b"
             ],
             [
              0.6666666666666666,
              "#ed7953"
             ],
             [
              0.7777777777777778,
              "#fb9f3a"
             ],
             [
              0.8888888888888888,
              "#fdca26"
             ],
             [
              1,
              "#f0f921"
             ]
            ],
            "type": "contour"
           }
          ],
          "contourcarpet": [
           {
            "colorbar": {
             "outlinewidth": 0,
             "ticks": ""
            },
            "type": "contourcarpet"
           }
          ],
          "heatmap": [
           {
            "colorbar": {
             "outlinewidth": 0,
             "ticks": ""
            },
            "colorscale": [
             [
              0,
              "#0d0887"
             ],
             [
              0.1111111111111111,
              "#46039f"
             ],
             [
              0.2222222222222222,
              "#7201a8"
             ],
             [
              0.3333333333333333,
              "#9c179e"
             ],
             [
              0.4444444444444444,
              "#bd3786"
             ],
             [
              0.5555555555555556,
              "#d8576b"
             ],
             [
              0.6666666666666666,
              "#ed7953"
             ],
             [
              0.7777777777777778,
              "#fb9f3a"
             ],
             [
              0.8888888888888888,
              "#fdca26"
             ],
             [
              1,
              "#f0f921"
             ]
            ],
            "type": "heatmap"
           }
          ],
          "heatmapgl": [
           {
            "colorbar": {
             "outlinewidth": 0,
             "ticks": ""
            },
            "colorscale": [
             [
              0,
              "#0d0887"
             ],
             [
              0.1111111111111111,
              "#46039f"
             ],
             [
              0.2222222222222222,
              "#7201a8"
             ],
             [
              0.3333333333333333,
              "#9c179e"
             ],
             [
              0.4444444444444444,
              "#bd3786"
             ],
             [
              0.5555555555555556,
              "#d8576b"
             ],
             [
              0.6666666666666666,
              "#ed7953"
             ],
             [
              0.7777777777777778,
              "#fb9f3a"
             ],
             [
              0.8888888888888888,
              "#fdca26"
             ],
             [
              1,
              "#f0f921"
             ]
            ],
            "type": "heatmapgl"
           }
          ],
          "histogram": [
           {
            "marker": {
             "colorbar": {
              "outlinewidth": 0,
              "ticks": ""
             }
            },
            "type": "histogram"
           }
          ],
          "histogram2d": [
           {
            "colorbar": {
             "outlinewidth": 0,
             "ticks": ""
            },
            "colorscale": [
             [
              0,
              "#0d0887"
             ],
             [
              0.1111111111111111,
              "#46039f"
             ],
             [
              0.2222222222222222,
              "#7201a8"
             ],
             [
              0.3333333333333333,
              "#9c179e"
             ],
             [
              0.4444444444444444,
              "#bd3786"
             ],
             [
              0.5555555555555556,
              "#d8576b"
             ],
             [
              0.6666666666666666,
              "#ed7953"
             ],
             [
              0.7777777777777778,
              "#fb9f3a"
             ],
             [
              0.8888888888888888,
              "#fdca26"
             ],
             [
              1,
              "#f0f921"
             ]
            ],
            "type": "histogram2d"
           }
          ],
          "histogram2dcontour": [
           {
            "colorbar": {
             "outlinewidth": 0,
             "ticks": ""
            },
            "colorscale": [
             [
              0,
              "#0d0887"
             ],
             [
              0.1111111111111111,
              "#46039f"
             ],
             [
              0.2222222222222222,
              "#7201a8"
             ],
             [
              0.3333333333333333,
              "#9c179e"
             ],
             [
              0.4444444444444444,
              "#bd3786"
             ],
             [
              0.5555555555555556,
              "#d8576b"
             ],
             [
              0.6666666666666666,
              "#ed7953"
             ],
             [
              0.7777777777777778,
              "#fb9f3a"
             ],
             [
              0.8888888888888888,
              "#fdca26"
             ],
             [
              1,
              "#f0f921"
             ]
            ],
            "type": "histogram2dcontour"
           }
          ],
          "mesh3d": [
           {
            "colorbar": {
             "outlinewidth": 0,
             "ticks": ""
            },
            "type": "mesh3d"
           }
          ],
          "parcoords": [
           {
            "line": {
             "colorbar": {
              "outlinewidth": 0,
              "ticks": ""
             }
            },
            "type": "parcoords"
           }
          ],
          "pie": [
           {
            "automargin": true,
            "type": "pie"
           }
          ],
          "scatter": [
           {
            "marker": {
             "colorbar": {
              "outlinewidth": 0,
              "ticks": ""
             }
            },
            "type": "scatter"
           }
          ],
          "scatter3d": [
           {
            "line": {
             "colorbar": {
              "outlinewidth": 0,
              "ticks": ""
             }
            },
            "marker": {
             "colorbar": {
              "outlinewidth": 0,
              "ticks": ""
             }
            },
            "type": "scatter3d"
           }
          ],
          "scattercarpet": [
           {
            "marker": {
             "colorbar": {
              "outlinewidth": 0,
              "ticks": ""
             }
            },
            "type": "scattercarpet"
           }
          ],
          "scattergeo": [
           {
            "marker": {
             "colorbar": {
              "outlinewidth": 0,
              "ticks": ""
             }
            },
            "type": "scattergeo"
           }
          ],
          "scattergl": [
           {
            "marker": {
             "colorbar": {
              "outlinewidth": 0,
              "ticks": ""
             }
            },
            "type": "scattergl"
           }
          ],
          "scattermapbox": [
           {
            "marker": {
             "colorbar": {
              "outlinewidth": 0,
              "ticks": ""
             }
            },
            "type": "scattermapbox"
           }
          ],
          "scatterpolar": [
           {
            "marker": {
             "colorbar": {
              "outlinewidth": 0,
              "ticks": ""
             }
            },
            "type": "scatterpolar"
           }
          ],
          "scatterpolargl": [
           {
            "marker": {
             "colorbar": {
              "outlinewidth": 0,
              "ticks": ""
             }
            },
            "type": "scatterpolargl"
           }
          ],
          "scatterternary": [
           {
            "marker": {
             "colorbar": {
              "outlinewidth": 0,
              "ticks": ""
             }
            },
            "type": "scatterternary"
           }
          ],
          "surface": [
           {
            "colorbar": {
             "outlinewidth": 0,
             "ticks": ""
            },
            "colorscale": [
             [
              0,
              "#0d0887"
             ],
             [
              0.1111111111111111,
              "#46039f"
             ],
             [
              0.2222222222222222,
              "#7201a8"
             ],
             [
              0.3333333333333333,
              "#9c179e"
             ],
             [
              0.4444444444444444,
              "#bd3786"
             ],
             [
              0.5555555555555556,
              "#d8576b"
             ],
             [
              0.6666666666666666,
              "#ed7953"
             ],
             [
              0.7777777777777778,
              "#fb9f3a"
             ],
             [
              0.8888888888888888,
              "#fdca26"
             ],
             [
              1,
              "#f0f921"
             ]
            ],
            "type": "surface"
           }
          ],
          "table": [
           {
            "cells": {
             "fill": {
              "color": "#EBF0F8"
             },
             "line": {
              "color": "white"
             }
            },
            "header": {
             "fill": {
              "color": "#C8D4E3"
             },
             "line": {
              "color": "white"
             }
            },
            "type": "table"
           }
          ]
         },
         "layout": {
          "annotationdefaults": {
           "arrowcolor": "#2a3f5f",
           "arrowhead": 0,
           "arrowwidth": 1
          },
          "coloraxis": {
           "colorbar": {
            "outlinewidth": 0,
            "ticks": ""
           }
          },
          "colorscale": {
           "diverging": [
            [
             0,
             "#8e0152"
            ],
            [
             0.1,
             "#c51b7d"
            ],
            [
             0.2,
             "#de77ae"
            ],
            [
             0.3,
             "#f1b6da"
            ],
            [
             0.4,
             "#fde0ef"
            ],
            [
             0.5,
             "#f7f7f7"
            ],
            [
             0.6,
             "#e6f5d0"
            ],
            [
             0.7,
             "#b8e186"
            ],
            [
             0.8,
             "#7fbc41"
            ],
            [
             0.9,
             "#4d9221"
            ],
            [
             1,
             "#276419"
            ]
           ],
           "sequential": [
            [
             0,
             "#0d0887"
            ],
            [
             0.1111111111111111,
             "#46039f"
            ],
            [
             0.2222222222222222,
             "#7201a8"
            ],
            [
             0.3333333333333333,
             "#9c179e"
            ],
            [
             0.4444444444444444,
             "#bd3786"
            ],
            [
             0.5555555555555556,
             "#d8576b"
            ],
            [
             0.6666666666666666,
             "#ed7953"
            ],
            [
             0.7777777777777778,
             "#fb9f3a"
            ],
            [
             0.8888888888888888,
             "#fdca26"
            ],
            [
             1,
             "#f0f921"
            ]
           ],
           "sequentialminus": [
            [
             0,
             "#0d0887"
            ],
            [
             0.1111111111111111,
             "#46039f"
            ],
            [
             0.2222222222222222,
             "#7201a8"
            ],
            [
             0.3333333333333333,
             "#9c179e"
            ],
            [
             0.4444444444444444,
             "#bd3786"
            ],
            [
             0.5555555555555556,
             "#d8576b"
            ],
            [
             0.6666666666666666,
             "#ed7953"
            ],
            [
             0.7777777777777778,
             "#fb9f3a"
            ],
            [
             0.8888888888888888,
             "#fdca26"
            ],
            [
             1,
             "#f0f921"
            ]
           ]
          },
          "colorway": [
           "#636efa",
           "#EF553B",
           "#00cc96",
           "#ab63fa",
           "#FFA15A",
           "#19d3f3",
           "#FF6692",
           "#B6E880",
           "#FF97FF",
           "#FECB52"
          ],
          "font": {
           "color": "#2a3f5f"
          },
          "geo": {
           "bgcolor": "white",
           "lakecolor": "white",
           "landcolor": "#E5ECF6",
           "showlakes": true,
           "showland": true,
           "subunitcolor": "white"
          },
          "hoverlabel": {
           "align": "left"
          },
          "hovermode": "closest",
          "mapbox": {
           "style": "light"
          },
          "paper_bgcolor": "white",
          "plot_bgcolor": "#E5ECF6",
          "polar": {
           "angularaxis": {
            "gridcolor": "white",
            "linecolor": "white",
            "ticks": ""
           },
           "bgcolor": "#E5ECF6",
           "radialaxis": {
            "gridcolor": "white",
            "linecolor": "white",
            "ticks": ""
           }
          },
          "scene": {
           "xaxis": {
            "backgroundcolor": "#E5ECF6",
            "gridcolor": "white",
            "gridwidth": 2,
            "linecolor": "white",
            "showbackground": true,
            "ticks": "",
            "zerolinecolor": "white"
           },
           "yaxis": {
            "backgroundcolor": "#E5ECF6",
            "gridcolor": "white",
            "gridwidth": 2,
            "linecolor": "white",
            "showbackground": true,
            "ticks": "",
            "zerolinecolor": "white"
           },
           "zaxis": {
            "backgroundcolor": "#E5ECF6",
            "gridcolor": "white",
            "gridwidth": 2,
            "linecolor": "white",
            "showbackground": true,
            "ticks": "",
            "zerolinecolor": "white"
           }
          },
          "shapedefaults": {
           "line": {
            "color": "#2a3f5f"
           }
          },
          "ternary": {
           "aaxis": {
            "gridcolor": "white",
            "linecolor": "white",
            "ticks": ""
           },
           "baxis": {
            "gridcolor": "white",
            "linecolor": "white",
            "ticks": ""
           },
           "bgcolor": "#E5ECF6",
           "caxis": {
            "gridcolor": "white",
            "linecolor": "white",
            "ticks": ""
           }
          },
          "title": {
           "x": 0.05
          },
          "xaxis": {
           "automargin": true,
           "gridcolor": "white",
           "linecolor": "white",
           "ticks": "",
           "title": {
            "standoff": 15
           },
           "zerolinecolor": "white",
           "zerolinewidth": 2
          },
          "yaxis": {
           "automargin": true,
           "gridcolor": "white",
           "linecolor": "white",
           "ticks": "",
           "title": {
            "standoff": 15
           },
           "zerolinecolor": "white",
           "zerolinewidth": 2
          }
         }
        },
        "title": {
         "font": {
          "color": "#4D5663"
         }
        },
        "xaxis": {
         "gridcolor": "#E1E5ED",
         "showgrid": true,
         "tickfont": {
          "color": "#4D5663"
         },
         "title": {
          "font": {
           "color": "#4D5663"
          },
          "text": ""
         },
         "zerolinecolor": "#E1E5ED"
        },
        "yaxis": {
         "gridcolor": "#E1E5ED",
         "showgrid": true,
         "tickfont": {
          "color": "#4D5663"
         },
         "title": {
          "font": {
           "color": "#4D5663"
          },
          "text": ""
         },
         "zerolinecolor": "#E1E5ED"
        }
       }
      },
      "text/html": [
       "<div>\n",
       "        \n",
       "        \n",
       "            <div id=\"1f982981-f91f-4ab3-b042-509b82f29de0\" class=\"plotly-graph-div\" style=\"height:525px; width:100%;\"></div>\n",
       "            <script type=\"text/javascript\">\n",
       "                require([\"plotly\"], function(Plotly) {\n",
       "                    window.PLOTLYENV=window.PLOTLYENV || {};\n",
       "                    window.PLOTLYENV.BASE_URL='https://plot.ly';\n",
       "                    \n",
       "                if (document.getElementById(\"1f982981-f91f-4ab3-b042-509b82f29de0\")) {\n",
       "                    Plotly.newPlot(\n",
       "                        '1f982981-f91f-4ab3-b042-509b82f29de0',\n",
       "                        [{\"histfunc\": \"count\", \"histnorm\": \"\", \"marker\": {\"color\": \"rgba(255, 153, 51, 1.0)\", \"line\": {\"color\": \"#4D5663\", \"width\": 1.3}}, \"name\": \"A\", \"nbinsx\": 25, \"opacity\": 0.8, \"orientation\": \"v\", \"type\": \"histogram\", \"x\": [0.20809043819086845, -0.019341506915506363, 0.6710928486171988, -0.32374262692684636, -0.08933950365355328, -2.4870153305002876, -0.0828445187959473, 0.5765196640599008, -1.45974335926409, -0.7039420056988792, 0.07374623781588262, 1.3890599308664364, -0.4065140417790279, -1.5534252482243656, -0.5223086210478873, 1.0283472012969124, -0.7782606201795501, -1.1134140955232776, 1.545117883927185, 0.6536675243606903, -0.4635661135202583, -1.3776886078026092, 0.5157479741118118, 0.48495411771132285, -1.498163791196165, 0.186173316287323, -0.6084259450245122, 0.1385458239150797, -0.34327731015590035, 1.3057395117869839, -0.8507861830526204, 0.07068108652281078, 0.5609468060125844, 0.8436003826923163, -0.5544739466474897, 0.304567437465066, 0.07380956245430079, 0.6770820944557193, 0.9958583944756741, -0.8843872234471372, -0.5686911224280439, -0.4833310001350282, 1.0444287952056812, -1.0247446450677433, -0.04442966989560093, -0.8533122995490622, 0.6530986336452997, -0.7022015322286137, 1.2062876705027765, -2.0339563452164966, 0.48742624290522124, 0.6589028909488218, -2.3421002379617333, -0.7722454389655053, 0.02882023909271555, -1.534494316301149, 0.38125317141931553, 0.9658911532176244, -0.36784839411375353, 0.7996346562293096, -1.6665252924104532, -0.4099124667256445, -0.6272330819731242, 0.22436834840107997, -0.587796897611996, -0.21185255449597312, -0.012570892599201121, -0.54279177228348, -2.6560874773893772, 0.3149100180434697, 2.010648660253624, 0.5551898627890857, -1.4963775556776142, -0.5877273554807264, 0.07257979710473213, 0.15338192801483436, -0.5596087652557075, 0.9007287289028704, 0.7994878115707456, -0.8204821180718412, 0.28035281575665505, 0.23986792951813127, -0.19554464475260425, 1.490723752902071, -0.20027691553987273, -0.5566182124634896, -0.2586965268169799, 0.8988418941151963, -0.12990886192371434, 0.02546613837971286, -1.0416098497036679, -1.5819094674443275, -0.13181985295975357, 1.2325838746792015, -1.1327957870240355, 0.34605049462143017, 1.706190747987443, 2.1433316293580784, 0.3271201022174498, -0.7168867904851405]}],\n",
       "                        {\"barmode\": \"overlay\", \"legend\": {\"bgcolor\": \"#F5F6F9\", \"font\": {\"color\": \"#4D5663\"}}, \"paper_bgcolor\": \"#F5F6F9\", \"plot_bgcolor\": \"#F5F6F9\", \"template\": {\"data\": {\"bar\": [{\"error_x\": {\"color\": \"#2a3f5f\"}, \"error_y\": {\"color\": \"#2a3f5f\"}, \"marker\": {\"line\": {\"color\": \"#E5ECF6\", \"width\": 0.5}}, \"type\": \"bar\"}], \"barpolar\": [{\"marker\": {\"line\": {\"color\": \"#E5ECF6\", \"width\": 0.5}}, \"type\": \"barpolar\"}], \"carpet\": [{\"aaxis\": {\"endlinecolor\": \"#2a3f5f\", \"gridcolor\": \"white\", \"linecolor\": \"white\", \"minorgridcolor\": \"white\", \"startlinecolor\": \"#2a3f5f\"}, \"baxis\": {\"endlinecolor\": \"#2a3f5f\", \"gridcolor\": \"white\", \"linecolor\": \"white\", \"minorgridcolor\": \"white\", \"startlinecolor\": \"#2a3f5f\"}, \"type\": \"carpet\"}], \"choropleth\": [{\"colorbar\": {\"outlinewidth\": 0, \"ticks\": \"\"}, \"type\": \"choropleth\"}], \"contour\": [{\"colorbar\": {\"outlinewidth\": 0, \"ticks\": \"\"}, \"colorscale\": [[0.0, \"#0d0887\"], [0.1111111111111111, \"#46039f\"], [0.2222222222222222, \"#7201a8\"], [0.3333333333333333, \"#9c179e\"], [0.4444444444444444, \"#bd3786\"], [0.5555555555555556, \"#d8576b\"], [0.6666666666666666, \"#ed7953\"], [0.7777777777777778, \"#fb9f3a\"], [0.8888888888888888, \"#fdca26\"], [1.0, \"#f0f921\"]], \"type\": \"contour\"}], \"contourcarpet\": [{\"colorbar\": {\"outlinewidth\": 0, \"ticks\": \"\"}, \"type\": \"contourcarpet\"}], \"heatmap\": [{\"colorbar\": {\"outlinewidth\": 0, \"ticks\": \"\"}, \"colorscale\": [[0.0, \"#0d0887\"], [0.1111111111111111, \"#46039f\"], [0.2222222222222222, \"#7201a8\"], [0.3333333333333333, \"#9c179e\"], [0.4444444444444444, \"#bd3786\"], [0.5555555555555556, \"#d8576b\"], [0.6666666666666666, \"#ed7953\"], [0.7777777777777778, \"#fb9f3a\"], [0.8888888888888888, \"#fdca26\"], [1.0, \"#f0f921\"]], \"type\": \"heatmap\"}], \"heatmapgl\": [{\"colorbar\": {\"outlinewidth\": 0, \"ticks\": \"\"}, \"colorscale\": [[0.0, \"#0d0887\"], [0.1111111111111111, \"#46039f\"], [0.2222222222222222, \"#7201a8\"], [0.3333333333333333, \"#9c179e\"], [0.4444444444444444, \"#bd3786\"], [0.5555555555555556, \"#d8576b\"], [0.6666666666666666, \"#ed7953\"], [0.7777777777777778, \"#fb9f3a\"], [0.8888888888888888, \"#fdca26\"], [1.0, \"#f0f921\"]], \"type\": \"heatmapgl\"}], \"histogram\": [{\"marker\": {\"colorbar\": {\"outlinewidth\": 0, \"ticks\": \"\"}}, \"type\": \"histogram\"}], \"histogram2d\": [{\"colorbar\": {\"outlinewidth\": 0, \"ticks\": \"\"}, \"colorscale\": [[0.0, \"#0d0887\"], [0.1111111111111111, \"#46039f\"], [0.2222222222222222, \"#7201a8\"], [0.3333333333333333, \"#9c179e\"], [0.4444444444444444, \"#bd3786\"], [0.5555555555555556, \"#d8576b\"], [0.6666666666666666, \"#ed7953\"], [0.7777777777777778, \"#fb9f3a\"], [0.8888888888888888, \"#fdca26\"], [1.0, \"#f0f921\"]], \"type\": \"histogram2d\"}], \"histogram2dcontour\": [{\"colorbar\": {\"outlinewidth\": 0, \"ticks\": \"\"}, \"colorscale\": [[0.0, \"#0d0887\"], [0.1111111111111111, \"#46039f\"], [0.2222222222222222, \"#7201a8\"], [0.3333333333333333, \"#9c179e\"], [0.4444444444444444, \"#bd3786\"], [0.5555555555555556, \"#d8576b\"], [0.6666666666666666, \"#ed7953\"], [0.7777777777777778, \"#fb9f3a\"], [0.8888888888888888, \"#fdca26\"], [1.0, \"#f0f921\"]], \"type\": \"histogram2dcontour\"}], \"mesh3d\": [{\"colorbar\": {\"outlinewidth\": 0, \"ticks\": \"\"}, \"type\": \"mesh3d\"}], \"parcoords\": [{\"line\": {\"colorbar\": {\"outlinewidth\": 0, \"ticks\": \"\"}}, \"type\": \"parcoords\"}], \"pie\": [{\"automargin\": true, \"type\": \"pie\"}], \"scatter\": [{\"marker\": {\"colorbar\": {\"outlinewidth\": 0, \"ticks\": \"\"}}, \"type\": \"scatter\"}], \"scatter3d\": [{\"line\": {\"colorbar\": {\"outlinewidth\": 0, \"ticks\": \"\"}}, \"marker\": {\"colorbar\": {\"outlinewidth\": 0, \"ticks\": \"\"}}, \"type\": \"scatter3d\"}], \"scattercarpet\": [{\"marker\": {\"colorbar\": {\"outlinewidth\": 0, \"ticks\": \"\"}}, \"type\": \"scattercarpet\"}], \"scattergeo\": [{\"marker\": {\"colorbar\": {\"outlinewidth\": 0, \"ticks\": \"\"}}, \"type\": \"scattergeo\"}], \"scattergl\": [{\"marker\": {\"colorbar\": {\"outlinewidth\": 0, \"ticks\": \"\"}}, \"type\": \"scattergl\"}], \"scattermapbox\": [{\"marker\": {\"colorbar\": {\"outlinewidth\": 0, \"ticks\": \"\"}}, \"type\": \"scattermapbox\"}], \"scatterpolar\": [{\"marker\": {\"colorbar\": {\"outlinewidth\": 0, \"ticks\": \"\"}}, \"type\": \"scatterpolar\"}], \"scatterpolargl\": [{\"marker\": {\"colorbar\": {\"outlinewidth\": 0, \"ticks\": \"\"}}, \"type\": \"scatterpolargl\"}], \"scatterternary\": [{\"marker\": {\"colorbar\": {\"outlinewidth\": 0, \"ticks\": \"\"}}, \"type\": \"scatterternary\"}], \"surface\": [{\"colorbar\": {\"outlinewidth\": 0, \"ticks\": \"\"}, \"colorscale\": [[0.0, \"#0d0887\"], [0.1111111111111111, \"#46039f\"], [0.2222222222222222, \"#7201a8\"], [0.3333333333333333, \"#9c179e\"], [0.4444444444444444, \"#bd3786\"], [0.5555555555555556, \"#d8576b\"], [0.6666666666666666, \"#ed7953\"], [0.7777777777777778, \"#fb9f3a\"], [0.8888888888888888, \"#fdca26\"], [1.0, \"#f0f921\"]], \"type\": \"surface\"}], \"table\": [{\"cells\": {\"fill\": {\"color\": \"#EBF0F8\"}, \"line\": {\"color\": \"white\"}}, \"header\": {\"fill\": {\"color\": \"#C8D4E3\"}, \"line\": {\"color\": \"white\"}}, \"type\": \"table\"}]}, \"layout\": {\"annotationdefaults\": {\"arrowcolor\": \"#2a3f5f\", \"arrowhead\": 0, \"arrowwidth\": 1}, \"coloraxis\": {\"colorbar\": {\"outlinewidth\": 0, \"ticks\": \"\"}}, \"colorscale\": {\"diverging\": [[0, \"#8e0152\"], [0.1, \"#c51b7d\"], [0.2, \"#de77ae\"], [0.3, \"#f1b6da\"], [0.4, \"#fde0ef\"], [0.5, \"#f7f7f7\"], [0.6, \"#e6f5d0\"], [0.7, \"#b8e186\"], [0.8, \"#7fbc41\"], [0.9, \"#4d9221\"], [1, \"#276419\"]], \"sequential\": [[0.0, \"#0d0887\"], [0.1111111111111111, \"#46039f\"], [0.2222222222222222, \"#7201a8\"], [0.3333333333333333, \"#9c179e\"], [0.4444444444444444, \"#bd3786\"], [0.5555555555555556, \"#d8576b\"], [0.6666666666666666, \"#ed7953\"], [0.7777777777777778, \"#fb9f3a\"], [0.8888888888888888, \"#fdca26\"], [1.0, \"#f0f921\"]], \"sequentialminus\": [[0.0, \"#0d0887\"], [0.1111111111111111, \"#46039f\"], [0.2222222222222222, \"#7201a8\"], [0.3333333333333333, \"#9c179e\"], [0.4444444444444444, \"#bd3786\"], [0.5555555555555556, \"#d8576b\"], [0.6666666666666666, \"#ed7953\"], [0.7777777777777778, \"#fb9f3a\"], [0.8888888888888888, \"#fdca26\"], [1.0, \"#f0f921\"]]}, \"colorway\": [\"#636efa\", \"#EF553B\", \"#00cc96\", \"#ab63fa\", \"#FFA15A\", \"#19d3f3\", \"#FF6692\", \"#B6E880\", \"#FF97FF\", \"#FECB52\"], \"font\": {\"color\": \"#2a3f5f\"}, \"geo\": {\"bgcolor\": \"white\", \"lakecolor\": \"white\", \"landcolor\": \"#E5ECF6\", \"showlakes\": true, \"showland\": true, \"subunitcolor\": \"white\"}, \"hoverlabel\": {\"align\": \"left\"}, \"hovermode\": \"closest\", \"mapbox\": {\"style\": \"light\"}, \"paper_bgcolor\": \"white\", \"plot_bgcolor\": \"#E5ECF6\", \"polar\": {\"angularaxis\": {\"gridcolor\": \"white\", \"linecolor\": \"white\", \"ticks\": \"\"}, \"bgcolor\": \"#E5ECF6\", \"radialaxis\": {\"gridcolor\": \"white\", \"linecolor\": \"white\", \"ticks\": \"\"}}, \"scene\": {\"xaxis\": {\"backgroundcolor\": \"#E5ECF6\", \"gridcolor\": \"white\", \"gridwidth\": 2, \"linecolor\": \"white\", \"showbackground\": true, \"ticks\": \"\", \"zerolinecolor\": \"white\"}, \"yaxis\": {\"backgroundcolor\": \"#E5ECF6\", \"gridcolor\": \"white\", \"gridwidth\": 2, \"linecolor\": \"white\", \"showbackground\": true, \"ticks\": \"\", \"zerolinecolor\": \"white\"}, \"zaxis\": {\"backgroundcolor\": \"#E5ECF6\", \"gridcolor\": \"white\", \"gridwidth\": 2, \"linecolor\": \"white\", \"showbackground\": true, \"ticks\": \"\", \"zerolinecolor\": \"white\"}}, \"shapedefaults\": {\"line\": {\"color\": \"#2a3f5f\"}}, \"ternary\": {\"aaxis\": {\"gridcolor\": \"white\", \"linecolor\": \"white\", \"ticks\": \"\"}, \"baxis\": {\"gridcolor\": \"white\", \"linecolor\": \"white\", \"ticks\": \"\"}, \"bgcolor\": \"#E5ECF6\", \"caxis\": {\"gridcolor\": \"white\", \"linecolor\": \"white\", \"ticks\": \"\"}}, \"title\": {\"x\": 0.05}, \"xaxis\": {\"automargin\": true, \"gridcolor\": \"white\", \"linecolor\": \"white\", \"ticks\": \"\", \"title\": {\"standoff\": 15}, \"zerolinecolor\": \"white\", \"zerolinewidth\": 2}, \"yaxis\": {\"automargin\": true, \"gridcolor\": \"white\", \"linecolor\": \"white\", \"ticks\": \"\", \"title\": {\"standoff\": 15}, \"zerolinecolor\": \"white\", \"zerolinewidth\": 2}}}, \"title\": {\"font\": {\"color\": \"#4D5663\"}}, \"xaxis\": {\"gridcolor\": \"#E1E5ED\", \"showgrid\": true, \"tickfont\": {\"color\": \"#4D5663\"}, \"title\": {\"font\": {\"color\": \"#4D5663\"}, \"text\": \"\"}, \"zerolinecolor\": \"#E1E5ED\"}, \"yaxis\": {\"gridcolor\": \"#E1E5ED\", \"showgrid\": true, \"tickfont\": {\"color\": \"#4D5663\"}, \"title\": {\"font\": {\"color\": \"#4D5663\"}, \"text\": \"\"}, \"zerolinecolor\": \"#E1E5ED\"}},\n",
       "                        {\"showLink\": true, \"linkText\": \"Export to plot.ly\", \"plotlyServerURL\": \"https://plot.ly\", \"responsive\": true}\n",
       "                    ).then(function(){\n",
       "                            \n",
       "var gd = document.getElementById('1f982981-f91f-4ab3-b042-509b82f29de0');\n",
       "var x = new MutationObserver(function (mutations, observer) {{\n",
       "        var display = window.getComputedStyle(gd).display;\n",
       "        if (!display || display === 'none') {{\n",
       "            console.log([gd, 'removed!']);\n",
       "            Plotly.purge(gd);\n",
       "            observer.disconnect();\n",
       "        }}\n",
       "}});\n",
       "\n",
       "// Listen for the removal of the full notebook cells\n",
       "var notebookContainer = gd.closest('#notebook-container');\n",
       "if (notebookContainer) {{\n",
       "    x.observe(notebookContainer, {childList: true});\n",
       "}}\n",
       "\n",
       "// Listen for the clearing of the current output cell\n",
       "var outputEl = gd.closest('.output');\n",
       "if (outputEl) {{\n",
       "    x.observe(outputEl, {childList: true});\n",
       "}}\n",
       "\n",
       "                        })\n",
       "                };\n",
       "                });\n",
       "            </script>\n",
       "        </div>"
      ]
     },
     "metadata": {},
     "output_type": "display_data"
    }
   ],
   "source": [
    "df['A'].iplot(kind='hist', bins=25)"
   ]
  },
  {
   "cell_type": "code",
   "execution_count": 45,
   "metadata": {},
   "outputs": [
    {
     "data": {
      "application/vnd.plotly.v1+json": {
       "config": {
        "linkText": "Export to plot.ly",
        "plotlyServerURL": "https://plot.ly",
        "showLink": true
       },
       "data": [
        {
         "histfunc": "count",
         "histnorm": "",
         "marker": {
          "color": "rgba(255, 153, 51, 1.0)",
          "line": {
           "color": "#4D5663",
           "width": 1.3
          }
         },
         "name": "A",
         "opacity": 0.8,
         "orientation": "v",
         "type": "histogram",
         "x": [
          0.20809043819086845,
          -0.019341506915506363,
          0.6710928486171988,
          -0.32374262692684636,
          -0.08933950365355328,
          -2.4870153305002876,
          -0.0828445187959473,
          0.5765196640599008,
          -1.45974335926409,
          -0.7039420056988792,
          0.07374623781588262,
          1.3890599308664364,
          -0.4065140417790279,
          -1.5534252482243656,
          -0.5223086210478873,
          1.0283472012969124,
          -0.7782606201795501,
          -1.1134140955232776,
          1.545117883927185,
          0.6536675243606903,
          -0.4635661135202583,
          -1.3776886078026092,
          0.5157479741118118,
          0.48495411771132285,
          -1.498163791196165,
          0.186173316287323,
          -0.6084259450245122,
          0.1385458239150797,
          -0.34327731015590035,
          1.3057395117869839,
          -0.8507861830526204,
          0.07068108652281078,
          0.5609468060125844,
          0.8436003826923163,
          -0.5544739466474897,
          0.304567437465066,
          0.07380956245430079,
          0.6770820944557193,
          0.9958583944756741,
          -0.8843872234471372,
          -0.5686911224280439,
          -0.4833310001350282,
          1.0444287952056812,
          -1.0247446450677433,
          -0.04442966989560093,
          -0.8533122995490622,
          0.6530986336452997,
          -0.7022015322286137,
          1.2062876705027765,
          -2.0339563452164966,
          0.48742624290522124,
          0.6589028909488218,
          -2.3421002379617333,
          -0.7722454389655053,
          0.02882023909271555,
          -1.534494316301149,
          0.38125317141931553,
          0.9658911532176244,
          -0.36784839411375353,
          0.7996346562293096,
          -1.6665252924104532,
          -0.4099124667256445,
          -0.6272330819731242,
          0.22436834840107997,
          -0.587796897611996,
          -0.21185255449597312,
          -0.012570892599201121,
          -0.54279177228348,
          -2.6560874773893772,
          0.3149100180434697,
          2.010648660253624,
          0.5551898627890857,
          -1.4963775556776142,
          -0.5877273554807264,
          0.07257979710473213,
          0.15338192801483436,
          -0.5596087652557075,
          0.9007287289028704,
          0.7994878115707456,
          -0.8204821180718412,
          0.28035281575665505,
          0.23986792951813127,
          -0.19554464475260425,
          1.490723752902071,
          -0.20027691553987273,
          -0.5566182124634896,
          -0.2586965268169799,
          0.8988418941151963,
          -0.12990886192371434,
          0.02546613837971286,
          -1.0416098497036679,
          -1.5819094674443275,
          -0.13181985295975357,
          1.2325838746792015,
          -1.1327957870240355,
          0.34605049462143017,
          1.706190747987443,
          2.1433316293580784,
          0.3271201022174498,
          -0.7168867904851405
         ]
        },
        {
         "histfunc": "count",
         "histnorm": "",
         "marker": {
          "color": "rgba(55, 128, 191, 1.0)",
          "line": {
           "color": "#4D5663",
           "width": 1.3
          }
         },
         "name": "B",
         "opacity": 0.8,
         "orientation": "v",
         "type": "histogram",
         "x": [
          0.15135829454715108,
          0.9795160147718429,
          1.4214734609290678,
          -0.07097325758683996,
          -0.9210663836667375,
          0.20378024537982453,
          -0.6100369380441374,
          -1.3466306621394803,
          -1.81632980066363,
          -0.15798779724206727,
          -1.018606443577509,
          -0.54437943019444,
          -0.48276994747208113,
          0.57798424272942,
          -0.970914049767164,
          -0.4352116885815418,
          0.8241358618851978,
          1.2918990512894106,
          -0.11878729385443036,
          -0.24842332641139903,
          0.4465616973650019,
          0.7155306943090513,
          1.9646290002462576,
          0.7485402486486966,
          2.301917351467514,
          -0.4584041069143579,
          -1.9769012314332277,
          -1.201105007029545,
          1.669260528563722,
          0.22156748859860562,
          -0.43902290576062286,
          -0.9269491629983333,
          -1.442120004125873,
          -1.1669983984588779,
          -0.2801873720734649,
          2.5275136591199066,
          -0.020117546102519243,
          -1.5074242850340052,
          -1.3581481255377978,
          1.0682872361234326,
          -0.4253891039927625,
          -0.9795015883734285,
          0.7178957327501252,
          -1.1761437747950894,
          -1.6540195151829544,
          1.6095607825891305,
          -0.8873683216168122,
          -1.6423713126718416,
          -0.17082902921556906,
          1.4433275020088596,
          -0.23514827551444784,
          -0.18210764579747643,
          -0.47380473108659904,
          -0.30564100505727737,
          0.39475719400621767,
          0.927733729671384,
          1.2414238982703922,
          0.0029357777775479636,
          0.869531108145011,
          -0.3108725300689207,
          0.31612727830321374,
          0.7637627871271956,
          -1.7022198823396548,
          0.9700454378831772,
          -2.2371234275566225,
          1.131637517157968,
          -0.393532240954233,
          -0.08165933539689739,
          0.36858334803231196,
          -1.6126676133120872,
          -0.5352745521823805,
          0.6346815353686975,
          1.238888755284414,
          -1.0276900358987127,
          -0.3355367973642946,
          0.37140192615612216,
          -0.8515083889392284,
          -2.9690855877133386,
          0.6140107859520972,
          0.43209277527755674,
          -1.0987784624213168,
          0.20215234928410972,
          -0.46102411065062787,
          1.4859285963890307,
          1.3911792195871207,
          -1.3670903285961076,
          0.22450940710990647,
          0.4101279410076213,
          1.977960208478093,
          0.43079393165742125,
          -2.9129924250906174,
          -0.7310092701771267,
          0.18258620922954666,
          2.392127291109862,
          -0.2879343642592824,
          1.8906107785898578,
          0.7400795074044674,
          -1.3617204379633567,
          0.7788471931365946,
          0.6913717081312138
         ]
        }
       ],
       "layout": {
        "barmode": "overlay",
        "legend": {
         "bgcolor": "#F5F6F9",
         "font": {
          "color": "#4D5663"
         }
        },
        "paper_bgcolor": "#F5F6F9",
        "plot_bgcolor": "#F5F6F9",
        "template": {
         "data": {
          "bar": [
           {
            "error_x": {
             "color": "#2a3f5f"
            },
            "error_y": {
             "color": "#2a3f5f"
            },
            "marker": {
             "line": {
              "color": "#E5ECF6",
              "width": 0.5
             }
            },
            "type": "bar"
           }
          ],
          "barpolar": [
           {
            "marker": {
             "line": {
              "color": "#E5ECF6",
              "width": 0.5
             }
            },
            "type": "barpolar"
           }
          ],
          "carpet": [
           {
            "aaxis": {
             "endlinecolor": "#2a3f5f",
             "gridcolor": "white",
             "linecolor": "white",
             "minorgridcolor": "white",
             "startlinecolor": "#2a3f5f"
            },
            "baxis": {
             "endlinecolor": "#2a3f5f",
             "gridcolor": "white",
             "linecolor": "white",
             "minorgridcolor": "white",
             "startlinecolor": "#2a3f5f"
            },
            "type": "carpet"
           }
          ],
          "choropleth": [
           {
            "colorbar": {
             "outlinewidth": 0,
             "ticks": ""
            },
            "type": "choropleth"
           }
          ],
          "contour": [
           {
            "colorbar": {
             "outlinewidth": 0,
             "ticks": ""
            },
            "colorscale": [
             [
              0,
              "#0d0887"
             ],
             [
              0.1111111111111111,
              "#46039f"
             ],
             [
              0.2222222222222222,
              "#7201a8"
             ],
             [
              0.3333333333333333,
              "#9c179e"
             ],
             [
              0.4444444444444444,
              "#bd3786"
             ],
             [
              0.5555555555555556,
              "#d8576b"
             ],
             [
              0.6666666666666666,
              "#ed7953"
             ],
             [
              0.7777777777777778,
              "#fb9f3a"
             ],
             [
              0.8888888888888888,
              "#fdca26"
             ],
             [
              1,
              "#f0f921"
             ]
            ],
            "type": "contour"
           }
          ],
          "contourcarpet": [
           {
            "colorbar": {
             "outlinewidth": 0,
             "ticks": ""
            },
            "type": "contourcarpet"
           }
          ],
          "heatmap": [
           {
            "colorbar": {
             "outlinewidth": 0,
             "ticks": ""
            },
            "colorscale": [
             [
              0,
              "#0d0887"
             ],
             [
              0.1111111111111111,
              "#46039f"
             ],
             [
              0.2222222222222222,
              "#7201a8"
             ],
             [
              0.3333333333333333,
              "#9c179e"
             ],
             [
              0.4444444444444444,
              "#bd3786"
             ],
             [
              0.5555555555555556,
              "#d8576b"
             ],
             [
              0.6666666666666666,
              "#ed7953"
             ],
             [
              0.7777777777777778,
              "#fb9f3a"
             ],
             [
              0.8888888888888888,
              "#fdca26"
             ],
             [
              1,
              "#f0f921"
             ]
            ],
            "type": "heatmap"
           }
          ],
          "heatmapgl": [
           {
            "colorbar": {
             "outlinewidth": 0,
             "ticks": ""
            },
            "colorscale": [
             [
              0,
              "#0d0887"
             ],
             [
              0.1111111111111111,
              "#46039f"
             ],
             [
              0.2222222222222222,
              "#7201a8"
             ],
             [
              0.3333333333333333,
              "#9c179e"
             ],
             [
              0.4444444444444444,
              "#bd3786"
             ],
             [
              0.5555555555555556,
              "#d8576b"
             ],
             [
              0.6666666666666666,
              "#ed7953"
             ],
             [
              0.7777777777777778,
              "#fb9f3a"
             ],
             [
              0.8888888888888888,
              "#fdca26"
             ],
             [
              1,
              "#f0f921"
             ]
            ],
            "type": "heatmapgl"
           }
          ],
          "histogram": [
           {
            "marker": {
             "colorbar": {
              "outlinewidth": 0,
              "ticks": ""
             }
            },
            "type": "histogram"
           }
          ],
          "histogram2d": [
           {
            "colorbar": {
             "outlinewidth": 0,
             "ticks": ""
            },
            "colorscale": [
             [
              0,
              "#0d0887"
             ],
             [
              0.1111111111111111,
              "#46039f"
             ],
             [
              0.2222222222222222,
              "#7201a8"
             ],
             [
              0.3333333333333333,
              "#9c179e"
             ],
             [
              0.4444444444444444,
              "#bd3786"
             ],
             [
              0.5555555555555556,
              "#d8576b"
             ],
             [
              0.6666666666666666,
              "#ed7953"
             ],
             [
              0.7777777777777778,
              "#fb9f3a"
             ],
             [
              0.8888888888888888,
              "#fdca26"
             ],
             [
              1,
              "#f0f921"
             ]
            ],
            "type": "histogram2d"
           }
          ],
          "histogram2dcontour": [
           {
            "colorbar": {
             "outlinewidth": 0,
             "ticks": ""
            },
            "colorscale": [
             [
              0,
              "#0d0887"
             ],
             [
              0.1111111111111111,
              "#46039f"
             ],
             [
              0.2222222222222222,
              "#7201a8"
             ],
             [
              0.3333333333333333,
              "#9c179e"
             ],
             [
              0.4444444444444444,
              "#bd3786"
             ],
             [
              0.5555555555555556,
              "#d8576b"
             ],
             [
              0.6666666666666666,
              "#ed7953"
             ],
             [
              0.7777777777777778,
              "#fb9f3a"
             ],
             [
              0.8888888888888888,
              "#fdca26"
             ],
             [
              1,
              "#f0f921"
             ]
            ],
            "type": "histogram2dcontour"
           }
          ],
          "mesh3d": [
           {
            "colorbar": {
             "outlinewidth": 0,
             "ticks": ""
            },
            "type": "mesh3d"
           }
          ],
          "parcoords": [
           {
            "line": {
             "colorbar": {
              "outlinewidth": 0,
              "ticks": ""
             }
            },
            "type": "parcoords"
           }
          ],
          "pie": [
           {
            "automargin": true,
            "type": "pie"
           }
          ],
          "scatter": [
           {
            "marker": {
             "colorbar": {
              "outlinewidth": 0,
              "ticks": ""
             }
            },
            "type": "scatter"
           }
          ],
          "scatter3d": [
           {
            "line": {
             "colorbar": {
              "outlinewidth": 0,
              "ticks": ""
             }
            },
            "marker": {
             "colorbar": {
              "outlinewidth": 0,
              "ticks": ""
             }
            },
            "type": "scatter3d"
           }
          ],
          "scattercarpet": [
           {
            "marker": {
             "colorbar": {
              "outlinewidth": 0,
              "ticks": ""
             }
            },
            "type": "scattercarpet"
           }
          ],
          "scattergeo": [
           {
            "marker": {
             "colorbar": {
              "outlinewidth": 0,
              "ticks": ""
             }
            },
            "type": "scattergeo"
           }
          ],
          "scattergl": [
           {
            "marker": {
             "colorbar": {
              "outlinewidth": 0,
              "ticks": ""
             }
            },
            "type": "scattergl"
           }
          ],
          "scattermapbox": [
           {
            "marker": {
             "colorbar": {
              "outlinewidth": 0,
              "ticks": ""
             }
            },
            "type": "scattermapbox"
           }
          ],
          "scatterpolar": [
           {
            "marker": {
             "colorbar": {
              "outlinewidth": 0,
              "ticks": ""
             }
            },
            "type": "scatterpolar"
           }
          ],
          "scatterpolargl": [
           {
            "marker": {
             "colorbar": {
              "outlinewidth": 0,
              "ticks": ""
             }
            },
            "type": "scatterpolargl"
           }
          ],
          "scatterternary": [
           {
            "marker": {
             "colorbar": {
              "outlinewidth": 0,
              "ticks": ""
             }
            },
            "type": "scatterternary"
           }
          ],
          "surface": [
           {
            "colorbar": {
             "outlinewidth": 0,
             "ticks": ""
            },
            "colorscale": [
             [
              0,
              "#0d0887"
             ],
             [
              0.1111111111111111,
              "#46039f"
             ],
             [
              0.2222222222222222,
              "#7201a8"
             ],
             [
              0.3333333333333333,
              "#9c179e"
             ],
             [
              0.4444444444444444,
              "#bd3786"
             ],
             [
              0.5555555555555556,
              "#d8576b"
             ],
             [
              0.6666666666666666,
              "#ed7953"
             ],
             [
              0.7777777777777778,
              "#fb9f3a"
             ],
             [
              0.8888888888888888,
              "#fdca26"
             ],
             [
              1,
              "#f0f921"
             ]
            ],
            "type": "surface"
           }
          ],
          "table": [
           {
            "cells": {
             "fill": {
              "color": "#EBF0F8"
             },
             "line": {
              "color": "white"
             }
            },
            "header": {
             "fill": {
              "color": "#C8D4E3"
             },
             "line": {
              "color": "white"
             }
            },
            "type": "table"
           }
          ]
         },
         "layout": {
          "annotationdefaults": {
           "arrowcolor": "#2a3f5f",
           "arrowhead": 0,
           "arrowwidth": 1
          },
          "coloraxis": {
           "colorbar": {
            "outlinewidth": 0,
            "ticks": ""
           }
          },
          "colorscale": {
           "diverging": [
            [
             0,
             "#8e0152"
            ],
            [
             0.1,
             "#c51b7d"
            ],
            [
             0.2,
             "#de77ae"
            ],
            [
             0.3,
             "#f1b6da"
            ],
            [
             0.4,
             "#fde0ef"
            ],
            [
             0.5,
             "#f7f7f7"
            ],
            [
             0.6,
             "#e6f5d0"
            ],
            [
             0.7,
             "#b8e186"
            ],
            [
             0.8,
             "#7fbc41"
            ],
            [
             0.9,
             "#4d9221"
            ],
            [
             1,
             "#276419"
            ]
           ],
           "sequential": [
            [
             0,
             "#0d0887"
            ],
            [
             0.1111111111111111,
             "#46039f"
            ],
            [
             0.2222222222222222,
             "#7201a8"
            ],
            [
             0.3333333333333333,
             "#9c179e"
            ],
            [
             0.4444444444444444,
             "#bd3786"
            ],
            [
             0.5555555555555556,
             "#d8576b"
            ],
            [
             0.6666666666666666,
             "#ed7953"
            ],
            [
             0.7777777777777778,
             "#fb9f3a"
            ],
            [
             0.8888888888888888,
             "#fdca26"
            ],
            [
             1,
             "#f0f921"
            ]
           ],
           "sequentialminus": [
            [
             0,
             "#0d0887"
            ],
            [
             0.1111111111111111,
             "#46039f"
            ],
            [
             0.2222222222222222,
             "#7201a8"
            ],
            [
             0.3333333333333333,
             "#9c179e"
            ],
            [
             0.4444444444444444,
             "#bd3786"
            ],
            [
             0.5555555555555556,
             "#d8576b"
            ],
            [
             0.6666666666666666,
             "#ed7953"
            ],
            [
             0.7777777777777778,
             "#fb9f3a"
            ],
            [
             0.8888888888888888,
             "#fdca26"
            ],
            [
             1,
             "#f0f921"
            ]
           ]
          },
          "colorway": [
           "#636efa",
           "#EF553B",
           "#00cc96",
           "#ab63fa",
           "#FFA15A",
           "#19d3f3",
           "#FF6692",
           "#B6E880",
           "#FF97FF",
           "#FECB52"
          ],
          "font": {
           "color": "#2a3f5f"
          },
          "geo": {
           "bgcolor": "white",
           "lakecolor": "white",
           "landcolor": "#E5ECF6",
           "showlakes": true,
           "showland": true,
           "subunitcolor": "white"
          },
          "hoverlabel": {
           "align": "left"
          },
          "hovermode": "closest",
          "mapbox": {
           "style": "light"
          },
          "paper_bgcolor": "white",
          "plot_bgcolor": "#E5ECF6",
          "polar": {
           "angularaxis": {
            "gridcolor": "white",
            "linecolor": "white",
            "ticks": ""
           },
           "bgcolor": "#E5ECF6",
           "radialaxis": {
            "gridcolor": "white",
            "linecolor": "white",
            "ticks": ""
           }
          },
          "scene": {
           "xaxis": {
            "backgroundcolor": "#E5ECF6",
            "gridcolor": "white",
            "gridwidth": 2,
            "linecolor": "white",
            "showbackground": true,
            "ticks": "",
            "zerolinecolor": "white"
           },
           "yaxis": {
            "backgroundcolor": "#E5ECF6",
            "gridcolor": "white",
            "gridwidth": 2,
            "linecolor": "white",
            "showbackground": true,
            "ticks": "",
            "zerolinecolor": "white"
           },
           "zaxis": {
            "backgroundcolor": "#E5ECF6",
            "gridcolor": "white",
            "gridwidth": 2,
            "linecolor": "white",
            "showbackground": true,
            "ticks": "",
            "zerolinecolor": "white"
           }
          },
          "shapedefaults": {
           "line": {
            "color": "#2a3f5f"
           }
          },
          "ternary": {
           "aaxis": {
            "gridcolor": "white",
            "linecolor": "white",
            "ticks": ""
           },
           "baxis": {
            "gridcolor": "white",
            "linecolor": "white",
            "ticks": ""
           },
           "bgcolor": "#E5ECF6",
           "caxis": {
            "gridcolor": "white",
            "linecolor": "white",
            "ticks": ""
           }
          },
          "title": {
           "x": 0.05
          },
          "xaxis": {
           "automargin": true,
           "gridcolor": "white",
           "linecolor": "white",
           "ticks": "",
           "title": {
            "standoff": 15
           },
           "zerolinecolor": "white",
           "zerolinewidth": 2
          },
          "yaxis": {
           "automargin": true,
           "gridcolor": "white",
           "linecolor": "white",
           "ticks": "",
           "title": {
            "standoff": 15
           },
           "zerolinecolor": "white",
           "zerolinewidth": 2
          }
         }
        },
        "title": {
         "font": {
          "color": "#4D5663"
         }
        },
        "xaxis": {
         "gridcolor": "#E1E5ED",
         "showgrid": true,
         "tickfont": {
          "color": "#4D5663"
         },
         "title": {
          "font": {
           "color": "#4D5663"
          },
          "text": ""
         },
         "zerolinecolor": "#E1E5ED"
        },
        "yaxis": {
         "gridcolor": "#E1E5ED",
         "showgrid": true,
         "tickfont": {
          "color": "#4D5663"
         },
         "title": {
          "font": {
           "color": "#4D5663"
          },
          "text": ""
         },
         "zerolinecolor": "#E1E5ED"
        }
       }
      },
      "text/html": [
       "<div>\n",
       "        \n",
       "        \n",
       "            <div id=\"c238be5d-0884-4e81-9181-0b36f30a751f\" class=\"plotly-graph-div\" style=\"height:525px; width:100%;\"></div>\n",
       "            <script type=\"text/javascript\">\n",
       "                require([\"plotly\"], function(Plotly) {\n",
       "                    window.PLOTLYENV=window.PLOTLYENV || {};\n",
       "                    window.PLOTLYENV.BASE_URL='https://plot.ly';\n",
       "                    \n",
       "                if (document.getElementById(\"c238be5d-0884-4e81-9181-0b36f30a751f\")) {\n",
       "                    Plotly.newPlot(\n",
       "                        'c238be5d-0884-4e81-9181-0b36f30a751f',\n",
       "                        [{\"histfunc\": \"count\", \"histnorm\": \"\", \"marker\": {\"color\": \"rgba(255, 153, 51, 1.0)\", \"line\": {\"color\": \"#4D5663\", \"width\": 1.3}}, \"name\": \"A\", \"opacity\": 0.8, \"orientation\": \"v\", \"type\": \"histogram\", \"x\": [0.20809043819086845, -0.019341506915506363, 0.6710928486171988, -0.32374262692684636, -0.08933950365355328, -2.4870153305002876, -0.0828445187959473, 0.5765196640599008, -1.45974335926409, -0.7039420056988792, 0.07374623781588262, 1.3890599308664364, -0.4065140417790279, -1.5534252482243656, -0.5223086210478873, 1.0283472012969124, -0.7782606201795501, -1.1134140955232776, 1.545117883927185, 0.6536675243606903, -0.4635661135202583, -1.3776886078026092, 0.5157479741118118, 0.48495411771132285, -1.498163791196165, 0.186173316287323, -0.6084259450245122, 0.1385458239150797, -0.34327731015590035, 1.3057395117869839, -0.8507861830526204, 0.07068108652281078, 0.5609468060125844, 0.8436003826923163, -0.5544739466474897, 0.304567437465066, 0.07380956245430079, 0.6770820944557193, 0.9958583944756741, -0.8843872234471372, -0.5686911224280439, -0.4833310001350282, 1.0444287952056812, -1.0247446450677433, -0.04442966989560093, -0.8533122995490622, 0.6530986336452997, -0.7022015322286137, 1.2062876705027765, -2.0339563452164966, 0.48742624290522124, 0.6589028909488218, -2.3421002379617333, -0.7722454389655053, 0.02882023909271555, -1.534494316301149, 0.38125317141931553, 0.9658911532176244, -0.36784839411375353, 0.7996346562293096, -1.6665252924104532, -0.4099124667256445, -0.6272330819731242, 0.22436834840107997, -0.587796897611996, -0.21185255449597312, -0.012570892599201121, -0.54279177228348, -2.6560874773893772, 0.3149100180434697, 2.010648660253624, 0.5551898627890857, -1.4963775556776142, -0.5877273554807264, 0.07257979710473213, 0.15338192801483436, -0.5596087652557075, 0.9007287289028704, 0.7994878115707456, -0.8204821180718412, 0.28035281575665505, 0.23986792951813127, -0.19554464475260425, 1.490723752902071, -0.20027691553987273, -0.5566182124634896, -0.2586965268169799, 0.8988418941151963, -0.12990886192371434, 0.02546613837971286, -1.0416098497036679, -1.5819094674443275, -0.13181985295975357, 1.2325838746792015, -1.1327957870240355, 0.34605049462143017, 1.706190747987443, 2.1433316293580784, 0.3271201022174498, -0.7168867904851405]}, {\"histfunc\": \"count\", \"histnorm\": \"\", \"marker\": {\"color\": \"rgba(55, 128, 191, 1.0)\", \"line\": {\"color\": \"#4D5663\", \"width\": 1.3}}, \"name\": \"B\", \"opacity\": 0.8, \"orientation\": \"v\", \"type\": \"histogram\", \"x\": [0.15135829454715108, 0.9795160147718429, 1.4214734609290678, -0.07097325758683996, -0.9210663836667375, 0.20378024537982453, -0.6100369380441374, -1.3466306621394803, -1.81632980066363, -0.15798779724206727, -1.018606443577509, -0.54437943019444, -0.48276994747208113, 0.57798424272942, -0.970914049767164, -0.4352116885815418, 0.8241358618851978, 1.2918990512894106, -0.11878729385443036, -0.24842332641139903, 0.4465616973650019, 0.7155306943090513, 1.9646290002462576, 0.7485402486486966, 2.301917351467514, -0.4584041069143579, -1.9769012314332277, -1.201105007029545, 1.669260528563722, 0.22156748859860562, -0.43902290576062286, -0.9269491629983333, -1.442120004125873, -1.1669983984588779, -0.2801873720734649, 2.5275136591199066, -0.020117546102519243, -1.5074242850340052, -1.3581481255377978, 1.0682872361234326, -0.4253891039927625, -0.9795015883734285, 0.7178957327501252, -1.1761437747950894, -1.6540195151829544, 1.6095607825891305, -0.8873683216168122, -1.6423713126718416, -0.17082902921556906, 1.4433275020088596, -0.23514827551444784, -0.18210764579747643, -0.47380473108659904, -0.30564100505727737, 0.39475719400621767, 0.927733729671384, 1.2414238982703922, 0.0029357777775479636, 0.869531108145011, -0.3108725300689207, 0.31612727830321374, 0.7637627871271956, -1.7022198823396548, 0.9700454378831772, -2.2371234275566225, 1.131637517157968, -0.393532240954233, -0.08165933539689739, 0.36858334803231196, -1.6126676133120872, -0.5352745521823805, 0.6346815353686975, 1.238888755284414, -1.0276900358987127, -0.3355367973642946, 0.37140192615612216, -0.8515083889392284, -2.9690855877133386, 0.6140107859520972, 0.43209277527755674, -1.0987784624213168, 0.20215234928410972, -0.46102411065062787, 1.4859285963890307, 1.3911792195871207, -1.3670903285961076, 0.22450940710990647, 0.4101279410076213, 1.977960208478093, 0.43079393165742125, -2.9129924250906174, -0.7310092701771267, 0.18258620922954666, 2.392127291109862, -0.2879343642592824, 1.8906107785898578, 0.7400795074044674, -1.3617204379633567, 0.7788471931365946, 0.6913717081312138]}],\n",
       "                        {\"barmode\": \"overlay\", \"legend\": {\"bgcolor\": \"#F5F6F9\", \"font\": {\"color\": \"#4D5663\"}}, \"paper_bgcolor\": \"#F5F6F9\", \"plot_bgcolor\": \"#F5F6F9\", \"template\": {\"data\": {\"bar\": [{\"error_x\": {\"color\": \"#2a3f5f\"}, \"error_y\": {\"color\": \"#2a3f5f\"}, \"marker\": {\"line\": {\"color\": \"#E5ECF6\", \"width\": 0.5}}, \"type\": \"bar\"}], \"barpolar\": [{\"marker\": {\"line\": {\"color\": \"#E5ECF6\", \"width\": 0.5}}, \"type\": \"barpolar\"}], \"carpet\": [{\"aaxis\": {\"endlinecolor\": \"#2a3f5f\", \"gridcolor\": \"white\", \"linecolor\": \"white\", \"minorgridcolor\": \"white\", \"startlinecolor\": \"#2a3f5f\"}, \"baxis\": {\"endlinecolor\": \"#2a3f5f\", \"gridcolor\": \"white\", \"linecolor\": \"white\", \"minorgridcolor\": \"white\", \"startlinecolor\": \"#2a3f5f\"}, \"type\": \"carpet\"}], \"choropleth\": [{\"colorbar\": {\"outlinewidth\": 0, \"ticks\": \"\"}, \"type\": \"choropleth\"}], \"contour\": [{\"colorbar\": {\"outlinewidth\": 0, \"ticks\": \"\"}, \"colorscale\": [[0.0, \"#0d0887\"], [0.1111111111111111, \"#46039f\"], [0.2222222222222222, \"#7201a8\"], [0.3333333333333333, \"#9c179e\"], [0.4444444444444444, \"#bd3786\"], [0.5555555555555556, \"#d8576b\"], [0.6666666666666666, \"#ed7953\"], [0.7777777777777778, \"#fb9f3a\"], [0.8888888888888888, \"#fdca26\"], [1.0, \"#f0f921\"]], \"type\": \"contour\"}], \"contourcarpet\": [{\"colorbar\": {\"outlinewidth\": 0, \"ticks\": \"\"}, \"type\": \"contourcarpet\"}], \"heatmap\": [{\"colorbar\": {\"outlinewidth\": 0, \"ticks\": \"\"}, \"colorscale\": [[0.0, \"#0d0887\"], [0.1111111111111111, \"#46039f\"], [0.2222222222222222, \"#7201a8\"], [0.3333333333333333, \"#9c179e\"], [0.4444444444444444, \"#bd3786\"], [0.5555555555555556, \"#d8576b\"], [0.6666666666666666, \"#ed7953\"], [0.7777777777777778, \"#fb9f3a\"], [0.8888888888888888, \"#fdca26\"], [1.0, \"#f0f921\"]], \"type\": \"heatmap\"}], \"heatmapgl\": [{\"colorbar\": {\"outlinewidth\": 0, \"ticks\": \"\"}, \"colorscale\": [[0.0, \"#0d0887\"], [0.1111111111111111, \"#46039f\"], [0.2222222222222222, \"#7201a8\"], [0.3333333333333333, \"#9c179e\"], [0.4444444444444444, \"#bd3786\"], [0.5555555555555556, \"#d8576b\"], [0.6666666666666666, \"#ed7953\"], [0.7777777777777778, \"#fb9f3a\"], [0.8888888888888888, \"#fdca26\"], [1.0, \"#f0f921\"]], \"type\": \"heatmapgl\"}], \"histogram\": [{\"marker\": {\"colorbar\": {\"outlinewidth\": 0, \"ticks\": \"\"}}, \"type\": \"histogram\"}], \"histogram2d\": [{\"colorbar\": {\"outlinewidth\": 0, \"ticks\": \"\"}, \"colorscale\": [[0.0, \"#0d0887\"], [0.1111111111111111, \"#46039f\"], [0.2222222222222222, \"#7201a8\"], [0.3333333333333333, \"#9c179e\"], [0.4444444444444444, \"#bd3786\"], [0.5555555555555556, \"#d8576b\"], [0.6666666666666666, \"#ed7953\"], [0.7777777777777778, \"#fb9f3a\"], [0.8888888888888888, \"#fdca26\"], [1.0, \"#f0f921\"]], \"type\": \"histogram2d\"}], \"histogram2dcontour\": [{\"colorbar\": {\"outlinewidth\": 0, \"ticks\": \"\"}, \"colorscale\": [[0.0, \"#0d0887\"], [0.1111111111111111, \"#46039f\"], [0.2222222222222222, \"#7201a8\"], [0.3333333333333333, \"#9c179e\"], [0.4444444444444444, \"#bd3786\"], [0.5555555555555556, \"#d8576b\"], [0.6666666666666666, \"#ed7953\"], [0.7777777777777778, \"#fb9f3a\"], [0.8888888888888888, \"#fdca26\"], [1.0, \"#f0f921\"]], \"type\": \"histogram2dcontour\"}], \"mesh3d\": [{\"colorbar\": {\"outlinewidth\": 0, \"ticks\": \"\"}, \"type\": \"mesh3d\"}], \"parcoords\": [{\"line\": {\"colorbar\": {\"outlinewidth\": 0, \"ticks\": \"\"}}, \"type\": \"parcoords\"}], \"pie\": [{\"automargin\": true, \"type\": \"pie\"}], \"scatter\": [{\"marker\": {\"colorbar\": {\"outlinewidth\": 0, \"ticks\": \"\"}}, \"type\": \"scatter\"}], \"scatter3d\": [{\"line\": {\"colorbar\": {\"outlinewidth\": 0, \"ticks\": \"\"}}, \"marker\": {\"colorbar\": {\"outlinewidth\": 0, \"ticks\": \"\"}}, \"type\": \"scatter3d\"}], \"scattercarpet\": [{\"marker\": {\"colorbar\": {\"outlinewidth\": 0, \"ticks\": \"\"}}, \"type\": \"scattercarpet\"}], \"scattergeo\": [{\"marker\": {\"colorbar\": {\"outlinewidth\": 0, \"ticks\": \"\"}}, \"type\": \"scattergeo\"}], \"scattergl\": [{\"marker\": {\"colorbar\": {\"outlinewidth\": 0, \"ticks\": \"\"}}, \"type\": \"scattergl\"}], \"scattermapbox\": [{\"marker\": {\"colorbar\": {\"outlinewidth\": 0, \"ticks\": \"\"}}, \"type\": \"scattermapbox\"}], \"scatterpolar\": [{\"marker\": {\"colorbar\": {\"outlinewidth\": 0, \"ticks\": \"\"}}, \"type\": \"scatterpolar\"}], \"scatterpolargl\": [{\"marker\": {\"colorbar\": {\"outlinewidth\": 0, \"ticks\": \"\"}}, \"type\": \"scatterpolargl\"}], \"scatterternary\": [{\"marker\": {\"colorbar\": {\"outlinewidth\": 0, \"ticks\": \"\"}}, \"type\": \"scatterternary\"}], \"surface\": [{\"colorbar\": {\"outlinewidth\": 0, \"ticks\": \"\"}, \"colorscale\": [[0.0, \"#0d0887\"], [0.1111111111111111, \"#46039f\"], [0.2222222222222222, \"#7201a8\"], [0.3333333333333333, \"#9c179e\"], [0.4444444444444444, \"#bd3786\"], [0.5555555555555556, \"#d8576b\"], [0.6666666666666666, \"#ed7953\"], [0.7777777777777778, \"#fb9f3a\"], [0.8888888888888888, \"#fdca26\"], [1.0, \"#f0f921\"]], \"type\": \"surface\"}], \"table\": [{\"cells\": {\"fill\": {\"color\": \"#EBF0F8\"}, \"line\": {\"color\": \"white\"}}, \"header\": {\"fill\": {\"color\": \"#C8D4E3\"}, \"line\": {\"color\": \"white\"}}, \"type\": \"table\"}]}, \"layout\": {\"annotationdefaults\": {\"arrowcolor\": \"#2a3f5f\", \"arrowhead\": 0, \"arrowwidth\": 1}, \"coloraxis\": {\"colorbar\": {\"outlinewidth\": 0, \"ticks\": \"\"}}, \"colorscale\": {\"diverging\": [[0, \"#8e0152\"], [0.1, \"#c51b7d\"], [0.2, \"#de77ae\"], [0.3, \"#f1b6da\"], [0.4, \"#fde0ef\"], [0.5, \"#f7f7f7\"], [0.6, \"#e6f5d0\"], [0.7, \"#b8e186\"], [0.8, \"#7fbc41\"], [0.9, \"#4d9221\"], [1, \"#276419\"]], \"sequential\": [[0.0, \"#0d0887\"], [0.1111111111111111, \"#46039f\"], [0.2222222222222222, \"#7201a8\"], [0.3333333333333333, \"#9c179e\"], [0.4444444444444444, \"#bd3786\"], [0.5555555555555556, \"#d8576b\"], [0.6666666666666666, \"#ed7953\"], [0.7777777777777778, \"#fb9f3a\"], [0.8888888888888888, \"#fdca26\"], [1.0, \"#f0f921\"]], \"sequentialminus\": [[0.0, \"#0d0887\"], [0.1111111111111111, \"#46039f\"], [0.2222222222222222, \"#7201a8\"], [0.3333333333333333, \"#9c179e\"], [0.4444444444444444, \"#bd3786\"], [0.5555555555555556, \"#d8576b\"], [0.6666666666666666, \"#ed7953\"], [0.7777777777777778, \"#fb9f3a\"], [0.8888888888888888, \"#fdca26\"], [1.0, \"#f0f921\"]]}, \"colorway\": [\"#636efa\", \"#EF553B\", \"#00cc96\", \"#ab63fa\", \"#FFA15A\", \"#19d3f3\", \"#FF6692\", \"#B6E880\", \"#FF97FF\", \"#FECB52\"], \"font\": {\"color\": \"#2a3f5f\"}, \"geo\": {\"bgcolor\": \"white\", \"lakecolor\": \"white\", \"landcolor\": \"#E5ECF6\", \"showlakes\": true, \"showland\": true, \"subunitcolor\": \"white\"}, \"hoverlabel\": {\"align\": \"left\"}, \"hovermode\": \"closest\", \"mapbox\": {\"style\": \"light\"}, \"paper_bgcolor\": \"white\", \"plot_bgcolor\": \"#E5ECF6\", \"polar\": {\"angularaxis\": {\"gridcolor\": \"white\", \"linecolor\": \"white\", \"ticks\": \"\"}, \"bgcolor\": \"#E5ECF6\", \"radialaxis\": {\"gridcolor\": \"white\", \"linecolor\": \"white\", \"ticks\": \"\"}}, \"scene\": {\"xaxis\": {\"backgroundcolor\": \"#E5ECF6\", \"gridcolor\": \"white\", \"gridwidth\": 2, \"linecolor\": \"white\", \"showbackground\": true, \"ticks\": \"\", \"zerolinecolor\": \"white\"}, \"yaxis\": {\"backgroundcolor\": \"#E5ECF6\", \"gridcolor\": \"white\", \"gridwidth\": 2, \"linecolor\": \"white\", \"showbackground\": true, \"ticks\": \"\", \"zerolinecolor\": \"white\"}, \"zaxis\": {\"backgroundcolor\": \"#E5ECF6\", \"gridcolor\": \"white\", \"gridwidth\": 2, \"linecolor\": \"white\", \"showbackground\": true, \"ticks\": \"\", \"zerolinecolor\": \"white\"}}, \"shapedefaults\": {\"line\": {\"color\": \"#2a3f5f\"}}, \"ternary\": {\"aaxis\": {\"gridcolor\": \"white\", \"linecolor\": \"white\", \"ticks\": \"\"}, \"baxis\": {\"gridcolor\": \"white\", \"linecolor\": \"white\", \"ticks\": \"\"}, \"bgcolor\": \"#E5ECF6\", \"caxis\": {\"gridcolor\": \"white\", \"linecolor\": \"white\", \"ticks\": \"\"}}, \"title\": {\"x\": 0.05}, \"xaxis\": {\"automargin\": true, \"gridcolor\": \"white\", \"linecolor\": \"white\", \"ticks\": \"\", \"title\": {\"standoff\": 15}, \"zerolinecolor\": \"white\", \"zerolinewidth\": 2}, \"yaxis\": {\"automargin\": true, \"gridcolor\": \"white\", \"linecolor\": \"white\", \"ticks\": \"\", \"title\": {\"standoff\": 15}, \"zerolinecolor\": \"white\", \"zerolinewidth\": 2}}}, \"title\": {\"font\": {\"color\": \"#4D5663\"}}, \"xaxis\": {\"gridcolor\": \"#E1E5ED\", \"showgrid\": true, \"tickfont\": {\"color\": \"#4D5663\"}, \"title\": {\"font\": {\"color\": \"#4D5663\"}, \"text\": \"\"}, \"zerolinecolor\": \"#E1E5ED\"}, \"yaxis\": {\"gridcolor\": \"#E1E5ED\", \"showgrid\": true, \"tickfont\": {\"color\": \"#4D5663\"}, \"title\": {\"font\": {\"color\": \"#4D5663\"}, \"text\": \"\"}, \"zerolinecolor\": \"#E1E5ED\"}},\n",
       "                        {\"showLink\": true, \"linkText\": \"Export to plot.ly\", \"plotlyServerURL\": \"https://plot.ly\", \"responsive\": true}\n",
       "                    ).then(function(){\n",
       "                            \n",
       "var gd = document.getElementById('c238be5d-0884-4e81-9181-0b36f30a751f');\n",
       "var x = new MutationObserver(function (mutations, observer) {{\n",
       "        var display = window.getComputedStyle(gd).display;\n",
       "        if (!display || display === 'none') {{\n",
       "            console.log([gd, 'removed!']);\n",
       "            Plotly.purge(gd);\n",
       "            observer.disconnect();\n",
       "        }}\n",
       "}});\n",
       "\n",
       "// Listen for the removal of the full notebook cells\n",
       "var notebookContainer = gd.closest('#notebook-container');\n",
       "if (notebookContainer) {{\n",
       "    x.observe(notebookContainer, {childList: true});\n",
       "}}\n",
       "\n",
       "// Listen for the clearing of the current output cell\n",
       "var outputEl = gd.closest('.output');\n",
       "if (outputEl) {{\n",
       "    x.observe(outputEl, {childList: true});\n",
       "}}\n",
       "\n",
       "                        })\n",
       "                };\n",
       "                });\n",
       "            </script>\n",
       "        </div>"
      ]
     },
     "metadata": {},
     "output_type": "display_data"
    }
   ],
   "source": [
    "df[['A','B']].iplot(kind='hist')"
   ]
  },
  {
   "cell_type": "code",
   "execution_count": 47,
   "metadata": {},
   "outputs": [
    {
     "data": {
      "application/vnd.plotly.v1+json": {
       "config": {
        "linkText": "Export to plot.ly",
        "plotlyServerURL": "https://plot.ly",
        "showLink": true
       },
       "data": [
        {
         "histfunc": "count",
         "histnorm": "",
         "marker": {
          "color": "rgba(255, 153, 51, 1.0)",
          "line": {
           "color": "#4D5663",
           "width": 1.3
          }
         },
         "name": "A",
         "opacity": 0.8,
         "orientation": "v",
         "type": "histogram",
         "x": [
          0.20809043819086845,
          -0.019341506915506363,
          0.6710928486171988,
          -0.32374262692684636,
          -0.08933950365355328,
          -2.4870153305002876,
          -0.0828445187959473,
          0.5765196640599008,
          -1.45974335926409,
          -0.7039420056988792,
          0.07374623781588262,
          1.3890599308664364,
          -0.4065140417790279,
          -1.5534252482243656,
          -0.5223086210478873,
          1.0283472012969124,
          -0.7782606201795501,
          -1.1134140955232776,
          1.545117883927185,
          0.6536675243606903,
          -0.4635661135202583,
          -1.3776886078026092,
          0.5157479741118118,
          0.48495411771132285,
          -1.498163791196165,
          0.186173316287323,
          -0.6084259450245122,
          0.1385458239150797,
          -0.34327731015590035,
          1.3057395117869839,
          -0.8507861830526204,
          0.07068108652281078,
          0.5609468060125844,
          0.8436003826923163,
          -0.5544739466474897,
          0.304567437465066,
          0.07380956245430079,
          0.6770820944557193,
          0.9958583944756741,
          -0.8843872234471372,
          -0.5686911224280439,
          -0.4833310001350282,
          1.0444287952056812,
          -1.0247446450677433,
          -0.04442966989560093,
          -0.8533122995490622,
          0.6530986336452997,
          -0.7022015322286137,
          1.2062876705027765,
          -2.0339563452164966,
          0.48742624290522124,
          0.6589028909488218,
          -2.3421002379617333,
          -0.7722454389655053,
          0.02882023909271555,
          -1.534494316301149,
          0.38125317141931553,
          0.9658911532176244,
          -0.36784839411375353,
          0.7996346562293096,
          -1.6665252924104532,
          -0.4099124667256445,
          -0.6272330819731242,
          0.22436834840107997,
          -0.587796897611996,
          -0.21185255449597312,
          -0.012570892599201121,
          -0.54279177228348,
          -2.6560874773893772,
          0.3149100180434697,
          2.010648660253624,
          0.5551898627890857,
          -1.4963775556776142,
          -0.5877273554807264,
          0.07257979710473213,
          0.15338192801483436,
          -0.5596087652557075,
          0.9007287289028704,
          0.7994878115707456,
          -0.8204821180718412,
          0.28035281575665505,
          0.23986792951813127,
          -0.19554464475260425,
          1.490723752902071,
          -0.20027691553987273,
          -0.5566182124634896,
          -0.2586965268169799,
          0.8988418941151963,
          -0.12990886192371434,
          0.02546613837971286,
          -1.0416098497036679,
          -1.5819094674443275,
          -0.13181985295975357,
          1.2325838746792015,
          -1.1327957870240355,
          0.34605049462143017,
          1.706190747987443,
          2.1433316293580784,
          0.3271201022174498,
          -0.7168867904851405
         ]
        },
        {
         "histfunc": "count",
         "histnorm": "",
         "marker": {
          "color": "rgba(55, 128, 191, 1.0)",
          "line": {
           "color": "#4D5663",
           "width": 1.3
          }
         },
         "name": "B",
         "opacity": 0.8,
         "orientation": "v",
         "type": "histogram",
         "x": [
          0.15135829454715108,
          0.9795160147718429,
          1.4214734609290678,
          -0.07097325758683996,
          -0.9210663836667375,
          0.20378024537982453,
          -0.6100369380441374,
          -1.3466306621394803,
          -1.81632980066363,
          -0.15798779724206727,
          -1.018606443577509,
          -0.54437943019444,
          -0.48276994747208113,
          0.57798424272942,
          -0.970914049767164,
          -0.4352116885815418,
          0.8241358618851978,
          1.2918990512894106,
          -0.11878729385443036,
          -0.24842332641139903,
          0.4465616973650019,
          0.7155306943090513,
          1.9646290002462576,
          0.7485402486486966,
          2.301917351467514,
          -0.4584041069143579,
          -1.9769012314332277,
          -1.201105007029545,
          1.669260528563722,
          0.22156748859860562,
          -0.43902290576062286,
          -0.9269491629983333,
          -1.442120004125873,
          -1.1669983984588779,
          -0.2801873720734649,
          2.5275136591199066,
          -0.020117546102519243,
          -1.5074242850340052,
          -1.3581481255377978,
          1.0682872361234326,
          -0.4253891039927625,
          -0.9795015883734285,
          0.7178957327501252,
          -1.1761437747950894,
          -1.6540195151829544,
          1.6095607825891305,
          -0.8873683216168122,
          -1.6423713126718416,
          -0.17082902921556906,
          1.4433275020088596,
          -0.23514827551444784,
          -0.18210764579747643,
          -0.47380473108659904,
          -0.30564100505727737,
          0.39475719400621767,
          0.927733729671384,
          1.2414238982703922,
          0.0029357777775479636,
          0.869531108145011,
          -0.3108725300689207,
          0.31612727830321374,
          0.7637627871271956,
          -1.7022198823396548,
          0.9700454378831772,
          -2.2371234275566225,
          1.131637517157968,
          -0.393532240954233,
          -0.08165933539689739,
          0.36858334803231196,
          -1.6126676133120872,
          -0.5352745521823805,
          0.6346815353686975,
          1.238888755284414,
          -1.0276900358987127,
          -0.3355367973642946,
          0.37140192615612216,
          -0.8515083889392284,
          -2.9690855877133386,
          0.6140107859520972,
          0.43209277527755674,
          -1.0987784624213168,
          0.20215234928410972,
          -0.46102411065062787,
          1.4859285963890307,
          1.3911792195871207,
          -1.3670903285961076,
          0.22450940710990647,
          0.4101279410076213,
          1.977960208478093,
          0.43079393165742125,
          -2.9129924250906174,
          -0.7310092701771267,
          0.18258620922954666,
          2.392127291109862,
          -0.2879343642592824,
          1.8906107785898578,
          0.7400795074044674,
          -1.3617204379633567,
          0.7788471931365946,
          0.6913717081312138
         ]
        },
        {
         "histfunc": "count",
         "histnorm": "",
         "marker": {
          "color": "rgba(50, 171, 96, 1.0)",
          "line": {
           "color": "#4D5663",
           "width": 1.3
          }
         },
         "name": "C",
         "opacity": 0.8,
         "orientation": "v",
         "type": "histogram",
         "x": [
          2.0051121159920675,
          -0.4493610805844231,
          -0.9084872076489361,
          -0.7721615517711781,
          0.6541627047739164,
          -0.3851615542298961,
          1.2241910700460494,
          -0.3594480352627832,
          0.5303515075821974,
          0.37821553681042497,
          1.5265608993568685,
          1.477366766187703,
          -0.8903976196943997,
          0.6275104381096709,
          -1.1658828346957355,
          0.5252728640062069,
          0.4116834027002824,
          2.704189848816628,
          -0.2226961420885588,
          1.0244875423195368,
          0.26495132075919875,
          -0.3335106453849119,
          -0.25051775523022307,
          -0.9421555886984696,
          -0.05185181898581905,
          0.9892425401502507,
          0.3019324275203719,
          0.05095758835038916,
          -1.4812719426708845,
          0.5548066618401524,
          0.03745238658246062,
          0.5074409459965565,
          -0.8466179648047617,
          -0.6704963196017796,
          -0.6190901486920855,
          0.17827190177240412,
          0.3664174458696268,
          2.350125669806303,
          0.043404170851318376,
          -1.3790506256730932,
          0.2737799407998692,
          0.2933588088351275,
          2.193998753638677,
          -0.9831277301264092,
          -0.6521040024729443,
          0.08051574029896495,
          -1.0062263833912914,
          1.6888321692647374,
          0.15860478630185132,
          -0.7264348973890741,
          0.5551346042795282,
          -1.3221054329247246,
          -1.2046506987274948,
          1.1490223551767262,
          -1.2035286945972503,
          1.1709154926969032,
          0.9661298764717131,
          -0.8044782297264162,
          -0.19666254507560318,
          0.21441701157769927,
          1.5613441239512482,
          0.6650992702780203,
          0.0815292219555825,
          0.05595055934265063,
          0.05073992580946308,
          -0.8345594810331837,
          0.6646967497706436,
          -0.6068052519359592,
          -0.09796794490886163,
          0.9956501209565106,
          0.032888702181209435,
          0.7282824374462252,
          -0.4421471221405374,
          -0.4996683018436185,
          -0.4598733633397587,
          -0.24246389263135104,
          -1.7254409975924612,
          -0.8704721991050504,
          -1.8617602897345804,
          -0.15657662661197377,
          -1.2433527551093784,
          0.8198948294225307,
          -0.15002325359623633,
          1.1776949232261975,
          -0.18486742703008133,
          -0.6473069114798748,
          -0.2878369954827269,
          -1.8137301176313945,
          0.7335294261397506,
          -1.5121779899245575,
          1.2057098440957132,
          -0.019324584000454413,
          0.6889436920135882,
          -0.5661336612740878,
          -0.5653254134268597,
          0.20453618725784742,
          0.40107083955132516,
          1.1740676398540935,
          -0.5776343666715368,
          2.5216844274068357
         ]
        },
        {
         "histfunc": "count",
         "histnorm": "",
         "marker": {
          "color": "rgba(128, 0, 128, 1.0)",
          "line": {
           "color": "#4D5663",
           "width": 1.3
          }
         },
         "name": "D",
         "opacity": 0.8,
         "orientation": "v",
         "type": "histogram",
         "x": [
          -1.4565733558087668,
          0.5262369172878351,
          0.48945774743941195,
          -0.21293033404058415,
          -0.16324889199076464,
          0.630598484174999,
          0.692077637937127,
          -0.3331147371984391,
          0.1929030040351164,
          -0.3218766183486016,
          -1.6425369944411325,
          -0.7678250927492929,
          1.2659835307747669,
          0.8184210393122054,
          -0.024633339865551607,
          -1.249002879317465,
          0.9295234623087013,
          0.8493978136587808,
          -0.46047237624499265,
          -0.5778972033554954,
          0.4189611998456919,
          -0.5505020499045066,
          0.8781183000200152,
          -0.7305458201604784,
          0.4260424892761426,
          -1.1154404173816563,
          1.7386153510183529,
          1.8996270301248646,
          -0.022043989066206783,
          -2.08107613924143,
          0.10383859554091508,
          1.300271012272863,
          -0.44790591147914155,
          0.32454891365895494,
          0.723557539054515,
          -0.4526175565216972,
          1.5793439257679158,
          -1.2460820007359723,
          1.115935175496016,
          -0.07877482710809654,
          -1.730466220665265,
          1.846744729189646,
          -0.19870976067514978,
          -0.12123592053565618,
          1.3852277591750157,
          -0.2656543567586974,
          -0.07555173388232261,
          0.07777723955138618,
          0.907301321878093,
          -0.4107678910895667,
          1.0969607063495408,
          2.312284690894676,
          0.35708899337781286,
          -0.14919636371702155,
          0.10587794777827615,
          0.19445728205069596,
          -0.05300858756121772,
          0.8949819385269817,
          2.218827117112159,
          0.7060532591602858,
          -0.131418896375061,
          0.491284065175089,
          -0.9893054759795129,
          -0.08954705247396552,
          0.27609733254111335,
          1.702681047136967,
          0.22434733425503514,
          0.6696692982817731,
          2.314142962463807,
          1.0622561275932678,
          -0.4295730165307976,
          1.268635692597944,
          -0.5617857296247518,
          -0.04831566984239649,
          0.6961244218118591,
          0.04787514173602842,
          -2.4211481405527833,
          0.3895740200646518,
          -1.3291272982016469,
          0.11889810264841535,
          -0.08730316360939917,
          0.21079474055037464,
          0.5034361648353576,
          -0.868718445356883,
          -0.0994953565207857,
          0.15250135972298487,
          1.9040880921245162,
          0.0779133281913371,
          -1.245117905007259,
          -0.09485339001235499,
          0.8882549753384171,
          -0.26831172103457623,
          -0.9086119757298903,
          0.33148975957829013,
          -0.15318039179708207,
          0.11562239596100848,
          0.7578807194141244,
          -0.5585578756818593,
          -1.2714220005791093,
          -1.3660870756577828
         ]
        }
       ],
       "layout": {
        "barmode": "overlay",
        "legend": {
         "bgcolor": "#F5F6F9",
         "font": {
          "color": "#4D5663"
         }
        },
        "paper_bgcolor": "#F5F6F9",
        "plot_bgcolor": "#F5F6F9",
        "template": {
         "data": {
          "bar": [
           {
            "error_x": {
             "color": "#2a3f5f"
            },
            "error_y": {
             "color": "#2a3f5f"
            },
            "marker": {
             "line": {
              "color": "#E5ECF6",
              "width": 0.5
             }
            },
            "type": "bar"
           }
          ],
          "barpolar": [
           {
            "marker": {
             "line": {
              "color": "#E5ECF6",
              "width": 0.5
             }
            },
            "type": "barpolar"
           }
          ],
          "carpet": [
           {
            "aaxis": {
             "endlinecolor": "#2a3f5f",
             "gridcolor": "white",
             "linecolor": "white",
             "minorgridcolor": "white",
             "startlinecolor": "#2a3f5f"
            },
            "baxis": {
             "endlinecolor": "#2a3f5f",
             "gridcolor": "white",
             "linecolor": "white",
             "minorgridcolor": "white",
             "startlinecolor": "#2a3f5f"
            },
            "type": "carpet"
           }
          ],
          "choropleth": [
           {
            "colorbar": {
             "outlinewidth": 0,
             "ticks": ""
            },
            "type": "choropleth"
           }
          ],
          "contour": [
           {
            "colorbar": {
             "outlinewidth": 0,
             "ticks": ""
            },
            "colorscale": [
             [
              0,
              "#0d0887"
             ],
             [
              0.1111111111111111,
              "#46039f"
             ],
             [
              0.2222222222222222,
              "#7201a8"
             ],
             [
              0.3333333333333333,
              "#9c179e"
             ],
             [
              0.4444444444444444,
              "#bd3786"
             ],
             [
              0.5555555555555556,
              "#d8576b"
             ],
             [
              0.6666666666666666,
              "#ed7953"
             ],
             [
              0.7777777777777778,
              "#fb9f3a"
             ],
             [
              0.8888888888888888,
              "#fdca26"
             ],
             [
              1,
              "#f0f921"
             ]
            ],
            "type": "contour"
           }
          ],
          "contourcarpet": [
           {
            "colorbar": {
             "outlinewidth": 0,
             "ticks": ""
            },
            "type": "contourcarpet"
           }
          ],
          "heatmap": [
           {
            "colorbar": {
             "outlinewidth": 0,
             "ticks": ""
            },
            "colorscale": [
             [
              0,
              "#0d0887"
             ],
             [
              0.1111111111111111,
              "#46039f"
             ],
             [
              0.2222222222222222,
              "#7201a8"
             ],
             [
              0.3333333333333333,
              "#9c179e"
             ],
             [
              0.4444444444444444,
              "#bd3786"
             ],
             [
              0.5555555555555556,
              "#d8576b"
             ],
             [
              0.6666666666666666,
              "#ed7953"
             ],
             [
              0.7777777777777778,
              "#fb9f3a"
             ],
             [
              0.8888888888888888,
              "#fdca26"
             ],
             [
              1,
              "#f0f921"
             ]
            ],
            "type": "heatmap"
           }
          ],
          "heatmapgl": [
           {
            "colorbar": {
             "outlinewidth": 0,
             "ticks": ""
            },
            "colorscale": [
             [
              0,
              "#0d0887"
             ],
             [
              0.1111111111111111,
              "#46039f"
             ],
             [
              0.2222222222222222,
              "#7201a8"
             ],
             [
              0.3333333333333333,
              "#9c179e"
             ],
             [
              0.4444444444444444,
              "#bd3786"
             ],
             [
              0.5555555555555556,
              "#d8576b"
             ],
             [
              0.6666666666666666,
              "#ed7953"
             ],
             [
              0.7777777777777778,
              "#fb9f3a"
             ],
             [
              0.8888888888888888,
              "#fdca26"
             ],
             [
              1,
              "#f0f921"
             ]
            ],
            "type": "heatmapgl"
           }
          ],
          "histogram": [
           {
            "marker": {
             "colorbar": {
              "outlinewidth": 0,
              "ticks": ""
             }
            },
            "type": "histogram"
           }
          ],
          "histogram2d": [
           {
            "colorbar": {
             "outlinewidth": 0,
             "ticks": ""
            },
            "colorscale": [
             [
              0,
              "#0d0887"
             ],
             [
              0.1111111111111111,
              "#46039f"
             ],
             [
              0.2222222222222222,
              "#7201a8"
             ],
             [
              0.3333333333333333,
              "#9c179e"
             ],
             [
              0.4444444444444444,
              "#bd3786"
             ],
             [
              0.5555555555555556,
              "#d8576b"
             ],
             [
              0.6666666666666666,
              "#ed7953"
             ],
             [
              0.7777777777777778,
              "#fb9f3a"
             ],
             [
              0.8888888888888888,
              "#fdca26"
             ],
             [
              1,
              "#f0f921"
             ]
            ],
            "type": "histogram2d"
           }
          ],
          "histogram2dcontour": [
           {
            "colorbar": {
             "outlinewidth": 0,
             "ticks": ""
            },
            "colorscale": [
             [
              0,
              "#0d0887"
             ],
             [
              0.1111111111111111,
              "#46039f"
             ],
             [
              0.2222222222222222,
              "#7201a8"
             ],
             [
              0.3333333333333333,
              "#9c179e"
             ],
             [
              0.4444444444444444,
              "#bd3786"
             ],
             [
              0.5555555555555556,
              "#d8576b"
             ],
             [
              0.6666666666666666,
              "#ed7953"
             ],
             [
              0.7777777777777778,
              "#fb9f3a"
             ],
             [
              0.8888888888888888,
              "#fdca26"
             ],
             [
              1,
              "#f0f921"
             ]
            ],
            "type": "histogram2dcontour"
           }
          ],
          "mesh3d": [
           {
            "colorbar": {
             "outlinewidth": 0,
             "ticks": ""
            },
            "type": "mesh3d"
           }
          ],
          "parcoords": [
           {
            "line": {
             "colorbar": {
              "outlinewidth": 0,
              "ticks": ""
             }
            },
            "type": "parcoords"
           }
          ],
          "pie": [
           {
            "automargin": true,
            "type": "pie"
           }
          ],
          "scatter": [
           {
            "marker": {
             "colorbar": {
              "outlinewidth": 0,
              "ticks": ""
             }
            },
            "type": "scatter"
           }
          ],
          "scatter3d": [
           {
            "line": {
             "colorbar": {
              "outlinewidth": 0,
              "ticks": ""
             }
            },
            "marker": {
             "colorbar": {
              "outlinewidth": 0,
              "ticks": ""
             }
            },
            "type": "scatter3d"
           }
          ],
          "scattercarpet": [
           {
            "marker": {
             "colorbar": {
              "outlinewidth": 0,
              "ticks": ""
             }
            },
            "type": "scattercarpet"
           }
          ],
          "scattergeo": [
           {
            "marker": {
             "colorbar": {
              "outlinewidth": 0,
              "ticks": ""
             }
            },
            "type": "scattergeo"
           }
          ],
          "scattergl": [
           {
            "marker": {
             "colorbar": {
              "outlinewidth": 0,
              "ticks": ""
             }
            },
            "type": "scattergl"
           }
          ],
          "scattermapbox": [
           {
            "marker": {
             "colorbar": {
              "outlinewidth": 0,
              "ticks": ""
             }
            },
            "type": "scattermapbox"
           }
          ],
          "scatterpolar": [
           {
            "marker": {
             "colorbar": {
              "outlinewidth": 0,
              "ticks": ""
             }
            },
            "type": "scatterpolar"
           }
          ],
          "scatterpolargl": [
           {
            "marker": {
             "colorbar": {
              "outlinewidth": 0,
              "ticks": ""
             }
            },
            "type": "scatterpolargl"
           }
          ],
          "scatterternary": [
           {
            "marker": {
             "colorbar": {
              "outlinewidth": 0,
              "ticks": ""
             }
            },
            "type": "scatterternary"
           }
          ],
          "surface": [
           {
            "colorbar": {
             "outlinewidth": 0,
             "ticks": ""
            },
            "colorscale": [
             [
              0,
              "#0d0887"
             ],
             [
              0.1111111111111111,
              "#46039f"
             ],
             [
              0.2222222222222222,
              "#7201a8"
             ],
             [
              0.3333333333333333,
              "#9c179e"
             ],
             [
              0.4444444444444444,
              "#bd3786"
             ],
             [
              0.5555555555555556,
              "#d8576b"
             ],
             [
              0.6666666666666666,
              "#ed7953"
             ],
             [
              0.7777777777777778,
              "#fb9f3a"
             ],
             [
              0.8888888888888888,
              "#fdca26"
             ],
             [
              1,
              "#f0f921"
             ]
            ],
            "type": "surface"
           }
          ],
          "table": [
           {
            "cells": {
             "fill": {
              "color": "#EBF0F8"
             },
             "line": {
              "color": "white"
             }
            },
            "header": {
             "fill": {
              "color": "#C8D4E3"
             },
             "line": {
              "color": "white"
             }
            },
            "type": "table"
           }
          ]
         },
         "layout": {
          "annotationdefaults": {
           "arrowcolor": "#2a3f5f",
           "arrowhead": 0,
           "arrowwidth": 1
          },
          "coloraxis": {
           "colorbar": {
            "outlinewidth": 0,
            "ticks": ""
           }
          },
          "colorscale": {
           "diverging": [
            [
             0,
             "#8e0152"
            ],
            [
             0.1,
             "#c51b7d"
            ],
            [
             0.2,
             "#de77ae"
            ],
            [
             0.3,
             "#f1b6da"
            ],
            [
             0.4,
             "#fde0ef"
            ],
            [
             0.5,
             "#f7f7f7"
            ],
            [
             0.6,
             "#e6f5d0"
            ],
            [
             0.7,
             "#b8e186"
            ],
            [
             0.8,
             "#7fbc41"
            ],
            [
             0.9,
             "#4d9221"
            ],
            [
             1,
             "#276419"
            ]
           ],
           "sequential": [
            [
             0,
             "#0d0887"
            ],
            [
             0.1111111111111111,
             "#46039f"
            ],
            [
             0.2222222222222222,
             "#7201a8"
            ],
            [
             0.3333333333333333,
             "#9c179e"
            ],
            [
             0.4444444444444444,
             "#bd3786"
            ],
            [
             0.5555555555555556,
             "#d8576b"
            ],
            [
             0.6666666666666666,
             "#ed7953"
            ],
            [
             0.7777777777777778,
             "#fb9f3a"
            ],
            [
             0.8888888888888888,
             "#fdca26"
            ],
            [
             1,
             "#f0f921"
            ]
           ],
           "sequentialminus": [
            [
             0,
             "#0d0887"
            ],
            [
             0.1111111111111111,
             "#46039f"
            ],
            [
             0.2222222222222222,
             "#7201a8"
            ],
            [
             0.3333333333333333,
             "#9c179e"
            ],
            [
             0.4444444444444444,
             "#bd3786"
            ],
            [
             0.5555555555555556,
             "#d8576b"
            ],
            [
             0.6666666666666666,
             "#ed7953"
            ],
            [
             0.7777777777777778,
             "#fb9f3a"
            ],
            [
             0.8888888888888888,
             "#fdca26"
            ],
            [
             1,
             "#f0f921"
            ]
           ]
          },
          "colorway": [
           "#636efa",
           "#EF553B",
           "#00cc96",
           "#ab63fa",
           "#FFA15A",
           "#19d3f3",
           "#FF6692",
           "#B6E880",
           "#FF97FF",
           "#FECB52"
          ],
          "font": {
           "color": "#2a3f5f"
          },
          "geo": {
           "bgcolor": "white",
           "lakecolor": "white",
           "landcolor": "#E5ECF6",
           "showlakes": true,
           "showland": true,
           "subunitcolor": "white"
          },
          "hoverlabel": {
           "align": "left"
          },
          "hovermode": "closest",
          "mapbox": {
           "style": "light"
          },
          "paper_bgcolor": "white",
          "plot_bgcolor": "#E5ECF6",
          "polar": {
           "angularaxis": {
            "gridcolor": "white",
            "linecolor": "white",
            "ticks": ""
           },
           "bgcolor": "#E5ECF6",
           "radialaxis": {
            "gridcolor": "white",
            "linecolor": "white",
            "ticks": ""
           }
          },
          "scene": {
           "xaxis": {
            "backgroundcolor": "#E5ECF6",
            "gridcolor": "white",
            "gridwidth": 2,
            "linecolor": "white",
            "showbackground": true,
            "ticks": "",
            "zerolinecolor": "white"
           },
           "yaxis": {
            "backgroundcolor": "#E5ECF6",
            "gridcolor": "white",
            "gridwidth": 2,
            "linecolor": "white",
            "showbackground": true,
            "ticks": "",
            "zerolinecolor": "white"
           },
           "zaxis": {
            "backgroundcolor": "#E5ECF6",
            "gridcolor": "white",
            "gridwidth": 2,
            "linecolor": "white",
            "showbackground": true,
            "ticks": "",
            "zerolinecolor": "white"
           }
          },
          "shapedefaults": {
           "line": {
            "color": "#2a3f5f"
           }
          },
          "ternary": {
           "aaxis": {
            "gridcolor": "white",
            "linecolor": "white",
            "ticks": ""
           },
           "baxis": {
            "gridcolor": "white",
            "linecolor": "white",
            "ticks": ""
           },
           "bgcolor": "#E5ECF6",
           "caxis": {
            "gridcolor": "white",
            "linecolor": "white",
            "ticks": ""
           }
          },
          "title": {
           "x": 0.05
          },
          "xaxis": {
           "automargin": true,
           "gridcolor": "white",
           "linecolor": "white",
           "ticks": "",
           "title": {
            "standoff": 15
           },
           "zerolinecolor": "white",
           "zerolinewidth": 2
          },
          "yaxis": {
           "automargin": true,
           "gridcolor": "white",
           "linecolor": "white",
           "ticks": "",
           "title": {
            "standoff": 15
           },
           "zerolinecolor": "white",
           "zerolinewidth": 2
          }
         }
        },
        "title": {
         "font": {
          "color": "#4D5663"
         }
        },
        "xaxis": {
         "gridcolor": "#E1E5ED",
         "showgrid": true,
         "tickfont": {
          "color": "#4D5663"
         },
         "title": {
          "font": {
           "color": "#4D5663"
          },
          "text": ""
         },
         "zerolinecolor": "#E1E5ED"
        },
        "yaxis": {
         "gridcolor": "#E1E5ED",
         "showgrid": true,
         "tickfont": {
          "color": "#4D5663"
         },
         "title": {
          "font": {
           "color": "#4D5663"
          },
          "text": ""
         },
         "zerolinecolor": "#E1E5ED"
        }
       }
      },
      "text/html": [
       "<div>\n",
       "        \n",
       "        \n",
       "            <div id=\"effaf68d-dfe8-47c4-a74e-91c2c5ae1ff9\" class=\"plotly-graph-div\" style=\"height:525px; width:100%;\"></div>\n",
       "            <script type=\"text/javascript\">\n",
       "                require([\"plotly\"], function(Plotly) {\n",
       "                    window.PLOTLYENV=window.PLOTLYENV || {};\n",
       "                    window.PLOTLYENV.BASE_URL='https://plot.ly';\n",
       "                    \n",
       "                if (document.getElementById(\"effaf68d-dfe8-47c4-a74e-91c2c5ae1ff9\")) {\n",
       "                    Plotly.newPlot(\n",
       "                        'effaf68d-dfe8-47c4-a74e-91c2c5ae1ff9',\n",
       "                        [{\"histfunc\": \"count\", \"histnorm\": \"\", \"marker\": {\"color\": \"rgba(255, 153, 51, 1.0)\", \"line\": {\"color\": \"#4D5663\", \"width\": 1.3}}, \"name\": \"A\", \"opacity\": 0.8, \"orientation\": \"v\", \"type\": \"histogram\", \"x\": [0.20809043819086845, -0.019341506915506363, 0.6710928486171988, -0.32374262692684636, -0.08933950365355328, -2.4870153305002876, -0.0828445187959473, 0.5765196640599008, -1.45974335926409, -0.7039420056988792, 0.07374623781588262, 1.3890599308664364, -0.4065140417790279, -1.5534252482243656, -0.5223086210478873, 1.0283472012969124, -0.7782606201795501, -1.1134140955232776, 1.545117883927185, 0.6536675243606903, -0.4635661135202583, -1.3776886078026092, 0.5157479741118118, 0.48495411771132285, -1.498163791196165, 0.186173316287323, -0.6084259450245122, 0.1385458239150797, -0.34327731015590035, 1.3057395117869839, -0.8507861830526204, 0.07068108652281078, 0.5609468060125844, 0.8436003826923163, -0.5544739466474897, 0.304567437465066, 0.07380956245430079, 0.6770820944557193, 0.9958583944756741, -0.8843872234471372, -0.5686911224280439, -0.4833310001350282, 1.0444287952056812, -1.0247446450677433, -0.04442966989560093, -0.8533122995490622, 0.6530986336452997, -0.7022015322286137, 1.2062876705027765, -2.0339563452164966, 0.48742624290522124, 0.6589028909488218, -2.3421002379617333, -0.7722454389655053, 0.02882023909271555, -1.534494316301149, 0.38125317141931553, 0.9658911532176244, -0.36784839411375353, 0.7996346562293096, -1.6665252924104532, -0.4099124667256445, -0.6272330819731242, 0.22436834840107997, -0.587796897611996, -0.21185255449597312, -0.012570892599201121, -0.54279177228348, -2.6560874773893772, 0.3149100180434697, 2.010648660253624, 0.5551898627890857, -1.4963775556776142, -0.5877273554807264, 0.07257979710473213, 0.15338192801483436, -0.5596087652557075, 0.9007287289028704, 0.7994878115707456, -0.8204821180718412, 0.28035281575665505, 0.23986792951813127, -0.19554464475260425, 1.490723752902071, -0.20027691553987273, -0.5566182124634896, -0.2586965268169799, 0.8988418941151963, -0.12990886192371434, 0.02546613837971286, -1.0416098497036679, -1.5819094674443275, -0.13181985295975357, 1.2325838746792015, -1.1327957870240355, 0.34605049462143017, 1.706190747987443, 2.1433316293580784, 0.3271201022174498, -0.7168867904851405]}, {\"histfunc\": \"count\", \"histnorm\": \"\", \"marker\": {\"color\": \"rgba(55, 128, 191, 1.0)\", \"line\": {\"color\": \"#4D5663\", \"width\": 1.3}}, \"name\": \"B\", \"opacity\": 0.8, \"orientation\": \"v\", \"type\": \"histogram\", \"x\": [0.15135829454715108, 0.9795160147718429, 1.4214734609290678, -0.07097325758683996, -0.9210663836667375, 0.20378024537982453, -0.6100369380441374, -1.3466306621394803, -1.81632980066363, -0.15798779724206727, -1.018606443577509, -0.54437943019444, -0.48276994747208113, 0.57798424272942, -0.970914049767164, -0.4352116885815418, 0.8241358618851978, 1.2918990512894106, -0.11878729385443036, -0.24842332641139903, 0.4465616973650019, 0.7155306943090513, 1.9646290002462576, 0.7485402486486966, 2.301917351467514, -0.4584041069143579, -1.9769012314332277, -1.201105007029545, 1.669260528563722, 0.22156748859860562, -0.43902290576062286, -0.9269491629983333, -1.442120004125873, -1.1669983984588779, -0.2801873720734649, 2.5275136591199066, -0.020117546102519243, -1.5074242850340052, -1.3581481255377978, 1.0682872361234326, -0.4253891039927625, -0.9795015883734285, 0.7178957327501252, -1.1761437747950894, -1.6540195151829544, 1.6095607825891305, -0.8873683216168122, -1.6423713126718416, -0.17082902921556906, 1.4433275020088596, -0.23514827551444784, -0.18210764579747643, -0.47380473108659904, -0.30564100505727737, 0.39475719400621767, 0.927733729671384, 1.2414238982703922, 0.0029357777775479636, 0.869531108145011, -0.3108725300689207, 0.31612727830321374, 0.7637627871271956, -1.7022198823396548, 0.9700454378831772, -2.2371234275566225, 1.131637517157968, -0.393532240954233, -0.08165933539689739, 0.36858334803231196, -1.6126676133120872, -0.5352745521823805, 0.6346815353686975, 1.238888755284414, -1.0276900358987127, -0.3355367973642946, 0.37140192615612216, -0.8515083889392284, -2.9690855877133386, 0.6140107859520972, 0.43209277527755674, -1.0987784624213168, 0.20215234928410972, -0.46102411065062787, 1.4859285963890307, 1.3911792195871207, -1.3670903285961076, 0.22450940710990647, 0.4101279410076213, 1.977960208478093, 0.43079393165742125, -2.9129924250906174, -0.7310092701771267, 0.18258620922954666, 2.392127291109862, -0.2879343642592824, 1.8906107785898578, 0.7400795074044674, -1.3617204379633567, 0.7788471931365946, 0.6913717081312138]}, {\"histfunc\": \"count\", \"histnorm\": \"\", \"marker\": {\"color\": \"rgba(50, 171, 96, 1.0)\", \"line\": {\"color\": \"#4D5663\", \"width\": 1.3}}, \"name\": \"C\", \"opacity\": 0.8, \"orientation\": \"v\", \"type\": \"histogram\", \"x\": [2.0051121159920675, -0.4493610805844231, -0.9084872076489361, -0.7721615517711781, 0.6541627047739164, -0.3851615542298961, 1.2241910700460494, -0.3594480352627832, 0.5303515075821974, 0.37821553681042497, 1.5265608993568685, 1.477366766187703, -0.8903976196943997, 0.6275104381096709, -1.1658828346957355, 0.5252728640062069, 0.4116834027002824, 2.704189848816628, -0.2226961420885588, 1.0244875423195368, 0.26495132075919875, -0.3335106453849119, -0.25051775523022307, -0.9421555886984696, -0.05185181898581905, 0.9892425401502507, 0.3019324275203719, 0.05095758835038916, -1.4812719426708845, 0.5548066618401524, 0.03745238658246062, 0.5074409459965565, -0.8466179648047617, -0.6704963196017796, -0.6190901486920855, 0.17827190177240412, 0.3664174458696268, 2.350125669806303, 0.043404170851318376, -1.3790506256730932, 0.2737799407998692, 0.2933588088351275, 2.193998753638677, -0.9831277301264092, -0.6521040024729443, 0.08051574029896495, -1.0062263833912914, 1.6888321692647374, 0.15860478630185132, -0.7264348973890741, 0.5551346042795282, -1.3221054329247246, -1.2046506987274948, 1.1490223551767262, -1.2035286945972503, 1.1709154926969032, 0.9661298764717131, -0.8044782297264162, -0.19666254507560318, 0.21441701157769927, 1.5613441239512482, 0.6650992702780203, 0.0815292219555825, 0.05595055934265063, 0.05073992580946308, -0.8345594810331837, 0.6646967497706436, -0.6068052519359592, -0.09796794490886163, 0.9956501209565106, 0.032888702181209435, 0.7282824374462252, -0.4421471221405374, -0.4996683018436185, -0.4598733633397587, -0.24246389263135104, -1.7254409975924612, -0.8704721991050504, -1.8617602897345804, -0.15657662661197377, -1.2433527551093784, 0.8198948294225307, -0.15002325359623633, 1.1776949232261975, -0.18486742703008133, -0.6473069114798748, -0.2878369954827269, -1.8137301176313945, 0.7335294261397506, -1.5121779899245575, 1.2057098440957132, -0.019324584000454413, 0.6889436920135882, -0.5661336612740878, -0.5653254134268597, 0.20453618725784742, 0.40107083955132516, 1.1740676398540935, -0.5776343666715368, 2.5216844274068357]}, {\"histfunc\": \"count\", \"histnorm\": \"\", \"marker\": {\"color\": \"rgba(128, 0, 128, 1.0)\", \"line\": {\"color\": \"#4D5663\", \"width\": 1.3}}, \"name\": \"D\", \"opacity\": 0.8, \"orientation\": \"v\", \"type\": \"histogram\", \"x\": [-1.4565733558087668, 0.5262369172878351, 0.48945774743941195, -0.21293033404058415, -0.16324889199076464, 0.630598484174999, 0.692077637937127, -0.3331147371984391, 0.1929030040351164, -0.3218766183486016, -1.6425369944411325, -0.7678250927492929, 1.2659835307747669, 0.8184210393122054, -0.024633339865551607, -1.249002879317465, 0.9295234623087013, 0.8493978136587808, -0.46047237624499265, -0.5778972033554954, 0.4189611998456919, -0.5505020499045066, 0.8781183000200152, -0.7305458201604784, 0.4260424892761426, -1.1154404173816563, 1.7386153510183529, 1.8996270301248646, -0.022043989066206783, -2.08107613924143, 0.10383859554091508, 1.300271012272863, -0.44790591147914155, 0.32454891365895494, 0.723557539054515, -0.4526175565216972, 1.5793439257679158, -1.2460820007359723, 1.115935175496016, -0.07877482710809654, -1.730466220665265, 1.846744729189646, -0.19870976067514978, -0.12123592053565618, 1.3852277591750157, -0.2656543567586974, -0.07555173388232261, 0.07777723955138618, 0.907301321878093, -0.4107678910895667, 1.0969607063495408, 2.312284690894676, 0.35708899337781286, -0.14919636371702155, 0.10587794777827615, 0.19445728205069596, -0.05300858756121772, 0.8949819385269817, 2.218827117112159, 0.7060532591602858, -0.131418896375061, 0.491284065175089, -0.9893054759795129, -0.08954705247396552, 0.27609733254111335, 1.702681047136967, 0.22434733425503514, 0.6696692982817731, 2.314142962463807, 1.0622561275932678, -0.4295730165307976, 1.268635692597944, -0.5617857296247518, -0.04831566984239649, 0.6961244218118591, 0.04787514173602842, -2.4211481405527833, 0.3895740200646518, -1.3291272982016469, 0.11889810264841535, -0.08730316360939917, 0.21079474055037464, 0.5034361648353576, -0.868718445356883, -0.0994953565207857, 0.15250135972298487, 1.9040880921245162, 0.0779133281913371, -1.245117905007259, -0.09485339001235499, 0.8882549753384171, -0.26831172103457623, -0.9086119757298903, 0.33148975957829013, -0.15318039179708207, 0.11562239596100848, 0.7578807194141244, -0.5585578756818593, -1.2714220005791093, -1.3660870756577828]}],\n",
       "                        {\"barmode\": \"overlay\", \"legend\": {\"bgcolor\": \"#F5F6F9\", \"font\": {\"color\": \"#4D5663\"}}, \"paper_bgcolor\": \"#F5F6F9\", \"plot_bgcolor\": \"#F5F6F9\", \"template\": {\"data\": {\"bar\": [{\"error_x\": {\"color\": \"#2a3f5f\"}, \"error_y\": {\"color\": \"#2a3f5f\"}, \"marker\": {\"line\": {\"color\": \"#E5ECF6\", \"width\": 0.5}}, \"type\": \"bar\"}], \"barpolar\": [{\"marker\": {\"line\": {\"color\": \"#E5ECF6\", \"width\": 0.5}}, \"type\": \"barpolar\"}], \"carpet\": [{\"aaxis\": {\"endlinecolor\": \"#2a3f5f\", \"gridcolor\": \"white\", \"linecolor\": \"white\", \"minorgridcolor\": \"white\", \"startlinecolor\": \"#2a3f5f\"}, \"baxis\": {\"endlinecolor\": \"#2a3f5f\", \"gridcolor\": \"white\", \"linecolor\": \"white\", \"minorgridcolor\": \"white\", \"startlinecolor\": \"#2a3f5f\"}, \"type\": \"carpet\"}], \"choropleth\": [{\"colorbar\": {\"outlinewidth\": 0, \"ticks\": \"\"}, \"type\": \"choropleth\"}], \"contour\": [{\"colorbar\": {\"outlinewidth\": 0, \"ticks\": \"\"}, \"colorscale\": [[0.0, \"#0d0887\"], [0.1111111111111111, \"#46039f\"], [0.2222222222222222, \"#7201a8\"], [0.3333333333333333, \"#9c179e\"], [0.4444444444444444, \"#bd3786\"], [0.5555555555555556, \"#d8576b\"], [0.6666666666666666, \"#ed7953\"], [0.7777777777777778, \"#fb9f3a\"], [0.8888888888888888, \"#fdca26\"], [1.0, \"#f0f921\"]], \"type\": \"contour\"}], \"contourcarpet\": [{\"colorbar\": {\"outlinewidth\": 0, \"ticks\": \"\"}, \"type\": \"contourcarpet\"}], \"heatmap\": [{\"colorbar\": {\"outlinewidth\": 0, \"ticks\": \"\"}, \"colorscale\": [[0.0, \"#0d0887\"], [0.1111111111111111, \"#46039f\"], [0.2222222222222222, \"#7201a8\"], [0.3333333333333333, \"#9c179e\"], [0.4444444444444444, \"#bd3786\"], [0.5555555555555556, \"#d8576b\"], [0.6666666666666666, \"#ed7953\"], [0.7777777777777778, \"#fb9f3a\"], [0.8888888888888888, \"#fdca26\"], [1.0, \"#f0f921\"]], \"type\": \"heatmap\"}], \"heatmapgl\": [{\"colorbar\": {\"outlinewidth\": 0, \"ticks\": \"\"}, \"colorscale\": [[0.0, \"#0d0887\"], [0.1111111111111111, \"#46039f\"], [0.2222222222222222, \"#7201a8\"], [0.3333333333333333, \"#9c179e\"], [0.4444444444444444, \"#bd3786\"], [0.5555555555555556, \"#d8576b\"], [0.6666666666666666, \"#ed7953\"], [0.7777777777777778, \"#fb9f3a\"], [0.8888888888888888, \"#fdca26\"], [1.0, \"#f0f921\"]], \"type\": \"heatmapgl\"}], \"histogram\": [{\"marker\": {\"colorbar\": {\"outlinewidth\": 0, \"ticks\": \"\"}}, \"type\": \"histogram\"}], \"histogram2d\": [{\"colorbar\": {\"outlinewidth\": 0, \"ticks\": \"\"}, \"colorscale\": [[0.0, \"#0d0887\"], [0.1111111111111111, \"#46039f\"], [0.2222222222222222, \"#7201a8\"], [0.3333333333333333, \"#9c179e\"], [0.4444444444444444, \"#bd3786\"], [0.5555555555555556, \"#d8576b\"], [0.6666666666666666, \"#ed7953\"], [0.7777777777777778, \"#fb9f3a\"], [0.8888888888888888, \"#fdca26\"], [1.0, \"#f0f921\"]], \"type\": \"histogram2d\"}], \"histogram2dcontour\": [{\"colorbar\": {\"outlinewidth\": 0, \"ticks\": \"\"}, \"colorscale\": [[0.0, \"#0d0887\"], [0.1111111111111111, \"#46039f\"], [0.2222222222222222, \"#7201a8\"], [0.3333333333333333, \"#9c179e\"], [0.4444444444444444, \"#bd3786\"], [0.5555555555555556, \"#d8576b\"], [0.6666666666666666, \"#ed7953\"], [0.7777777777777778, \"#fb9f3a\"], [0.8888888888888888, \"#fdca26\"], [1.0, \"#f0f921\"]], \"type\": \"histogram2dcontour\"}], \"mesh3d\": [{\"colorbar\": {\"outlinewidth\": 0, \"ticks\": \"\"}, \"type\": \"mesh3d\"}], \"parcoords\": [{\"line\": {\"colorbar\": {\"outlinewidth\": 0, \"ticks\": \"\"}}, \"type\": \"parcoords\"}], \"pie\": [{\"automargin\": true, \"type\": \"pie\"}], \"scatter\": [{\"marker\": {\"colorbar\": {\"outlinewidth\": 0, \"ticks\": \"\"}}, \"type\": \"scatter\"}], \"scatter3d\": [{\"line\": {\"colorbar\": {\"outlinewidth\": 0, \"ticks\": \"\"}}, \"marker\": {\"colorbar\": {\"outlinewidth\": 0, \"ticks\": \"\"}}, \"type\": \"scatter3d\"}], \"scattercarpet\": [{\"marker\": {\"colorbar\": {\"outlinewidth\": 0, \"ticks\": \"\"}}, \"type\": \"scattercarpet\"}], \"scattergeo\": [{\"marker\": {\"colorbar\": {\"outlinewidth\": 0, \"ticks\": \"\"}}, \"type\": \"scattergeo\"}], \"scattergl\": [{\"marker\": {\"colorbar\": {\"outlinewidth\": 0, \"ticks\": \"\"}}, \"type\": \"scattergl\"}], \"scattermapbox\": [{\"marker\": {\"colorbar\": {\"outlinewidth\": 0, \"ticks\": \"\"}}, \"type\": \"scattermapbox\"}], \"scatterpolar\": [{\"marker\": {\"colorbar\": {\"outlinewidth\": 0, \"ticks\": \"\"}}, \"type\": \"scatterpolar\"}], \"scatterpolargl\": [{\"marker\": {\"colorbar\": {\"outlinewidth\": 0, \"ticks\": \"\"}}, \"type\": \"scatterpolargl\"}], \"scatterternary\": [{\"marker\": {\"colorbar\": {\"outlinewidth\": 0, \"ticks\": \"\"}}, \"type\": \"scatterternary\"}], \"surface\": [{\"colorbar\": {\"outlinewidth\": 0, \"ticks\": \"\"}, \"colorscale\": [[0.0, \"#0d0887\"], [0.1111111111111111, \"#46039f\"], [0.2222222222222222, \"#7201a8\"], [0.3333333333333333, \"#9c179e\"], [0.4444444444444444, \"#bd3786\"], [0.5555555555555556, \"#d8576b\"], [0.6666666666666666, \"#ed7953\"], [0.7777777777777778, \"#fb9f3a\"], [0.8888888888888888, \"#fdca26\"], [1.0, \"#f0f921\"]], \"type\": \"surface\"}], \"table\": [{\"cells\": {\"fill\": {\"color\": \"#EBF0F8\"}, \"line\": {\"color\": \"white\"}}, \"header\": {\"fill\": {\"color\": \"#C8D4E3\"}, \"line\": {\"color\": \"white\"}}, \"type\": \"table\"}]}, \"layout\": {\"annotationdefaults\": {\"arrowcolor\": \"#2a3f5f\", \"arrowhead\": 0, \"arrowwidth\": 1}, \"coloraxis\": {\"colorbar\": {\"outlinewidth\": 0, \"ticks\": \"\"}}, \"colorscale\": {\"diverging\": [[0, \"#8e0152\"], [0.1, \"#c51b7d\"], [0.2, \"#de77ae\"], [0.3, \"#f1b6da\"], [0.4, \"#fde0ef\"], [0.5, \"#f7f7f7\"], [0.6, \"#e6f5d0\"], [0.7, \"#b8e186\"], [0.8, \"#7fbc41\"], [0.9, \"#4d9221\"], [1, \"#276419\"]], \"sequential\": [[0.0, \"#0d0887\"], [0.1111111111111111, \"#46039f\"], [0.2222222222222222, \"#7201a8\"], [0.3333333333333333, \"#9c179e\"], [0.4444444444444444, \"#bd3786\"], [0.5555555555555556, \"#d8576b\"], [0.6666666666666666, \"#ed7953\"], [0.7777777777777778, \"#fb9f3a\"], [0.8888888888888888, \"#fdca26\"], [1.0, \"#f0f921\"]], \"sequentialminus\": [[0.0, \"#0d0887\"], [0.1111111111111111, \"#46039f\"], [0.2222222222222222, \"#7201a8\"], [0.3333333333333333, \"#9c179e\"], [0.4444444444444444, \"#bd3786\"], [0.5555555555555556, \"#d8576b\"], [0.6666666666666666, \"#ed7953\"], [0.7777777777777778, \"#fb9f3a\"], [0.8888888888888888, \"#fdca26\"], [1.0, \"#f0f921\"]]}, \"colorway\": [\"#636efa\", \"#EF553B\", \"#00cc96\", \"#ab63fa\", \"#FFA15A\", \"#19d3f3\", \"#FF6692\", \"#B6E880\", \"#FF97FF\", \"#FECB52\"], \"font\": {\"color\": \"#2a3f5f\"}, \"geo\": {\"bgcolor\": \"white\", \"lakecolor\": \"white\", \"landcolor\": \"#E5ECF6\", \"showlakes\": true, \"showland\": true, \"subunitcolor\": \"white\"}, \"hoverlabel\": {\"align\": \"left\"}, \"hovermode\": \"closest\", \"mapbox\": {\"style\": \"light\"}, \"paper_bgcolor\": \"white\", \"plot_bgcolor\": \"#E5ECF6\", \"polar\": {\"angularaxis\": {\"gridcolor\": \"white\", \"linecolor\": \"white\", \"ticks\": \"\"}, \"bgcolor\": \"#E5ECF6\", \"radialaxis\": {\"gridcolor\": \"white\", \"linecolor\": \"white\", \"ticks\": \"\"}}, \"scene\": {\"xaxis\": {\"backgroundcolor\": \"#E5ECF6\", \"gridcolor\": \"white\", \"gridwidth\": 2, \"linecolor\": \"white\", \"showbackground\": true, \"ticks\": \"\", \"zerolinecolor\": \"white\"}, \"yaxis\": {\"backgroundcolor\": \"#E5ECF6\", \"gridcolor\": \"white\", \"gridwidth\": 2, \"linecolor\": \"white\", \"showbackground\": true, \"ticks\": \"\", \"zerolinecolor\": \"white\"}, \"zaxis\": {\"backgroundcolor\": \"#E5ECF6\", \"gridcolor\": \"white\", \"gridwidth\": 2, \"linecolor\": \"white\", \"showbackground\": true, \"ticks\": \"\", \"zerolinecolor\": \"white\"}}, \"shapedefaults\": {\"line\": {\"color\": \"#2a3f5f\"}}, \"ternary\": {\"aaxis\": {\"gridcolor\": \"white\", \"linecolor\": \"white\", \"ticks\": \"\"}, \"baxis\": {\"gridcolor\": \"white\", \"linecolor\": \"white\", \"ticks\": \"\"}, \"bgcolor\": \"#E5ECF6\", \"caxis\": {\"gridcolor\": \"white\", \"linecolor\": \"white\", \"ticks\": \"\"}}, \"title\": {\"x\": 0.05}, \"xaxis\": {\"automargin\": true, \"gridcolor\": \"white\", \"linecolor\": \"white\", \"ticks\": \"\", \"title\": {\"standoff\": 15}, \"zerolinecolor\": \"white\", \"zerolinewidth\": 2}, \"yaxis\": {\"automargin\": true, \"gridcolor\": \"white\", \"linecolor\": \"white\", \"ticks\": \"\", \"title\": {\"standoff\": 15}, \"zerolinecolor\": \"white\", \"zerolinewidth\": 2}}}, \"title\": {\"font\": {\"color\": \"#4D5663\"}}, \"xaxis\": {\"gridcolor\": \"#E1E5ED\", \"showgrid\": true, \"tickfont\": {\"color\": \"#4D5663\"}, \"title\": {\"font\": {\"color\": \"#4D5663\"}, \"text\": \"\"}, \"zerolinecolor\": \"#E1E5ED\"}, \"yaxis\": {\"gridcolor\": \"#E1E5ED\", \"showgrid\": true, \"tickfont\": {\"color\": \"#4D5663\"}, \"title\": {\"font\": {\"color\": \"#4D5663\"}, \"text\": \"\"}, \"zerolinecolor\": \"#E1E5ED\"}},\n",
       "                        {\"showLink\": true, \"linkText\": \"Export to plot.ly\", \"plotlyServerURL\": \"https://plot.ly\", \"responsive\": true}\n",
       "                    ).then(function(){\n",
       "                            \n",
       "var gd = document.getElementById('effaf68d-dfe8-47c4-a74e-91c2c5ae1ff9');\n",
       "var x = new MutationObserver(function (mutations, observer) {{\n",
       "        var display = window.getComputedStyle(gd).display;\n",
       "        if (!display || display === 'none') {{\n",
       "            console.log([gd, 'removed!']);\n",
       "            Plotly.purge(gd);\n",
       "            observer.disconnect();\n",
       "        }}\n",
       "}});\n",
       "\n",
       "// Listen for the removal of the full notebook cells\n",
       "var notebookContainer = gd.closest('#notebook-container');\n",
       "if (notebookContainer) {{\n",
       "    x.observe(notebookContainer, {childList: true});\n",
       "}}\n",
       "\n",
       "// Listen for the clearing of the current output cell\n",
       "var outputEl = gd.closest('.output');\n",
       "if (outputEl) {{\n",
       "    x.observe(outputEl, {childList: true});\n",
       "}}\n",
       "\n",
       "                        })\n",
       "                };\n",
       "                });\n",
       "            </script>\n",
       "        </div>"
      ]
     },
     "metadata": {},
     "output_type": "display_data"
    }
   ],
   "source": [
    "df.iplot(kind='hist')\n",
    "# pass in entire dataframe then switch cols on/off within the viz"
   ]
  },
  {
   "cell_type": "markdown",
   "metadata": {},
   "source": [
    "## Bubble"
   ]
  },
  {
   "cell_type": "code",
   "execution_count": 50,
   "metadata": {},
   "outputs": [
    {
     "data": {
      "application/vnd.plotly.v1+json": {
       "config": {
        "linkText": "Export to plot.ly",
        "plotlyServerURL": "https://plot.ly",
        "showLink": true
       },
       "data": [
        {
         "marker": {
          "color": [
           "rgb(255, 153, 51)",
           "rgb(55, 128, 191)",
           "rgb(50, 171, 96)",
           "rgb(128, 0, 128)",
           "rgb(219, 64, 82)",
           "rgb(0, 128, 128)",
           "rgb(255, 255, 51)",
           "rgb(128, 128, 0)",
           "rgb(251, 128, 114)",
           "rgb(128, 177, 211)"
          ],
          "line": {
           "width": 1.3
          },
          "size": [
           96,
           42,
           32,
           35,
           67,
           44,
           79,
           44,
           64,
           61,
           86,
           85,
           33,
           66,
           27,
           64,
           61,
           112,
           47,
           75,
           58,
           45,
           47,
           32,
           51,
           74,
           59,
           53,
           20,
           64,
           53,
           63,
           34,
           38,
           39,
           56,
           60,
           104,
           53,
           22,
           58,
           59,
           100,
           31,
           38,
           54,
           30,
           89,
           56,
           36,
           64,
           23,
           26,
           77,
           26,
           78,
           73,
           35,
           48,
           57,
           86,
           67,
           54,
           54,
           53,
           34,
           67,
           39,
           50,
           74,
           53,
           68,
           43,
           41,
           42,
           47,
           14,
           33,
           12,
           49,
           25,
           70,
           49,
           78,
           48,
           38,
           46,
           13,
           68,
           19,
           79,
           52,
           67,
           40,
           40,
           57,
           61,
           78,
           40,
           108
          ],
          "symbol": "circle"
         },
         "mode": "markers",
         "text": "",
         "type": "scatter",
         "x": [
          0.20809043819086845,
          -0.019341506915506363,
          0.6710928486171988,
          -0.32374262692684636,
          -0.08933950365355328,
          -2.4870153305002876,
          -0.0828445187959473,
          0.5765196640599008,
          -1.45974335926409,
          -0.7039420056988792,
          0.07374623781588262,
          1.3890599308664364,
          -0.4065140417790279,
          -1.5534252482243656,
          -0.5223086210478873,
          1.0283472012969124,
          -0.7782606201795501,
          -1.1134140955232776,
          1.545117883927185,
          0.6536675243606903,
          -0.4635661135202583,
          -1.3776886078026092,
          0.5157479741118118,
          0.48495411771132285,
          -1.498163791196165,
          0.186173316287323,
          -0.6084259450245122,
          0.1385458239150797,
          -0.34327731015590035,
          1.3057395117869839,
          -0.8507861830526204,
          0.07068108652281078,
          0.5609468060125844,
          0.8436003826923163,
          -0.5544739466474897,
          0.304567437465066,
          0.07380956245430079,
          0.6770820944557193,
          0.9958583944756741,
          -0.8843872234471372,
          -0.5686911224280439,
          -0.4833310001350282,
          1.0444287952056812,
          -1.0247446450677433,
          -0.04442966989560093,
          -0.8533122995490622,
          0.6530986336452997,
          -0.7022015322286137,
          1.2062876705027765,
          -2.0339563452164966,
          0.48742624290522124,
          0.6589028909488218,
          -2.3421002379617333,
          -0.7722454389655053,
          0.02882023909271555,
          -1.534494316301149,
          0.38125317141931553,
          0.9658911532176244,
          -0.36784839411375353,
          0.7996346562293096,
          -1.6665252924104532,
          -0.4099124667256445,
          -0.6272330819731242,
          0.22436834840107997,
          -0.587796897611996,
          -0.21185255449597312,
          -0.012570892599201121,
          -0.54279177228348,
          -2.6560874773893772,
          0.3149100180434697,
          2.010648660253624,
          0.5551898627890857,
          -1.4963775556776142,
          -0.5877273554807264,
          0.07257979710473213,
          0.15338192801483436,
          -0.5596087652557075,
          0.9007287289028704,
          0.7994878115707456,
          -0.8204821180718412,
          0.28035281575665505,
          0.23986792951813127,
          -0.19554464475260425,
          1.490723752902071,
          -0.20027691553987273,
          -0.5566182124634896,
          -0.2586965268169799,
          0.8988418941151963,
          -0.12990886192371434,
          0.02546613837971286,
          -1.0416098497036679,
          -1.5819094674443275,
          -0.13181985295975357,
          1.2325838746792015,
          -1.1327957870240355,
          0.34605049462143017,
          1.706190747987443,
          2.1433316293580784,
          0.3271201022174498,
          -0.7168867904851405
         ],
         "y": [
          0.15135829454715108,
          0.9795160147718429,
          1.4214734609290678,
          -0.07097325758683996,
          -0.9210663836667375,
          0.20378024537982453,
          -0.6100369380441374,
          -1.3466306621394803,
          -1.81632980066363,
          -0.15798779724206727,
          -1.018606443577509,
          -0.54437943019444,
          -0.48276994747208113,
          0.57798424272942,
          -0.970914049767164,
          -0.4352116885815418,
          0.8241358618851978,
          1.2918990512894106,
          -0.11878729385443036,
          -0.24842332641139903,
          0.4465616973650019,
          0.7155306943090513,
          1.9646290002462576,
          0.7485402486486966,
          2.301917351467514,
          -0.4584041069143579,
          -1.9769012314332277,
          -1.201105007029545,
          1.669260528563722,
          0.22156748859860562,
          -0.43902290576062286,
          -0.9269491629983333,
          -1.442120004125873,
          -1.1669983984588779,
          -0.2801873720734649,
          2.5275136591199066,
          -0.020117546102519243,
          -1.5074242850340052,
          -1.3581481255377978,
          1.0682872361234326,
          -0.4253891039927625,
          -0.9795015883734285,
          0.7178957327501252,
          -1.1761437747950894,
          -1.6540195151829544,
          1.6095607825891305,
          -0.8873683216168122,
          -1.6423713126718416,
          -0.17082902921556906,
          1.4433275020088596,
          -0.23514827551444784,
          -0.18210764579747643,
          -0.47380473108659904,
          -0.30564100505727737,
          0.39475719400621767,
          0.927733729671384,
          1.2414238982703922,
          0.0029357777775479636,
          0.869531108145011,
          -0.3108725300689207,
          0.31612727830321374,
          0.7637627871271956,
          -1.7022198823396548,
          0.9700454378831772,
          -2.2371234275566225,
          1.131637517157968,
          -0.393532240954233,
          -0.08165933539689739,
          0.36858334803231196,
          -1.6126676133120872,
          -0.5352745521823805,
          0.6346815353686975,
          1.238888755284414,
          -1.0276900358987127,
          -0.3355367973642946,
          0.37140192615612216,
          -0.8515083889392284,
          -2.9690855877133386,
          0.6140107859520972,
          0.43209277527755674,
          -1.0987784624213168,
          0.20215234928410972,
          -0.46102411065062787,
          1.4859285963890307,
          1.3911792195871207,
          -1.3670903285961076,
          0.22450940710990647,
          0.4101279410076213,
          1.977960208478093,
          0.43079393165742125,
          -2.9129924250906174,
          -0.7310092701771267,
          0.18258620922954666,
          2.392127291109862,
          -0.2879343642592824,
          1.8906107785898578,
          0.7400795074044674,
          -1.3617204379633567,
          0.7788471931365946,
          0.6913717081312138
         ]
        }
       ],
       "layout": {
        "legend": {
         "bgcolor": "#F5F6F9",
         "font": {
          "color": "#4D5663"
         }
        },
        "paper_bgcolor": "#F5F6F9",
        "plot_bgcolor": "#F5F6F9",
        "template": {
         "data": {
          "bar": [
           {
            "error_x": {
             "color": "#2a3f5f"
            },
            "error_y": {
             "color": "#2a3f5f"
            },
            "marker": {
             "line": {
              "color": "#E5ECF6",
              "width": 0.5
             }
            },
            "type": "bar"
           }
          ],
          "barpolar": [
           {
            "marker": {
             "line": {
              "color": "#E5ECF6",
              "width": 0.5
             }
            },
            "type": "barpolar"
           }
          ],
          "carpet": [
           {
            "aaxis": {
             "endlinecolor": "#2a3f5f",
             "gridcolor": "white",
             "linecolor": "white",
             "minorgridcolor": "white",
             "startlinecolor": "#2a3f5f"
            },
            "baxis": {
             "endlinecolor": "#2a3f5f",
             "gridcolor": "white",
             "linecolor": "white",
             "minorgridcolor": "white",
             "startlinecolor": "#2a3f5f"
            },
            "type": "carpet"
           }
          ],
          "choropleth": [
           {
            "colorbar": {
             "outlinewidth": 0,
             "ticks": ""
            },
            "type": "choropleth"
           }
          ],
          "contour": [
           {
            "colorbar": {
             "outlinewidth": 0,
             "ticks": ""
            },
            "colorscale": [
             [
              0,
              "#0d0887"
             ],
             [
              0.1111111111111111,
              "#46039f"
             ],
             [
              0.2222222222222222,
              "#7201a8"
             ],
             [
              0.3333333333333333,
              "#9c179e"
             ],
             [
              0.4444444444444444,
              "#bd3786"
             ],
             [
              0.5555555555555556,
              "#d8576b"
             ],
             [
              0.6666666666666666,
              "#ed7953"
             ],
             [
              0.7777777777777778,
              "#fb9f3a"
             ],
             [
              0.8888888888888888,
              "#fdca26"
             ],
             [
              1,
              "#f0f921"
             ]
            ],
            "type": "contour"
           }
          ],
          "contourcarpet": [
           {
            "colorbar": {
             "outlinewidth": 0,
             "ticks": ""
            },
            "type": "contourcarpet"
           }
          ],
          "heatmap": [
           {
            "colorbar": {
             "outlinewidth": 0,
             "ticks": ""
            },
            "colorscale": [
             [
              0,
              "#0d0887"
             ],
             [
              0.1111111111111111,
              "#46039f"
             ],
             [
              0.2222222222222222,
              "#7201a8"
             ],
             [
              0.3333333333333333,
              "#9c179e"
             ],
             [
              0.4444444444444444,
              "#bd3786"
             ],
             [
              0.5555555555555556,
              "#d8576b"
             ],
             [
              0.6666666666666666,
              "#ed7953"
             ],
             [
              0.7777777777777778,
              "#fb9f3a"
             ],
             [
              0.8888888888888888,
              "#fdca26"
             ],
             [
              1,
              "#f0f921"
             ]
            ],
            "type": "heatmap"
           }
          ],
          "heatmapgl": [
           {
            "colorbar": {
             "outlinewidth": 0,
             "ticks": ""
            },
            "colorscale": [
             [
              0,
              "#0d0887"
             ],
             [
              0.1111111111111111,
              "#46039f"
             ],
             [
              0.2222222222222222,
              "#7201a8"
             ],
             [
              0.3333333333333333,
              "#9c179e"
             ],
             [
              0.4444444444444444,
              "#bd3786"
             ],
             [
              0.5555555555555556,
              "#d8576b"
             ],
             [
              0.6666666666666666,
              "#ed7953"
             ],
             [
              0.7777777777777778,
              "#fb9f3a"
             ],
             [
              0.8888888888888888,
              "#fdca26"
             ],
             [
              1,
              "#f0f921"
             ]
            ],
            "type": "heatmapgl"
           }
          ],
          "histogram": [
           {
            "marker": {
             "colorbar": {
              "outlinewidth": 0,
              "ticks": ""
             }
            },
            "type": "histogram"
           }
          ],
          "histogram2d": [
           {
            "colorbar": {
             "outlinewidth": 0,
             "ticks": ""
            },
            "colorscale": [
             [
              0,
              "#0d0887"
             ],
             [
              0.1111111111111111,
              "#46039f"
             ],
             [
              0.2222222222222222,
              "#7201a8"
             ],
             [
              0.3333333333333333,
              "#9c179e"
             ],
             [
              0.4444444444444444,
              "#bd3786"
             ],
             [
              0.5555555555555556,
              "#d8576b"
             ],
             [
              0.6666666666666666,
              "#ed7953"
             ],
             [
              0.7777777777777778,
              "#fb9f3a"
             ],
             [
              0.8888888888888888,
              "#fdca26"
             ],
             [
              1,
              "#f0f921"
             ]
            ],
            "type": "histogram2d"
           }
          ],
          "histogram2dcontour": [
           {
            "colorbar": {
             "outlinewidth": 0,
             "ticks": ""
            },
            "colorscale": [
             [
              0,
              "#0d0887"
             ],
             [
              0.1111111111111111,
              "#46039f"
             ],
             [
              0.2222222222222222,
              "#7201a8"
             ],
             [
              0.3333333333333333,
              "#9c179e"
             ],
             [
              0.4444444444444444,
              "#bd3786"
             ],
             [
              0.5555555555555556,
              "#d8576b"
             ],
             [
              0.6666666666666666,
              "#ed7953"
             ],
             [
              0.7777777777777778,
              "#fb9f3a"
             ],
             [
              0.8888888888888888,
              "#fdca26"
             ],
             [
              1,
              "#f0f921"
             ]
            ],
            "type": "histogram2dcontour"
           }
          ],
          "mesh3d": [
           {
            "colorbar": {
             "outlinewidth": 0,
             "ticks": ""
            },
            "type": "mesh3d"
           }
          ],
          "parcoords": [
           {
            "line": {
             "colorbar": {
              "outlinewidth": 0,
              "ticks": ""
             }
            },
            "type": "parcoords"
           }
          ],
          "pie": [
           {
            "automargin": true,
            "type": "pie"
           }
          ],
          "scatter": [
           {
            "marker": {
             "colorbar": {
              "outlinewidth": 0,
              "ticks": ""
             }
            },
            "type": "scatter"
           }
          ],
          "scatter3d": [
           {
            "line": {
             "colorbar": {
              "outlinewidth": 0,
              "ticks": ""
             }
            },
            "marker": {
             "colorbar": {
              "outlinewidth": 0,
              "ticks": ""
             }
            },
            "type": "scatter3d"
           }
          ],
          "scattercarpet": [
           {
            "marker": {
             "colorbar": {
              "outlinewidth": 0,
              "ticks": ""
             }
            },
            "type": "scattercarpet"
           }
          ],
          "scattergeo": [
           {
            "marker": {
             "colorbar": {
              "outlinewidth": 0,
              "ticks": ""
             }
            },
            "type": "scattergeo"
           }
          ],
          "scattergl": [
           {
            "marker": {
             "colorbar": {
              "outlinewidth": 0,
              "ticks": ""
             }
            },
            "type": "scattergl"
           }
          ],
          "scattermapbox": [
           {
            "marker": {
             "colorbar": {
              "outlinewidth": 0,
              "ticks": ""
             }
            },
            "type": "scattermapbox"
           }
          ],
          "scatterpolar": [
           {
            "marker": {
             "colorbar": {
              "outlinewidth": 0,
              "ticks": ""
             }
            },
            "type": "scatterpolar"
           }
          ],
          "scatterpolargl": [
           {
            "marker": {
             "colorbar": {
              "outlinewidth": 0,
              "ticks": ""
             }
            },
            "type": "scatterpolargl"
           }
          ],
          "scatterternary": [
           {
            "marker": {
             "colorbar": {
              "outlinewidth": 0,
              "ticks": ""
             }
            },
            "type": "scatterternary"
           }
          ],
          "surface": [
           {
            "colorbar": {
             "outlinewidth": 0,
             "ticks": ""
            },
            "colorscale": [
             [
              0,
              "#0d0887"
             ],
             [
              0.1111111111111111,
              "#46039f"
             ],
             [
              0.2222222222222222,
              "#7201a8"
             ],
             [
              0.3333333333333333,
              "#9c179e"
             ],
             [
              0.4444444444444444,
              "#bd3786"
             ],
             [
              0.5555555555555556,
              "#d8576b"
             ],
             [
              0.6666666666666666,
              "#ed7953"
             ],
             [
              0.7777777777777778,
              "#fb9f3a"
             ],
             [
              0.8888888888888888,
              "#fdca26"
             ],
             [
              1,
              "#f0f921"
             ]
            ],
            "type": "surface"
           }
          ],
          "table": [
           {
            "cells": {
             "fill": {
              "color": "#EBF0F8"
             },
             "line": {
              "color": "white"
             }
            },
            "header": {
             "fill": {
              "color": "#C8D4E3"
             },
             "line": {
              "color": "white"
             }
            },
            "type": "table"
           }
          ]
         },
         "layout": {
          "annotationdefaults": {
           "arrowcolor": "#2a3f5f",
           "arrowhead": 0,
           "arrowwidth": 1
          },
          "coloraxis": {
           "colorbar": {
            "outlinewidth": 0,
            "ticks": ""
           }
          },
          "colorscale": {
           "diverging": [
            [
             0,
             "#8e0152"
            ],
            [
             0.1,
             "#c51b7d"
            ],
            [
             0.2,
             "#de77ae"
            ],
            [
             0.3,
             "#f1b6da"
            ],
            [
             0.4,
             "#fde0ef"
            ],
            [
             0.5,
             "#f7f7f7"
            ],
            [
             0.6,
             "#e6f5d0"
            ],
            [
             0.7,
             "#b8e186"
            ],
            [
             0.8,
             "#7fbc41"
            ],
            [
             0.9,
             "#4d9221"
            ],
            [
             1,
             "#276419"
            ]
           ],
           "sequential": [
            [
             0,
             "#0d0887"
            ],
            [
             0.1111111111111111,
             "#46039f"
            ],
            [
             0.2222222222222222,
             "#7201a8"
            ],
            [
             0.3333333333333333,
             "#9c179e"
            ],
            [
             0.4444444444444444,
             "#bd3786"
            ],
            [
             0.5555555555555556,
             "#d8576b"
            ],
            [
             0.6666666666666666,
             "#ed7953"
            ],
            [
             0.7777777777777778,
             "#fb9f3a"
            ],
            [
             0.8888888888888888,
             "#fdca26"
            ],
            [
             1,
             "#f0f921"
            ]
           ],
           "sequentialminus": [
            [
             0,
             "#0d0887"
            ],
            [
             0.1111111111111111,
             "#46039f"
            ],
            [
             0.2222222222222222,
             "#7201a8"
            ],
            [
             0.3333333333333333,
             "#9c179e"
            ],
            [
             0.4444444444444444,
             "#bd3786"
            ],
            [
             0.5555555555555556,
             "#d8576b"
            ],
            [
             0.6666666666666666,
             "#ed7953"
            ],
            [
             0.7777777777777778,
             "#fb9f3a"
            ],
            [
             0.8888888888888888,
             "#fdca26"
            ],
            [
             1,
             "#f0f921"
            ]
           ]
          },
          "colorway": [
           "#636efa",
           "#EF553B",
           "#00cc96",
           "#ab63fa",
           "#FFA15A",
           "#19d3f3",
           "#FF6692",
           "#B6E880",
           "#FF97FF",
           "#FECB52"
          ],
          "font": {
           "color": "#2a3f5f"
          },
          "geo": {
           "bgcolor": "white",
           "lakecolor": "white",
           "landcolor": "#E5ECF6",
           "showlakes": true,
           "showland": true,
           "subunitcolor": "white"
          },
          "hoverlabel": {
           "align": "left"
          },
          "hovermode": "closest",
          "mapbox": {
           "style": "light"
          },
          "paper_bgcolor": "white",
          "plot_bgcolor": "#E5ECF6",
          "polar": {
           "angularaxis": {
            "gridcolor": "white",
            "linecolor": "white",
            "ticks": ""
           },
           "bgcolor": "#E5ECF6",
           "radialaxis": {
            "gridcolor": "white",
            "linecolor": "white",
            "ticks": ""
           }
          },
          "scene": {
           "xaxis": {
            "backgroundcolor": "#E5ECF6",
            "gridcolor": "white",
            "gridwidth": 2,
            "linecolor": "white",
            "showbackground": true,
            "ticks": "",
            "zerolinecolor": "white"
           },
           "yaxis": {
            "backgroundcolor": "#E5ECF6",
            "gridcolor": "white",
            "gridwidth": 2,
            "linecolor": "white",
            "showbackground": true,
            "ticks": "",
            "zerolinecolor": "white"
           },
           "zaxis": {
            "backgroundcolor": "#E5ECF6",
            "gridcolor": "white",
            "gridwidth": 2,
            "linecolor": "white",
            "showbackground": true,
            "ticks": "",
            "zerolinecolor": "white"
           }
          },
          "shapedefaults": {
           "line": {
            "color": "#2a3f5f"
           }
          },
          "ternary": {
           "aaxis": {
            "gridcolor": "white",
            "linecolor": "white",
            "ticks": ""
           },
           "baxis": {
            "gridcolor": "white",
            "linecolor": "white",
            "ticks": ""
           },
           "bgcolor": "#E5ECF6",
           "caxis": {
            "gridcolor": "white",
            "linecolor": "white",
            "ticks": ""
           }
          },
          "title": {
           "x": 0.05
          },
          "xaxis": {
           "automargin": true,
           "gridcolor": "white",
           "linecolor": "white",
           "ticks": "",
           "title": {
            "standoff": 15
           },
           "zerolinecolor": "white",
           "zerolinewidth": 2
          },
          "yaxis": {
           "automargin": true,
           "gridcolor": "white",
           "linecolor": "white",
           "ticks": "",
           "title": {
            "standoff": 15
           },
           "zerolinecolor": "white",
           "zerolinewidth": 2
          }
         }
        },
        "title": {
         "font": {
          "color": "#4D5663"
         }
        },
        "xaxis": {
         "gridcolor": "#E1E5ED",
         "showgrid": true,
         "tickfont": {
          "color": "#4D5663"
         },
         "title": {
          "font": {
           "color": "#4D5663"
          },
          "text": ""
         },
         "zerolinecolor": "#E1E5ED"
        },
        "yaxis": {
         "gridcolor": "#E1E5ED",
         "showgrid": true,
         "tickfont": {
          "color": "#4D5663"
         },
         "title": {
          "font": {
           "color": "#4D5663"
          },
          "text": ""
         },
         "zerolinecolor": "#E1E5ED"
        }
       }
      },
      "text/html": [
       "<div>\n",
       "        \n",
       "        \n",
       "            <div id=\"c33e77b7-67a5-4d07-bd44-f3f896d0a239\" class=\"plotly-graph-div\" style=\"height:525px; width:100%;\"></div>\n",
       "            <script type=\"text/javascript\">\n",
       "                require([\"plotly\"], function(Plotly) {\n",
       "                    window.PLOTLYENV=window.PLOTLYENV || {};\n",
       "                    window.PLOTLYENV.BASE_URL='https://plot.ly';\n",
       "                    \n",
       "                if (document.getElementById(\"c33e77b7-67a5-4d07-bd44-f3f896d0a239\")) {\n",
       "                    Plotly.newPlot(\n",
       "                        'c33e77b7-67a5-4d07-bd44-f3f896d0a239',\n",
       "                        [{\"marker\": {\"color\": [\"rgb(255, 153, 51)\", \"rgb(55, 128, 191)\", \"rgb(50, 171, 96)\", \"rgb(128, 0, 128)\", \"rgb(219, 64, 82)\", \"rgb(0, 128, 128)\", \"rgb(255, 255, 51)\", \"rgb(128, 128, 0)\", \"rgb(251, 128, 114)\", \"rgb(128, 177, 211)\"], \"line\": {\"width\": 1.3}, \"size\": [96, 42, 32, 35, 67, 44, 79, 44, 64, 61, 86, 85, 33, 66, 27, 64, 61, 112, 47, 75, 58, 45, 47, 32, 51, 74, 59, 53, 20, 64, 53, 63, 34, 38, 39, 56, 60, 104, 53, 22, 58, 59, 100, 31, 38, 54, 30, 89, 56, 36, 64, 23, 26, 77, 26, 78, 73, 35, 48, 57, 86, 67, 54, 54, 53, 34, 67, 39, 50, 74, 53, 68, 43, 41, 42, 47, 14, 33, 12, 49, 25, 70, 49, 78, 48, 38, 46, 13, 68, 19, 79, 52, 67, 40, 40, 57, 61, 78, 40, 108], \"symbol\": \"circle\"}, \"mode\": \"markers\", \"text\": \"\", \"type\": \"scatter\", \"x\": [0.20809043819086845, -0.019341506915506363, 0.6710928486171988, -0.32374262692684636, -0.08933950365355328, -2.4870153305002876, -0.0828445187959473, 0.5765196640599008, -1.45974335926409, -0.7039420056988792, 0.07374623781588262, 1.3890599308664364, -0.4065140417790279, -1.5534252482243656, -0.5223086210478873, 1.0283472012969124, -0.7782606201795501, -1.1134140955232776, 1.545117883927185, 0.6536675243606903, -0.4635661135202583, -1.3776886078026092, 0.5157479741118118, 0.48495411771132285, -1.498163791196165, 0.186173316287323, -0.6084259450245122, 0.1385458239150797, -0.34327731015590035, 1.3057395117869839, -0.8507861830526204, 0.07068108652281078, 0.5609468060125844, 0.8436003826923163, -0.5544739466474897, 0.304567437465066, 0.07380956245430079, 0.6770820944557193, 0.9958583944756741, -0.8843872234471372, -0.5686911224280439, -0.4833310001350282, 1.0444287952056812, -1.0247446450677433, -0.04442966989560093, -0.8533122995490622, 0.6530986336452997, -0.7022015322286137, 1.2062876705027765, -2.0339563452164966, 0.48742624290522124, 0.6589028909488218, -2.3421002379617333, -0.7722454389655053, 0.02882023909271555, -1.534494316301149, 0.38125317141931553, 0.9658911532176244, -0.36784839411375353, 0.7996346562293096, -1.6665252924104532, -0.4099124667256445, -0.6272330819731242, 0.22436834840107997, -0.587796897611996, -0.21185255449597312, -0.012570892599201121, -0.54279177228348, -2.6560874773893772, 0.3149100180434697, 2.010648660253624, 0.5551898627890857, -1.4963775556776142, -0.5877273554807264, 0.07257979710473213, 0.15338192801483436, -0.5596087652557075, 0.9007287289028704, 0.7994878115707456, -0.8204821180718412, 0.28035281575665505, 0.23986792951813127, -0.19554464475260425, 1.490723752902071, -0.20027691553987273, -0.5566182124634896, -0.2586965268169799, 0.8988418941151963, -0.12990886192371434, 0.02546613837971286, -1.0416098497036679, -1.5819094674443275, -0.13181985295975357, 1.2325838746792015, -1.1327957870240355, 0.34605049462143017, 1.706190747987443, 2.1433316293580784, 0.3271201022174498, -0.7168867904851405], \"y\": [0.15135829454715108, 0.9795160147718429, 1.4214734609290678, -0.07097325758683996, -0.9210663836667375, 0.20378024537982453, -0.6100369380441374, -1.3466306621394803, -1.81632980066363, -0.15798779724206727, -1.018606443577509, -0.54437943019444, -0.48276994747208113, 0.57798424272942, -0.970914049767164, -0.4352116885815418, 0.8241358618851978, 1.2918990512894106, -0.11878729385443036, -0.24842332641139903, 0.4465616973650019, 0.7155306943090513, 1.9646290002462576, 0.7485402486486966, 2.301917351467514, -0.4584041069143579, -1.9769012314332277, -1.201105007029545, 1.669260528563722, 0.22156748859860562, -0.43902290576062286, -0.9269491629983333, -1.442120004125873, -1.1669983984588779, -0.2801873720734649, 2.5275136591199066, -0.020117546102519243, -1.5074242850340052, -1.3581481255377978, 1.0682872361234326, -0.4253891039927625, -0.9795015883734285, 0.7178957327501252, -1.1761437747950894, -1.6540195151829544, 1.6095607825891305, -0.8873683216168122, -1.6423713126718416, -0.17082902921556906, 1.4433275020088596, -0.23514827551444784, -0.18210764579747643, -0.47380473108659904, -0.30564100505727737, 0.39475719400621767, 0.927733729671384, 1.2414238982703922, 0.0029357777775479636, 0.869531108145011, -0.3108725300689207, 0.31612727830321374, 0.7637627871271956, -1.7022198823396548, 0.9700454378831772, -2.2371234275566225, 1.131637517157968, -0.393532240954233, -0.08165933539689739, 0.36858334803231196, -1.6126676133120872, -0.5352745521823805, 0.6346815353686975, 1.238888755284414, -1.0276900358987127, -0.3355367973642946, 0.37140192615612216, -0.8515083889392284, -2.9690855877133386, 0.6140107859520972, 0.43209277527755674, -1.0987784624213168, 0.20215234928410972, -0.46102411065062787, 1.4859285963890307, 1.3911792195871207, -1.3670903285961076, 0.22450940710990647, 0.4101279410076213, 1.977960208478093, 0.43079393165742125, -2.9129924250906174, -0.7310092701771267, 0.18258620922954666, 2.392127291109862, -0.2879343642592824, 1.8906107785898578, 0.7400795074044674, -1.3617204379633567, 0.7788471931365946, 0.6913717081312138]}],\n",
       "                        {\"legend\": {\"bgcolor\": \"#F5F6F9\", \"font\": {\"color\": \"#4D5663\"}}, \"paper_bgcolor\": \"#F5F6F9\", \"plot_bgcolor\": \"#F5F6F9\", \"template\": {\"data\": {\"bar\": [{\"error_x\": {\"color\": \"#2a3f5f\"}, \"error_y\": {\"color\": \"#2a3f5f\"}, \"marker\": {\"line\": {\"color\": \"#E5ECF6\", \"width\": 0.5}}, \"type\": \"bar\"}], \"barpolar\": [{\"marker\": {\"line\": {\"color\": \"#E5ECF6\", \"width\": 0.5}}, \"type\": \"barpolar\"}], \"carpet\": [{\"aaxis\": {\"endlinecolor\": \"#2a3f5f\", \"gridcolor\": \"white\", \"linecolor\": \"white\", \"minorgridcolor\": \"white\", \"startlinecolor\": \"#2a3f5f\"}, \"baxis\": {\"endlinecolor\": \"#2a3f5f\", \"gridcolor\": \"white\", \"linecolor\": \"white\", \"minorgridcolor\": \"white\", \"startlinecolor\": \"#2a3f5f\"}, \"type\": \"carpet\"}], \"choropleth\": [{\"colorbar\": {\"outlinewidth\": 0, \"ticks\": \"\"}, \"type\": \"choropleth\"}], \"contour\": [{\"colorbar\": {\"outlinewidth\": 0, \"ticks\": \"\"}, \"colorscale\": [[0.0, \"#0d0887\"], [0.1111111111111111, \"#46039f\"], [0.2222222222222222, \"#7201a8\"], [0.3333333333333333, \"#9c179e\"], [0.4444444444444444, \"#bd3786\"], [0.5555555555555556, \"#d8576b\"], [0.6666666666666666, \"#ed7953\"], [0.7777777777777778, \"#fb9f3a\"], [0.8888888888888888, \"#fdca26\"], [1.0, \"#f0f921\"]], \"type\": \"contour\"}], \"contourcarpet\": [{\"colorbar\": {\"outlinewidth\": 0, \"ticks\": \"\"}, \"type\": \"contourcarpet\"}], \"heatmap\": [{\"colorbar\": {\"outlinewidth\": 0, \"ticks\": \"\"}, \"colorscale\": [[0.0, \"#0d0887\"], [0.1111111111111111, \"#46039f\"], [0.2222222222222222, \"#7201a8\"], [0.3333333333333333, \"#9c179e\"], [0.4444444444444444, \"#bd3786\"], [0.5555555555555556, \"#d8576b\"], [0.6666666666666666, \"#ed7953\"], [0.7777777777777778, \"#fb9f3a\"], [0.8888888888888888, \"#fdca26\"], [1.0, \"#f0f921\"]], \"type\": \"heatmap\"}], \"heatmapgl\": [{\"colorbar\": {\"outlinewidth\": 0, \"ticks\": \"\"}, \"colorscale\": [[0.0, \"#0d0887\"], [0.1111111111111111, \"#46039f\"], [0.2222222222222222, \"#7201a8\"], [0.3333333333333333, \"#9c179e\"], [0.4444444444444444, \"#bd3786\"], [0.5555555555555556, \"#d8576b\"], [0.6666666666666666, \"#ed7953\"], [0.7777777777777778, \"#fb9f3a\"], [0.8888888888888888, \"#fdca26\"], [1.0, \"#f0f921\"]], \"type\": \"heatmapgl\"}], \"histogram\": [{\"marker\": {\"colorbar\": {\"outlinewidth\": 0, \"ticks\": \"\"}}, \"type\": \"histogram\"}], \"histogram2d\": [{\"colorbar\": {\"outlinewidth\": 0, \"ticks\": \"\"}, \"colorscale\": [[0.0, \"#0d0887\"], [0.1111111111111111, \"#46039f\"], [0.2222222222222222, \"#7201a8\"], [0.3333333333333333, \"#9c179e\"], [0.4444444444444444, \"#bd3786\"], [0.5555555555555556, \"#d8576b\"], [0.6666666666666666, \"#ed7953\"], [0.7777777777777778, \"#fb9f3a\"], [0.8888888888888888, \"#fdca26\"], [1.0, \"#f0f921\"]], \"type\": \"histogram2d\"}], \"histogram2dcontour\": [{\"colorbar\": {\"outlinewidth\": 0, \"ticks\": \"\"}, \"colorscale\": [[0.0, \"#0d0887\"], [0.1111111111111111, \"#46039f\"], [0.2222222222222222, \"#7201a8\"], [0.3333333333333333, \"#9c179e\"], [0.4444444444444444, \"#bd3786\"], [0.5555555555555556, \"#d8576b\"], [0.6666666666666666, \"#ed7953\"], [0.7777777777777778, \"#fb9f3a\"], [0.8888888888888888, \"#fdca26\"], [1.0, \"#f0f921\"]], \"type\": \"histogram2dcontour\"}], \"mesh3d\": [{\"colorbar\": {\"outlinewidth\": 0, \"ticks\": \"\"}, \"type\": \"mesh3d\"}], \"parcoords\": [{\"line\": {\"colorbar\": {\"outlinewidth\": 0, \"ticks\": \"\"}}, \"type\": \"parcoords\"}], \"pie\": [{\"automargin\": true, \"type\": \"pie\"}], \"scatter\": [{\"marker\": {\"colorbar\": {\"outlinewidth\": 0, \"ticks\": \"\"}}, \"type\": \"scatter\"}], \"scatter3d\": [{\"line\": {\"colorbar\": {\"outlinewidth\": 0, \"ticks\": \"\"}}, \"marker\": {\"colorbar\": {\"outlinewidth\": 0, \"ticks\": \"\"}}, \"type\": \"scatter3d\"}], \"scattercarpet\": [{\"marker\": {\"colorbar\": {\"outlinewidth\": 0, \"ticks\": \"\"}}, \"type\": \"scattercarpet\"}], \"scattergeo\": [{\"marker\": {\"colorbar\": {\"outlinewidth\": 0, \"ticks\": \"\"}}, \"type\": \"scattergeo\"}], \"scattergl\": [{\"marker\": {\"colorbar\": {\"outlinewidth\": 0, \"ticks\": \"\"}}, \"type\": \"scattergl\"}], \"scattermapbox\": [{\"marker\": {\"colorbar\": {\"outlinewidth\": 0, \"ticks\": \"\"}}, \"type\": \"scattermapbox\"}], \"scatterpolar\": [{\"marker\": {\"colorbar\": {\"outlinewidth\": 0, \"ticks\": \"\"}}, \"type\": \"scatterpolar\"}], \"scatterpolargl\": [{\"marker\": {\"colorbar\": {\"outlinewidth\": 0, \"ticks\": \"\"}}, \"type\": \"scatterpolargl\"}], \"scatterternary\": [{\"marker\": {\"colorbar\": {\"outlinewidth\": 0, \"ticks\": \"\"}}, \"type\": \"scatterternary\"}], \"surface\": [{\"colorbar\": {\"outlinewidth\": 0, \"ticks\": \"\"}, \"colorscale\": [[0.0, \"#0d0887\"], [0.1111111111111111, \"#46039f\"], [0.2222222222222222, \"#7201a8\"], [0.3333333333333333, \"#9c179e\"], [0.4444444444444444, \"#bd3786\"], [0.5555555555555556, \"#d8576b\"], [0.6666666666666666, \"#ed7953\"], [0.7777777777777778, \"#fb9f3a\"], [0.8888888888888888, \"#fdca26\"], [1.0, \"#f0f921\"]], \"type\": \"surface\"}], \"table\": [{\"cells\": {\"fill\": {\"color\": \"#EBF0F8\"}, \"line\": {\"color\": \"white\"}}, \"header\": {\"fill\": {\"color\": \"#C8D4E3\"}, \"line\": {\"color\": \"white\"}}, \"type\": \"table\"}]}, \"layout\": {\"annotationdefaults\": {\"arrowcolor\": \"#2a3f5f\", \"arrowhead\": 0, \"arrowwidth\": 1}, \"coloraxis\": {\"colorbar\": {\"outlinewidth\": 0, \"ticks\": \"\"}}, \"colorscale\": {\"diverging\": [[0, \"#8e0152\"], [0.1, \"#c51b7d\"], [0.2, \"#de77ae\"], [0.3, \"#f1b6da\"], [0.4, \"#fde0ef\"], [0.5, \"#f7f7f7\"], [0.6, \"#e6f5d0\"], [0.7, \"#b8e186\"], [0.8, \"#7fbc41\"], [0.9, \"#4d9221\"], [1, \"#276419\"]], \"sequential\": [[0.0, \"#0d0887\"], [0.1111111111111111, \"#46039f\"], [0.2222222222222222, \"#7201a8\"], [0.3333333333333333, \"#9c179e\"], [0.4444444444444444, \"#bd3786\"], [0.5555555555555556, \"#d8576b\"], [0.6666666666666666, \"#ed7953\"], [0.7777777777777778, \"#fb9f3a\"], [0.8888888888888888, \"#fdca26\"], [1.0, \"#f0f921\"]], \"sequentialminus\": [[0.0, \"#0d0887\"], [0.1111111111111111, \"#46039f\"], [0.2222222222222222, \"#7201a8\"], [0.3333333333333333, \"#9c179e\"], [0.4444444444444444, \"#bd3786\"], [0.5555555555555556, \"#d8576b\"], [0.6666666666666666, \"#ed7953\"], [0.7777777777777778, \"#fb9f3a\"], [0.8888888888888888, \"#fdca26\"], [1.0, \"#f0f921\"]]}, \"colorway\": [\"#636efa\", \"#EF553B\", \"#00cc96\", \"#ab63fa\", \"#FFA15A\", \"#19d3f3\", \"#FF6692\", \"#B6E880\", \"#FF97FF\", \"#FECB52\"], \"font\": {\"color\": \"#2a3f5f\"}, \"geo\": {\"bgcolor\": \"white\", \"lakecolor\": \"white\", \"landcolor\": \"#E5ECF6\", \"showlakes\": true, \"showland\": true, \"subunitcolor\": \"white\"}, \"hoverlabel\": {\"align\": \"left\"}, \"hovermode\": \"closest\", \"mapbox\": {\"style\": \"light\"}, \"paper_bgcolor\": \"white\", \"plot_bgcolor\": \"#E5ECF6\", \"polar\": {\"angularaxis\": {\"gridcolor\": \"white\", \"linecolor\": \"white\", \"ticks\": \"\"}, \"bgcolor\": \"#E5ECF6\", \"radialaxis\": {\"gridcolor\": \"white\", \"linecolor\": \"white\", \"ticks\": \"\"}}, \"scene\": {\"xaxis\": {\"backgroundcolor\": \"#E5ECF6\", \"gridcolor\": \"white\", \"gridwidth\": 2, \"linecolor\": \"white\", \"showbackground\": true, \"ticks\": \"\", \"zerolinecolor\": \"white\"}, \"yaxis\": {\"backgroundcolor\": \"#E5ECF6\", \"gridcolor\": \"white\", \"gridwidth\": 2, \"linecolor\": \"white\", \"showbackground\": true, \"ticks\": \"\", \"zerolinecolor\": \"white\"}, \"zaxis\": {\"backgroundcolor\": \"#E5ECF6\", \"gridcolor\": \"white\", \"gridwidth\": 2, \"linecolor\": \"white\", \"showbackground\": true, \"ticks\": \"\", \"zerolinecolor\": \"white\"}}, \"shapedefaults\": {\"line\": {\"color\": \"#2a3f5f\"}}, \"ternary\": {\"aaxis\": {\"gridcolor\": \"white\", \"linecolor\": \"white\", \"ticks\": \"\"}, \"baxis\": {\"gridcolor\": \"white\", \"linecolor\": \"white\", \"ticks\": \"\"}, \"bgcolor\": \"#E5ECF6\", \"caxis\": {\"gridcolor\": \"white\", \"linecolor\": \"white\", \"ticks\": \"\"}}, \"title\": {\"x\": 0.05}, \"xaxis\": {\"automargin\": true, \"gridcolor\": \"white\", \"linecolor\": \"white\", \"ticks\": \"\", \"title\": {\"standoff\": 15}, \"zerolinecolor\": \"white\", \"zerolinewidth\": 2}, \"yaxis\": {\"automargin\": true, \"gridcolor\": \"white\", \"linecolor\": \"white\", \"ticks\": \"\", \"title\": {\"standoff\": 15}, \"zerolinecolor\": \"white\", \"zerolinewidth\": 2}}}, \"title\": {\"font\": {\"color\": \"#4D5663\"}}, \"xaxis\": {\"gridcolor\": \"#E1E5ED\", \"showgrid\": true, \"tickfont\": {\"color\": \"#4D5663\"}, \"title\": {\"font\": {\"color\": \"#4D5663\"}, \"text\": \"\"}, \"zerolinecolor\": \"#E1E5ED\"}, \"yaxis\": {\"gridcolor\": \"#E1E5ED\", \"showgrid\": true, \"tickfont\": {\"color\": \"#4D5663\"}, \"title\": {\"font\": {\"color\": \"#4D5663\"}, \"text\": \"\"}, \"zerolinecolor\": \"#E1E5ED\"}},\n",
       "                        {\"showLink\": true, \"linkText\": \"Export to plot.ly\", \"plotlyServerURL\": \"https://plot.ly\", \"responsive\": true}\n",
       "                    ).then(function(){\n",
       "                            \n",
       "var gd = document.getElementById('c33e77b7-67a5-4d07-bd44-f3f896d0a239');\n",
       "var x = new MutationObserver(function (mutations, observer) {{\n",
       "        var display = window.getComputedStyle(gd).display;\n",
       "        if (!display || display === 'none') {{\n",
       "            console.log([gd, 'removed!']);\n",
       "            Plotly.purge(gd);\n",
       "            observer.disconnect();\n",
       "        }}\n",
       "}});\n",
       "\n",
       "// Listen for the removal of the full notebook cells\n",
       "var notebookContainer = gd.closest('#notebook-container');\n",
       "if (notebookContainer) {{\n",
       "    x.observe(notebookContainer, {childList: true});\n",
       "}}\n",
       "\n",
       "// Listen for the clearing of the current output cell\n",
       "var outputEl = gd.closest('.output');\n",
       "if (outputEl) {{\n",
       "    x.observe(outputEl, {childList: true});\n",
       "}}\n",
       "\n",
       "                        })\n",
       "                };\n",
       "                });\n",
       "            </script>\n",
       "        </div>"
      ]
     },
     "metadata": {},
     "output_type": "display_data"
    }
   ],
   "source": [
    "# similar to scatter with a size param\n",
    "df.iplot(kind='bubble', x='A', y='B', size='C')\n",
    "# good for economic graphs GDP, happiness, country"
   ]
  },
  {
   "cell_type": "markdown",
   "metadata": {},
   "source": [
    "## scatter_matrix()\n",
    "\n",
    "Similar to sns.pairplot()"
   ]
  },
  {
   "cell_type": "code",
   "execution_count": 52,
   "metadata": {},
   "outputs": [
    {
     "data": {
      "application/vnd.plotly.v1+json": {
       "config": {
        "linkText": "Export to plot.ly",
        "plotlyServerURL": "https://plot.ly",
        "showLink": true
       },
       "data": [
        {
         "histfunc": "count",
         "histnorm": "",
         "marker": {
          "color": "rgba(255, 153, 51, 1.0)",
          "line": {
           "color": "#4D5663",
           "width": 1.3
          }
         },
         "name": "A",
         "nbinsx": 10,
         "opacity": 0.8,
         "orientation": "v",
         "type": "histogram",
         "x": [
          0.20809043819086845,
          -0.019341506915506363,
          0.6710928486171988,
          -0.32374262692684636,
          -0.08933950365355328,
          -2.4870153305002876,
          -0.0828445187959473,
          0.5765196640599008,
          -1.45974335926409,
          -0.7039420056988792,
          0.07374623781588262,
          1.3890599308664364,
          -0.4065140417790279,
          -1.5534252482243656,
          -0.5223086210478873,
          1.0283472012969124,
          -0.7782606201795501,
          -1.1134140955232776,
          1.545117883927185,
          0.6536675243606903,
          -0.4635661135202583,
          -1.3776886078026092,
          0.5157479741118118,
          0.48495411771132285,
          -1.498163791196165,
          0.186173316287323,
          -0.6084259450245122,
          0.1385458239150797,
          -0.34327731015590035,
          1.3057395117869839,
          -0.8507861830526204,
          0.07068108652281078,
          0.5609468060125844,
          0.8436003826923163,
          -0.5544739466474897,
          0.304567437465066,
          0.07380956245430079,
          0.6770820944557193,
          0.9958583944756741,
          -0.8843872234471372,
          -0.5686911224280439,
          -0.4833310001350282,
          1.0444287952056812,
          -1.0247446450677433,
          -0.04442966989560093,
          -0.8533122995490622,
          0.6530986336452997,
          -0.7022015322286137,
          1.2062876705027765,
          -2.0339563452164966,
          0.48742624290522124,
          0.6589028909488218,
          -2.3421002379617333,
          -0.7722454389655053,
          0.02882023909271555,
          -1.534494316301149,
          0.38125317141931553,
          0.9658911532176244,
          -0.36784839411375353,
          0.7996346562293096,
          -1.6665252924104532,
          -0.4099124667256445,
          -0.6272330819731242,
          0.22436834840107997,
          -0.587796897611996,
          -0.21185255449597312,
          -0.012570892599201121,
          -0.54279177228348,
          -2.6560874773893772,
          0.3149100180434697,
          2.010648660253624,
          0.5551898627890857,
          -1.4963775556776142,
          -0.5877273554807264,
          0.07257979710473213,
          0.15338192801483436,
          -0.5596087652557075,
          0.9007287289028704,
          0.7994878115707456,
          -0.8204821180718412,
          0.28035281575665505,
          0.23986792951813127,
          -0.19554464475260425,
          1.490723752902071,
          -0.20027691553987273,
          -0.5566182124634896,
          -0.2586965268169799,
          0.8988418941151963,
          -0.12990886192371434,
          0.02546613837971286,
          -1.0416098497036679,
          -1.5819094674443275,
          -0.13181985295975357,
          1.2325838746792015,
          -1.1327957870240355,
          0.34605049462143017,
          1.706190747987443,
          2.1433316293580784,
          0.3271201022174498,
          -0.7168867904851405
         ],
         "xaxis": "x",
         "yaxis": "y"
        },
        {
         "line": {
          "color": "rgba(128, 128, 128, 1.0)",
          "dash": "solid",
          "shape": "linear",
          "width": 1.3
         },
         "marker": {
          "size": 2,
          "symbol": "circle"
         },
         "mode": "markers",
         "name": "A",
         "text": "",
         "type": "scatter",
         "x": [
          0.15135829454715108,
          0.9795160147718429,
          1.4214734609290678,
          -0.07097325758683996,
          -0.9210663836667375,
          0.20378024537982453,
          -0.6100369380441374,
          -1.3466306621394803,
          -1.81632980066363,
          -0.15798779724206727,
          -1.018606443577509,
          -0.54437943019444,
          -0.48276994747208113,
          0.57798424272942,
          -0.970914049767164,
          -0.4352116885815418,
          0.8241358618851978,
          1.2918990512894106,
          -0.11878729385443036,
          -0.24842332641139903,
          0.4465616973650019,
          0.7155306943090513,
          1.9646290002462576,
          0.7485402486486966,
          2.301917351467514,
          -0.4584041069143579,
          -1.9769012314332277,
          -1.201105007029545,
          1.669260528563722,
          0.22156748859860562,
          -0.43902290576062286,
          -0.9269491629983333,
          -1.442120004125873,
          -1.1669983984588779,
          -0.2801873720734649,
          2.5275136591199066,
          -0.020117546102519243,
          -1.5074242850340052,
          -1.3581481255377978,
          1.0682872361234326,
          -0.4253891039927625,
          -0.9795015883734285,
          0.7178957327501252,
          -1.1761437747950894,
          -1.6540195151829544,
          1.6095607825891305,
          -0.8873683216168122,
          -1.6423713126718416,
          -0.17082902921556906,
          1.4433275020088596,
          -0.23514827551444784,
          -0.18210764579747643,
          -0.47380473108659904,
          -0.30564100505727737,
          0.39475719400621767,
          0.927733729671384,
          1.2414238982703922,
          0.0029357777775479636,
          0.869531108145011,
          -0.3108725300689207,
          0.31612727830321374,
          0.7637627871271956,
          -1.7022198823396548,
          0.9700454378831772,
          -2.2371234275566225,
          1.131637517157968,
          -0.393532240954233,
          -0.08165933539689739,
          0.36858334803231196,
          -1.6126676133120872,
          -0.5352745521823805,
          0.6346815353686975,
          1.238888755284414,
          -1.0276900358987127,
          -0.3355367973642946,
          0.37140192615612216,
          -0.8515083889392284,
          -2.9690855877133386,
          0.6140107859520972,
          0.43209277527755674,
          -1.0987784624213168,
          0.20215234928410972,
          -0.46102411065062787,
          1.4859285963890307,
          1.3911792195871207,
          -1.3670903285961076,
          0.22450940710990647,
          0.4101279410076213,
          1.977960208478093,
          0.43079393165742125,
          -2.9129924250906174,
          -0.7310092701771267,
          0.18258620922954666,
          2.392127291109862,
          -0.2879343642592824,
          1.8906107785898578,
          0.7400795074044674,
          -1.3617204379633567,
          0.7788471931365946,
          0.6913717081312138
         ],
         "xaxis": "x2",
         "y": [
          0.20809043819086845,
          -0.019341506915506363,
          0.6710928486171988,
          -0.32374262692684636,
          -0.08933950365355328,
          -2.4870153305002876,
          -0.0828445187959473,
          0.5765196640599008,
          -1.45974335926409,
          -0.7039420056988792,
          0.07374623781588262,
          1.3890599308664364,
          -0.4065140417790279,
          -1.5534252482243656,
          -0.5223086210478873,
          1.0283472012969124,
          -0.7782606201795501,
          -1.1134140955232776,
          1.545117883927185,
          0.6536675243606903,
          -0.4635661135202583,
          -1.3776886078026092,
          0.5157479741118118,
          0.48495411771132285,
          -1.498163791196165,
          0.186173316287323,
          -0.6084259450245122,
          0.1385458239150797,
          -0.34327731015590035,
          1.3057395117869839,
          -0.8507861830526204,
          0.07068108652281078,
          0.5609468060125844,
          0.8436003826923163,
          -0.5544739466474897,
          0.304567437465066,
          0.07380956245430079,
          0.6770820944557193,
          0.9958583944756741,
          -0.8843872234471372,
          -0.5686911224280439,
          -0.4833310001350282,
          1.0444287952056812,
          -1.0247446450677433,
          -0.04442966989560093,
          -0.8533122995490622,
          0.6530986336452997,
          -0.7022015322286137,
          1.2062876705027765,
          -2.0339563452164966,
          0.48742624290522124,
          0.6589028909488218,
          -2.3421002379617333,
          -0.7722454389655053,
          0.02882023909271555,
          -1.534494316301149,
          0.38125317141931553,
          0.9658911532176244,
          -0.36784839411375353,
          0.7996346562293096,
          -1.6665252924104532,
          -0.4099124667256445,
          -0.6272330819731242,
          0.22436834840107997,
          -0.587796897611996,
          -0.21185255449597312,
          -0.012570892599201121,
          -0.54279177228348,
          -2.6560874773893772,
          0.3149100180434697,
          2.010648660253624,
          0.5551898627890857,
          -1.4963775556776142,
          -0.5877273554807264,
          0.07257979710473213,
          0.15338192801483436,
          -0.5596087652557075,
          0.9007287289028704,
          0.7994878115707456,
          -0.8204821180718412,
          0.28035281575665505,
          0.23986792951813127,
          -0.19554464475260425,
          1.490723752902071,
          -0.20027691553987273,
          -0.5566182124634896,
          -0.2586965268169799,
          0.8988418941151963,
          -0.12990886192371434,
          0.02546613837971286,
          -1.0416098497036679,
          -1.5819094674443275,
          -0.13181985295975357,
          1.2325838746792015,
          -1.1327957870240355,
          0.34605049462143017,
          1.706190747987443,
          2.1433316293580784,
          0.3271201022174498,
          -0.7168867904851405
         ],
         "yaxis": "y2"
        },
        {
         "line": {
          "color": "rgba(128, 128, 128, 1.0)",
          "dash": "solid",
          "shape": "linear",
          "width": 1.3
         },
         "marker": {
          "size": 2,
          "symbol": "circle"
         },
         "mode": "markers",
         "name": "A",
         "text": "",
         "type": "scatter",
         "x": [
          2.0051121159920675,
          -0.4493610805844231,
          -0.9084872076489361,
          -0.7721615517711781,
          0.6541627047739164,
          -0.3851615542298961,
          1.2241910700460494,
          -0.3594480352627832,
          0.5303515075821974,
          0.37821553681042497,
          1.5265608993568685,
          1.477366766187703,
          -0.8903976196943997,
          0.6275104381096709,
          -1.1658828346957355,
          0.5252728640062069,
          0.4116834027002824,
          2.704189848816628,
          -0.2226961420885588,
          1.0244875423195368,
          0.26495132075919875,
          -0.3335106453849119,
          -0.25051775523022307,
          -0.9421555886984696,
          -0.05185181898581905,
          0.9892425401502507,
          0.3019324275203719,
          0.05095758835038916,
          -1.4812719426708845,
          0.5548066618401524,
          0.03745238658246062,
          0.5074409459965565,
          -0.8466179648047617,
          -0.6704963196017796,
          -0.6190901486920855,
          0.17827190177240412,
          0.3664174458696268,
          2.350125669806303,
          0.043404170851318376,
          -1.3790506256730932,
          0.2737799407998692,
          0.2933588088351275,
          2.193998753638677,
          -0.9831277301264092,
          -0.6521040024729443,
          0.08051574029896495,
          -1.0062263833912914,
          1.6888321692647374,
          0.15860478630185132,
          -0.7264348973890741,
          0.5551346042795282,
          -1.3221054329247246,
          -1.2046506987274948,
          1.1490223551767262,
          -1.2035286945972503,
          1.1709154926969032,
          0.9661298764717131,
          -0.8044782297264162,
          -0.19666254507560318,
          0.21441701157769927,
          1.5613441239512482,
          0.6650992702780203,
          0.0815292219555825,
          0.05595055934265063,
          0.05073992580946308,
          -0.8345594810331837,
          0.6646967497706436,
          -0.6068052519359592,
          -0.09796794490886163,
          0.9956501209565106,
          0.032888702181209435,
          0.7282824374462252,
          -0.4421471221405374,
          -0.4996683018436185,
          -0.4598733633397587,
          -0.24246389263135104,
          -1.7254409975924612,
          -0.8704721991050504,
          -1.8617602897345804,
          -0.15657662661197377,
          -1.2433527551093784,
          0.8198948294225307,
          -0.15002325359623633,
          1.1776949232261975,
          -0.18486742703008133,
          -0.6473069114798748,
          -0.2878369954827269,
          -1.8137301176313945,
          0.7335294261397506,
          -1.5121779899245575,
          1.2057098440957132,
          -0.019324584000454413,
          0.6889436920135882,
          -0.5661336612740878,
          -0.5653254134268597,
          0.20453618725784742,
          0.40107083955132516,
          1.1740676398540935,
          -0.5776343666715368,
          2.5216844274068357
         ],
         "xaxis": "x3",
         "y": [
          0.20809043819086845,
          -0.019341506915506363,
          0.6710928486171988,
          -0.32374262692684636,
          -0.08933950365355328,
          -2.4870153305002876,
          -0.0828445187959473,
          0.5765196640599008,
          -1.45974335926409,
          -0.7039420056988792,
          0.07374623781588262,
          1.3890599308664364,
          -0.4065140417790279,
          -1.5534252482243656,
          -0.5223086210478873,
          1.0283472012969124,
          -0.7782606201795501,
          -1.1134140955232776,
          1.545117883927185,
          0.6536675243606903,
          -0.4635661135202583,
          -1.3776886078026092,
          0.5157479741118118,
          0.48495411771132285,
          -1.498163791196165,
          0.186173316287323,
          -0.6084259450245122,
          0.1385458239150797,
          -0.34327731015590035,
          1.3057395117869839,
          -0.8507861830526204,
          0.07068108652281078,
          0.5609468060125844,
          0.8436003826923163,
          -0.5544739466474897,
          0.304567437465066,
          0.07380956245430079,
          0.6770820944557193,
          0.9958583944756741,
          -0.8843872234471372,
          -0.5686911224280439,
          -0.4833310001350282,
          1.0444287952056812,
          -1.0247446450677433,
          -0.04442966989560093,
          -0.8533122995490622,
          0.6530986336452997,
          -0.7022015322286137,
          1.2062876705027765,
          -2.0339563452164966,
          0.48742624290522124,
          0.6589028909488218,
          -2.3421002379617333,
          -0.7722454389655053,
          0.02882023909271555,
          -1.534494316301149,
          0.38125317141931553,
          0.9658911532176244,
          -0.36784839411375353,
          0.7996346562293096,
          -1.6665252924104532,
          -0.4099124667256445,
          -0.6272330819731242,
          0.22436834840107997,
          -0.587796897611996,
          -0.21185255449597312,
          -0.012570892599201121,
          -0.54279177228348,
          -2.6560874773893772,
          0.3149100180434697,
          2.010648660253624,
          0.5551898627890857,
          -1.4963775556776142,
          -0.5877273554807264,
          0.07257979710473213,
          0.15338192801483436,
          -0.5596087652557075,
          0.9007287289028704,
          0.7994878115707456,
          -0.8204821180718412,
          0.28035281575665505,
          0.23986792951813127,
          -0.19554464475260425,
          1.490723752902071,
          -0.20027691553987273,
          -0.5566182124634896,
          -0.2586965268169799,
          0.8988418941151963,
          -0.12990886192371434,
          0.02546613837971286,
          -1.0416098497036679,
          -1.5819094674443275,
          -0.13181985295975357,
          1.2325838746792015,
          -1.1327957870240355,
          0.34605049462143017,
          1.706190747987443,
          2.1433316293580784,
          0.3271201022174498,
          -0.7168867904851405
         ],
         "yaxis": "y3"
        },
        {
         "line": {
          "color": "rgba(128, 128, 128, 1.0)",
          "dash": "solid",
          "shape": "linear",
          "width": 1.3
         },
         "marker": {
          "size": 2,
          "symbol": "circle"
         },
         "mode": "markers",
         "name": "A",
         "text": "",
         "type": "scatter",
         "x": [
          -1.4565733558087668,
          0.5262369172878351,
          0.48945774743941195,
          -0.21293033404058415,
          -0.16324889199076464,
          0.630598484174999,
          0.692077637937127,
          -0.3331147371984391,
          0.1929030040351164,
          -0.3218766183486016,
          -1.6425369944411325,
          -0.7678250927492929,
          1.2659835307747669,
          0.8184210393122054,
          -0.024633339865551607,
          -1.249002879317465,
          0.9295234623087013,
          0.8493978136587808,
          -0.46047237624499265,
          -0.5778972033554954,
          0.4189611998456919,
          -0.5505020499045066,
          0.8781183000200152,
          -0.7305458201604784,
          0.4260424892761426,
          -1.1154404173816563,
          1.7386153510183529,
          1.8996270301248646,
          -0.022043989066206783,
          -2.08107613924143,
          0.10383859554091508,
          1.300271012272863,
          -0.44790591147914155,
          0.32454891365895494,
          0.723557539054515,
          -0.4526175565216972,
          1.5793439257679158,
          -1.2460820007359723,
          1.115935175496016,
          -0.07877482710809654,
          -1.730466220665265,
          1.846744729189646,
          -0.19870976067514978,
          -0.12123592053565618,
          1.3852277591750157,
          -0.2656543567586974,
          -0.07555173388232261,
          0.07777723955138618,
          0.907301321878093,
          -0.4107678910895667,
          1.0969607063495408,
          2.312284690894676,
          0.35708899337781286,
          -0.14919636371702155,
          0.10587794777827615,
          0.19445728205069596,
          -0.05300858756121772,
          0.8949819385269817,
          2.218827117112159,
          0.7060532591602858,
          -0.131418896375061,
          0.491284065175089,
          -0.9893054759795129,
          -0.08954705247396552,
          0.27609733254111335,
          1.702681047136967,
          0.22434733425503514,
          0.6696692982817731,
          2.314142962463807,
          1.0622561275932678,
          -0.4295730165307976,
          1.268635692597944,
          -0.5617857296247518,
          -0.04831566984239649,
          0.6961244218118591,
          0.04787514173602842,
          -2.4211481405527833,
          0.3895740200646518,
          -1.3291272982016469,
          0.11889810264841535,
          -0.08730316360939917,
          0.21079474055037464,
          0.5034361648353576,
          -0.868718445356883,
          -0.0994953565207857,
          0.15250135972298487,
          1.9040880921245162,
          0.0779133281913371,
          -1.245117905007259,
          -0.09485339001235499,
          0.8882549753384171,
          -0.26831172103457623,
          -0.9086119757298903,
          0.33148975957829013,
          -0.15318039179708207,
          0.11562239596100848,
          0.7578807194141244,
          -0.5585578756818593,
          -1.2714220005791093,
          -1.3660870756577828
         ],
         "xaxis": "x4",
         "y": [
          0.20809043819086845,
          -0.019341506915506363,
          0.6710928486171988,
          -0.32374262692684636,
          -0.08933950365355328,
          -2.4870153305002876,
          -0.0828445187959473,
          0.5765196640599008,
          -1.45974335926409,
          -0.7039420056988792,
          0.07374623781588262,
          1.3890599308664364,
          -0.4065140417790279,
          -1.5534252482243656,
          -0.5223086210478873,
          1.0283472012969124,
          -0.7782606201795501,
          -1.1134140955232776,
          1.545117883927185,
          0.6536675243606903,
          -0.4635661135202583,
          -1.3776886078026092,
          0.5157479741118118,
          0.48495411771132285,
          -1.498163791196165,
          0.186173316287323,
          -0.6084259450245122,
          0.1385458239150797,
          -0.34327731015590035,
          1.3057395117869839,
          -0.8507861830526204,
          0.07068108652281078,
          0.5609468060125844,
          0.8436003826923163,
          -0.5544739466474897,
          0.304567437465066,
          0.07380956245430079,
          0.6770820944557193,
          0.9958583944756741,
          -0.8843872234471372,
          -0.5686911224280439,
          -0.4833310001350282,
          1.0444287952056812,
          -1.0247446450677433,
          -0.04442966989560093,
          -0.8533122995490622,
          0.6530986336452997,
          -0.7022015322286137,
          1.2062876705027765,
          -2.0339563452164966,
          0.48742624290522124,
          0.6589028909488218,
          -2.3421002379617333,
          -0.7722454389655053,
          0.02882023909271555,
          -1.534494316301149,
          0.38125317141931553,
          0.9658911532176244,
          -0.36784839411375353,
          0.7996346562293096,
          -1.6665252924104532,
          -0.4099124667256445,
          -0.6272330819731242,
          0.22436834840107997,
          -0.587796897611996,
          -0.21185255449597312,
          -0.012570892599201121,
          -0.54279177228348,
          -2.6560874773893772,
          0.3149100180434697,
          2.010648660253624,
          0.5551898627890857,
          -1.4963775556776142,
          -0.5877273554807264,
          0.07257979710473213,
          0.15338192801483436,
          -0.5596087652557075,
          0.9007287289028704,
          0.7994878115707456,
          -0.8204821180718412,
          0.28035281575665505,
          0.23986792951813127,
          -0.19554464475260425,
          1.490723752902071,
          -0.20027691553987273,
          -0.5566182124634896,
          -0.2586965268169799,
          0.8988418941151963,
          -0.12990886192371434,
          0.02546613837971286,
          -1.0416098497036679,
          -1.5819094674443275,
          -0.13181985295975357,
          1.2325838746792015,
          -1.1327957870240355,
          0.34605049462143017,
          1.706190747987443,
          2.1433316293580784,
          0.3271201022174498,
          -0.7168867904851405
         ],
         "yaxis": "y4"
        },
        {
         "line": {
          "color": "rgba(128, 128, 128, 1.0)",
          "dash": "solid",
          "shape": "linear",
          "width": 1.3
         },
         "marker": {
          "size": 2,
          "symbol": "circle"
         },
         "mode": "markers",
         "name": "B",
         "text": "",
         "type": "scatter",
         "x": [
          0.20809043819086845,
          -0.019341506915506363,
          0.6710928486171988,
          -0.32374262692684636,
          -0.08933950365355328,
          -2.4870153305002876,
          -0.0828445187959473,
          0.5765196640599008,
          -1.45974335926409,
          -0.7039420056988792,
          0.07374623781588262,
          1.3890599308664364,
          -0.4065140417790279,
          -1.5534252482243656,
          -0.5223086210478873,
          1.0283472012969124,
          -0.7782606201795501,
          -1.1134140955232776,
          1.545117883927185,
          0.6536675243606903,
          -0.4635661135202583,
          -1.3776886078026092,
          0.5157479741118118,
          0.48495411771132285,
          -1.498163791196165,
          0.186173316287323,
          -0.6084259450245122,
          0.1385458239150797,
          -0.34327731015590035,
          1.3057395117869839,
          -0.8507861830526204,
          0.07068108652281078,
          0.5609468060125844,
          0.8436003826923163,
          -0.5544739466474897,
          0.304567437465066,
          0.07380956245430079,
          0.6770820944557193,
          0.9958583944756741,
          -0.8843872234471372,
          -0.5686911224280439,
          -0.4833310001350282,
          1.0444287952056812,
          -1.0247446450677433,
          -0.04442966989560093,
          -0.8533122995490622,
          0.6530986336452997,
          -0.7022015322286137,
          1.2062876705027765,
          -2.0339563452164966,
          0.48742624290522124,
          0.6589028909488218,
          -2.3421002379617333,
          -0.7722454389655053,
          0.02882023909271555,
          -1.534494316301149,
          0.38125317141931553,
          0.9658911532176244,
          -0.36784839411375353,
          0.7996346562293096,
          -1.6665252924104532,
          -0.4099124667256445,
          -0.6272330819731242,
          0.22436834840107997,
          -0.587796897611996,
          -0.21185255449597312,
          -0.012570892599201121,
          -0.54279177228348,
          -2.6560874773893772,
          0.3149100180434697,
          2.010648660253624,
          0.5551898627890857,
          -1.4963775556776142,
          -0.5877273554807264,
          0.07257979710473213,
          0.15338192801483436,
          -0.5596087652557075,
          0.9007287289028704,
          0.7994878115707456,
          -0.8204821180718412,
          0.28035281575665505,
          0.23986792951813127,
          -0.19554464475260425,
          1.490723752902071,
          -0.20027691553987273,
          -0.5566182124634896,
          -0.2586965268169799,
          0.8988418941151963,
          -0.12990886192371434,
          0.02546613837971286,
          -1.0416098497036679,
          -1.5819094674443275,
          -0.13181985295975357,
          1.2325838746792015,
          -1.1327957870240355,
          0.34605049462143017,
          1.706190747987443,
          2.1433316293580784,
          0.3271201022174498,
          -0.7168867904851405
         ],
         "xaxis": "x5",
         "y": [
          0.15135829454715108,
          0.9795160147718429,
          1.4214734609290678,
          -0.07097325758683996,
          -0.9210663836667375,
          0.20378024537982453,
          -0.6100369380441374,
          -1.3466306621394803,
          -1.81632980066363,
          -0.15798779724206727,
          -1.018606443577509,
          -0.54437943019444,
          -0.48276994747208113,
          0.57798424272942,
          -0.970914049767164,
          -0.4352116885815418,
          0.8241358618851978,
          1.2918990512894106,
          -0.11878729385443036,
          -0.24842332641139903,
          0.4465616973650019,
          0.7155306943090513,
          1.9646290002462576,
          0.7485402486486966,
          2.301917351467514,
          -0.4584041069143579,
          -1.9769012314332277,
          -1.201105007029545,
          1.669260528563722,
          0.22156748859860562,
          -0.43902290576062286,
          -0.9269491629983333,
          -1.442120004125873,
          -1.1669983984588779,
          -0.2801873720734649,
          2.5275136591199066,
          -0.020117546102519243,
          -1.5074242850340052,
          -1.3581481255377978,
          1.0682872361234326,
          -0.4253891039927625,
          -0.9795015883734285,
          0.7178957327501252,
          -1.1761437747950894,
          -1.6540195151829544,
          1.6095607825891305,
          -0.8873683216168122,
          -1.6423713126718416,
          -0.17082902921556906,
          1.4433275020088596,
          -0.23514827551444784,
          -0.18210764579747643,
          -0.47380473108659904,
          -0.30564100505727737,
          0.39475719400621767,
          0.927733729671384,
          1.2414238982703922,
          0.0029357777775479636,
          0.869531108145011,
          -0.3108725300689207,
          0.31612727830321374,
          0.7637627871271956,
          -1.7022198823396548,
          0.9700454378831772,
          -2.2371234275566225,
          1.131637517157968,
          -0.393532240954233,
          -0.08165933539689739,
          0.36858334803231196,
          -1.6126676133120872,
          -0.5352745521823805,
          0.6346815353686975,
          1.238888755284414,
          -1.0276900358987127,
          -0.3355367973642946,
          0.37140192615612216,
          -0.8515083889392284,
          -2.9690855877133386,
          0.6140107859520972,
          0.43209277527755674,
          -1.0987784624213168,
          0.20215234928410972,
          -0.46102411065062787,
          1.4859285963890307,
          1.3911792195871207,
          -1.3670903285961076,
          0.22450940710990647,
          0.4101279410076213,
          1.977960208478093,
          0.43079393165742125,
          -2.9129924250906174,
          -0.7310092701771267,
          0.18258620922954666,
          2.392127291109862,
          -0.2879343642592824,
          1.8906107785898578,
          0.7400795074044674,
          -1.3617204379633567,
          0.7788471931365946,
          0.6913717081312138
         ],
         "yaxis": "y5"
        },
        {
         "histfunc": "count",
         "histnorm": "",
         "marker": {
          "color": "rgba(55, 128, 191, 1.0)",
          "line": {
           "color": "#4D5663",
           "width": 1.3
          }
         },
         "name": "B",
         "nbinsx": 10,
         "opacity": 0.8,
         "orientation": "v",
         "type": "histogram",
         "x": [
          0.15135829454715108,
          0.9795160147718429,
          1.4214734609290678,
          -0.07097325758683996,
          -0.9210663836667375,
          0.20378024537982453,
          -0.6100369380441374,
          -1.3466306621394803,
          -1.81632980066363,
          -0.15798779724206727,
          -1.018606443577509,
          -0.54437943019444,
          -0.48276994747208113,
          0.57798424272942,
          -0.970914049767164,
          -0.4352116885815418,
          0.8241358618851978,
          1.2918990512894106,
          -0.11878729385443036,
          -0.24842332641139903,
          0.4465616973650019,
          0.7155306943090513,
          1.9646290002462576,
          0.7485402486486966,
          2.301917351467514,
          -0.4584041069143579,
          -1.9769012314332277,
          -1.201105007029545,
          1.669260528563722,
          0.22156748859860562,
          -0.43902290576062286,
          -0.9269491629983333,
          -1.442120004125873,
          -1.1669983984588779,
          -0.2801873720734649,
          2.5275136591199066,
          -0.020117546102519243,
          -1.5074242850340052,
          -1.3581481255377978,
          1.0682872361234326,
          -0.4253891039927625,
          -0.9795015883734285,
          0.7178957327501252,
          -1.1761437747950894,
          -1.6540195151829544,
          1.6095607825891305,
          -0.8873683216168122,
          -1.6423713126718416,
          -0.17082902921556906,
          1.4433275020088596,
          -0.23514827551444784,
          -0.18210764579747643,
          -0.47380473108659904,
          -0.30564100505727737,
          0.39475719400621767,
          0.927733729671384,
          1.2414238982703922,
          0.0029357777775479636,
          0.869531108145011,
          -0.3108725300689207,
          0.31612727830321374,
          0.7637627871271956,
          -1.7022198823396548,
          0.9700454378831772,
          -2.2371234275566225,
          1.131637517157968,
          -0.393532240954233,
          -0.08165933539689739,
          0.36858334803231196,
          -1.6126676133120872,
          -0.5352745521823805,
          0.6346815353686975,
          1.238888755284414,
          -1.0276900358987127,
          -0.3355367973642946,
          0.37140192615612216,
          -0.8515083889392284,
          -2.9690855877133386,
          0.6140107859520972,
          0.43209277527755674,
          -1.0987784624213168,
          0.20215234928410972,
          -0.46102411065062787,
          1.4859285963890307,
          1.3911792195871207,
          -1.3670903285961076,
          0.22450940710990647,
          0.4101279410076213,
          1.977960208478093,
          0.43079393165742125,
          -2.9129924250906174,
          -0.7310092701771267,
          0.18258620922954666,
          2.392127291109862,
          -0.2879343642592824,
          1.8906107785898578,
          0.7400795074044674,
          -1.3617204379633567,
          0.7788471931365946,
          0.6913717081312138
         ],
         "xaxis": "x6",
         "yaxis": "y6"
        },
        {
         "line": {
          "color": "rgba(128, 128, 128, 1.0)",
          "dash": "solid",
          "shape": "linear",
          "width": 1.3
         },
         "marker": {
          "size": 2,
          "symbol": "circle"
         },
         "mode": "markers",
         "name": "B",
         "text": "",
         "type": "scatter",
         "x": [
          2.0051121159920675,
          -0.4493610805844231,
          -0.9084872076489361,
          -0.7721615517711781,
          0.6541627047739164,
          -0.3851615542298961,
          1.2241910700460494,
          -0.3594480352627832,
          0.5303515075821974,
          0.37821553681042497,
          1.5265608993568685,
          1.477366766187703,
          -0.8903976196943997,
          0.6275104381096709,
          -1.1658828346957355,
          0.5252728640062069,
          0.4116834027002824,
          2.704189848816628,
          -0.2226961420885588,
          1.0244875423195368,
          0.26495132075919875,
          -0.3335106453849119,
          -0.25051775523022307,
          -0.9421555886984696,
          -0.05185181898581905,
          0.9892425401502507,
          0.3019324275203719,
          0.05095758835038916,
          -1.4812719426708845,
          0.5548066618401524,
          0.03745238658246062,
          0.5074409459965565,
          -0.8466179648047617,
          -0.6704963196017796,
          -0.6190901486920855,
          0.17827190177240412,
          0.3664174458696268,
          2.350125669806303,
          0.043404170851318376,
          -1.3790506256730932,
          0.2737799407998692,
          0.2933588088351275,
          2.193998753638677,
          -0.9831277301264092,
          -0.6521040024729443,
          0.08051574029896495,
          -1.0062263833912914,
          1.6888321692647374,
          0.15860478630185132,
          -0.7264348973890741,
          0.5551346042795282,
          -1.3221054329247246,
          -1.2046506987274948,
          1.1490223551767262,
          -1.2035286945972503,
          1.1709154926969032,
          0.9661298764717131,
          -0.8044782297264162,
          -0.19666254507560318,
          0.21441701157769927,
          1.5613441239512482,
          0.6650992702780203,
          0.0815292219555825,
          0.05595055934265063,
          0.05073992580946308,
          -0.8345594810331837,
          0.6646967497706436,
          -0.6068052519359592,
          -0.09796794490886163,
          0.9956501209565106,
          0.032888702181209435,
          0.7282824374462252,
          -0.4421471221405374,
          -0.4996683018436185,
          -0.4598733633397587,
          -0.24246389263135104,
          -1.7254409975924612,
          -0.8704721991050504,
          -1.8617602897345804,
          -0.15657662661197377,
          -1.2433527551093784,
          0.8198948294225307,
          -0.15002325359623633,
          1.1776949232261975,
          -0.18486742703008133,
          -0.6473069114798748,
          -0.2878369954827269,
          -1.8137301176313945,
          0.7335294261397506,
          -1.5121779899245575,
          1.2057098440957132,
          -0.019324584000454413,
          0.6889436920135882,
          -0.5661336612740878,
          -0.5653254134268597,
          0.20453618725784742,
          0.40107083955132516,
          1.1740676398540935,
          -0.5776343666715368,
          2.5216844274068357
         ],
         "xaxis": "x7",
         "y": [
          0.15135829454715108,
          0.9795160147718429,
          1.4214734609290678,
          -0.07097325758683996,
          -0.9210663836667375,
          0.20378024537982453,
          -0.6100369380441374,
          -1.3466306621394803,
          -1.81632980066363,
          -0.15798779724206727,
          -1.018606443577509,
          -0.54437943019444,
          -0.48276994747208113,
          0.57798424272942,
          -0.970914049767164,
          -0.4352116885815418,
          0.8241358618851978,
          1.2918990512894106,
          -0.11878729385443036,
          -0.24842332641139903,
          0.4465616973650019,
          0.7155306943090513,
          1.9646290002462576,
          0.7485402486486966,
          2.301917351467514,
          -0.4584041069143579,
          -1.9769012314332277,
          -1.201105007029545,
          1.669260528563722,
          0.22156748859860562,
          -0.43902290576062286,
          -0.9269491629983333,
          -1.442120004125873,
          -1.1669983984588779,
          -0.2801873720734649,
          2.5275136591199066,
          -0.020117546102519243,
          -1.5074242850340052,
          -1.3581481255377978,
          1.0682872361234326,
          -0.4253891039927625,
          -0.9795015883734285,
          0.7178957327501252,
          -1.1761437747950894,
          -1.6540195151829544,
          1.6095607825891305,
          -0.8873683216168122,
          -1.6423713126718416,
          -0.17082902921556906,
          1.4433275020088596,
          -0.23514827551444784,
          -0.18210764579747643,
          -0.47380473108659904,
          -0.30564100505727737,
          0.39475719400621767,
          0.927733729671384,
          1.2414238982703922,
          0.0029357777775479636,
          0.869531108145011,
          -0.3108725300689207,
          0.31612727830321374,
          0.7637627871271956,
          -1.7022198823396548,
          0.9700454378831772,
          -2.2371234275566225,
          1.131637517157968,
          -0.393532240954233,
          -0.08165933539689739,
          0.36858334803231196,
          -1.6126676133120872,
          -0.5352745521823805,
          0.6346815353686975,
          1.238888755284414,
          -1.0276900358987127,
          -0.3355367973642946,
          0.37140192615612216,
          -0.8515083889392284,
          -2.9690855877133386,
          0.6140107859520972,
          0.43209277527755674,
          -1.0987784624213168,
          0.20215234928410972,
          -0.46102411065062787,
          1.4859285963890307,
          1.3911792195871207,
          -1.3670903285961076,
          0.22450940710990647,
          0.4101279410076213,
          1.977960208478093,
          0.43079393165742125,
          -2.9129924250906174,
          -0.7310092701771267,
          0.18258620922954666,
          2.392127291109862,
          -0.2879343642592824,
          1.8906107785898578,
          0.7400795074044674,
          -1.3617204379633567,
          0.7788471931365946,
          0.6913717081312138
         ],
         "yaxis": "y7"
        },
        {
         "line": {
          "color": "rgba(128, 128, 128, 1.0)",
          "dash": "solid",
          "shape": "linear",
          "width": 1.3
         },
         "marker": {
          "size": 2,
          "symbol": "circle"
         },
         "mode": "markers",
         "name": "B",
         "text": "",
         "type": "scatter",
         "x": [
          -1.4565733558087668,
          0.5262369172878351,
          0.48945774743941195,
          -0.21293033404058415,
          -0.16324889199076464,
          0.630598484174999,
          0.692077637937127,
          -0.3331147371984391,
          0.1929030040351164,
          -0.3218766183486016,
          -1.6425369944411325,
          -0.7678250927492929,
          1.2659835307747669,
          0.8184210393122054,
          -0.024633339865551607,
          -1.249002879317465,
          0.9295234623087013,
          0.8493978136587808,
          -0.46047237624499265,
          -0.5778972033554954,
          0.4189611998456919,
          -0.5505020499045066,
          0.8781183000200152,
          -0.7305458201604784,
          0.4260424892761426,
          -1.1154404173816563,
          1.7386153510183529,
          1.8996270301248646,
          -0.022043989066206783,
          -2.08107613924143,
          0.10383859554091508,
          1.300271012272863,
          -0.44790591147914155,
          0.32454891365895494,
          0.723557539054515,
          -0.4526175565216972,
          1.5793439257679158,
          -1.2460820007359723,
          1.115935175496016,
          -0.07877482710809654,
          -1.730466220665265,
          1.846744729189646,
          -0.19870976067514978,
          -0.12123592053565618,
          1.3852277591750157,
          -0.2656543567586974,
          -0.07555173388232261,
          0.07777723955138618,
          0.907301321878093,
          -0.4107678910895667,
          1.0969607063495408,
          2.312284690894676,
          0.35708899337781286,
          -0.14919636371702155,
          0.10587794777827615,
          0.19445728205069596,
          -0.05300858756121772,
          0.8949819385269817,
          2.218827117112159,
          0.7060532591602858,
          -0.131418896375061,
          0.491284065175089,
          -0.9893054759795129,
          -0.08954705247396552,
          0.27609733254111335,
          1.702681047136967,
          0.22434733425503514,
          0.6696692982817731,
          2.314142962463807,
          1.0622561275932678,
          -0.4295730165307976,
          1.268635692597944,
          -0.5617857296247518,
          -0.04831566984239649,
          0.6961244218118591,
          0.04787514173602842,
          -2.4211481405527833,
          0.3895740200646518,
          -1.3291272982016469,
          0.11889810264841535,
          -0.08730316360939917,
          0.21079474055037464,
          0.5034361648353576,
          -0.868718445356883,
          -0.0994953565207857,
          0.15250135972298487,
          1.9040880921245162,
          0.0779133281913371,
          -1.245117905007259,
          -0.09485339001235499,
          0.8882549753384171,
          -0.26831172103457623,
          -0.9086119757298903,
          0.33148975957829013,
          -0.15318039179708207,
          0.11562239596100848,
          0.7578807194141244,
          -0.5585578756818593,
          -1.2714220005791093,
          -1.3660870756577828
         ],
         "xaxis": "x8",
         "y": [
          0.15135829454715108,
          0.9795160147718429,
          1.4214734609290678,
          -0.07097325758683996,
          -0.9210663836667375,
          0.20378024537982453,
          -0.6100369380441374,
          -1.3466306621394803,
          -1.81632980066363,
          -0.15798779724206727,
          -1.018606443577509,
          -0.54437943019444,
          -0.48276994747208113,
          0.57798424272942,
          -0.970914049767164,
          -0.4352116885815418,
          0.8241358618851978,
          1.2918990512894106,
          -0.11878729385443036,
          -0.24842332641139903,
          0.4465616973650019,
          0.7155306943090513,
          1.9646290002462576,
          0.7485402486486966,
          2.301917351467514,
          -0.4584041069143579,
          -1.9769012314332277,
          -1.201105007029545,
          1.669260528563722,
          0.22156748859860562,
          -0.43902290576062286,
          -0.9269491629983333,
          -1.442120004125873,
          -1.1669983984588779,
          -0.2801873720734649,
          2.5275136591199066,
          -0.020117546102519243,
          -1.5074242850340052,
          -1.3581481255377978,
          1.0682872361234326,
          -0.4253891039927625,
          -0.9795015883734285,
          0.7178957327501252,
          -1.1761437747950894,
          -1.6540195151829544,
          1.6095607825891305,
          -0.8873683216168122,
          -1.6423713126718416,
          -0.17082902921556906,
          1.4433275020088596,
          -0.23514827551444784,
          -0.18210764579747643,
          -0.47380473108659904,
          -0.30564100505727737,
          0.39475719400621767,
          0.927733729671384,
          1.2414238982703922,
          0.0029357777775479636,
          0.869531108145011,
          -0.3108725300689207,
          0.31612727830321374,
          0.7637627871271956,
          -1.7022198823396548,
          0.9700454378831772,
          -2.2371234275566225,
          1.131637517157968,
          -0.393532240954233,
          -0.08165933539689739,
          0.36858334803231196,
          -1.6126676133120872,
          -0.5352745521823805,
          0.6346815353686975,
          1.238888755284414,
          -1.0276900358987127,
          -0.3355367973642946,
          0.37140192615612216,
          -0.8515083889392284,
          -2.9690855877133386,
          0.6140107859520972,
          0.43209277527755674,
          -1.0987784624213168,
          0.20215234928410972,
          -0.46102411065062787,
          1.4859285963890307,
          1.3911792195871207,
          -1.3670903285961076,
          0.22450940710990647,
          0.4101279410076213,
          1.977960208478093,
          0.43079393165742125,
          -2.9129924250906174,
          -0.7310092701771267,
          0.18258620922954666,
          2.392127291109862,
          -0.2879343642592824,
          1.8906107785898578,
          0.7400795074044674,
          -1.3617204379633567,
          0.7788471931365946,
          0.6913717081312138
         ],
         "yaxis": "y8"
        },
        {
         "line": {
          "color": "rgba(128, 128, 128, 1.0)",
          "dash": "solid",
          "shape": "linear",
          "width": 1.3
         },
         "marker": {
          "size": 2,
          "symbol": "circle"
         },
         "mode": "markers",
         "name": "C",
         "text": "",
         "type": "scatter",
         "x": [
          0.20809043819086845,
          -0.019341506915506363,
          0.6710928486171988,
          -0.32374262692684636,
          -0.08933950365355328,
          -2.4870153305002876,
          -0.0828445187959473,
          0.5765196640599008,
          -1.45974335926409,
          -0.7039420056988792,
          0.07374623781588262,
          1.3890599308664364,
          -0.4065140417790279,
          -1.5534252482243656,
          -0.5223086210478873,
          1.0283472012969124,
          -0.7782606201795501,
          -1.1134140955232776,
          1.545117883927185,
          0.6536675243606903,
          -0.4635661135202583,
          -1.3776886078026092,
          0.5157479741118118,
          0.48495411771132285,
          -1.498163791196165,
          0.186173316287323,
          -0.6084259450245122,
          0.1385458239150797,
          -0.34327731015590035,
          1.3057395117869839,
          -0.8507861830526204,
          0.07068108652281078,
          0.5609468060125844,
          0.8436003826923163,
          -0.5544739466474897,
          0.304567437465066,
          0.07380956245430079,
          0.6770820944557193,
          0.9958583944756741,
          -0.8843872234471372,
          -0.5686911224280439,
          -0.4833310001350282,
          1.0444287952056812,
          -1.0247446450677433,
          -0.04442966989560093,
          -0.8533122995490622,
          0.6530986336452997,
          -0.7022015322286137,
          1.2062876705027765,
          -2.0339563452164966,
          0.48742624290522124,
          0.6589028909488218,
          -2.3421002379617333,
          -0.7722454389655053,
          0.02882023909271555,
          -1.534494316301149,
          0.38125317141931553,
          0.9658911532176244,
          -0.36784839411375353,
          0.7996346562293096,
          -1.6665252924104532,
          -0.4099124667256445,
          -0.6272330819731242,
          0.22436834840107997,
          -0.587796897611996,
          -0.21185255449597312,
          -0.012570892599201121,
          -0.54279177228348,
          -2.6560874773893772,
          0.3149100180434697,
          2.010648660253624,
          0.5551898627890857,
          -1.4963775556776142,
          -0.5877273554807264,
          0.07257979710473213,
          0.15338192801483436,
          -0.5596087652557075,
          0.9007287289028704,
          0.7994878115707456,
          -0.8204821180718412,
          0.28035281575665505,
          0.23986792951813127,
          -0.19554464475260425,
          1.490723752902071,
          -0.20027691553987273,
          -0.5566182124634896,
          -0.2586965268169799,
          0.8988418941151963,
          -0.12990886192371434,
          0.02546613837971286,
          -1.0416098497036679,
          -1.5819094674443275,
          -0.13181985295975357,
          1.2325838746792015,
          -1.1327957870240355,
          0.34605049462143017,
          1.706190747987443,
          2.1433316293580784,
          0.3271201022174498,
          -0.7168867904851405
         ],
         "xaxis": "x9",
         "y": [
          2.0051121159920675,
          -0.4493610805844231,
          -0.9084872076489361,
          -0.7721615517711781,
          0.6541627047739164,
          -0.3851615542298961,
          1.2241910700460494,
          -0.3594480352627832,
          0.5303515075821974,
          0.37821553681042497,
          1.5265608993568685,
          1.477366766187703,
          -0.8903976196943997,
          0.6275104381096709,
          -1.1658828346957355,
          0.5252728640062069,
          0.4116834027002824,
          2.704189848816628,
          -0.2226961420885588,
          1.0244875423195368,
          0.26495132075919875,
          -0.3335106453849119,
          -0.25051775523022307,
          -0.9421555886984696,
          -0.05185181898581905,
          0.9892425401502507,
          0.3019324275203719,
          0.05095758835038916,
          -1.4812719426708845,
          0.5548066618401524,
          0.03745238658246062,
          0.5074409459965565,
          -0.8466179648047617,
          -0.6704963196017796,
          -0.6190901486920855,
          0.17827190177240412,
          0.3664174458696268,
          2.350125669806303,
          0.043404170851318376,
          -1.3790506256730932,
          0.2737799407998692,
          0.2933588088351275,
          2.193998753638677,
          -0.9831277301264092,
          -0.6521040024729443,
          0.08051574029896495,
          -1.0062263833912914,
          1.6888321692647374,
          0.15860478630185132,
          -0.7264348973890741,
          0.5551346042795282,
          -1.3221054329247246,
          -1.2046506987274948,
          1.1490223551767262,
          -1.2035286945972503,
          1.1709154926969032,
          0.9661298764717131,
          -0.8044782297264162,
          -0.19666254507560318,
          0.21441701157769927,
          1.5613441239512482,
          0.6650992702780203,
          0.0815292219555825,
          0.05595055934265063,
          0.05073992580946308,
          -0.8345594810331837,
          0.6646967497706436,
          -0.6068052519359592,
          -0.09796794490886163,
          0.9956501209565106,
          0.032888702181209435,
          0.7282824374462252,
          -0.4421471221405374,
          -0.4996683018436185,
          -0.4598733633397587,
          -0.24246389263135104,
          -1.7254409975924612,
          -0.8704721991050504,
          -1.8617602897345804,
          -0.15657662661197377,
          -1.2433527551093784,
          0.8198948294225307,
          -0.15002325359623633,
          1.1776949232261975,
          -0.18486742703008133,
          -0.6473069114798748,
          -0.2878369954827269,
          -1.8137301176313945,
          0.7335294261397506,
          -1.5121779899245575,
          1.2057098440957132,
          -0.019324584000454413,
          0.6889436920135882,
          -0.5661336612740878,
          -0.5653254134268597,
          0.20453618725784742,
          0.40107083955132516,
          1.1740676398540935,
          -0.5776343666715368,
          2.5216844274068357
         ],
         "yaxis": "y9"
        },
        {
         "line": {
          "color": "rgba(128, 128, 128, 1.0)",
          "dash": "solid",
          "shape": "linear",
          "width": 1.3
         },
         "marker": {
          "size": 2,
          "symbol": "circle"
         },
         "mode": "markers",
         "name": "C",
         "text": "",
         "type": "scatter",
         "x": [
          0.15135829454715108,
          0.9795160147718429,
          1.4214734609290678,
          -0.07097325758683996,
          -0.9210663836667375,
          0.20378024537982453,
          -0.6100369380441374,
          -1.3466306621394803,
          -1.81632980066363,
          -0.15798779724206727,
          -1.018606443577509,
          -0.54437943019444,
          -0.48276994747208113,
          0.57798424272942,
          -0.970914049767164,
          -0.4352116885815418,
          0.8241358618851978,
          1.2918990512894106,
          -0.11878729385443036,
          -0.24842332641139903,
          0.4465616973650019,
          0.7155306943090513,
          1.9646290002462576,
          0.7485402486486966,
          2.301917351467514,
          -0.4584041069143579,
          -1.9769012314332277,
          -1.201105007029545,
          1.669260528563722,
          0.22156748859860562,
          -0.43902290576062286,
          -0.9269491629983333,
          -1.442120004125873,
          -1.1669983984588779,
          -0.2801873720734649,
          2.5275136591199066,
          -0.020117546102519243,
          -1.5074242850340052,
          -1.3581481255377978,
          1.0682872361234326,
          -0.4253891039927625,
          -0.9795015883734285,
          0.7178957327501252,
          -1.1761437747950894,
          -1.6540195151829544,
          1.6095607825891305,
          -0.8873683216168122,
          -1.6423713126718416,
          -0.17082902921556906,
          1.4433275020088596,
          -0.23514827551444784,
          -0.18210764579747643,
          -0.47380473108659904,
          -0.30564100505727737,
          0.39475719400621767,
          0.927733729671384,
          1.2414238982703922,
          0.0029357777775479636,
          0.869531108145011,
          -0.3108725300689207,
          0.31612727830321374,
          0.7637627871271956,
          -1.7022198823396548,
          0.9700454378831772,
          -2.2371234275566225,
          1.131637517157968,
          -0.393532240954233,
          -0.08165933539689739,
          0.36858334803231196,
          -1.6126676133120872,
          -0.5352745521823805,
          0.6346815353686975,
          1.238888755284414,
          -1.0276900358987127,
          -0.3355367973642946,
          0.37140192615612216,
          -0.8515083889392284,
          -2.9690855877133386,
          0.6140107859520972,
          0.43209277527755674,
          -1.0987784624213168,
          0.20215234928410972,
          -0.46102411065062787,
          1.4859285963890307,
          1.3911792195871207,
          -1.3670903285961076,
          0.22450940710990647,
          0.4101279410076213,
          1.977960208478093,
          0.43079393165742125,
          -2.9129924250906174,
          -0.7310092701771267,
          0.18258620922954666,
          2.392127291109862,
          -0.2879343642592824,
          1.8906107785898578,
          0.7400795074044674,
          -1.3617204379633567,
          0.7788471931365946,
          0.6913717081312138
         ],
         "xaxis": "x10",
         "y": [
          2.0051121159920675,
          -0.4493610805844231,
          -0.9084872076489361,
          -0.7721615517711781,
          0.6541627047739164,
          -0.3851615542298961,
          1.2241910700460494,
          -0.3594480352627832,
          0.5303515075821974,
          0.37821553681042497,
          1.5265608993568685,
          1.477366766187703,
          -0.8903976196943997,
          0.6275104381096709,
          -1.1658828346957355,
          0.5252728640062069,
          0.4116834027002824,
          2.704189848816628,
          -0.2226961420885588,
          1.0244875423195368,
          0.26495132075919875,
          -0.3335106453849119,
          -0.25051775523022307,
          -0.9421555886984696,
          -0.05185181898581905,
          0.9892425401502507,
          0.3019324275203719,
          0.05095758835038916,
          -1.4812719426708845,
          0.5548066618401524,
          0.03745238658246062,
          0.5074409459965565,
          -0.8466179648047617,
          -0.6704963196017796,
          -0.6190901486920855,
          0.17827190177240412,
          0.3664174458696268,
          2.350125669806303,
          0.043404170851318376,
          -1.3790506256730932,
          0.2737799407998692,
          0.2933588088351275,
          2.193998753638677,
          -0.9831277301264092,
          -0.6521040024729443,
          0.08051574029896495,
          -1.0062263833912914,
          1.6888321692647374,
          0.15860478630185132,
          -0.7264348973890741,
          0.5551346042795282,
          -1.3221054329247246,
          -1.2046506987274948,
          1.1490223551767262,
          -1.2035286945972503,
          1.1709154926969032,
          0.9661298764717131,
          -0.8044782297264162,
          -0.19666254507560318,
          0.21441701157769927,
          1.5613441239512482,
          0.6650992702780203,
          0.0815292219555825,
          0.05595055934265063,
          0.05073992580946308,
          -0.8345594810331837,
          0.6646967497706436,
          -0.6068052519359592,
          -0.09796794490886163,
          0.9956501209565106,
          0.032888702181209435,
          0.7282824374462252,
          -0.4421471221405374,
          -0.4996683018436185,
          -0.4598733633397587,
          -0.24246389263135104,
          -1.7254409975924612,
          -0.8704721991050504,
          -1.8617602897345804,
          -0.15657662661197377,
          -1.2433527551093784,
          0.8198948294225307,
          -0.15002325359623633,
          1.1776949232261975,
          -0.18486742703008133,
          -0.6473069114798748,
          -0.2878369954827269,
          -1.8137301176313945,
          0.7335294261397506,
          -1.5121779899245575,
          1.2057098440957132,
          -0.019324584000454413,
          0.6889436920135882,
          -0.5661336612740878,
          -0.5653254134268597,
          0.20453618725784742,
          0.40107083955132516,
          1.1740676398540935,
          -0.5776343666715368,
          2.5216844274068357
         ],
         "yaxis": "y10"
        },
        {
         "histfunc": "count",
         "histnorm": "",
         "marker": {
          "color": "rgba(50, 171, 96, 1.0)",
          "line": {
           "color": "#4D5663",
           "width": 1.3
          }
         },
         "name": "C",
         "nbinsx": 10,
         "opacity": 0.8,
         "orientation": "v",
         "type": "histogram",
         "x": [
          2.0051121159920675,
          -0.4493610805844231,
          -0.9084872076489361,
          -0.7721615517711781,
          0.6541627047739164,
          -0.3851615542298961,
          1.2241910700460494,
          -0.3594480352627832,
          0.5303515075821974,
          0.37821553681042497,
          1.5265608993568685,
          1.477366766187703,
          -0.8903976196943997,
          0.6275104381096709,
          -1.1658828346957355,
          0.5252728640062069,
          0.4116834027002824,
          2.704189848816628,
          -0.2226961420885588,
          1.0244875423195368,
          0.26495132075919875,
          -0.3335106453849119,
          -0.25051775523022307,
          -0.9421555886984696,
          -0.05185181898581905,
          0.9892425401502507,
          0.3019324275203719,
          0.05095758835038916,
          -1.4812719426708845,
          0.5548066618401524,
          0.03745238658246062,
          0.5074409459965565,
          -0.8466179648047617,
          -0.6704963196017796,
          -0.6190901486920855,
          0.17827190177240412,
          0.3664174458696268,
          2.350125669806303,
          0.043404170851318376,
          -1.3790506256730932,
          0.2737799407998692,
          0.2933588088351275,
          2.193998753638677,
          -0.9831277301264092,
          -0.6521040024729443,
          0.08051574029896495,
          -1.0062263833912914,
          1.6888321692647374,
          0.15860478630185132,
          -0.7264348973890741,
          0.5551346042795282,
          -1.3221054329247246,
          -1.2046506987274948,
          1.1490223551767262,
          -1.2035286945972503,
          1.1709154926969032,
          0.9661298764717131,
          -0.8044782297264162,
          -0.19666254507560318,
          0.21441701157769927,
          1.5613441239512482,
          0.6650992702780203,
          0.0815292219555825,
          0.05595055934265063,
          0.05073992580946308,
          -0.8345594810331837,
          0.6646967497706436,
          -0.6068052519359592,
          -0.09796794490886163,
          0.9956501209565106,
          0.032888702181209435,
          0.7282824374462252,
          -0.4421471221405374,
          -0.4996683018436185,
          -0.4598733633397587,
          -0.24246389263135104,
          -1.7254409975924612,
          -0.8704721991050504,
          -1.8617602897345804,
          -0.15657662661197377,
          -1.2433527551093784,
          0.8198948294225307,
          -0.15002325359623633,
          1.1776949232261975,
          -0.18486742703008133,
          -0.6473069114798748,
          -0.2878369954827269,
          -1.8137301176313945,
          0.7335294261397506,
          -1.5121779899245575,
          1.2057098440957132,
          -0.019324584000454413,
          0.6889436920135882,
          -0.5661336612740878,
          -0.5653254134268597,
          0.20453618725784742,
          0.40107083955132516,
          1.1740676398540935,
          -0.5776343666715368,
          2.5216844274068357
         ],
         "xaxis": "x11",
         "yaxis": "y11"
        },
        {
         "line": {
          "color": "rgba(128, 128, 128, 1.0)",
          "dash": "solid",
          "shape": "linear",
          "width": 1.3
         },
         "marker": {
          "size": 2,
          "symbol": "circle"
         },
         "mode": "markers",
         "name": "C",
         "text": "",
         "type": "scatter",
         "x": [
          -1.4565733558087668,
          0.5262369172878351,
          0.48945774743941195,
          -0.21293033404058415,
          -0.16324889199076464,
          0.630598484174999,
          0.692077637937127,
          -0.3331147371984391,
          0.1929030040351164,
          -0.3218766183486016,
          -1.6425369944411325,
          -0.7678250927492929,
          1.2659835307747669,
          0.8184210393122054,
          -0.024633339865551607,
          -1.249002879317465,
          0.9295234623087013,
          0.8493978136587808,
          -0.46047237624499265,
          -0.5778972033554954,
          0.4189611998456919,
          -0.5505020499045066,
          0.8781183000200152,
          -0.7305458201604784,
          0.4260424892761426,
          -1.1154404173816563,
          1.7386153510183529,
          1.8996270301248646,
          -0.022043989066206783,
          -2.08107613924143,
          0.10383859554091508,
          1.300271012272863,
          -0.44790591147914155,
          0.32454891365895494,
          0.723557539054515,
          -0.4526175565216972,
          1.5793439257679158,
          -1.2460820007359723,
          1.115935175496016,
          -0.07877482710809654,
          -1.730466220665265,
          1.846744729189646,
          -0.19870976067514978,
          -0.12123592053565618,
          1.3852277591750157,
          -0.2656543567586974,
          -0.07555173388232261,
          0.07777723955138618,
          0.907301321878093,
          -0.4107678910895667,
          1.0969607063495408,
          2.312284690894676,
          0.35708899337781286,
          -0.14919636371702155,
          0.10587794777827615,
          0.19445728205069596,
          -0.05300858756121772,
          0.8949819385269817,
          2.218827117112159,
          0.7060532591602858,
          -0.131418896375061,
          0.491284065175089,
          -0.9893054759795129,
          -0.08954705247396552,
          0.27609733254111335,
          1.702681047136967,
          0.22434733425503514,
          0.6696692982817731,
          2.314142962463807,
          1.0622561275932678,
          -0.4295730165307976,
          1.268635692597944,
          -0.5617857296247518,
          -0.04831566984239649,
          0.6961244218118591,
          0.04787514173602842,
          -2.4211481405527833,
          0.3895740200646518,
          -1.3291272982016469,
          0.11889810264841535,
          -0.08730316360939917,
          0.21079474055037464,
          0.5034361648353576,
          -0.868718445356883,
          -0.0994953565207857,
          0.15250135972298487,
          1.9040880921245162,
          0.0779133281913371,
          -1.245117905007259,
          -0.09485339001235499,
          0.8882549753384171,
          -0.26831172103457623,
          -0.9086119757298903,
          0.33148975957829013,
          -0.15318039179708207,
          0.11562239596100848,
          0.7578807194141244,
          -0.5585578756818593,
          -1.2714220005791093,
          -1.3660870756577828
         ],
         "xaxis": "x12",
         "y": [
          2.0051121159920675,
          -0.4493610805844231,
          -0.9084872076489361,
          -0.7721615517711781,
          0.6541627047739164,
          -0.3851615542298961,
          1.2241910700460494,
          -0.3594480352627832,
          0.5303515075821974,
          0.37821553681042497,
          1.5265608993568685,
          1.477366766187703,
          -0.8903976196943997,
          0.6275104381096709,
          -1.1658828346957355,
          0.5252728640062069,
          0.4116834027002824,
          2.704189848816628,
          -0.2226961420885588,
          1.0244875423195368,
          0.26495132075919875,
          -0.3335106453849119,
          -0.25051775523022307,
          -0.9421555886984696,
          -0.05185181898581905,
          0.9892425401502507,
          0.3019324275203719,
          0.05095758835038916,
          -1.4812719426708845,
          0.5548066618401524,
          0.03745238658246062,
          0.5074409459965565,
          -0.8466179648047617,
          -0.6704963196017796,
          -0.6190901486920855,
          0.17827190177240412,
          0.3664174458696268,
          2.350125669806303,
          0.043404170851318376,
          -1.3790506256730932,
          0.2737799407998692,
          0.2933588088351275,
          2.193998753638677,
          -0.9831277301264092,
          -0.6521040024729443,
          0.08051574029896495,
          -1.0062263833912914,
          1.6888321692647374,
          0.15860478630185132,
          -0.7264348973890741,
          0.5551346042795282,
          -1.3221054329247246,
          -1.2046506987274948,
          1.1490223551767262,
          -1.2035286945972503,
          1.1709154926969032,
          0.9661298764717131,
          -0.8044782297264162,
          -0.19666254507560318,
          0.21441701157769927,
          1.5613441239512482,
          0.6650992702780203,
          0.0815292219555825,
          0.05595055934265063,
          0.05073992580946308,
          -0.8345594810331837,
          0.6646967497706436,
          -0.6068052519359592,
          -0.09796794490886163,
          0.9956501209565106,
          0.032888702181209435,
          0.7282824374462252,
          -0.4421471221405374,
          -0.4996683018436185,
          -0.4598733633397587,
          -0.24246389263135104,
          -1.7254409975924612,
          -0.8704721991050504,
          -1.8617602897345804,
          -0.15657662661197377,
          -1.2433527551093784,
          0.8198948294225307,
          -0.15002325359623633,
          1.1776949232261975,
          -0.18486742703008133,
          -0.6473069114798748,
          -0.2878369954827269,
          -1.8137301176313945,
          0.7335294261397506,
          -1.5121779899245575,
          1.2057098440957132,
          -0.019324584000454413,
          0.6889436920135882,
          -0.5661336612740878,
          -0.5653254134268597,
          0.20453618725784742,
          0.40107083955132516,
          1.1740676398540935,
          -0.5776343666715368,
          2.5216844274068357
         ],
         "yaxis": "y12"
        },
        {
         "line": {
          "color": "rgba(128, 128, 128, 1.0)",
          "dash": "solid",
          "shape": "linear",
          "width": 1.3
         },
         "marker": {
          "size": 2,
          "symbol": "circle"
         },
         "mode": "markers",
         "name": "D",
         "text": "",
         "type": "scatter",
         "x": [
          0.20809043819086845,
          -0.019341506915506363,
          0.6710928486171988,
          -0.32374262692684636,
          -0.08933950365355328,
          -2.4870153305002876,
          -0.0828445187959473,
          0.5765196640599008,
          -1.45974335926409,
          -0.7039420056988792,
          0.07374623781588262,
          1.3890599308664364,
          -0.4065140417790279,
          -1.5534252482243656,
          -0.5223086210478873,
          1.0283472012969124,
          -0.7782606201795501,
          -1.1134140955232776,
          1.545117883927185,
          0.6536675243606903,
          -0.4635661135202583,
          -1.3776886078026092,
          0.5157479741118118,
          0.48495411771132285,
          -1.498163791196165,
          0.186173316287323,
          -0.6084259450245122,
          0.1385458239150797,
          -0.34327731015590035,
          1.3057395117869839,
          -0.8507861830526204,
          0.07068108652281078,
          0.5609468060125844,
          0.8436003826923163,
          -0.5544739466474897,
          0.304567437465066,
          0.07380956245430079,
          0.6770820944557193,
          0.9958583944756741,
          -0.8843872234471372,
          -0.5686911224280439,
          -0.4833310001350282,
          1.0444287952056812,
          -1.0247446450677433,
          -0.04442966989560093,
          -0.8533122995490622,
          0.6530986336452997,
          -0.7022015322286137,
          1.2062876705027765,
          -2.0339563452164966,
          0.48742624290522124,
          0.6589028909488218,
          -2.3421002379617333,
          -0.7722454389655053,
          0.02882023909271555,
          -1.534494316301149,
          0.38125317141931553,
          0.9658911532176244,
          -0.36784839411375353,
          0.7996346562293096,
          -1.6665252924104532,
          -0.4099124667256445,
          -0.6272330819731242,
          0.22436834840107997,
          -0.587796897611996,
          -0.21185255449597312,
          -0.012570892599201121,
          -0.54279177228348,
          -2.6560874773893772,
          0.3149100180434697,
          2.010648660253624,
          0.5551898627890857,
          -1.4963775556776142,
          -0.5877273554807264,
          0.07257979710473213,
          0.15338192801483436,
          -0.5596087652557075,
          0.9007287289028704,
          0.7994878115707456,
          -0.8204821180718412,
          0.28035281575665505,
          0.23986792951813127,
          -0.19554464475260425,
          1.490723752902071,
          -0.20027691553987273,
          -0.5566182124634896,
          -0.2586965268169799,
          0.8988418941151963,
          -0.12990886192371434,
          0.02546613837971286,
          -1.0416098497036679,
          -1.5819094674443275,
          -0.13181985295975357,
          1.2325838746792015,
          -1.1327957870240355,
          0.34605049462143017,
          1.706190747987443,
          2.1433316293580784,
          0.3271201022174498,
          -0.7168867904851405
         ],
         "xaxis": "x13",
         "y": [
          -1.4565733558087668,
          0.5262369172878351,
          0.48945774743941195,
          -0.21293033404058415,
          -0.16324889199076464,
          0.630598484174999,
          0.692077637937127,
          -0.3331147371984391,
          0.1929030040351164,
          -0.3218766183486016,
          -1.6425369944411325,
          -0.7678250927492929,
          1.2659835307747669,
          0.8184210393122054,
          -0.024633339865551607,
          -1.249002879317465,
          0.9295234623087013,
          0.8493978136587808,
          -0.46047237624499265,
          -0.5778972033554954,
          0.4189611998456919,
          -0.5505020499045066,
          0.8781183000200152,
          -0.7305458201604784,
          0.4260424892761426,
          -1.1154404173816563,
          1.7386153510183529,
          1.8996270301248646,
          -0.022043989066206783,
          -2.08107613924143,
          0.10383859554091508,
          1.300271012272863,
          -0.44790591147914155,
          0.32454891365895494,
          0.723557539054515,
          -0.4526175565216972,
          1.5793439257679158,
          -1.2460820007359723,
          1.115935175496016,
          -0.07877482710809654,
          -1.730466220665265,
          1.846744729189646,
          -0.19870976067514978,
          -0.12123592053565618,
          1.3852277591750157,
          -0.2656543567586974,
          -0.07555173388232261,
          0.07777723955138618,
          0.907301321878093,
          -0.4107678910895667,
          1.0969607063495408,
          2.312284690894676,
          0.35708899337781286,
          -0.14919636371702155,
          0.10587794777827615,
          0.19445728205069596,
          -0.05300858756121772,
          0.8949819385269817,
          2.218827117112159,
          0.7060532591602858,
          -0.131418896375061,
          0.491284065175089,
          -0.9893054759795129,
          -0.08954705247396552,
          0.27609733254111335,
          1.702681047136967,
          0.22434733425503514,
          0.6696692982817731,
          2.314142962463807,
          1.0622561275932678,
          -0.4295730165307976,
          1.268635692597944,
          -0.5617857296247518,
          -0.04831566984239649,
          0.6961244218118591,
          0.04787514173602842,
          -2.4211481405527833,
          0.3895740200646518,
          -1.3291272982016469,
          0.11889810264841535,
          -0.08730316360939917,
          0.21079474055037464,
          0.5034361648353576,
          -0.868718445356883,
          -0.0994953565207857,
          0.15250135972298487,
          1.9040880921245162,
          0.0779133281913371,
          -1.245117905007259,
          -0.09485339001235499,
          0.8882549753384171,
          -0.26831172103457623,
          -0.9086119757298903,
          0.33148975957829013,
          -0.15318039179708207,
          0.11562239596100848,
          0.7578807194141244,
          -0.5585578756818593,
          -1.2714220005791093,
          -1.3660870756577828
         ],
         "yaxis": "y13"
        },
        {
         "line": {
          "color": "rgba(128, 128, 128, 1.0)",
          "dash": "solid",
          "shape": "linear",
          "width": 1.3
         },
         "marker": {
          "size": 2,
          "symbol": "circle"
         },
         "mode": "markers",
         "name": "D",
         "text": "",
         "type": "scatter",
         "x": [
          0.15135829454715108,
          0.9795160147718429,
          1.4214734609290678,
          -0.07097325758683996,
          -0.9210663836667375,
          0.20378024537982453,
          -0.6100369380441374,
          -1.3466306621394803,
          -1.81632980066363,
          -0.15798779724206727,
          -1.018606443577509,
          -0.54437943019444,
          -0.48276994747208113,
          0.57798424272942,
          -0.970914049767164,
          -0.4352116885815418,
          0.8241358618851978,
          1.2918990512894106,
          -0.11878729385443036,
          -0.24842332641139903,
          0.4465616973650019,
          0.7155306943090513,
          1.9646290002462576,
          0.7485402486486966,
          2.301917351467514,
          -0.4584041069143579,
          -1.9769012314332277,
          -1.201105007029545,
          1.669260528563722,
          0.22156748859860562,
          -0.43902290576062286,
          -0.9269491629983333,
          -1.442120004125873,
          -1.1669983984588779,
          -0.2801873720734649,
          2.5275136591199066,
          -0.020117546102519243,
          -1.5074242850340052,
          -1.3581481255377978,
          1.0682872361234326,
          -0.4253891039927625,
          -0.9795015883734285,
          0.7178957327501252,
          -1.1761437747950894,
          -1.6540195151829544,
          1.6095607825891305,
          -0.8873683216168122,
          -1.6423713126718416,
          -0.17082902921556906,
          1.4433275020088596,
          -0.23514827551444784,
          -0.18210764579747643,
          -0.47380473108659904,
          -0.30564100505727737,
          0.39475719400621767,
          0.927733729671384,
          1.2414238982703922,
          0.0029357777775479636,
          0.869531108145011,
          -0.3108725300689207,
          0.31612727830321374,
          0.7637627871271956,
          -1.7022198823396548,
          0.9700454378831772,
          -2.2371234275566225,
          1.131637517157968,
          -0.393532240954233,
          -0.08165933539689739,
          0.36858334803231196,
          -1.6126676133120872,
          -0.5352745521823805,
          0.6346815353686975,
          1.238888755284414,
          -1.0276900358987127,
          -0.3355367973642946,
          0.37140192615612216,
          -0.8515083889392284,
          -2.9690855877133386,
          0.6140107859520972,
          0.43209277527755674,
          -1.0987784624213168,
          0.20215234928410972,
          -0.46102411065062787,
          1.4859285963890307,
          1.3911792195871207,
          -1.3670903285961076,
          0.22450940710990647,
          0.4101279410076213,
          1.977960208478093,
          0.43079393165742125,
          -2.9129924250906174,
          -0.7310092701771267,
          0.18258620922954666,
          2.392127291109862,
          -0.2879343642592824,
          1.8906107785898578,
          0.7400795074044674,
          -1.3617204379633567,
          0.7788471931365946,
          0.6913717081312138
         ],
         "xaxis": "x14",
         "y": [
          -1.4565733558087668,
          0.5262369172878351,
          0.48945774743941195,
          -0.21293033404058415,
          -0.16324889199076464,
          0.630598484174999,
          0.692077637937127,
          -0.3331147371984391,
          0.1929030040351164,
          -0.3218766183486016,
          -1.6425369944411325,
          -0.7678250927492929,
          1.2659835307747669,
          0.8184210393122054,
          -0.024633339865551607,
          -1.249002879317465,
          0.9295234623087013,
          0.8493978136587808,
          -0.46047237624499265,
          -0.5778972033554954,
          0.4189611998456919,
          -0.5505020499045066,
          0.8781183000200152,
          -0.7305458201604784,
          0.4260424892761426,
          -1.1154404173816563,
          1.7386153510183529,
          1.8996270301248646,
          -0.022043989066206783,
          -2.08107613924143,
          0.10383859554091508,
          1.300271012272863,
          -0.44790591147914155,
          0.32454891365895494,
          0.723557539054515,
          -0.4526175565216972,
          1.5793439257679158,
          -1.2460820007359723,
          1.115935175496016,
          -0.07877482710809654,
          -1.730466220665265,
          1.846744729189646,
          -0.19870976067514978,
          -0.12123592053565618,
          1.3852277591750157,
          -0.2656543567586974,
          -0.07555173388232261,
          0.07777723955138618,
          0.907301321878093,
          -0.4107678910895667,
          1.0969607063495408,
          2.312284690894676,
          0.35708899337781286,
          -0.14919636371702155,
          0.10587794777827615,
          0.19445728205069596,
          -0.05300858756121772,
          0.8949819385269817,
          2.218827117112159,
          0.7060532591602858,
          -0.131418896375061,
          0.491284065175089,
          -0.9893054759795129,
          -0.08954705247396552,
          0.27609733254111335,
          1.702681047136967,
          0.22434733425503514,
          0.6696692982817731,
          2.314142962463807,
          1.0622561275932678,
          -0.4295730165307976,
          1.268635692597944,
          -0.5617857296247518,
          -0.04831566984239649,
          0.6961244218118591,
          0.04787514173602842,
          -2.4211481405527833,
          0.3895740200646518,
          -1.3291272982016469,
          0.11889810264841535,
          -0.08730316360939917,
          0.21079474055037464,
          0.5034361648353576,
          -0.868718445356883,
          -0.0994953565207857,
          0.15250135972298487,
          1.9040880921245162,
          0.0779133281913371,
          -1.245117905007259,
          -0.09485339001235499,
          0.8882549753384171,
          -0.26831172103457623,
          -0.9086119757298903,
          0.33148975957829013,
          -0.15318039179708207,
          0.11562239596100848,
          0.7578807194141244,
          -0.5585578756818593,
          -1.2714220005791093,
          -1.3660870756577828
         ],
         "yaxis": "y14"
        },
        {
         "line": {
          "color": "rgba(128, 128, 128, 1.0)",
          "dash": "solid",
          "shape": "linear",
          "width": 1.3
         },
         "marker": {
          "size": 2,
          "symbol": "circle"
         },
         "mode": "markers",
         "name": "D",
         "text": "",
         "type": "scatter",
         "x": [
          2.0051121159920675,
          -0.4493610805844231,
          -0.9084872076489361,
          -0.7721615517711781,
          0.6541627047739164,
          -0.3851615542298961,
          1.2241910700460494,
          -0.3594480352627832,
          0.5303515075821974,
          0.37821553681042497,
          1.5265608993568685,
          1.477366766187703,
          -0.8903976196943997,
          0.6275104381096709,
          -1.1658828346957355,
          0.5252728640062069,
          0.4116834027002824,
          2.704189848816628,
          -0.2226961420885588,
          1.0244875423195368,
          0.26495132075919875,
          -0.3335106453849119,
          -0.25051775523022307,
          -0.9421555886984696,
          -0.05185181898581905,
          0.9892425401502507,
          0.3019324275203719,
          0.05095758835038916,
          -1.4812719426708845,
          0.5548066618401524,
          0.03745238658246062,
          0.5074409459965565,
          -0.8466179648047617,
          -0.6704963196017796,
          -0.6190901486920855,
          0.17827190177240412,
          0.3664174458696268,
          2.350125669806303,
          0.043404170851318376,
          -1.3790506256730932,
          0.2737799407998692,
          0.2933588088351275,
          2.193998753638677,
          -0.9831277301264092,
          -0.6521040024729443,
          0.08051574029896495,
          -1.0062263833912914,
          1.6888321692647374,
          0.15860478630185132,
          -0.7264348973890741,
          0.5551346042795282,
          -1.3221054329247246,
          -1.2046506987274948,
          1.1490223551767262,
          -1.2035286945972503,
          1.1709154926969032,
          0.9661298764717131,
          -0.8044782297264162,
          -0.19666254507560318,
          0.21441701157769927,
          1.5613441239512482,
          0.6650992702780203,
          0.0815292219555825,
          0.05595055934265063,
          0.05073992580946308,
          -0.8345594810331837,
          0.6646967497706436,
          -0.6068052519359592,
          -0.09796794490886163,
          0.9956501209565106,
          0.032888702181209435,
          0.7282824374462252,
          -0.4421471221405374,
          -0.4996683018436185,
          -0.4598733633397587,
          -0.24246389263135104,
          -1.7254409975924612,
          -0.8704721991050504,
          -1.8617602897345804,
          -0.15657662661197377,
          -1.2433527551093784,
          0.8198948294225307,
          -0.15002325359623633,
          1.1776949232261975,
          -0.18486742703008133,
          -0.6473069114798748,
          -0.2878369954827269,
          -1.8137301176313945,
          0.7335294261397506,
          -1.5121779899245575,
          1.2057098440957132,
          -0.019324584000454413,
          0.6889436920135882,
          -0.5661336612740878,
          -0.5653254134268597,
          0.20453618725784742,
          0.40107083955132516,
          1.1740676398540935,
          -0.5776343666715368,
          2.5216844274068357
         ],
         "xaxis": "x15",
         "y": [
          -1.4565733558087668,
          0.5262369172878351,
          0.48945774743941195,
          -0.21293033404058415,
          -0.16324889199076464,
          0.630598484174999,
          0.692077637937127,
          -0.3331147371984391,
          0.1929030040351164,
          -0.3218766183486016,
          -1.6425369944411325,
          -0.7678250927492929,
          1.2659835307747669,
          0.8184210393122054,
          -0.024633339865551607,
          -1.249002879317465,
          0.9295234623087013,
          0.8493978136587808,
          -0.46047237624499265,
          -0.5778972033554954,
          0.4189611998456919,
          -0.5505020499045066,
          0.8781183000200152,
          -0.7305458201604784,
          0.4260424892761426,
          -1.1154404173816563,
          1.7386153510183529,
          1.8996270301248646,
          -0.022043989066206783,
          -2.08107613924143,
          0.10383859554091508,
          1.300271012272863,
          -0.44790591147914155,
          0.32454891365895494,
          0.723557539054515,
          -0.4526175565216972,
          1.5793439257679158,
          -1.2460820007359723,
          1.115935175496016,
          -0.07877482710809654,
          -1.730466220665265,
          1.846744729189646,
          -0.19870976067514978,
          -0.12123592053565618,
          1.3852277591750157,
          -0.2656543567586974,
          -0.07555173388232261,
          0.07777723955138618,
          0.907301321878093,
          -0.4107678910895667,
          1.0969607063495408,
          2.312284690894676,
          0.35708899337781286,
          -0.14919636371702155,
          0.10587794777827615,
          0.19445728205069596,
          -0.05300858756121772,
          0.8949819385269817,
          2.218827117112159,
          0.7060532591602858,
          -0.131418896375061,
          0.491284065175089,
          -0.9893054759795129,
          -0.08954705247396552,
          0.27609733254111335,
          1.702681047136967,
          0.22434733425503514,
          0.6696692982817731,
          2.314142962463807,
          1.0622561275932678,
          -0.4295730165307976,
          1.268635692597944,
          -0.5617857296247518,
          -0.04831566984239649,
          0.6961244218118591,
          0.04787514173602842,
          -2.4211481405527833,
          0.3895740200646518,
          -1.3291272982016469,
          0.11889810264841535,
          -0.08730316360939917,
          0.21079474055037464,
          0.5034361648353576,
          -0.868718445356883,
          -0.0994953565207857,
          0.15250135972298487,
          1.9040880921245162,
          0.0779133281913371,
          -1.245117905007259,
          -0.09485339001235499,
          0.8882549753384171,
          -0.26831172103457623,
          -0.9086119757298903,
          0.33148975957829013,
          -0.15318039179708207,
          0.11562239596100848,
          0.7578807194141244,
          -0.5585578756818593,
          -1.2714220005791093,
          -1.3660870756577828
         ],
         "yaxis": "y15"
        },
        {
         "histfunc": "count",
         "histnorm": "",
         "marker": {
          "color": "rgba(128, 0, 128, 1.0)",
          "line": {
           "color": "#4D5663",
           "width": 1.3
          }
         },
         "name": "D",
         "nbinsx": 10,
         "opacity": 0.8,
         "orientation": "v",
         "type": "histogram",
         "x": [
          -1.4565733558087668,
          0.5262369172878351,
          0.48945774743941195,
          -0.21293033404058415,
          -0.16324889199076464,
          0.630598484174999,
          0.692077637937127,
          -0.3331147371984391,
          0.1929030040351164,
          -0.3218766183486016,
          -1.6425369944411325,
          -0.7678250927492929,
          1.2659835307747669,
          0.8184210393122054,
          -0.024633339865551607,
          -1.249002879317465,
          0.9295234623087013,
          0.8493978136587808,
          -0.46047237624499265,
          -0.5778972033554954,
          0.4189611998456919,
          -0.5505020499045066,
          0.8781183000200152,
          -0.7305458201604784,
          0.4260424892761426,
          -1.1154404173816563,
          1.7386153510183529,
          1.8996270301248646,
          -0.022043989066206783,
          -2.08107613924143,
          0.10383859554091508,
          1.300271012272863,
          -0.44790591147914155,
          0.32454891365895494,
          0.723557539054515,
          -0.4526175565216972,
          1.5793439257679158,
          -1.2460820007359723,
          1.115935175496016,
          -0.07877482710809654,
          -1.730466220665265,
          1.846744729189646,
          -0.19870976067514978,
          -0.12123592053565618,
          1.3852277591750157,
          -0.2656543567586974,
          -0.07555173388232261,
          0.07777723955138618,
          0.907301321878093,
          -0.4107678910895667,
          1.0969607063495408,
          2.312284690894676,
          0.35708899337781286,
          -0.14919636371702155,
          0.10587794777827615,
          0.19445728205069596,
          -0.05300858756121772,
          0.8949819385269817,
          2.218827117112159,
          0.7060532591602858,
          -0.131418896375061,
          0.491284065175089,
          -0.9893054759795129,
          -0.08954705247396552,
          0.27609733254111335,
          1.702681047136967,
          0.22434733425503514,
          0.6696692982817731,
          2.314142962463807,
          1.0622561275932678,
          -0.4295730165307976,
          1.268635692597944,
          -0.5617857296247518,
          -0.04831566984239649,
          0.6961244218118591,
          0.04787514173602842,
          -2.4211481405527833,
          0.3895740200646518,
          -1.3291272982016469,
          0.11889810264841535,
          -0.08730316360939917,
          0.21079474055037464,
          0.5034361648353576,
          -0.868718445356883,
          -0.0994953565207857,
          0.15250135972298487,
          1.9040880921245162,
          0.0779133281913371,
          -1.245117905007259,
          -0.09485339001235499,
          0.8882549753384171,
          -0.26831172103457623,
          -0.9086119757298903,
          0.33148975957829013,
          -0.15318039179708207,
          0.11562239596100848,
          0.7578807194141244,
          -0.5585578756818593,
          -1.2714220005791093,
          -1.3660870756577828
         ],
         "xaxis": "x16",
         "yaxis": "y16"
        }
       ],
       "layout": {
        "bargap": 0.02,
        "legend": {
         "bgcolor": "#F5F6F9",
         "font": {
          "color": "#4D5663"
         }
        },
        "paper_bgcolor": "#F5F6F9",
        "plot_bgcolor": "#F5F6F9",
        "showlegend": false,
        "template": {
         "data": {
          "bar": [
           {
            "error_x": {
             "color": "#2a3f5f"
            },
            "error_y": {
             "color": "#2a3f5f"
            },
            "marker": {
             "line": {
              "color": "#E5ECF6",
              "width": 0.5
             }
            },
            "type": "bar"
           }
          ],
          "barpolar": [
           {
            "marker": {
             "line": {
              "color": "#E5ECF6",
              "width": 0.5
             }
            },
            "type": "barpolar"
           }
          ],
          "carpet": [
           {
            "aaxis": {
             "endlinecolor": "#2a3f5f",
             "gridcolor": "white",
             "linecolor": "white",
             "minorgridcolor": "white",
             "startlinecolor": "#2a3f5f"
            },
            "baxis": {
             "endlinecolor": "#2a3f5f",
             "gridcolor": "white",
             "linecolor": "white",
             "minorgridcolor": "white",
             "startlinecolor": "#2a3f5f"
            },
            "type": "carpet"
           }
          ],
          "choropleth": [
           {
            "colorbar": {
             "outlinewidth": 0,
             "ticks": ""
            },
            "type": "choropleth"
           }
          ],
          "contour": [
           {
            "colorbar": {
             "outlinewidth": 0,
             "ticks": ""
            },
            "colorscale": [
             [
              0,
              "#0d0887"
             ],
             [
              0.1111111111111111,
              "#46039f"
             ],
             [
              0.2222222222222222,
              "#7201a8"
             ],
             [
              0.3333333333333333,
              "#9c179e"
             ],
             [
              0.4444444444444444,
              "#bd3786"
             ],
             [
              0.5555555555555556,
              "#d8576b"
             ],
             [
              0.6666666666666666,
              "#ed7953"
             ],
             [
              0.7777777777777778,
              "#fb9f3a"
             ],
             [
              0.8888888888888888,
              "#fdca26"
             ],
             [
              1,
              "#f0f921"
             ]
            ],
            "type": "contour"
           }
          ],
          "contourcarpet": [
           {
            "colorbar": {
             "outlinewidth": 0,
             "ticks": ""
            },
            "type": "contourcarpet"
           }
          ],
          "heatmap": [
           {
            "colorbar": {
             "outlinewidth": 0,
             "ticks": ""
            },
            "colorscale": [
             [
              0,
              "#0d0887"
             ],
             [
              0.1111111111111111,
              "#46039f"
             ],
             [
              0.2222222222222222,
              "#7201a8"
             ],
             [
              0.3333333333333333,
              "#9c179e"
             ],
             [
              0.4444444444444444,
              "#bd3786"
             ],
             [
              0.5555555555555556,
              "#d8576b"
             ],
             [
              0.6666666666666666,
              "#ed7953"
             ],
             [
              0.7777777777777778,
              "#fb9f3a"
             ],
             [
              0.8888888888888888,
              "#fdca26"
             ],
             [
              1,
              "#f0f921"
             ]
            ],
            "type": "heatmap"
           }
          ],
          "heatmapgl": [
           {
            "colorbar": {
             "outlinewidth": 0,
             "ticks": ""
            },
            "colorscale": [
             [
              0,
              "#0d0887"
             ],
             [
              0.1111111111111111,
              "#46039f"
             ],
             [
              0.2222222222222222,
              "#7201a8"
             ],
             [
              0.3333333333333333,
              "#9c179e"
             ],
             [
              0.4444444444444444,
              "#bd3786"
             ],
             [
              0.5555555555555556,
              "#d8576b"
             ],
             [
              0.6666666666666666,
              "#ed7953"
             ],
             [
              0.7777777777777778,
              "#fb9f3a"
             ],
             [
              0.8888888888888888,
              "#fdca26"
             ],
             [
              1,
              "#f0f921"
             ]
            ],
            "type": "heatmapgl"
           }
          ],
          "histogram": [
           {
            "marker": {
             "colorbar": {
              "outlinewidth": 0,
              "ticks": ""
             }
            },
            "type": "histogram"
           }
          ],
          "histogram2d": [
           {
            "colorbar": {
             "outlinewidth": 0,
             "ticks": ""
            },
            "colorscale": [
             [
              0,
              "#0d0887"
             ],
             [
              0.1111111111111111,
              "#46039f"
             ],
             [
              0.2222222222222222,
              "#7201a8"
             ],
             [
              0.3333333333333333,
              "#9c179e"
             ],
             [
              0.4444444444444444,
              "#bd3786"
             ],
             [
              0.5555555555555556,
              "#d8576b"
             ],
             [
              0.6666666666666666,
              "#ed7953"
             ],
             [
              0.7777777777777778,
              "#fb9f3a"
             ],
             [
              0.8888888888888888,
              "#fdca26"
             ],
             [
              1,
              "#f0f921"
             ]
            ],
            "type": "histogram2d"
           }
          ],
          "histogram2dcontour": [
           {
            "colorbar": {
             "outlinewidth": 0,
             "ticks": ""
            },
            "colorscale": [
             [
              0,
              "#0d0887"
             ],
             [
              0.1111111111111111,
              "#46039f"
             ],
             [
              0.2222222222222222,
              "#7201a8"
             ],
             [
              0.3333333333333333,
              "#9c179e"
             ],
             [
              0.4444444444444444,
              "#bd3786"
             ],
             [
              0.5555555555555556,
              "#d8576b"
             ],
             [
              0.6666666666666666,
              "#ed7953"
             ],
             [
              0.7777777777777778,
              "#fb9f3a"
             ],
             [
              0.8888888888888888,
              "#fdca26"
             ],
             [
              1,
              "#f0f921"
             ]
            ],
            "type": "histogram2dcontour"
           }
          ],
          "mesh3d": [
           {
            "colorbar": {
             "outlinewidth": 0,
             "ticks": ""
            },
            "type": "mesh3d"
           }
          ],
          "parcoords": [
           {
            "line": {
             "colorbar": {
              "outlinewidth": 0,
              "ticks": ""
             }
            },
            "type": "parcoords"
           }
          ],
          "pie": [
           {
            "automargin": true,
            "type": "pie"
           }
          ],
          "scatter": [
           {
            "marker": {
             "colorbar": {
              "outlinewidth": 0,
              "ticks": ""
             }
            },
            "type": "scatter"
           }
          ],
          "scatter3d": [
           {
            "line": {
             "colorbar": {
              "outlinewidth": 0,
              "ticks": ""
             }
            },
            "marker": {
             "colorbar": {
              "outlinewidth": 0,
              "ticks": ""
             }
            },
            "type": "scatter3d"
           }
          ],
          "scattercarpet": [
           {
            "marker": {
             "colorbar": {
              "outlinewidth": 0,
              "ticks": ""
             }
            },
            "type": "scattercarpet"
           }
          ],
          "scattergeo": [
           {
            "marker": {
             "colorbar": {
              "outlinewidth": 0,
              "ticks": ""
             }
            },
            "type": "scattergeo"
           }
          ],
          "scattergl": [
           {
            "marker": {
             "colorbar": {
              "outlinewidth": 0,
              "ticks": ""
             }
            },
            "type": "scattergl"
           }
          ],
          "scattermapbox": [
           {
            "marker": {
             "colorbar": {
              "outlinewidth": 0,
              "ticks": ""
             }
            },
            "type": "scattermapbox"
           }
          ],
          "scatterpolar": [
           {
            "marker": {
             "colorbar": {
              "outlinewidth": 0,
              "ticks": ""
             }
            },
            "type": "scatterpolar"
           }
          ],
          "scatterpolargl": [
           {
            "marker": {
             "colorbar": {
              "outlinewidth": 0,
              "ticks": ""
             }
            },
            "type": "scatterpolargl"
           }
          ],
          "scatterternary": [
           {
            "marker": {
             "colorbar": {
              "outlinewidth": 0,
              "ticks": ""
             }
            },
            "type": "scatterternary"
           }
          ],
          "surface": [
           {
            "colorbar": {
             "outlinewidth": 0,
             "ticks": ""
            },
            "colorscale": [
             [
              0,
              "#0d0887"
             ],
             [
              0.1111111111111111,
              "#46039f"
             ],
             [
              0.2222222222222222,
              "#7201a8"
             ],
             [
              0.3333333333333333,
              "#9c179e"
             ],
             [
              0.4444444444444444,
              "#bd3786"
             ],
             [
              0.5555555555555556,
              "#d8576b"
             ],
             [
              0.6666666666666666,
              "#ed7953"
             ],
             [
              0.7777777777777778,
              "#fb9f3a"
             ],
             [
              0.8888888888888888,
              "#fdca26"
             ],
             [
              1,
              "#f0f921"
             ]
            ],
            "type": "surface"
           }
          ],
          "table": [
           {
            "cells": {
             "fill": {
              "color": "#EBF0F8"
             },
             "line": {
              "color": "white"
             }
            },
            "header": {
             "fill": {
              "color": "#C8D4E3"
             },
             "line": {
              "color": "white"
             }
            },
            "type": "table"
           }
          ]
         },
         "layout": {
          "annotationdefaults": {
           "arrowcolor": "#2a3f5f",
           "arrowhead": 0,
           "arrowwidth": 1
          },
          "coloraxis": {
           "colorbar": {
            "outlinewidth": 0,
            "ticks": ""
           }
          },
          "colorscale": {
           "diverging": [
            [
             0,
             "#8e0152"
            ],
            [
             0.1,
             "#c51b7d"
            ],
            [
             0.2,
             "#de77ae"
            ],
            [
             0.3,
             "#f1b6da"
            ],
            [
             0.4,
             "#fde0ef"
            ],
            [
             0.5,
             "#f7f7f7"
            ],
            [
             0.6,
             "#e6f5d0"
            ],
            [
             0.7,
             "#b8e186"
            ],
            [
             0.8,
             "#7fbc41"
            ],
            [
             0.9,
             "#4d9221"
            ],
            [
             1,
             "#276419"
            ]
           ],
           "sequential": [
            [
             0,
             "#0d0887"
            ],
            [
             0.1111111111111111,
             "#46039f"
            ],
            [
             0.2222222222222222,
             "#7201a8"
            ],
            [
             0.3333333333333333,
             "#9c179e"
            ],
            [
             0.4444444444444444,
             "#bd3786"
            ],
            [
             0.5555555555555556,
             "#d8576b"
            ],
            [
             0.6666666666666666,
             "#ed7953"
            ],
            [
             0.7777777777777778,
             "#fb9f3a"
            ],
            [
             0.8888888888888888,
             "#fdca26"
            ],
            [
             1,
             "#f0f921"
            ]
           ],
           "sequentialminus": [
            [
             0,
             "#0d0887"
            ],
            [
             0.1111111111111111,
             "#46039f"
            ],
            [
             0.2222222222222222,
             "#7201a8"
            ],
            [
             0.3333333333333333,
             "#9c179e"
            ],
            [
             0.4444444444444444,
             "#bd3786"
            ],
            [
             0.5555555555555556,
             "#d8576b"
            ],
            [
             0.6666666666666666,
             "#ed7953"
            ],
            [
             0.7777777777777778,
             "#fb9f3a"
            ],
            [
             0.8888888888888888,
             "#fdca26"
            ],
            [
             1,
             "#f0f921"
            ]
           ]
          },
          "colorway": [
           "#636efa",
           "#EF553B",
           "#00cc96",
           "#ab63fa",
           "#FFA15A",
           "#19d3f3",
           "#FF6692",
           "#B6E880",
           "#FF97FF",
           "#FECB52"
          ],
          "font": {
           "color": "#2a3f5f"
          },
          "geo": {
           "bgcolor": "white",
           "lakecolor": "white",
           "landcolor": "#E5ECF6",
           "showlakes": true,
           "showland": true,
           "subunitcolor": "white"
          },
          "hoverlabel": {
           "align": "left"
          },
          "hovermode": "closest",
          "mapbox": {
           "style": "light"
          },
          "paper_bgcolor": "white",
          "plot_bgcolor": "#E5ECF6",
          "polar": {
           "angularaxis": {
            "gridcolor": "white",
            "linecolor": "white",
            "ticks": ""
           },
           "bgcolor": "#E5ECF6",
           "radialaxis": {
            "gridcolor": "white",
            "linecolor": "white",
            "ticks": ""
           }
          },
          "scene": {
           "xaxis": {
            "backgroundcolor": "#E5ECF6",
            "gridcolor": "white",
            "gridwidth": 2,
            "linecolor": "white",
            "showbackground": true,
            "ticks": "",
            "zerolinecolor": "white"
           },
           "yaxis": {
            "backgroundcolor": "#E5ECF6",
            "gridcolor": "white",
            "gridwidth": 2,
            "linecolor": "white",
            "showbackground": true,
            "ticks": "",
            "zerolinecolor": "white"
           },
           "zaxis": {
            "backgroundcolor": "#E5ECF6",
            "gridcolor": "white",
            "gridwidth": 2,
            "linecolor": "white",
            "showbackground": true,
            "ticks": "",
            "zerolinecolor": "white"
           }
          },
          "shapedefaults": {
           "line": {
            "color": "#2a3f5f"
           }
          },
          "ternary": {
           "aaxis": {
            "gridcolor": "white",
            "linecolor": "white",
            "ticks": ""
           },
           "baxis": {
            "gridcolor": "white",
            "linecolor": "white",
            "ticks": ""
           },
           "bgcolor": "#E5ECF6",
           "caxis": {
            "gridcolor": "white",
            "linecolor": "white",
            "ticks": ""
           }
          },
          "title": {
           "x": 0.05
          },
          "xaxis": {
           "automargin": true,
           "gridcolor": "white",
           "linecolor": "white",
           "ticks": "",
           "title": {
            "standoff": 15
           },
           "zerolinecolor": "white",
           "zerolinewidth": 2
          },
          "yaxis": {
           "automargin": true,
           "gridcolor": "white",
           "linecolor": "white",
           "ticks": "",
           "title": {
            "standoff": 15
           },
           "zerolinecolor": "white",
           "zerolinewidth": 2
          }
         }
        },
        "title": {
         "font": {
          "color": "#4D5663"
         }
        },
        "xaxis": {
         "anchor": "y",
         "domain": [
          0,
          0.2125
         ],
         "gridcolor": "#E1E5ED",
         "showgrid": false,
         "tickfont": {
          "color": "#4D5663"
         },
         "title": {
          "font": {
           "color": "#4D5663"
          },
          "text": ""
         },
         "zerolinecolor": "#E1E5ED"
        },
        "xaxis10": {
         "anchor": "y10",
         "domain": [
          0.2625,
          0.475
         ],
         "gridcolor": "#E1E5ED",
         "showgrid": false,
         "tickfont": {
          "color": "#4D5663"
         },
         "title": {
          "font": {
           "color": "#4D5663"
          },
          "text": ""
         },
         "zerolinecolor": "#E1E5ED"
        },
        "xaxis11": {
         "anchor": "y11",
         "domain": [
          0.525,
          0.7375
         ],
         "gridcolor": "#E1E5ED",
         "showgrid": false,
         "tickfont": {
          "color": "#4D5663"
         },
         "title": {
          "font": {
           "color": "#4D5663"
          },
          "text": ""
         },
         "zerolinecolor": "#E1E5ED"
        },
        "xaxis12": {
         "anchor": "y12",
         "domain": [
          0.7875,
          1
         ],
         "gridcolor": "#E1E5ED",
         "showgrid": false,
         "tickfont": {
          "color": "#4D5663"
         },
         "title": {
          "font": {
           "color": "#4D5663"
          },
          "text": ""
         },
         "zerolinecolor": "#E1E5ED"
        },
        "xaxis13": {
         "anchor": "y13",
         "domain": [
          0,
          0.2125
         ],
         "gridcolor": "#E1E5ED",
         "showgrid": false,
         "tickfont": {
          "color": "#4D5663"
         },
         "title": {
          "font": {
           "color": "#4D5663"
          },
          "text": ""
         },
         "zerolinecolor": "#E1E5ED"
        },
        "xaxis14": {
         "anchor": "y14",
         "domain": [
          0.2625,
          0.475
         ],
         "gridcolor": "#E1E5ED",
         "showgrid": false,
         "tickfont": {
          "color": "#4D5663"
         },
         "title": {
          "font": {
           "color": "#4D5663"
          },
          "text": ""
         },
         "zerolinecolor": "#E1E5ED"
        },
        "xaxis15": {
         "anchor": "y15",
         "domain": [
          0.525,
          0.7375
         ],
         "gridcolor": "#E1E5ED",
         "showgrid": false,
         "tickfont": {
          "color": "#4D5663"
         },
         "title": {
          "font": {
           "color": "#4D5663"
          },
          "text": ""
         },
         "zerolinecolor": "#E1E5ED"
        },
        "xaxis16": {
         "anchor": "y16",
         "domain": [
          0.7875,
          1
         ],
         "gridcolor": "#E1E5ED",
         "showgrid": false,
         "tickfont": {
          "color": "#4D5663"
         },
         "title": {
          "font": {
           "color": "#4D5663"
          },
          "text": ""
         },
         "zerolinecolor": "#E1E5ED"
        },
        "xaxis2": {
         "anchor": "y2",
         "domain": [
          0.2625,
          0.475
         ],
         "gridcolor": "#E1E5ED",
         "showgrid": false,
         "tickfont": {
          "color": "#4D5663"
         },
         "title": {
          "font": {
           "color": "#4D5663"
          },
          "text": ""
         },
         "zerolinecolor": "#E1E5ED"
        },
        "xaxis3": {
         "anchor": "y3",
         "domain": [
          0.525,
          0.7375
         ],
         "gridcolor": "#E1E5ED",
         "showgrid": false,
         "tickfont": {
          "color": "#4D5663"
         },
         "title": {
          "font": {
           "color": "#4D5663"
          },
          "text": ""
         },
         "zerolinecolor": "#E1E5ED"
        },
        "xaxis4": {
         "anchor": "y4",
         "domain": [
          0.7875,
          1
         ],
         "gridcolor": "#E1E5ED",
         "showgrid": false,
         "tickfont": {
          "color": "#4D5663"
         },
         "title": {
          "font": {
           "color": "#4D5663"
          },
          "text": ""
         },
         "zerolinecolor": "#E1E5ED"
        },
        "xaxis5": {
         "anchor": "y5",
         "domain": [
          0,
          0.2125
         ],
         "gridcolor": "#E1E5ED",
         "showgrid": false,
         "tickfont": {
          "color": "#4D5663"
         },
         "title": {
          "font": {
           "color": "#4D5663"
          },
          "text": ""
         },
         "zerolinecolor": "#E1E5ED"
        },
        "xaxis6": {
         "anchor": "y6",
         "domain": [
          0.2625,
          0.475
         ],
         "gridcolor": "#E1E5ED",
         "showgrid": false,
         "tickfont": {
          "color": "#4D5663"
         },
         "title": {
          "font": {
           "color": "#4D5663"
          },
          "text": ""
         },
         "zerolinecolor": "#E1E5ED"
        },
        "xaxis7": {
         "anchor": "y7",
         "domain": [
          0.525,
          0.7375
         ],
         "gridcolor": "#E1E5ED",
         "showgrid": false,
         "tickfont": {
          "color": "#4D5663"
         },
         "title": {
          "font": {
           "color": "#4D5663"
          },
          "text": ""
         },
         "zerolinecolor": "#E1E5ED"
        },
        "xaxis8": {
         "anchor": "y8",
         "domain": [
          0.7875,
          1
         ],
         "gridcolor": "#E1E5ED",
         "showgrid": false,
         "tickfont": {
          "color": "#4D5663"
         },
         "title": {
          "font": {
           "color": "#4D5663"
          },
          "text": ""
         },
         "zerolinecolor": "#E1E5ED"
        },
        "xaxis9": {
         "anchor": "y9",
         "domain": [
          0,
          0.2125
         ],
         "gridcolor": "#E1E5ED",
         "showgrid": false,
         "tickfont": {
          "color": "#4D5663"
         },
         "title": {
          "font": {
           "color": "#4D5663"
          },
          "text": ""
         },
         "zerolinecolor": "#E1E5ED"
        },
        "yaxis": {
         "anchor": "x",
         "domain": [
          0.8025,
          1
         ],
         "gridcolor": "#E1E5ED",
         "showgrid": false,
         "tickfont": {
          "color": "#4D5663"
         },
         "title": {
          "font": {
           "color": "#4D5663"
          },
          "text": ""
         },
         "zerolinecolor": "#E1E5ED"
        },
        "yaxis10": {
         "anchor": "x10",
         "domain": [
          0.2675,
          0.465
         ],
         "gridcolor": "#E1E5ED",
         "showgrid": false,
         "tickfont": {
          "color": "#4D5663"
         },
         "title": {
          "font": {
           "color": "#4D5663"
          },
          "text": ""
         },
         "zerolinecolor": "#E1E5ED"
        },
        "yaxis11": {
         "anchor": "x11",
         "domain": [
          0.2675,
          0.465
         ],
         "gridcolor": "#E1E5ED",
         "showgrid": false,
         "tickfont": {
          "color": "#4D5663"
         },
         "title": {
          "font": {
           "color": "#4D5663"
          },
          "text": ""
         },
         "zerolinecolor": "#E1E5ED"
        },
        "yaxis12": {
         "anchor": "x12",
         "domain": [
          0.2675,
          0.465
         ],
         "gridcolor": "#E1E5ED",
         "showgrid": false,
         "tickfont": {
          "color": "#4D5663"
         },
         "title": {
          "font": {
           "color": "#4D5663"
          },
          "text": ""
         },
         "zerolinecolor": "#E1E5ED"
        },
        "yaxis13": {
         "anchor": "x13",
         "domain": [
          0,
          0.1975
         ],
         "gridcolor": "#E1E5ED",
         "showgrid": false,
         "tickfont": {
          "color": "#4D5663"
         },
         "title": {
          "font": {
           "color": "#4D5663"
          },
          "text": ""
         },
         "zerolinecolor": "#E1E5ED"
        },
        "yaxis14": {
         "anchor": "x14",
         "domain": [
          0,
          0.1975
         ],
         "gridcolor": "#E1E5ED",
         "showgrid": false,
         "tickfont": {
          "color": "#4D5663"
         },
         "title": {
          "font": {
           "color": "#4D5663"
          },
          "text": ""
         },
         "zerolinecolor": "#E1E5ED"
        },
        "yaxis15": {
         "anchor": "x15",
         "domain": [
          0,
          0.1975
         ],
         "gridcolor": "#E1E5ED",
         "showgrid": false,
         "tickfont": {
          "color": "#4D5663"
         },
         "title": {
          "font": {
           "color": "#4D5663"
          },
          "text": ""
         },
         "zerolinecolor": "#E1E5ED"
        },
        "yaxis16": {
         "anchor": "x16",
         "domain": [
          0,
          0.1975
         ],
         "gridcolor": "#E1E5ED",
         "showgrid": false,
         "tickfont": {
          "color": "#4D5663"
         },
         "title": {
          "font": {
           "color": "#4D5663"
          },
          "text": ""
         },
         "zerolinecolor": "#E1E5ED"
        },
        "yaxis2": {
         "anchor": "x2",
         "domain": [
          0.8025,
          1
         ],
         "gridcolor": "#E1E5ED",
         "showgrid": false,
         "tickfont": {
          "color": "#4D5663"
         },
         "title": {
          "font": {
           "color": "#4D5663"
          },
          "text": ""
         },
         "zerolinecolor": "#E1E5ED"
        },
        "yaxis3": {
         "anchor": "x3",
         "domain": [
          0.8025,
          1
         ],
         "gridcolor": "#E1E5ED",
         "showgrid": false,
         "tickfont": {
          "color": "#4D5663"
         },
         "title": {
          "font": {
           "color": "#4D5663"
          },
          "text": ""
         },
         "zerolinecolor": "#E1E5ED"
        },
        "yaxis4": {
         "anchor": "x4",
         "domain": [
          0.8025,
          1
         ],
         "gridcolor": "#E1E5ED",
         "showgrid": false,
         "tickfont": {
          "color": "#4D5663"
         },
         "title": {
          "font": {
           "color": "#4D5663"
          },
          "text": ""
         },
         "zerolinecolor": "#E1E5ED"
        },
        "yaxis5": {
         "anchor": "x5",
         "domain": [
          0.535,
          0.7325
         ],
         "gridcolor": "#E1E5ED",
         "showgrid": false,
         "tickfont": {
          "color": "#4D5663"
         },
         "title": {
          "font": {
           "color": "#4D5663"
          },
          "text": ""
         },
         "zerolinecolor": "#E1E5ED"
        },
        "yaxis6": {
         "anchor": "x6",
         "domain": [
          0.535,
          0.7325
         ],
         "gridcolor": "#E1E5ED",
         "showgrid": false,
         "tickfont": {
          "color": "#4D5663"
         },
         "title": {
          "font": {
           "color": "#4D5663"
          },
          "text": ""
         },
         "zerolinecolor": "#E1E5ED"
        },
        "yaxis7": {
         "anchor": "x7",
         "domain": [
          0.535,
          0.7325
         ],
         "gridcolor": "#E1E5ED",
         "showgrid": false,
         "tickfont": {
          "color": "#4D5663"
         },
         "title": {
          "font": {
           "color": "#4D5663"
          },
          "text": ""
         },
         "zerolinecolor": "#E1E5ED"
        },
        "yaxis8": {
         "anchor": "x8",
         "domain": [
          0.535,
          0.7325
         ],
         "gridcolor": "#E1E5ED",
         "showgrid": false,
         "tickfont": {
          "color": "#4D5663"
         },
         "title": {
          "font": {
           "color": "#4D5663"
          },
          "text": ""
         },
         "zerolinecolor": "#E1E5ED"
        },
        "yaxis9": {
         "anchor": "x9",
         "domain": [
          0.2675,
          0.465
         ],
         "gridcolor": "#E1E5ED",
         "showgrid": false,
         "tickfont": {
          "color": "#4D5663"
         },
         "title": {
          "font": {
           "color": "#4D5663"
          },
          "text": ""
         },
         "zerolinecolor": "#E1E5ED"
        }
       }
      },
      "text/html": [
       "<div>\n",
       "        \n",
       "        \n",
       "            <div id=\"523babbf-126a-4d40-a70c-9c97bf4a1cd1\" class=\"plotly-graph-div\" style=\"height:525px; width:100%;\"></div>\n",
       "            <script type=\"text/javascript\">\n",
       "                require([\"plotly\"], function(Plotly) {\n",
       "                    window.PLOTLYENV=window.PLOTLYENV || {};\n",
       "                    window.PLOTLYENV.BASE_URL='https://plot.ly';\n",
       "                    \n",
       "                if (document.getElementById(\"523babbf-126a-4d40-a70c-9c97bf4a1cd1\")) {\n",
       "                    Plotly.newPlot(\n",
       "                        '523babbf-126a-4d40-a70c-9c97bf4a1cd1',\n",
       "                        [{\"histfunc\": \"count\", \"histnorm\": \"\", \"marker\": {\"color\": \"rgba(255, 153, 51, 1.0)\", \"line\": {\"color\": \"#4D5663\", \"width\": 1.3}}, \"name\": \"A\", \"nbinsx\": 10, \"opacity\": 0.8, \"orientation\": \"v\", \"type\": \"histogram\", \"x\": [0.20809043819086845, -0.019341506915506363, 0.6710928486171988, -0.32374262692684636, -0.08933950365355328, -2.4870153305002876, -0.0828445187959473, 0.5765196640599008, -1.45974335926409, -0.7039420056988792, 0.07374623781588262, 1.3890599308664364, -0.4065140417790279, -1.5534252482243656, -0.5223086210478873, 1.0283472012969124, -0.7782606201795501, -1.1134140955232776, 1.545117883927185, 0.6536675243606903, -0.4635661135202583, -1.3776886078026092, 0.5157479741118118, 0.48495411771132285, -1.498163791196165, 0.186173316287323, -0.6084259450245122, 0.1385458239150797, -0.34327731015590035, 1.3057395117869839, -0.8507861830526204, 0.07068108652281078, 0.5609468060125844, 0.8436003826923163, -0.5544739466474897, 0.304567437465066, 0.07380956245430079, 0.6770820944557193, 0.9958583944756741, -0.8843872234471372, -0.5686911224280439, -0.4833310001350282, 1.0444287952056812, -1.0247446450677433, -0.04442966989560093, -0.8533122995490622, 0.6530986336452997, -0.7022015322286137, 1.2062876705027765, -2.0339563452164966, 0.48742624290522124, 0.6589028909488218, -2.3421002379617333, -0.7722454389655053, 0.02882023909271555, -1.534494316301149, 0.38125317141931553, 0.9658911532176244, -0.36784839411375353, 0.7996346562293096, -1.6665252924104532, -0.4099124667256445, -0.6272330819731242, 0.22436834840107997, -0.587796897611996, -0.21185255449597312, -0.012570892599201121, -0.54279177228348, -2.6560874773893772, 0.3149100180434697, 2.010648660253624, 0.5551898627890857, -1.4963775556776142, -0.5877273554807264, 0.07257979710473213, 0.15338192801483436, -0.5596087652557075, 0.9007287289028704, 0.7994878115707456, -0.8204821180718412, 0.28035281575665505, 0.23986792951813127, -0.19554464475260425, 1.490723752902071, -0.20027691553987273, -0.5566182124634896, -0.2586965268169799, 0.8988418941151963, -0.12990886192371434, 0.02546613837971286, -1.0416098497036679, -1.5819094674443275, -0.13181985295975357, 1.2325838746792015, -1.1327957870240355, 0.34605049462143017, 1.706190747987443, 2.1433316293580784, 0.3271201022174498, -0.7168867904851405], \"xaxis\": \"x\", \"yaxis\": \"y\"}, {\"line\": {\"color\": \"rgba(128, 128, 128, 1.0)\", \"dash\": \"solid\", \"shape\": \"linear\", \"width\": 1.3}, \"marker\": {\"size\": 2, \"symbol\": \"circle\"}, \"mode\": \"markers\", \"name\": \"A\", \"text\": \"\", \"type\": \"scatter\", \"x\": [0.15135829454715108, 0.9795160147718429, 1.4214734609290678, -0.07097325758683996, -0.9210663836667375, 0.20378024537982453, -0.6100369380441374, -1.3466306621394803, -1.81632980066363, -0.15798779724206727, -1.018606443577509, -0.54437943019444, -0.48276994747208113, 0.57798424272942, -0.970914049767164, -0.4352116885815418, 0.8241358618851978, 1.2918990512894106, -0.11878729385443036, -0.24842332641139903, 0.4465616973650019, 0.7155306943090513, 1.9646290002462576, 0.7485402486486966, 2.301917351467514, -0.4584041069143579, -1.9769012314332277, -1.201105007029545, 1.669260528563722, 0.22156748859860562, -0.43902290576062286, -0.9269491629983333, -1.442120004125873, -1.1669983984588779, -0.2801873720734649, 2.5275136591199066, -0.020117546102519243, -1.5074242850340052, -1.3581481255377978, 1.0682872361234326, -0.4253891039927625, -0.9795015883734285, 0.7178957327501252, -1.1761437747950894, -1.6540195151829544, 1.6095607825891305, -0.8873683216168122, -1.6423713126718416, -0.17082902921556906, 1.4433275020088596, -0.23514827551444784, -0.18210764579747643, -0.47380473108659904, -0.30564100505727737, 0.39475719400621767, 0.927733729671384, 1.2414238982703922, 0.0029357777775479636, 0.869531108145011, -0.3108725300689207, 0.31612727830321374, 0.7637627871271956, -1.7022198823396548, 0.9700454378831772, -2.2371234275566225, 1.131637517157968, -0.393532240954233, -0.08165933539689739, 0.36858334803231196, -1.6126676133120872, -0.5352745521823805, 0.6346815353686975, 1.238888755284414, -1.0276900358987127, -0.3355367973642946, 0.37140192615612216, -0.8515083889392284, -2.9690855877133386, 0.6140107859520972, 0.43209277527755674, -1.0987784624213168, 0.20215234928410972, -0.46102411065062787, 1.4859285963890307, 1.3911792195871207, -1.3670903285961076, 0.22450940710990647, 0.4101279410076213, 1.977960208478093, 0.43079393165742125, -2.9129924250906174, -0.7310092701771267, 0.18258620922954666, 2.392127291109862, -0.2879343642592824, 1.8906107785898578, 0.7400795074044674, -1.3617204379633567, 0.7788471931365946, 0.6913717081312138], \"xaxis\": \"x2\", \"y\": [0.20809043819086845, -0.019341506915506363, 0.6710928486171988, -0.32374262692684636, -0.08933950365355328, -2.4870153305002876, -0.0828445187959473, 0.5765196640599008, -1.45974335926409, -0.7039420056988792, 0.07374623781588262, 1.3890599308664364, -0.4065140417790279, -1.5534252482243656, -0.5223086210478873, 1.0283472012969124, -0.7782606201795501, -1.1134140955232776, 1.545117883927185, 0.6536675243606903, -0.4635661135202583, -1.3776886078026092, 0.5157479741118118, 0.48495411771132285, -1.498163791196165, 0.186173316287323, -0.6084259450245122, 0.1385458239150797, -0.34327731015590035, 1.3057395117869839, -0.8507861830526204, 0.07068108652281078, 0.5609468060125844, 0.8436003826923163, -0.5544739466474897, 0.304567437465066, 0.07380956245430079, 0.6770820944557193, 0.9958583944756741, -0.8843872234471372, -0.5686911224280439, -0.4833310001350282, 1.0444287952056812, -1.0247446450677433, -0.04442966989560093, -0.8533122995490622, 0.6530986336452997, -0.7022015322286137, 1.2062876705027765, -2.0339563452164966, 0.48742624290522124, 0.6589028909488218, -2.3421002379617333, -0.7722454389655053, 0.02882023909271555, -1.534494316301149, 0.38125317141931553, 0.9658911532176244, -0.36784839411375353, 0.7996346562293096, -1.6665252924104532, -0.4099124667256445, -0.6272330819731242, 0.22436834840107997, -0.587796897611996, -0.21185255449597312, -0.012570892599201121, -0.54279177228348, -2.6560874773893772, 0.3149100180434697, 2.010648660253624, 0.5551898627890857, -1.4963775556776142, -0.5877273554807264, 0.07257979710473213, 0.15338192801483436, -0.5596087652557075, 0.9007287289028704, 0.7994878115707456, -0.8204821180718412, 0.28035281575665505, 0.23986792951813127, -0.19554464475260425, 1.490723752902071, -0.20027691553987273, -0.5566182124634896, -0.2586965268169799, 0.8988418941151963, -0.12990886192371434, 0.02546613837971286, -1.0416098497036679, -1.5819094674443275, -0.13181985295975357, 1.2325838746792015, -1.1327957870240355, 0.34605049462143017, 1.706190747987443, 2.1433316293580784, 0.3271201022174498, -0.7168867904851405], \"yaxis\": \"y2\"}, {\"line\": {\"color\": \"rgba(128, 128, 128, 1.0)\", \"dash\": \"solid\", \"shape\": \"linear\", \"width\": 1.3}, \"marker\": {\"size\": 2, \"symbol\": \"circle\"}, \"mode\": \"markers\", \"name\": \"A\", \"text\": \"\", \"type\": \"scatter\", \"x\": [2.0051121159920675, -0.4493610805844231, -0.9084872076489361, -0.7721615517711781, 0.6541627047739164, -0.3851615542298961, 1.2241910700460494, -0.3594480352627832, 0.5303515075821974, 0.37821553681042497, 1.5265608993568685, 1.477366766187703, -0.8903976196943997, 0.6275104381096709, -1.1658828346957355, 0.5252728640062069, 0.4116834027002824, 2.704189848816628, -0.2226961420885588, 1.0244875423195368, 0.26495132075919875, -0.3335106453849119, -0.25051775523022307, -0.9421555886984696, -0.05185181898581905, 0.9892425401502507, 0.3019324275203719, 0.05095758835038916, -1.4812719426708845, 0.5548066618401524, 0.03745238658246062, 0.5074409459965565, -0.8466179648047617, -0.6704963196017796, -0.6190901486920855, 0.17827190177240412, 0.3664174458696268, 2.350125669806303, 0.043404170851318376, -1.3790506256730932, 0.2737799407998692, 0.2933588088351275, 2.193998753638677, -0.9831277301264092, -0.6521040024729443, 0.08051574029896495, -1.0062263833912914, 1.6888321692647374, 0.15860478630185132, -0.7264348973890741, 0.5551346042795282, -1.3221054329247246, -1.2046506987274948, 1.1490223551767262, -1.2035286945972503, 1.1709154926969032, 0.9661298764717131, -0.8044782297264162, -0.19666254507560318, 0.21441701157769927, 1.5613441239512482, 0.6650992702780203, 0.0815292219555825, 0.05595055934265063, 0.05073992580946308, -0.8345594810331837, 0.6646967497706436, -0.6068052519359592, -0.09796794490886163, 0.9956501209565106, 0.032888702181209435, 0.7282824374462252, -0.4421471221405374, -0.4996683018436185, -0.4598733633397587, -0.24246389263135104, -1.7254409975924612, -0.8704721991050504, -1.8617602897345804, -0.15657662661197377, -1.2433527551093784, 0.8198948294225307, -0.15002325359623633, 1.1776949232261975, -0.18486742703008133, -0.6473069114798748, -0.2878369954827269, -1.8137301176313945, 0.7335294261397506, -1.5121779899245575, 1.2057098440957132, -0.019324584000454413, 0.6889436920135882, -0.5661336612740878, -0.5653254134268597, 0.20453618725784742, 0.40107083955132516, 1.1740676398540935, -0.5776343666715368, 2.5216844274068357], \"xaxis\": \"x3\", \"y\": [0.20809043819086845, -0.019341506915506363, 0.6710928486171988, -0.32374262692684636, -0.08933950365355328, -2.4870153305002876, -0.0828445187959473, 0.5765196640599008, -1.45974335926409, -0.7039420056988792, 0.07374623781588262, 1.3890599308664364, -0.4065140417790279, -1.5534252482243656, -0.5223086210478873, 1.0283472012969124, -0.7782606201795501, -1.1134140955232776, 1.545117883927185, 0.6536675243606903, -0.4635661135202583, -1.3776886078026092, 0.5157479741118118, 0.48495411771132285, -1.498163791196165, 0.186173316287323, -0.6084259450245122, 0.1385458239150797, -0.34327731015590035, 1.3057395117869839, -0.8507861830526204, 0.07068108652281078, 0.5609468060125844, 0.8436003826923163, -0.5544739466474897, 0.304567437465066, 0.07380956245430079, 0.6770820944557193, 0.9958583944756741, -0.8843872234471372, -0.5686911224280439, -0.4833310001350282, 1.0444287952056812, -1.0247446450677433, -0.04442966989560093, -0.8533122995490622, 0.6530986336452997, -0.7022015322286137, 1.2062876705027765, -2.0339563452164966, 0.48742624290522124, 0.6589028909488218, -2.3421002379617333, -0.7722454389655053, 0.02882023909271555, -1.534494316301149, 0.38125317141931553, 0.9658911532176244, -0.36784839411375353, 0.7996346562293096, -1.6665252924104532, -0.4099124667256445, -0.6272330819731242, 0.22436834840107997, -0.587796897611996, -0.21185255449597312, -0.012570892599201121, -0.54279177228348, -2.6560874773893772, 0.3149100180434697, 2.010648660253624, 0.5551898627890857, -1.4963775556776142, -0.5877273554807264, 0.07257979710473213, 0.15338192801483436, -0.5596087652557075, 0.9007287289028704, 0.7994878115707456, -0.8204821180718412, 0.28035281575665505, 0.23986792951813127, -0.19554464475260425, 1.490723752902071, -0.20027691553987273, -0.5566182124634896, -0.2586965268169799, 0.8988418941151963, -0.12990886192371434, 0.02546613837971286, -1.0416098497036679, -1.5819094674443275, -0.13181985295975357, 1.2325838746792015, -1.1327957870240355, 0.34605049462143017, 1.706190747987443, 2.1433316293580784, 0.3271201022174498, -0.7168867904851405], \"yaxis\": \"y3\"}, {\"line\": {\"color\": \"rgba(128, 128, 128, 1.0)\", \"dash\": \"solid\", \"shape\": \"linear\", \"width\": 1.3}, \"marker\": {\"size\": 2, \"symbol\": \"circle\"}, \"mode\": \"markers\", \"name\": \"A\", \"text\": \"\", \"type\": \"scatter\", \"x\": [-1.4565733558087668, 0.5262369172878351, 0.48945774743941195, -0.21293033404058415, -0.16324889199076464, 0.630598484174999, 0.692077637937127, -0.3331147371984391, 0.1929030040351164, -0.3218766183486016, -1.6425369944411325, -0.7678250927492929, 1.2659835307747669, 0.8184210393122054, -0.024633339865551607, -1.249002879317465, 0.9295234623087013, 0.8493978136587808, -0.46047237624499265, -0.5778972033554954, 0.4189611998456919, -0.5505020499045066, 0.8781183000200152, -0.7305458201604784, 0.4260424892761426, -1.1154404173816563, 1.7386153510183529, 1.8996270301248646, -0.022043989066206783, -2.08107613924143, 0.10383859554091508, 1.300271012272863, -0.44790591147914155, 0.32454891365895494, 0.723557539054515, -0.4526175565216972, 1.5793439257679158, -1.2460820007359723, 1.115935175496016, -0.07877482710809654, -1.730466220665265, 1.846744729189646, -0.19870976067514978, -0.12123592053565618, 1.3852277591750157, -0.2656543567586974, -0.07555173388232261, 0.07777723955138618, 0.907301321878093, -0.4107678910895667, 1.0969607063495408, 2.312284690894676, 0.35708899337781286, -0.14919636371702155, 0.10587794777827615, 0.19445728205069596, -0.05300858756121772, 0.8949819385269817, 2.218827117112159, 0.7060532591602858, -0.131418896375061, 0.491284065175089, -0.9893054759795129, -0.08954705247396552, 0.27609733254111335, 1.702681047136967, 0.22434733425503514, 0.6696692982817731, 2.314142962463807, 1.0622561275932678, -0.4295730165307976, 1.268635692597944, -0.5617857296247518, -0.04831566984239649, 0.6961244218118591, 0.04787514173602842, -2.4211481405527833, 0.3895740200646518, -1.3291272982016469, 0.11889810264841535, -0.08730316360939917, 0.21079474055037464, 0.5034361648353576, -0.868718445356883, -0.0994953565207857, 0.15250135972298487, 1.9040880921245162, 0.0779133281913371, -1.245117905007259, -0.09485339001235499, 0.8882549753384171, -0.26831172103457623, -0.9086119757298903, 0.33148975957829013, -0.15318039179708207, 0.11562239596100848, 0.7578807194141244, -0.5585578756818593, -1.2714220005791093, -1.3660870756577828], \"xaxis\": \"x4\", \"y\": [0.20809043819086845, -0.019341506915506363, 0.6710928486171988, -0.32374262692684636, -0.08933950365355328, -2.4870153305002876, -0.0828445187959473, 0.5765196640599008, -1.45974335926409, -0.7039420056988792, 0.07374623781588262, 1.3890599308664364, -0.4065140417790279, -1.5534252482243656, -0.5223086210478873, 1.0283472012969124, -0.7782606201795501, -1.1134140955232776, 1.545117883927185, 0.6536675243606903, -0.4635661135202583, -1.3776886078026092, 0.5157479741118118, 0.48495411771132285, -1.498163791196165, 0.186173316287323, -0.6084259450245122, 0.1385458239150797, -0.34327731015590035, 1.3057395117869839, -0.8507861830526204, 0.07068108652281078, 0.5609468060125844, 0.8436003826923163, -0.5544739466474897, 0.304567437465066, 0.07380956245430079, 0.6770820944557193, 0.9958583944756741, -0.8843872234471372, -0.5686911224280439, -0.4833310001350282, 1.0444287952056812, -1.0247446450677433, -0.04442966989560093, -0.8533122995490622, 0.6530986336452997, -0.7022015322286137, 1.2062876705027765, -2.0339563452164966, 0.48742624290522124, 0.6589028909488218, -2.3421002379617333, -0.7722454389655053, 0.02882023909271555, -1.534494316301149, 0.38125317141931553, 0.9658911532176244, -0.36784839411375353, 0.7996346562293096, -1.6665252924104532, -0.4099124667256445, -0.6272330819731242, 0.22436834840107997, -0.587796897611996, -0.21185255449597312, -0.012570892599201121, -0.54279177228348, -2.6560874773893772, 0.3149100180434697, 2.010648660253624, 0.5551898627890857, -1.4963775556776142, -0.5877273554807264, 0.07257979710473213, 0.15338192801483436, -0.5596087652557075, 0.9007287289028704, 0.7994878115707456, -0.8204821180718412, 0.28035281575665505, 0.23986792951813127, -0.19554464475260425, 1.490723752902071, -0.20027691553987273, -0.5566182124634896, -0.2586965268169799, 0.8988418941151963, -0.12990886192371434, 0.02546613837971286, -1.0416098497036679, -1.5819094674443275, -0.13181985295975357, 1.2325838746792015, -1.1327957870240355, 0.34605049462143017, 1.706190747987443, 2.1433316293580784, 0.3271201022174498, -0.7168867904851405], \"yaxis\": \"y4\"}, {\"line\": {\"color\": \"rgba(128, 128, 128, 1.0)\", \"dash\": \"solid\", \"shape\": \"linear\", \"width\": 1.3}, \"marker\": {\"size\": 2, \"symbol\": \"circle\"}, \"mode\": \"markers\", \"name\": \"B\", \"text\": \"\", \"type\": \"scatter\", \"x\": [0.20809043819086845, -0.019341506915506363, 0.6710928486171988, -0.32374262692684636, -0.08933950365355328, -2.4870153305002876, -0.0828445187959473, 0.5765196640599008, -1.45974335926409, -0.7039420056988792, 0.07374623781588262, 1.3890599308664364, -0.4065140417790279, -1.5534252482243656, -0.5223086210478873, 1.0283472012969124, -0.7782606201795501, -1.1134140955232776, 1.545117883927185, 0.6536675243606903, -0.4635661135202583, -1.3776886078026092, 0.5157479741118118, 0.48495411771132285, -1.498163791196165, 0.186173316287323, -0.6084259450245122, 0.1385458239150797, -0.34327731015590035, 1.3057395117869839, -0.8507861830526204, 0.07068108652281078, 0.5609468060125844, 0.8436003826923163, -0.5544739466474897, 0.304567437465066, 0.07380956245430079, 0.6770820944557193, 0.9958583944756741, -0.8843872234471372, -0.5686911224280439, -0.4833310001350282, 1.0444287952056812, -1.0247446450677433, -0.04442966989560093, -0.8533122995490622, 0.6530986336452997, -0.7022015322286137, 1.2062876705027765, -2.0339563452164966, 0.48742624290522124, 0.6589028909488218, -2.3421002379617333, -0.7722454389655053, 0.02882023909271555, -1.534494316301149, 0.38125317141931553, 0.9658911532176244, -0.36784839411375353, 0.7996346562293096, -1.6665252924104532, -0.4099124667256445, -0.6272330819731242, 0.22436834840107997, -0.587796897611996, -0.21185255449597312, -0.012570892599201121, -0.54279177228348, -2.6560874773893772, 0.3149100180434697, 2.010648660253624, 0.5551898627890857, -1.4963775556776142, -0.5877273554807264, 0.07257979710473213, 0.15338192801483436, -0.5596087652557075, 0.9007287289028704, 0.7994878115707456, -0.8204821180718412, 0.28035281575665505, 0.23986792951813127, -0.19554464475260425, 1.490723752902071, -0.20027691553987273, -0.5566182124634896, -0.2586965268169799, 0.8988418941151963, -0.12990886192371434, 0.02546613837971286, -1.0416098497036679, -1.5819094674443275, -0.13181985295975357, 1.2325838746792015, -1.1327957870240355, 0.34605049462143017, 1.706190747987443, 2.1433316293580784, 0.3271201022174498, -0.7168867904851405], \"xaxis\": \"x5\", \"y\": [0.15135829454715108, 0.9795160147718429, 1.4214734609290678, -0.07097325758683996, -0.9210663836667375, 0.20378024537982453, -0.6100369380441374, -1.3466306621394803, -1.81632980066363, -0.15798779724206727, -1.018606443577509, -0.54437943019444, -0.48276994747208113, 0.57798424272942, -0.970914049767164, -0.4352116885815418, 0.8241358618851978, 1.2918990512894106, -0.11878729385443036, -0.24842332641139903, 0.4465616973650019, 0.7155306943090513, 1.9646290002462576, 0.7485402486486966, 2.301917351467514, -0.4584041069143579, -1.9769012314332277, -1.201105007029545, 1.669260528563722, 0.22156748859860562, -0.43902290576062286, -0.9269491629983333, -1.442120004125873, -1.1669983984588779, -0.2801873720734649, 2.5275136591199066, -0.020117546102519243, -1.5074242850340052, -1.3581481255377978, 1.0682872361234326, -0.4253891039927625, -0.9795015883734285, 0.7178957327501252, -1.1761437747950894, -1.6540195151829544, 1.6095607825891305, -0.8873683216168122, -1.6423713126718416, -0.17082902921556906, 1.4433275020088596, -0.23514827551444784, -0.18210764579747643, -0.47380473108659904, -0.30564100505727737, 0.39475719400621767, 0.927733729671384, 1.2414238982703922, 0.0029357777775479636, 0.869531108145011, -0.3108725300689207, 0.31612727830321374, 0.7637627871271956, -1.7022198823396548, 0.9700454378831772, -2.2371234275566225, 1.131637517157968, -0.393532240954233, -0.08165933539689739, 0.36858334803231196, -1.6126676133120872, -0.5352745521823805, 0.6346815353686975, 1.238888755284414, -1.0276900358987127, -0.3355367973642946, 0.37140192615612216, -0.8515083889392284, -2.9690855877133386, 0.6140107859520972, 0.43209277527755674, -1.0987784624213168, 0.20215234928410972, -0.46102411065062787, 1.4859285963890307, 1.3911792195871207, -1.3670903285961076, 0.22450940710990647, 0.4101279410076213, 1.977960208478093, 0.43079393165742125, -2.9129924250906174, -0.7310092701771267, 0.18258620922954666, 2.392127291109862, -0.2879343642592824, 1.8906107785898578, 0.7400795074044674, -1.3617204379633567, 0.7788471931365946, 0.6913717081312138], \"yaxis\": \"y5\"}, {\"histfunc\": \"count\", \"histnorm\": \"\", \"marker\": {\"color\": \"rgba(55, 128, 191, 1.0)\", \"line\": {\"color\": \"#4D5663\", \"width\": 1.3}}, \"name\": \"B\", \"nbinsx\": 10, \"opacity\": 0.8, \"orientation\": \"v\", \"type\": \"histogram\", \"x\": [0.15135829454715108, 0.9795160147718429, 1.4214734609290678, -0.07097325758683996, -0.9210663836667375, 0.20378024537982453, -0.6100369380441374, -1.3466306621394803, -1.81632980066363, -0.15798779724206727, -1.018606443577509, -0.54437943019444, -0.48276994747208113, 0.57798424272942, -0.970914049767164, -0.4352116885815418, 0.8241358618851978, 1.2918990512894106, -0.11878729385443036, -0.24842332641139903, 0.4465616973650019, 0.7155306943090513, 1.9646290002462576, 0.7485402486486966, 2.301917351467514, -0.4584041069143579, -1.9769012314332277, -1.201105007029545, 1.669260528563722, 0.22156748859860562, -0.43902290576062286, -0.9269491629983333, -1.442120004125873, -1.1669983984588779, -0.2801873720734649, 2.5275136591199066, -0.020117546102519243, -1.5074242850340052, -1.3581481255377978, 1.0682872361234326, -0.4253891039927625, -0.9795015883734285, 0.7178957327501252, -1.1761437747950894, -1.6540195151829544, 1.6095607825891305, -0.8873683216168122, -1.6423713126718416, -0.17082902921556906, 1.4433275020088596, -0.23514827551444784, -0.18210764579747643, -0.47380473108659904, -0.30564100505727737, 0.39475719400621767, 0.927733729671384, 1.2414238982703922, 0.0029357777775479636, 0.869531108145011, -0.3108725300689207, 0.31612727830321374, 0.7637627871271956, -1.7022198823396548, 0.9700454378831772, -2.2371234275566225, 1.131637517157968, -0.393532240954233, -0.08165933539689739, 0.36858334803231196, -1.6126676133120872, -0.5352745521823805, 0.6346815353686975, 1.238888755284414, -1.0276900358987127, -0.3355367973642946, 0.37140192615612216, -0.8515083889392284, -2.9690855877133386, 0.6140107859520972, 0.43209277527755674, -1.0987784624213168, 0.20215234928410972, -0.46102411065062787, 1.4859285963890307, 1.3911792195871207, -1.3670903285961076, 0.22450940710990647, 0.4101279410076213, 1.977960208478093, 0.43079393165742125, -2.9129924250906174, -0.7310092701771267, 0.18258620922954666, 2.392127291109862, -0.2879343642592824, 1.8906107785898578, 0.7400795074044674, -1.3617204379633567, 0.7788471931365946, 0.6913717081312138], \"xaxis\": \"x6\", \"yaxis\": \"y6\"}, {\"line\": {\"color\": \"rgba(128, 128, 128, 1.0)\", \"dash\": \"solid\", \"shape\": \"linear\", \"width\": 1.3}, \"marker\": {\"size\": 2, \"symbol\": \"circle\"}, \"mode\": \"markers\", \"name\": \"B\", \"text\": \"\", \"type\": \"scatter\", \"x\": [2.0051121159920675, -0.4493610805844231, -0.9084872076489361, -0.7721615517711781, 0.6541627047739164, -0.3851615542298961, 1.2241910700460494, -0.3594480352627832, 0.5303515075821974, 0.37821553681042497, 1.5265608993568685, 1.477366766187703, -0.8903976196943997, 0.6275104381096709, -1.1658828346957355, 0.5252728640062069, 0.4116834027002824, 2.704189848816628, -0.2226961420885588, 1.0244875423195368, 0.26495132075919875, -0.3335106453849119, -0.25051775523022307, -0.9421555886984696, -0.05185181898581905, 0.9892425401502507, 0.3019324275203719, 0.05095758835038916, -1.4812719426708845, 0.5548066618401524, 0.03745238658246062, 0.5074409459965565, -0.8466179648047617, -0.6704963196017796, -0.6190901486920855, 0.17827190177240412, 0.3664174458696268, 2.350125669806303, 0.043404170851318376, -1.3790506256730932, 0.2737799407998692, 0.2933588088351275, 2.193998753638677, -0.9831277301264092, -0.6521040024729443, 0.08051574029896495, -1.0062263833912914, 1.6888321692647374, 0.15860478630185132, -0.7264348973890741, 0.5551346042795282, -1.3221054329247246, -1.2046506987274948, 1.1490223551767262, -1.2035286945972503, 1.1709154926969032, 0.9661298764717131, -0.8044782297264162, -0.19666254507560318, 0.21441701157769927, 1.5613441239512482, 0.6650992702780203, 0.0815292219555825, 0.05595055934265063, 0.05073992580946308, -0.8345594810331837, 0.6646967497706436, -0.6068052519359592, -0.09796794490886163, 0.9956501209565106, 0.032888702181209435, 0.7282824374462252, -0.4421471221405374, -0.4996683018436185, -0.4598733633397587, -0.24246389263135104, -1.7254409975924612, -0.8704721991050504, -1.8617602897345804, -0.15657662661197377, -1.2433527551093784, 0.8198948294225307, -0.15002325359623633, 1.1776949232261975, -0.18486742703008133, -0.6473069114798748, -0.2878369954827269, -1.8137301176313945, 0.7335294261397506, -1.5121779899245575, 1.2057098440957132, -0.019324584000454413, 0.6889436920135882, -0.5661336612740878, -0.5653254134268597, 0.20453618725784742, 0.40107083955132516, 1.1740676398540935, -0.5776343666715368, 2.5216844274068357], \"xaxis\": \"x7\", \"y\": [0.15135829454715108, 0.9795160147718429, 1.4214734609290678, -0.07097325758683996, -0.9210663836667375, 0.20378024537982453, -0.6100369380441374, -1.3466306621394803, -1.81632980066363, -0.15798779724206727, -1.018606443577509, -0.54437943019444, -0.48276994747208113, 0.57798424272942, -0.970914049767164, -0.4352116885815418, 0.8241358618851978, 1.2918990512894106, -0.11878729385443036, -0.24842332641139903, 0.4465616973650019, 0.7155306943090513, 1.9646290002462576, 0.7485402486486966, 2.301917351467514, -0.4584041069143579, -1.9769012314332277, -1.201105007029545, 1.669260528563722, 0.22156748859860562, -0.43902290576062286, -0.9269491629983333, -1.442120004125873, -1.1669983984588779, -0.2801873720734649, 2.5275136591199066, -0.020117546102519243, -1.5074242850340052, -1.3581481255377978, 1.0682872361234326, -0.4253891039927625, -0.9795015883734285, 0.7178957327501252, -1.1761437747950894, -1.6540195151829544, 1.6095607825891305, -0.8873683216168122, -1.6423713126718416, -0.17082902921556906, 1.4433275020088596, -0.23514827551444784, -0.18210764579747643, -0.47380473108659904, -0.30564100505727737, 0.39475719400621767, 0.927733729671384, 1.2414238982703922, 0.0029357777775479636, 0.869531108145011, -0.3108725300689207, 0.31612727830321374, 0.7637627871271956, -1.7022198823396548, 0.9700454378831772, -2.2371234275566225, 1.131637517157968, -0.393532240954233, -0.08165933539689739, 0.36858334803231196, -1.6126676133120872, -0.5352745521823805, 0.6346815353686975, 1.238888755284414, -1.0276900358987127, -0.3355367973642946, 0.37140192615612216, -0.8515083889392284, -2.9690855877133386, 0.6140107859520972, 0.43209277527755674, -1.0987784624213168, 0.20215234928410972, -0.46102411065062787, 1.4859285963890307, 1.3911792195871207, -1.3670903285961076, 0.22450940710990647, 0.4101279410076213, 1.977960208478093, 0.43079393165742125, -2.9129924250906174, -0.7310092701771267, 0.18258620922954666, 2.392127291109862, -0.2879343642592824, 1.8906107785898578, 0.7400795074044674, -1.3617204379633567, 0.7788471931365946, 0.6913717081312138], \"yaxis\": \"y7\"}, {\"line\": {\"color\": \"rgba(128, 128, 128, 1.0)\", \"dash\": \"solid\", \"shape\": \"linear\", \"width\": 1.3}, \"marker\": {\"size\": 2, \"symbol\": \"circle\"}, \"mode\": \"markers\", \"name\": \"B\", \"text\": \"\", \"type\": \"scatter\", \"x\": [-1.4565733558087668, 0.5262369172878351, 0.48945774743941195, -0.21293033404058415, -0.16324889199076464, 0.630598484174999, 0.692077637937127, -0.3331147371984391, 0.1929030040351164, -0.3218766183486016, -1.6425369944411325, -0.7678250927492929, 1.2659835307747669, 0.8184210393122054, -0.024633339865551607, -1.249002879317465, 0.9295234623087013, 0.8493978136587808, -0.46047237624499265, -0.5778972033554954, 0.4189611998456919, -0.5505020499045066, 0.8781183000200152, -0.7305458201604784, 0.4260424892761426, -1.1154404173816563, 1.7386153510183529, 1.8996270301248646, -0.022043989066206783, -2.08107613924143, 0.10383859554091508, 1.300271012272863, -0.44790591147914155, 0.32454891365895494, 0.723557539054515, -0.4526175565216972, 1.5793439257679158, -1.2460820007359723, 1.115935175496016, -0.07877482710809654, -1.730466220665265, 1.846744729189646, -0.19870976067514978, -0.12123592053565618, 1.3852277591750157, -0.2656543567586974, -0.07555173388232261, 0.07777723955138618, 0.907301321878093, -0.4107678910895667, 1.0969607063495408, 2.312284690894676, 0.35708899337781286, -0.14919636371702155, 0.10587794777827615, 0.19445728205069596, -0.05300858756121772, 0.8949819385269817, 2.218827117112159, 0.7060532591602858, -0.131418896375061, 0.491284065175089, -0.9893054759795129, -0.08954705247396552, 0.27609733254111335, 1.702681047136967, 0.22434733425503514, 0.6696692982817731, 2.314142962463807, 1.0622561275932678, -0.4295730165307976, 1.268635692597944, -0.5617857296247518, -0.04831566984239649, 0.6961244218118591, 0.04787514173602842, -2.4211481405527833, 0.3895740200646518, -1.3291272982016469, 0.11889810264841535, -0.08730316360939917, 0.21079474055037464, 0.5034361648353576, -0.868718445356883, -0.0994953565207857, 0.15250135972298487, 1.9040880921245162, 0.0779133281913371, -1.245117905007259, -0.09485339001235499, 0.8882549753384171, -0.26831172103457623, -0.9086119757298903, 0.33148975957829013, -0.15318039179708207, 0.11562239596100848, 0.7578807194141244, -0.5585578756818593, -1.2714220005791093, -1.3660870756577828], \"xaxis\": \"x8\", \"y\": [0.15135829454715108, 0.9795160147718429, 1.4214734609290678, -0.07097325758683996, -0.9210663836667375, 0.20378024537982453, -0.6100369380441374, -1.3466306621394803, -1.81632980066363, -0.15798779724206727, -1.018606443577509, -0.54437943019444, -0.48276994747208113, 0.57798424272942, -0.970914049767164, -0.4352116885815418, 0.8241358618851978, 1.2918990512894106, -0.11878729385443036, -0.24842332641139903, 0.4465616973650019, 0.7155306943090513, 1.9646290002462576, 0.7485402486486966, 2.301917351467514, -0.4584041069143579, -1.9769012314332277, -1.201105007029545, 1.669260528563722, 0.22156748859860562, -0.43902290576062286, -0.9269491629983333, -1.442120004125873, -1.1669983984588779, -0.2801873720734649, 2.5275136591199066, -0.020117546102519243, -1.5074242850340052, -1.3581481255377978, 1.0682872361234326, -0.4253891039927625, -0.9795015883734285, 0.7178957327501252, -1.1761437747950894, -1.6540195151829544, 1.6095607825891305, -0.8873683216168122, -1.6423713126718416, -0.17082902921556906, 1.4433275020088596, -0.23514827551444784, -0.18210764579747643, -0.47380473108659904, -0.30564100505727737, 0.39475719400621767, 0.927733729671384, 1.2414238982703922, 0.0029357777775479636, 0.869531108145011, -0.3108725300689207, 0.31612727830321374, 0.7637627871271956, -1.7022198823396548, 0.9700454378831772, -2.2371234275566225, 1.131637517157968, -0.393532240954233, -0.08165933539689739, 0.36858334803231196, -1.6126676133120872, -0.5352745521823805, 0.6346815353686975, 1.238888755284414, -1.0276900358987127, -0.3355367973642946, 0.37140192615612216, -0.8515083889392284, -2.9690855877133386, 0.6140107859520972, 0.43209277527755674, -1.0987784624213168, 0.20215234928410972, -0.46102411065062787, 1.4859285963890307, 1.3911792195871207, -1.3670903285961076, 0.22450940710990647, 0.4101279410076213, 1.977960208478093, 0.43079393165742125, -2.9129924250906174, -0.7310092701771267, 0.18258620922954666, 2.392127291109862, -0.2879343642592824, 1.8906107785898578, 0.7400795074044674, -1.3617204379633567, 0.7788471931365946, 0.6913717081312138], \"yaxis\": \"y8\"}, {\"line\": {\"color\": \"rgba(128, 128, 128, 1.0)\", \"dash\": \"solid\", \"shape\": \"linear\", \"width\": 1.3}, \"marker\": {\"size\": 2, \"symbol\": \"circle\"}, \"mode\": \"markers\", \"name\": \"C\", \"text\": \"\", \"type\": \"scatter\", \"x\": [0.20809043819086845, -0.019341506915506363, 0.6710928486171988, -0.32374262692684636, -0.08933950365355328, -2.4870153305002876, -0.0828445187959473, 0.5765196640599008, -1.45974335926409, -0.7039420056988792, 0.07374623781588262, 1.3890599308664364, -0.4065140417790279, -1.5534252482243656, -0.5223086210478873, 1.0283472012969124, -0.7782606201795501, -1.1134140955232776, 1.545117883927185, 0.6536675243606903, -0.4635661135202583, -1.3776886078026092, 0.5157479741118118, 0.48495411771132285, -1.498163791196165, 0.186173316287323, -0.6084259450245122, 0.1385458239150797, -0.34327731015590035, 1.3057395117869839, -0.8507861830526204, 0.07068108652281078, 0.5609468060125844, 0.8436003826923163, -0.5544739466474897, 0.304567437465066, 0.07380956245430079, 0.6770820944557193, 0.9958583944756741, -0.8843872234471372, -0.5686911224280439, -0.4833310001350282, 1.0444287952056812, -1.0247446450677433, -0.04442966989560093, -0.8533122995490622, 0.6530986336452997, -0.7022015322286137, 1.2062876705027765, -2.0339563452164966, 0.48742624290522124, 0.6589028909488218, -2.3421002379617333, -0.7722454389655053, 0.02882023909271555, -1.534494316301149, 0.38125317141931553, 0.9658911532176244, -0.36784839411375353, 0.7996346562293096, -1.6665252924104532, -0.4099124667256445, -0.6272330819731242, 0.22436834840107997, -0.587796897611996, -0.21185255449597312, -0.012570892599201121, -0.54279177228348, -2.6560874773893772, 0.3149100180434697, 2.010648660253624, 0.5551898627890857, -1.4963775556776142, -0.5877273554807264, 0.07257979710473213, 0.15338192801483436, -0.5596087652557075, 0.9007287289028704, 0.7994878115707456, -0.8204821180718412, 0.28035281575665505, 0.23986792951813127, -0.19554464475260425, 1.490723752902071, -0.20027691553987273, -0.5566182124634896, -0.2586965268169799, 0.8988418941151963, -0.12990886192371434, 0.02546613837971286, -1.0416098497036679, -1.5819094674443275, -0.13181985295975357, 1.2325838746792015, -1.1327957870240355, 0.34605049462143017, 1.706190747987443, 2.1433316293580784, 0.3271201022174498, -0.7168867904851405], \"xaxis\": \"x9\", \"y\": [2.0051121159920675, -0.4493610805844231, -0.9084872076489361, -0.7721615517711781, 0.6541627047739164, -0.3851615542298961, 1.2241910700460494, -0.3594480352627832, 0.5303515075821974, 0.37821553681042497, 1.5265608993568685, 1.477366766187703, -0.8903976196943997, 0.6275104381096709, -1.1658828346957355, 0.5252728640062069, 0.4116834027002824, 2.704189848816628, -0.2226961420885588, 1.0244875423195368, 0.26495132075919875, -0.3335106453849119, -0.25051775523022307, -0.9421555886984696, -0.05185181898581905, 0.9892425401502507, 0.3019324275203719, 0.05095758835038916, -1.4812719426708845, 0.5548066618401524, 0.03745238658246062, 0.5074409459965565, -0.8466179648047617, -0.6704963196017796, -0.6190901486920855, 0.17827190177240412, 0.3664174458696268, 2.350125669806303, 0.043404170851318376, -1.3790506256730932, 0.2737799407998692, 0.2933588088351275, 2.193998753638677, -0.9831277301264092, -0.6521040024729443, 0.08051574029896495, -1.0062263833912914, 1.6888321692647374, 0.15860478630185132, -0.7264348973890741, 0.5551346042795282, -1.3221054329247246, -1.2046506987274948, 1.1490223551767262, -1.2035286945972503, 1.1709154926969032, 0.9661298764717131, -0.8044782297264162, -0.19666254507560318, 0.21441701157769927, 1.5613441239512482, 0.6650992702780203, 0.0815292219555825, 0.05595055934265063, 0.05073992580946308, -0.8345594810331837, 0.6646967497706436, -0.6068052519359592, -0.09796794490886163, 0.9956501209565106, 0.032888702181209435, 0.7282824374462252, -0.4421471221405374, -0.4996683018436185, -0.4598733633397587, -0.24246389263135104, -1.7254409975924612, -0.8704721991050504, -1.8617602897345804, -0.15657662661197377, -1.2433527551093784, 0.8198948294225307, -0.15002325359623633, 1.1776949232261975, -0.18486742703008133, -0.6473069114798748, -0.2878369954827269, -1.8137301176313945, 0.7335294261397506, -1.5121779899245575, 1.2057098440957132, -0.019324584000454413, 0.6889436920135882, -0.5661336612740878, -0.5653254134268597, 0.20453618725784742, 0.40107083955132516, 1.1740676398540935, -0.5776343666715368, 2.5216844274068357], \"yaxis\": \"y9\"}, {\"line\": {\"color\": \"rgba(128, 128, 128, 1.0)\", \"dash\": \"solid\", \"shape\": \"linear\", \"width\": 1.3}, \"marker\": {\"size\": 2, \"symbol\": \"circle\"}, \"mode\": \"markers\", \"name\": \"C\", \"text\": \"\", \"type\": \"scatter\", \"x\": [0.15135829454715108, 0.9795160147718429, 1.4214734609290678, -0.07097325758683996, -0.9210663836667375, 0.20378024537982453, -0.6100369380441374, -1.3466306621394803, -1.81632980066363, -0.15798779724206727, -1.018606443577509, -0.54437943019444, -0.48276994747208113, 0.57798424272942, -0.970914049767164, -0.4352116885815418, 0.8241358618851978, 1.2918990512894106, -0.11878729385443036, -0.24842332641139903, 0.4465616973650019, 0.7155306943090513, 1.9646290002462576, 0.7485402486486966, 2.301917351467514, -0.4584041069143579, -1.9769012314332277, -1.201105007029545, 1.669260528563722, 0.22156748859860562, -0.43902290576062286, -0.9269491629983333, -1.442120004125873, -1.1669983984588779, -0.2801873720734649, 2.5275136591199066, -0.020117546102519243, -1.5074242850340052, -1.3581481255377978, 1.0682872361234326, -0.4253891039927625, -0.9795015883734285, 0.7178957327501252, -1.1761437747950894, -1.6540195151829544, 1.6095607825891305, -0.8873683216168122, -1.6423713126718416, -0.17082902921556906, 1.4433275020088596, -0.23514827551444784, -0.18210764579747643, -0.47380473108659904, -0.30564100505727737, 0.39475719400621767, 0.927733729671384, 1.2414238982703922, 0.0029357777775479636, 0.869531108145011, -0.3108725300689207, 0.31612727830321374, 0.7637627871271956, -1.7022198823396548, 0.9700454378831772, -2.2371234275566225, 1.131637517157968, -0.393532240954233, -0.08165933539689739, 0.36858334803231196, -1.6126676133120872, -0.5352745521823805, 0.6346815353686975, 1.238888755284414, -1.0276900358987127, -0.3355367973642946, 0.37140192615612216, -0.8515083889392284, -2.9690855877133386, 0.6140107859520972, 0.43209277527755674, -1.0987784624213168, 0.20215234928410972, -0.46102411065062787, 1.4859285963890307, 1.3911792195871207, -1.3670903285961076, 0.22450940710990647, 0.4101279410076213, 1.977960208478093, 0.43079393165742125, -2.9129924250906174, -0.7310092701771267, 0.18258620922954666, 2.392127291109862, -0.2879343642592824, 1.8906107785898578, 0.7400795074044674, -1.3617204379633567, 0.7788471931365946, 0.6913717081312138], \"xaxis\": \"x10\", \"y\": [2.0051121159920675, -0.4493610805844231, -0.9084872076489361, -0.7721615517711781, 0.6541627047739164, -0.3851615542298961, 1.2241910700460494, -0.3594480352627832, 0.5303515075821974, 0.37821553681042497, 1.5265608993568685, 1.477366766187703, -0.8903976196943997, 0.6275104381096709, -1.1658828346957355, 0.5252728640062069, 0.4116834027002824, 2.704189848816628, -0.2226961420885588, 1.0244875423195368, 0.26495132075919875, -0.3335106453849119, -0.25051775523022307, -0.9421555886984696, -0.05185181898581905, 0.9892425401502507, 0.3019324275203719, 0.05095758835038916, -1.4812719426708845, 0.5548066618401524, 0.03745238658246062, 0.5074409459965565, -0.8466179648047617, -0.6704963196017796, -0.6190901486920855, 0.17827190177240412, 0.3664174458696268, 2.350125669806303, 0.043404170851318376, -1.3790506256730932, 0.2737799407998692, 0.2933588088351275, 2.193998753638677, -0.9831277301264092, -0.6521040024729443, 0.08051574029896495, -1.0062263833912914, 1.6888321692647374, 0.15860478630185132, -0.7264348973890741, 0.5551346042795282, -1.3221054329247246, -1.2046506987274948, 1.1490223551767262, -1.2035286945972503, 1.1709154926969032, 0.9661298764717131, -0.8044782297264162, -0.19666254507560318, 0.21441701157769927, 1.5613441239512482, 0.6650992702780203, 0.0815292219555825, 0.05595055934265063, 0.05073992580946308, -0.8345594810331837, 0.6646967497706436, -0.6068052519359592, -0.09796794490886163, 0.9956501209565106, 0.032888702181209435, 0.7282824374462252, -0.4421471221405374, -0.4996683018436185, -0.4598733633397587, -0.24246389263135104, -1.7254409975924612, -0.8704721991050504, -1.8617602897345804, -0.15657662661197377, -1.2433527551093784, 0.8198948294225307, -0.15002325359623633, 1.1776949232261975, -0.18486742703008133, -0.6473069114798748, -0.2878369954827269, -1.8137301176313945, 0.7335294261397506, -1.5121779899245575, 1.2057098440957132, -0.019324584000454413, 0.6889436920135882, -0.5661336612740878, -0.5653254134268597, 0.20453618725784742, 0.40107083955132516, 1.1740676398540935, -0.5776343666715368, 2.5216844274068357], \"yaxis\": \"y10\"}, {\"histfunc\": \"count\", \"histnorm\": \"\", \"marker\": {\"color\": \"rgba(50, 171, 96, 1.0)\", \"line\": {\"color\": \"#4D5663\", \"width\": 1.3}}, \"name\": \"C\", \"nbinsx\": 10, \"opacity\": 0.8, \"orientation\": \"v\", \"type\": \"histogram\", \"x\": [2.0051121159920675, -0.4493610805844231, -0.9084872076489361, -0.7721615517711781, 0.6541627047739164, -0.3851615542298961, 1.2241910700460494, -0.3594480352627832, 0.5303515075821974, 0.37821553681042497, 1.5265608993568685, 1.477366766187703, -0.8903976196943997, 0.6275104381096709, -1.1658828346957355, 0.5252728640062069, 0.4116834027002824, 2.704189848816628, -0.2226961420885588, 1.0244875423195368, 0.26495132075919875, -0.3335106453849119, -0.25051775523022307, -0.9421555886984696, -0.05185181898581905, 0.9892425401502507, 0.3019324275203719, 0.05095758835038916, -1.4812719426708845, 0.5548066618401524, 0.03745238658246062, 0.5074409459965565, -0.8466179648047617, -0.6704963196017796, -0.6190901486920855, 0.17827190177240412, 0.3664174458696268, 2.350125669806303, 0.043404170851318376, -1.3790506256730932, 0.2737799407998692, 0.2933588088351275, 2.193998753638677, -0.9831277301264092, -0.6521040024729443, 0.08051574029896495, -1.0062263833912914, 1.6888321692647374, 0.15860478630185132, -0.7264348973890741, 0.5551346042795282, -1.3221054329247246, -1.2046506987274948, 1.1490223551767262, -1.2035286945972503, 1.1709154926969032, 0.9661298764717131, -0.8044782297264162, -0.19666254507560318, 0.21441701157769927, 1.5613441239512482, 0.6650992702780203, 0.0815292219555825, 0.05595055934265063, 0.05073992580946308, -0.8345594810331837, 0.6646967497706436, -0.6068052519359592, -0.09796794490886163, 0.9956501209565106, 0.032888702181209435, 0.7282824374462252, -0.4421471221405374, -0.4996683018436185, -0.4598733633397587, -0.24246389263135104, -1.7254409975924612, -0.8704721991050504, -1.8617602897345804, -0.15657662661197377, -1.2433527551093784, 0.8198948294225307, -0.15002325359623633, 1.1776949232261975, -0.18486742703008133, -0.6473069114798748, -0.2878369954827269, -1.8137301176313945, 0.7335294261397506, -1.5121779899245575, 1.2057098440957132, -0.019324584000454413, 0.6889436920135882, -0.5661336612740878, -0.5653254134268597, 0.20453618725784742, 0.40107083955132516, 1.1740676398540935, -0.5776343666715368, 2.5216844274068357], \"xaxis\": \"x11\", \"yaxis\": \"y11\"}, {\"line\": {\"color\": \"rgba(128, 128, 128, 1.0)\", \"dash\": \"solid\", \"shape\": \"linear\", \"width\": 1.3}, \"marker\": {\"size\": 2, \"symbol\": \"circle\"}, \"mode\": \"markers\", \"name\": \"C\", \"text\": \"\", \"type\": \"scatter\", \"x\": [-1.4565733558087668, 0.5262369172878351, 0.48945774743941195, -0.21293033404058415, -0.16324889199076464, 0.630598484174999, 0.692077637937127, -0.3331147371984391, 0.1929030040351164, -0.3218766183486016, -1.6425369944411325, -0.7678250927492929, 1.2659835307747669, 0.8184210393122054, -0.024633339865551607, -1.249002879317465, 0.9295234623087013, 0.8493978136587808, -0.46047237624499265, -0.5778972033554954, 0.4189611998456919, -0.5505020499045066, 0.8781183000200152, -0.7305458201604784, 0.4260424892761426, -1.1154404173816563, 1.7386153510183529, 1.8996270301248646, -0.022043989066206783, -2.08107613924143, 0.10383859554091508, 1.300271012272863, -0.44790591147914155, 0.32454891365895494, 0.723557539054515, -0.4526175565216972, 1.5793439257679158, -1.2460820007359723, 1.115935175496016, -0.07877482710809654, -1.730466220665265, 1.846744729189646, -0.19870976067514978, -0.12123592053565618, 1.3852277591750157, -0.2656543567586974, -0.07555173388232261, 0.07777723955138618, 0.907301321878093, -0.4107678910895667, 1.0969607063495408, 2.312284690894676, 0.35708899337781286, -0.14919636371702155, 0.10587794777827615, 0.19445728205069596, -0.05300858756121772, 0.8949819385269817, 2.218827117112159, 0.7060532591602858, -0.131418896375061, 0.491284065175089, -0.9893054759795129, -0.08954705247396552, 0.27609733254111335, 1.702681047136967, 0.22434733425503514, 0.6696692982817731, 2.314142962463807, 1.0622561275932678, -0.4295730165307976, 1.268635692597944, -0.5617857296247518, -0.04831566984239649, 0.6961244218118591, 0.04787514173602842, -2.4211481405527833, 0.3895740200646518, -1.3291272982016469, 0.11889810264841535, -0.08730316360939917, 0.21079474055037464, 0.5034361648353576, -0.868718445356883, -0.0994953565207857, 0.15250135972298487, 1.9040880921245162, 0.0779133281913371, -1.245117905007259, -0.09485339001235499, 0.8882549753384171, -0.26831172103457623, -0.9086119757298903, 0.33148975957829013, -0.15318039179708207, 0.11562239596100848, 0.7578807194141244, -0.5585578756818593, -1.2714220005791093, -1.3660870756577828], \"xaxis\": \"x12\", \"y\": [2.0051121159920675, -0.4493610805844231, -0.9084872076489361, -0.7721615517711781, 0.6541627047739164, -0.3851615542298961, 1.2241910700460494, -0.3594480352627832, 0.5303515075821974, 0.37821553681042497, 1.5265608993568685, 1.477366766187703, -0.8903976196943997, 0.6275104381096709, -1.1658828346957355, 0.5252728640062069, 0.4116834027002824, 2.704189848816628, -0.2226961420885588, 1.0244875423195368, 0.26495132075919875, -0.3335106453849119, -0.25051775523022307, -0.9421555886984696, -0.05185181898581905, 0.9892425401502507, 0.3019324275203719, 0.05095758835038916, -1.4812719426708845, 0.5548066618401524, 0.03745238658246062, 0.5074409459965565, -0.8466179648047617, -0.6704963196017796, -0.6190901486920855, 0.17827190177240412, 0.3664174458696268, 2.350125669806303, 0.043404170851318376, -1.3790506256730932, 0.2737799407998692, 0.2933588088351275, 2.193998753638677, -0.9831277301264092, -0.6521040024729443, 0.08051574029896495, -1.0062263833912914, 1.6888321692647374, 0.15860478630185132, -0.7264348973890741, 0.5551346042795282, -1.3221054329247246, -1.2046506987274948, 1.1490223551767262, -1.2035286945972503, 1.1709154926969032, 0.9661298764717131, -0.8044782297264162, -0.19666254507560318, 0.21441701157769927, 1.5613441239512482, 0.6650992702780203, 0.0815292219555825, 0.05595055934265063, 0.05073992580946308, -0.8345594810331837, 0.6646967497706436, -0.6068052519359592, -0.09796794490886163, 0.9956501209565106, 0.032888702181209435, 0.7282824374462252, -0.4421471221405374, -0.4996683018436185, -0.4598733633397587, -0.24246389263135104, -1.7254409975924612, -0.8704721991050504, -1.8617602897345804, -0.15657662661197377, -1.2433527551093784, 0.8198948294225307, -0.15002325359623633, 1.1776949232261975, -0.18486742703008133, -0.6473069114798748, -0.2878369954827269, -1.8137301176313945, 0.7335294261397506, -1.5121779899245575, 1.2057098440957132, -0.019324584000454413, 0.6889436920135882, -0.5661336612740878, -0.5653254134268597, 0.20453618725784742, 0.40107083955132516, 1.1740676398540935, -0.5776343666715368, 2.5216844274068357], \"yaxis\": \"y12\"}, {\"line\": {\"color\": \"rgba(128, 128, 128, 1.0)\", \"dash\": \"solid\", \"shape\": \"linear\", \"width\": 1.3}, \"marker\": {\"size\": 2, \"symbol\": \"circle\"}, \"mode\": \"markers\", \"name\": \"D\", \"text\": \"\", \"type\": \"scatter\", \"x\": [0.20809043819086845, -0.019341506915506363, 0.6710928486171988, -0.32374262692684636, -0.08933950365355328, -2.4870153305002876, -0.0828445187959473, 0.5765196640599008, -1.45974335926409, -0.7039420056988792, 0.07374623781588262, 1.3890599308664364, -0.4065140417790279, -1.5534252482243656, -0.5223086210478873, 1.0283472012969124, -0.7782606201795501, -1.1134140955232776, 1.545117883927185, 0.6536675243606903, -0.4635661135202583, -1.3776886078026092, 0.5157479741118118, 0.48495411771132285, -1.498163791196165, 0.186173316287323, -0.6084259450245122, 0.1385458239150797, -0.34327731015590035, 1.3057395117869839, -0.8507861830526204, 0.07068108652281078, 0.5609468060125844, 0.8436003826923163, -0.5544739466474897, 0.304567437465066, 0.07380956245430079, 0.6770820944557193, 0.9958583944756741, -0.8843872234471372, -0.5686911224280439, -0.4833310001350282, 1.0444287952056812, -1.0247446450677433, -0.04442966989560093, -0.8533122995490622, 0.6530986336452997, -0.7022015322286137, 1.2062876705027765, -2.0339563452164966, 0.48742624290522124, 0.6589028909488218, -2.3421002379617333, -0.7722454389655053, 0.02882023909271555, -1.534494316301149, 0.38125317141931553, 0.9658911532176244, -0.36784839411375353, 0.7996346562293096, -1.6665252924104532, -0.4099124667256445, -0.6272330819731242, 0.22436834840107997, -0.587796897611996, -0.21185255449597312, -0.012570892599201121, -0.54279177228348, -2.6560874773893772, 0.3149100180434697, 2.010648660253624, 0.5551898627890857, -1.4963775556776142, -0.5877273554807264, 0.07257979710473213, 0.15338192801483436, -0.5596087652557075, 0.9007287289028704, 0.7994878115707456, -0.8204821180718412, 0.28035281575665505, 0.23986792951813127, -0.19554464475260425, 1.490723752902071, -0.20027691553987273, -0.5566182124634896, -0.2586965268169799, 0.8988418941151963, -0.12990886192371434, 0.02546613837971286, -1.0416098497036679, -1.5819094674443275, -0.13181985295975357, 1.2325838746792015, -1.1327957870240355, 0.34605049462143017, 1.706190747987443, 2.1433316293580784, 0.3271201022174498, -0.7168867904851405], \"xaxis\": \"x13\", \"y\": [-1.4565733558087668, 0.5262369172878351, 0.48945774743941195, -0.21293033404058415, -0.16324889199076464, 0.630598484174999, 0.692077637937127, -0.3331147371984391, 0.1929030040351164, -0.3218766183486016, -1.6425369944411325, -0.7678250927492929, 1.2659835307747669, 0.8184210393122054, -0.024633339865551607, -1.249002879317465, 0.9295234623087013, 0.8493978136587808, -0.46047237624499265, -0.5778972033554954, 0.4189611998456919, -0.5505020499045066, 0.8781183000200152, -0.7305458201604784, 0.4260424892761426, -1.1154404173816563, 1.7386153510183529, 1.8996270301248646, -0.022043989066206783, -2.08107613924143, 0.10383859554091508, 1.300271012272863, -0.44790591147914155, 0.32454891365895494, 0.723557539054515, -0.4526175565216972, 1.5793439257679158, -1.2460820007359723, 1.115935175496016, -0.07877482710809654, -1.730466220665265, 1.846744729189646, -0.19870976067514978, -0.12123592053565618, 1.3852277591750157, -0.2656543567586974, -0.07555173388232261, 0.07777723955138618, 0.907301321878093, -0.4107678910895667, 1.0969607063495408, 2.312284690894676, 0.35708899337781286, -0.14919636371702155, 0.10587794777827615, 0.19445728205069596, -0.05300858756121772, 0.8949819385269817, 2.218827117112159, 0.7060532591602858, -0.131418896375061, 0.491284065175089, -0.9893054759795129, -0.08954705247396552, 0.27609733254111335, 1.702681047136967, 0.22434733425503514, 0.6696692982817731, 2.314142962463807, 1.0622561275932678, -0.4295730165307976, 1.268635692597944, -0.5617857296247518, -0.04831566984239649, 0.6961244218118591, 0.04787514173602842, -2.4211481405527833, 0.3895740200646518, -1.3291272982016469, 0.11889810264841535, -0.08730316360939917, 0.21079474055037464, 0.5034361648353576, -0.868718445356883, -0.0994953565207857, 0.15250135972298487, 1.9040880921245162, 0.0779133281913371, -1.245117905007259, -0.09485339001235499, 0.8882549753384171, -0.26831172103457623, -0.9086119757298903, 0.33148975957829013, -0.15318039179708207, 0.11562239596100848, 0.7578807194141244, -0.5585578756818593, -1.2714220005791093, -1.3660870756577828], \"yaxis\": \"y13\"}, {\"line\": {\"color\": \"rgba(128, 128, 128, 1.0)\", \"dash\": \"solid\", \"shape\": \"linear\", \"width\": 1.3}, \"marker\": {\"size\": 2, \"symbol\": \"circle\"}, \"mode\": \"markers\", \"name\": \"D\", \"text\": \"\", \"type\": \"scatter\", \"x\": [0.15135829454715108, 0.9795160147718429, 1.4214734609290678, -0.07097325758683996, -0.9210663836667375, 0.20378024537982453, -0.6100369380441374, -1.3466306621394803, -1.81632980066363, -0.15798779724206727, -1.018606443577509, -0.54437943019444, -0.48276994747208113, 0.57798424272942, -0.970914049767164, -0.4352116885815418, 0.8241358618851978, 1.2918990512894106, -0.11878729385443036, -0.24842332641139903, 0.4465616973650019, 0.7155306943090513, 1.9646290002462576, 0.7485402486486966, 2.301917351467514, -0.4584041069143579, -1.9769012314332277, -1.201105007029545, 1.669260528563722, 0.22156748859860562, -0.43902290576062286, -0.9269491629983333, -1.442120004125873, -1.1669983984588779, -0.2801873720734649, 2.5275136591199066, -0.020117546102519243, -1.5074242850340052, -1.3581481255377978, 1.0682872361234326, -0.4253891039927625, -0.9795015883734285, 0.7178957327501252, -1.1761437747950894, -1.6540195151829544, 1.6095607825891305, -0.8873683216168122, -1.6423713126718416, -0.17082902921556906, 1.4433275020088596, -0.23514827551444784, -0.18210764579747643, -0.47380473108659904, -0.30564100505727737, 0.39475719400621767, 0.927733729671384, 1.2414238982703922, 0.0029357777775479636, 0.869531108145011, -0.3108725300689207, 0.31612727830321374, 0.7637627871271956, -1.7022198823396548, 0.9700454378831772, -2.2371234275566225, 1.131637517157968, -0.393532240954233, -0.08165933539689739, 0.36858334803231196, -1.6126676133120872, -0.5352745521823805, 0.6346815353686975, 1.238888755284414, -1.0276900358987127, -0.3355367973642946, 0.37140192615612216, -0.8515083889392284, -2.9690855877133386, 0.6140107859520972, 0.43209277527755674, -1.0987784624213168, 0.20215234928410972, -0.46102411065062787, 1.4859285963890307, 1.3911792195871207, -1.3670903285961076, 0.22450940710990647, 0.4101279410076213, 1.977960208478093, 0.43079393165742125, -2.9129924250906174, -0.7310092701771267, 0.18258620922954666, 2.392127291109862, -0.2879343642592824, 1.8906107785898578, 0.7400795074044674, -1.3617204379633567, 0.7788471931365946, 0.6913717081312138], \"xaxis\": \"x14\", \"y\": [-1.4565733558087668, 0.5262369172878351, 0.48945774743941195, -0.21293033404058415, -0.16324889199076464, 0.630598484174999, 0.692077637937127, -0.3331147371984391, 0.1929030040351164, -0.3218766183486016, -1.6425369944411325, -0.7678250927492929, 1.2659835307747669, 0.8184210393122054, -0.024633339865551607, -1.249002879317465, 0.9295234623087013, 0.8493978136587808, -0.46047237624499265, -0.5778972033554954, 0.4189611998456919, -0.5505020499045066, 0.8781183000200152, -0.7305458201604784, 0.4260424892761426, -1.1154404173816563, 1.7386153510183529, 1.8996270301248646, -0.022043989066206783, -2.08107613924143, 0.10383859554091508, 1.300271012272863, -0.44790591147914155, 0.32454891365895494, 0.723557539054515, -0.4526175565216972, 1.5793439257679158, -1.2460820007359723, 1.115935175496016, -0.07877482710809654, -1.730466220665265, 1.846744729189646, -0.19870976067514978, -0.12123592053565618, 1.3852277591750157, -0.2656543567586974, -0.07555173388232261, 0.07777723955138618, 0.907301321878093, -0.4107678910895667, 1.0969607063495408, 2.312284690894676, 0.35708899337781286, -0.14919636371702155, 0.10587794777827615, 0.19445728205069596, -0.05300858756121772, 0.8949819385269817, 2.218827117112159, 0.7060532591602858, -0.131418896375061, 0.491284065175089, -0.9893054759795129, -0.08954705247396552, 0.27609733254111335, 1.702681047136967, 0.22434733425503514, 0.6696692982817731, 2.314142962463807, 1.0622561275932678, -0.4295730165307976, 1.268635692597944, -0.5617857296247518, -0.04831566984239649, 0.6961244218118591, 0.04787514173602842, -2.4211481405527833, 0.3895740200646518, -1.3291272982016469, 0.11889810264841535, -0.08730316360939917, 0.21079474055037464, 0.5034361648353576, -0.868718445356883, -0.0994953565207857, 0.15250135972298487, 1.9040880921245162, 0.0779133281913371, -1.245117905007259, -0.09485339001235499, 0.8882549753384171, -0.26831172103457623, -0.9086119757298903, 0.33148975957829013, -0.15318039179708207, 0.11562239596100848, 0.7578807194141244, -0.5585578756818593, -1.2714220005791093, -1.3660870756577828], \"yaxis\": \"y14\"}, {\"line\": {\"color\": \"rgba(128, 128, 128, 1.0)\", \"dash\": \"solid\", \"shape\": \"linear\", \"width\": 1.3}, \"marker\": {\"size\": 2, \"symbol\": \"circle\"}, \"mode\": \"markers\", \"name\": \"D\", \"text\": \"\", \"type\": \"scatter\", \"x\": [2.0051121159920675, -0.4493610805844231, -0.9084872076489361, -0.7721615517711781, 0.6541627047739164, -0.3851615542298961, 1.2241910700460494, -0.3594480352627832, 0.5303515075821974, 0.37821553681042497, 1.5265608993568685, 1.477366766187703, -0.8903976196943997, 0.6275104381096709, -1.1658828346957355, 0.5252728640062069, 0.4116834027002824, 2.704189848816628, -0.2226961420885588, 1.0244875423195368, 0.26495132075919875, -0.3335106453849119, -0.25051775523022307, -0.9421555886984696, -0.05185181898581905, 0.9892425401502507, 0.3019324275203719, 0.05095758835038916, -1.4812719426708845, 0.5548066618401524, 0.03745238658246062, 0.5074409459965565, -0.8466179648047617, -0.6704963196017796, -0.6190901486920855, 0.17827190177240412, 0.3664174458696268, 2.350125669806303, 0.043404170851318376, -1.3790506256730932, 0.2737799407998692, 0.2933588088351275, 2.193998753638677, -0.9831277301264092, -0.6521040024729443, 0.08051574029896495, -1.0062263833912914, 1.6888321692647374, 0.15860478630185132, -0.7264348973890741, 0.5551346042795282, -1.3221054329247246, -1.2046506987274948, 1.1490223551767262, -1.2035286945972503, 1.1709154926969032, 0.9661298764717131, -0.8044782297264162, -0.19666254507560318, 0.21441701157769927, 1.5613441239512482, 0.6650992702780203, 0.0815292219555825, 0.05595055934265063, 0.05073992580946308, -0.8345594810331837, 0.6646967497706436, -0.6068052519359592, -0.09796794490886163, 0.9956501209565106, 0.032888702181209435, 0.7282824374462252, -0.4421471221405374, -0.4996683018436185, -0.4598733633397587, -0.24246389263135104, -1.7254409975924612, -0.8704721991050504, -1.8617602897345804, -0.15657662661197377, -1.2433527551093784, 0.8198948294225307, -0.15002325359623633, 1.1776949232261975, -0.18486742703008133, -0.6473069114798748, -0.2878369954827269, -1.8137301176313945, 0.7335294261397506, -1.5121779899245575, 1.2057098440957132, -0.019324584000454413, 0.6889436920135882, -0.5661336612740878, -0.5653254134268597, 0.20453618725784742, 0.40107083955132516, 1.1740676398540935, -0.5776343666715368, 2.5216844274068357], \"xaxis\": \"x15\", \"y\": [-1.4565733558087668, 0.5262369172878351, 0.48945774743941195, -0.21293033404058415, -0.16324889199076464, 0.630598484174999, 0.692077637937127, -0.3331147371984391, 0.1929030040351164, -0.3218766183486016, -1.6425369944411325, -0.7678250927492929, 1.2659835307747669, 0.8184210393122054, -0.024633339865551607, -1.249002879317465, 0.9295234623087013, 0.8493978136587808, -0.46047237624499265, -0.5778972033554954, 0.4189611998456919, -0.5505020499045066, 0.8781183000200152, -0.7305458201604784, 0.4260424892761426, -1.1154404173816563, 1.7386153510183529, 1.8996270301248646, -0.022043989066206783, -2.08107613924143, 0.10383859554091508, 1.300271012272863, -0.44790591147914155, 0.32454891365895494, 0.723557539054515, -0.4526175565216972, 1.5793439257679158, -1.2460820007359723, 1.115935175496016, -0.07877482710809654, -1.730466220665265, 1.846744729189646, -0.19870976067514978, -0.12123592053565618, 1.3852277591750157, -0.2656543567586974, -0.07555173388232261, 0.07777723955138618, 0.907301321878093, -0.4107678910895667, 1.0969607063495408, 2.312284690894676, 0.35708899337781286, -0.14919636371702155, 0.10587794777827615, 0.19445728205069596, -0.05300858756121772, 0.8949819385269817, 2.218827117112159, 0.7060532591602858, -0.131418896375061, 0.491284065175089, -0.9893054759795129, -0.08954705247396552, 0.27609733254111335, 1.702681047136967, 0.22434733425503514, 0.6696692982817731, 2.314142962463807, 1.0622561275932678, -0.4295730165307976, 1.268635692597944, -0.5617857296247518, -0.04831566984239649, 0.6961244218118591, 0.04787514173602842, -2.4211481405527833, 0.3895740200646518, -1.3291272982016469, 0.11889810264841535, -0.08730316360939917, 0.21079474055037464, 0.5034361648353576, -0.868718445356883, -0.0994953565207857, 0.15250135972298487, 1.9040880921245162, 0.0779133281913371, -1.245117905007259, -0.09485339001235499, 0.8882549753384171, -0.26831172103457623, -0.9086119757298903, 0.33148975957829013, -0.15318039179708207, 0.11562239596100848, 0.7578807194141244, -0.5585578756818593, -1.2714220005791093, -1.3660870756577828], \"yaxis\": \"y15\"}, {\"histfunc\": \"count\", \"histnorm\": \"\", \"marker\": {\"color\": \"rgba(128, 0, 128, 1.0)\", \"line\": {\"color\": \"#4D5663\", \"width\": 1.3}}, \"name\": \"D\", \"nbinsx\": 10, \"opacity\": 0.8, \"orientation\": \"v\", \"type\": \"histogram\", \"x\": [-1.4565733558087668, 0.5262369172878351, 0.48945774743941195, -0.21293033404058415, -0.16324889199076464, 0.630598484174999, 0.692077637937127, -0.3331147371984391, 0.1929030040351164, -0.3218766183486016, -1.6425369944411325, -0.7678250927492929, 1.2659835307747669, 0.8184210393122054, -0.024633339865551607, -1.249002879317465, 0.9295234623087013, 0.8493978136587808, -0.46047237624499265, -0.5778972033554954, 0.4189611998456919, -0.5505020499045066, 0.8781183000200152, -0.7305458201604784, 0.4260424892761426, -1.1154404173816563, 1.7386153510183529, 1.8996270301248646, -0.022043989066206783, -2.08107613924143, 0.10383859554091508, 1.300271012272863, -0.44790591147914155, 0.32454891365895494, 0.723557539054515, -0.4526175565216972, 1.5793439257679158, -1.2460820007359723, 1.115935175496016, -0.07877482710809654, -1.730466220665265, 1.846744729189646, -0.19870976067514978, -0.12123592053565618, 1.3852277591750157, -0.2656543567586974, -0.07555173388232261, 0.07777723955138618, 0.907301321878093, -0.4107678910895667, 1.0969607063495408, 2.312284690894676, 0.35708899337781286, -0.14919636371702155, 0.10587794777827615, 0.19445728205069596, -0.05300858756121772, 0.8949819385269817, 2.218827117112159, 0.7060532591602858, -0.131418896375061, 0.491284065175089, -0.9893054759795129, -0.08954705247396552, 0.27609733254111335, 1.702681047136967, 0.22434733425503514, 0.6696692982817731, 2.314142962463807, 1.0622561275932678, -0.4295730165307976, 1.268635692597944, -0.5617857296247518, -0.04831566984239649, 0.6961244218118591, 0.04787514173602842, -2.4211481405527833, 0.3895740200646518, -1.3291272982016469, 0.11889810264841535, -0.08730316360939917, 0.21079474055037464, 0.5034361648353576, -0.868718445356883, -0.0994953565207857, 0.15250135972298487, 1.9040880921245162, 0.0779133281913371, -1.245117905007259, -0.09485339001235499, 0.8882549753384171, -0.26831172103457623, -0.9086119757298903, 0.33148975957829013, -0.15318039179708207, 0.11562239596100848, 0.7578807194141244, -0.5585578756818593, -1.2714220005791093, -1.3660870756577828], \"xaxis\": \"x16\", \"yaxis\": \"y16\"}],\n",
       "                        {\"bargap\": 0.02, \"legend\": {\"bgcolor\": \"#F5F6F9\", \"font\": {\"color\": \"#4D5663\"}}, \"paper_bgcolor\": \"#F5F6F9\", \"plot_bgcolor\": \"#F5F6F9\", \"showlegend\": false, \"template\": {\"data\": {\"bar\": [{\"error_x\": {\"color\": \"#2a3f5f\"}, \"error_y\": {\"color\": \"#2a3f5f\"}, \"marker\": {\"line\": {\"color\": \"#E5ECF6\", \"width\": 0.5}}, \"type\": \"bar\"}], \"barpolar\": [{\"marker\": {\"line\": {\"color\": \"#E5ECF6\", \"width\": 0.5}}, \"type\": \"barpolar\"}], \"carpet\": [{\"aaxis\": {\"endlinecolor\": \"#2a3f5f\", \"gridcolor\": \"white\", \"linecolor\": \"white\", \"minorgridcolor\": \"white\", \"startlinecolor\": \"#2a3f5f\"}, \"baxis\": {\"endlinecolor\": \"#2a3f5f\", \"gridcolor\": \"white\", \"linecolor\": \"white\", \"minorgridcolor\": \"white\", \"startlinecolor\": \"#2a3f5f\"}, \"type\": \"carpet\"}], \"choropleth\": [{\"colorbar\": {\"outlinewidth\": 0, \"ticks\": \"\"}, \"type\": \"choropleth\"}], \"contour\": [{\"colorbar\": {\"outlinewidth\": 0, \"ticks\": \"\"}, \"colorscale\": [[0.0, \"#0d0887\"], [0.1111111111111111, \"#46039f\"], [0.2222222222222222, \"#7201a8\"], [0.3333333333333333, \"#9c179e\"], [0.4444444444444444, \"#bd3786\"], [0.5555555555555556, \"#d8576b\"], [0.6666666666666666, \"#ed7953\"], [0.7777777777777778, \"#fb9f3a\"], [0.8888888888888888, \"#fdca26\"], [1.0, \"#f0f921\"]], \"type\": \"contour\"}], \"contourcarpet\": [{\"colorbar\": {\"outlinewidth\": 0, \"ticks\": \"\"}, \"type\": \"contourcarpet\"}], \"heatmap\": [{\"colorbar\": {\"outlinewidth\": 0, \"ticks\": \"\"}, \"colorscale\": [[0.0, \"#0d0887\"], [0.1111111111111111, \"#46039f\"], [0.2222222222222222, \"#7201a8\"], [0.3333333333333333, \"#9c179e\"], [0.4444444444444444, \"#bd3786\"], [0.5555555555555556, \"#d8576b\"], [0.6666666666666666, \"#ed7953\"], [0.7777777777777778, \"#fb9f3a\"], [0.8888888888888888, \"#fdca26\"], [1.0, \"#f0f921\"]], \"type\": \"heatmap\"}], \"heatmapgl\": [{\"colorbar\": {\"outlinewidth\": 0, \"ticks\": \"\"}, \"colorscale\": [[0.0, \"#0d0887\"], [0.1111111111111111, \"#46039f\"], [0.2222222222222222, \"#7201a8\"], [0.3333333333333333, \"#9c179e\"], [0.4444444444444444, \"#bd3786\"], [0.5555555555555556, \"#d8576b\"], [0.6666666666666666, \"#ed7953\"], [0.7777777777777778, \"#fb9f3a\"], [0.8888888888888888, \"#fdca26\"], [1.0, \"#f0f921\"]], \"type\": \"heatmapgl\"}], \"histogram\": [{\"marker\": {\"colorbar\": {\"outlinewidth\": 0, \"ticks\": \"\"}}, \"type\": \"histogram\"}], \"histogram2d\": [{\"colorbar\": {\"outlinewidth\": 0, \"ticks\": \"\"}, \"colorscale\": [[0.0, \"#0d0887\"], [0.1111111111111111, \"#46039f\"], [0.2222222222222222, \"#7201a8\"], [0.3333333333333333, \"#9c179e\"], [0.4444444444444444, \"#bd3786\"], [0.5555555555555556, \"#d8576b\"], [0.6666666666666666, \"#ed7953\"], [0.7777777777777778, \"#fb9f3a\"], [0.8888888888888888, \"#fdca26\"], [1.0, \"#f0f921\"]], \"type\": \"histogram2d\"}], \"histogram2dcontour\": [{\"colorbar\": {\"outlinewidth\": 0, \"ticks\": \"\"}, \"colorscale\": [[0.0, \"#0d0887\"], [0.1111111111111111, \"#46039f\"], [0.2222222222222222, \"#7201a8\"], [0.3333333333333333, \"#9c179e\"], [0.4444444444444444, \"#bd3786\"], [0.5555555555555556, \"#d8576b\"], [0.6666666666666666, \"#ed7953\"], [0.7777777777777778, \"#fb9f3a\"], [0.8888888888888888, \"#fdca26\"], [1.0, \"#f0f921\"]], \"type\": \"histogram2dcontour\"}], \"mesh3d\": [{\"colorbar\": {\"outlinewidth\": 0, \"ticks\": \"\"}, \"type\": \"mesh3d\"}], \"parcoords\": [{\"line\": {\"colorbar\": {\"outlinewidth\": 0, \"ticks\": \"\"}}, \"type\": \"parcoords\"}], \"pie\": [{\"automargin\": true, \"type\": \"pie\"}], \"scatter\": [{\"marker\": {\"colorbar\": {\"outlinewidth\": 0, \"ticks\": \"\"}}, \"type\": \"scatter\"}], \"scatter3d\": [{\"line\": {\"colorbar\": {\"outlinewidth\": 0, \"ticks\": \"\"}}, \"marker\": {\"colorbar\": {\"outlinewidth\": 0, \"ticks\": \"\"}}, \"type\": \"scatter3d\"}], \"scattercarpet\": [{\"marker\": {\"colorbar\": {\"outlinewidth\": 0, \"ticks\": \"\"}}, \"type\": \"scattercarpet\"}], \"scattergeo\": [{\"marker\": {\"colorbar\": {\"outlinewidth\": 0, \"ticks\": \"\"}}, \"type\": \"scattergeo\"}], \"scattergl\": [{\"marker\": {\"colorbar\": {\"outlinewidth\": 0, \"ticks\": \"\"}}, \"type\": \"scattergl\"}], \"scattermapbox\": [{\"marker\": {\"colorbar\": {\"outlinewidth\": 0, \"ticks\": \"\"}}, \"type\": \"scattermapbox\"}], \"scatterpolar\": [{\"marker\": {\"colorbar\": {\"outlinewidth\": 0, \"ticks\": \"\"}}, \"type\": \"scatterpolar\"}], \"scatterpolargl\": [{\"marker\": {\"colorbar\": {\"outlinewidth\": 0, \"ticks\": \"\"}}, \"type\": \"scatterpolargl\"}], \"scatterternary\": [{\"marker\": {\"colorbar\": {\"outlinewidth\": 0, \"ticks\": \"\"}}, \"type\": \"scatterternary\"}], \"surface\": [{\"colorbar\": {\"outlinewidth\": 0, \"ticks\": \"\"}, \"colorscale\": [[0.0, \"#0d0887\"], [0.1111111111111111, \"#46039f\"], [0.2222222222222222, \"#7201a8\"], [0.3333333333333333, \"#9c179e\"], [0.4444444444444444, \"#bd3786\"], [0.5555555555555556, \"#d8576b\"], [0.6666666666666666, \"#ed7953\"], [0.7777777777777778, \"#fb9f3a\"], [0.8888888888888888, \"#fdca26\"], [1.0, \"#f0f921\"]], \"type\": \"surface\"}], \"table\": [{\"cells\": {\"fill\": {\"color\": \"#EBF0F8\"}, \"line\": {\"color\": \"white\"}}, \"header\": {\"fill\": {\"color\": \"#C8D4E3\"}, \"line\": {\"color\": \"white\"}}, \"type\": \"table\"}]}, \"layout\": {\"annotationdefaults\": {\"arrowcolor\": \"#2a3f5f\", \"arrowhead\": 0, \"arrowwidth\": 1}, \"coloraxis\": {\"colorbar\": {\"outlinewidth\": 0, \"ticks\": \"\"}}, \"colorscale\": {\"diverging\": [[0, \"#8e0152\"], [0.1, \"#c51b7d\"], [0.2, \"#de77ae\"], [0.3, \"#f1b6da\"], [0.4, \"#fde0ef\"], [0.5, \"#f7f7f7\"], [0.6, \"#e6f5d0\"], [0.7, \"#b8e186\"], [0.8, \"#7fbc41\"], [0.9, \"#4d9221\"], [1, \"#276419\"]], \"sequential\": [[0.0, \"#0d0887\"], [0.1111111111111111, \"#46039f\"], [0.2222222222222222, \"#7201a8\"], [0.3333333333333333, \"#9c179e\"], [0.4444444444444444, \"#bd3786\"], [0.5555555555555556, \"#d8576b\"], [0.6666666666666666, \"#ed7953\"], [0.7777777777777778, \"#fb9f3a\"], [0.8888888888888888, \"#fdca26\"], [1.0, \"#f0f921\"]], \"sequentialminus\": [[0.0, \"#0d0887\"], [0.1111111111111111, \"#46039f\"], [0.2222222222222222, \"#7201a8\"], [0.3333333333333333, \"#9c179e\"], [0.4444444444444444, \"#bd3786\"], [0.5555555555555556, \"#d8576b\"], [0.6666666666666666, \"#ed7953\"], [0.7777777777777778, \"#fb9f3a\"], [0.8888888888888888, \"#fdca26\"], [1.0, \"#f0f921\"]]}, \"colorway\": [\"#636efa\", \"#EF553B\", \"#00cc96\", \"#ab63fa\", \"#FFA15A\", \"#19d3f3\", \"#FF6692\", \"#B6E880\", \"#FF97FF\", \"#FECB52\"], \"font\": {\"color\": \"#2a3f5f\"}, \"geo\": {\"bgcolor\": \"white\", \"lakecolor\": \"white\", \"landcolor\": \"#E5ECF6\", \"showlakes\": true, \"showland\": true, \"subunitcolor\": \"white\"}, \"hoverlabel\": {\"align\": \"left\"}, \"hovermode\": \"closest\", \"mapbox\": {\"style\": \"light\"}, \"paper_bgcolor\": \"white\", \"plot_bgcolor\": \"#E5ECF6\", \"polar\": {\"angularaxis\": {\"gridcolor\": \"white\", \"linecolor\": \"white\", \"ticks\": \"\"}, \"bgcolor\": \"#E5ECF6\", \"radialaxis\": {\"gridcolor\": \"white\", \"linecolor\": \"white\", \"ticks\": \"\"}}, \"scene\": {\"xaxis\": {\"backgroundcolor\": \"#E5ECF6\", \"gridcolor\": \"white\", \"gridwidth\": 2, \"linecolor\": \"white\", \"showbackground\": true, \"ticks\": \"\", \"zerolinecolor\": \"white\"}, \"yaxis\": {\"backgroundcolor\": \"#E5ECF6\", \"gridcolor\": \"white\", \"gridwidth\": 2, \"linecolor\": \"white\", \"showbackground\": true, \"ticks\": \"\", \"zerolinecolor\": \"white\"}, \"zaxis\": {\"backgroundcolor\": \"#E5ECF6\", \"gridcolor\": \"white\", \"gridwidth\": 2, \"linecolor\": \"white\", \"showbackground\": true, \"ticks\": \"\", \"zerolinecolor\": \"white\"}}, \"shapedefaults\": {\"line\": {\"color\": \"#2a3f5f\"}}, \"ternary\": {\"aaxis\": {\"gridcolor\": \"white\", \"linecolor\": \"white\", \"ticks\": \"\"}, \"baxis\": {\"gridcolor\": \"white\", \"linecolor\": \"white\", \"ticks\": \"\"}, \"bgcolor\": \"#E5ECF6\", \"caxis\": {\"gridcolor\": \"white\", \"linecolor\": \"white\", \"ticks\": \"\"}}, \"title\": {\"x\": 0.05}, \"xaxis\": {\"automargin\": true, \"gridcolor\": \"white\", \"linecolor\": \"white\", \"ticks\": \"\", \"title\": {\"standoff\": 15}, \"zerolinecolor\": \"white\", \"zerolinewidth\": 2}, \"yaxis\": {\"automargin\": true, \"gridcolor\": \"white\", \"linecolor\": \"white\", \"ticks\": \"\", \"title\": {\"standoff\": 15}, \"zerolinecolor\": \"white\", \"zerolinewidth\": 2}}}, \"title\": {\"font\": {\"color\": \"#4D5663\"}}, \"xaxis\": {\"anchor\": \"y\", \"domain\": [0.0, 0.2125], \"gridcolor\": \"#E1E5ED\", \"showgrid\": false, \"tickfont\": {\"color\": \"#4D5663\"}, \"title\": {\"font\": {\"color\": \"#4D5663\"}, \"text\": \"\"}, \"zerolinecolor\": \"#E1E5ED\"}, \"xaxis10\": {\"anchor\": \"y10\", \"domain\": [0.2625, 0.475], \"gridcolor\": \"#E1E5ED\", \"showgrid\": false, \"tickfont\": {\"color\": \"#4D5663\"}, \"title\": {\"font\": {\"color\": \"#4D5663\"}, \"text\": \"\"}, \"zerolinecolor\": \"#E1E5ED\"}, \"xaxis11\": {\"anchor\": \"y11\", \"domain\": [0.525, 0.7375], \"gridcolor\": \"#E1E5ED\", \"showgrid\": false, \"tickfont\": {\"color\": \"#4D5663\"}, \"title\": {\"font\": {\"color\": \"#4D5663\"}, \"text\": \"\"}, \"zerolinecolor\": \"#E1E5ED\"}, \"xaxis12\": {\"anchor\": \"y12\", \"domain\": [0.7875, 1.0], \"gridcolor\": \"#E1E5ED\", \"showgrid\": false, \"tickfont\": {\"color\": \"#4D5663\"}, \"title\": {\"font\": {\"color\": \"#4D5663\"}, \"text\": \"\"}, \"zerolinecolor\": \"#E1E5ED\"}, \"xaxis13\": {\"anchor\": \"y13\", \"domain\": [0.0, 0.2125], \"gridcolor\": \"#E1E5ED\", \"showgrid\": false, \"tickfont\": {\"color\": \"#4D5663\"}, \"title\": {\"font\": {\"color\": \"#4D5663\"}, \"text\": \"\"}, \"zerolinecolor\": \"#E1E5ED\"}, \"xaxis14\": {\"anchor\": \"y14\", \"domain\": [0.2625, 0.475], \"gridcolor\": \"#E1E5ED\", \"showgrid\": false, \"tickfont\": {\"color\": \"#4D5663\"}, \"title\": {\"font\": {\"color\": \"#4D5663\"}, \"text\": \"\"}, \"zerolinecolor\": \"#E1E5ED\"}, \"xaxis15\": {\"anchor\": \"y15\", \"domain\": [0.525, 0.7375], \"gridcolor\": \"#E1E5ED\", \"showgrid\": false, \"tickfont\": {\"color\": \"#4D5663\"}, \"title\": {\"font\": {\"color\": \"#4D5663\"}, \"text\": \"\"}, \"zerolinecolor\": \"#E1E5ED\"}, \"xaxis16\": {\"anchor\": \"y16\", \"domain\": [0.7875, 1.0], \"gridcolor\": \"#E1E5ED\", \"showgrid\": false, \"tickfont\": {\"color\": \"#4D5663\"}, \"title\": {\"font\": {\"color\": \"#4D5663\"}, \"text\": \"\"}, \"zerolinecolor\": \"#E1E5ED\"}, \"xaxis2\": {\"anchor\": \"y2\", \"domain\": [0.2625, 0.475], \"gridcolor\": \"#E1E5ED\", \"showgrid\": false, \"tickfont\": {\"color\": \"#4D5663\"}, \"title\": {\"font\": {\"color\": \"#4D5663\"}, \"text\": \"\"}, \"zerolinecolor\": \"#E1E5ED\"}, \"xaxis3\": {\"anchor\": \"y3\", \"domain\": [0.525, 0.7375], \"gridcolor\": \"#E1E5ED\", \"showgrid\": false, \"tickfont\": {\"color\": \"#4D5663\"}, \"title\": {\"font\": {\"color\": \"#4D5663\"}, \"text\": \"\"}, \"zerolinecolor\": \"#E1E5ED\"}, \"xaxis4\": {\"anchor\": \"y4\", \"domain\": [0.7875, 1.0], \"gridcolor\": \"#E1E5ED\", \"showgrid\": false, \"tickfont\": {\"color\": \"#4D5663\"}, \"title\": {\"font\": {\"color\": \"#4D5663\"}, \"text\": \"\"}, \"zerolinecolor\": \"#E1E5ED\"}, \"xaxis5\": {\"anchor\": \"y5\", \"domain\": [0.0, 0.2125], \"gridcolor\": \"#E1E5ED\", \"showgrid\": false, \"tickfont\": {\"color\": \"#4D5663\"}, \"title\": {\"font\": {\"color\": \"#4D5663\"}, \"text\": \"\"}, \"zerolinecolor\": \"#E1E5ED\"}, \"xaxis6\": {\"anchor\": \"y6\", \"domain\": [0.2625, 0.475], \"gridcolor\": \"#E1E5ED\", \"showgrid\": false, \"tickfont\": {\"color\": \"#4D5663\"}, \"title\": {\"font\": {\"color\": \"#4D5663\"}, \"text\": \"\"}, \"zerolinecolor\": \"#E1E5ED\"}, \"xaxis7\": {\"anchor\": \"y7\", \"domain\": [0.525, 0.7375], \"gridcolor\": \"#E1E5ED\", \"showgrid\": false, \"tickfont\": {\"color\": \"#4D5663\"}, \"title\": {\"font\": {\"color\": \"#4D5663\"}, \"text\": \"\"}, \"zerolinecolor\": \"#E1E5ED\"}, \"xaxis8\": {\"anchor\": \"y8\", \"domain\": [0.7875, 1.0], \"gridcolor\": \"#E1E5ED\", \"showgrid\": false, \"tickfont\": {\"color\": \"#4D5663\"}, \"title\": {\"font\": {\"color\": \"#4D5663\"}, \"text\": \"\"}, \"zerolinecolor\": \"#E1E5ED\"}, \"xaxis9\": {\"anchor\": \"y9\", \"domain\": [0.0, 0.2125], \"gridcolor\": \"#E1E5ED\", \"showgrid\": false, \"tickfont\": {\"color\": \"#4D5663\"}, \"title\": {\"font\": {\"color\": \"#4D5663\"}, \"text\": \"\"}, \"zerolinecolor\": \"#E1E5ED\"}, \"yaxis\": {\"anchor\": \"x\", \"domain\": [0.8025, 1.0], \"gridcolor\": \"#E1E5ED\", \"showgrid\": false, \"tickfont\": {\"color\": \"#4D5663\"}, \"title\": {\"font\": {\"color\": \"#4D5663\"}, \"text\": \"\"}, \"zerolinecolor\": \"#E1E5ED\"}, \"yaxis10\": {\"anchor\": \"x10\", \"domain\": [0.2675, 0.465], \"gridcolor\": \"#E1E5ED\", \"showgrid\": false, \"tickfont\": {\"color\": \"#4D5663\"}, \"title\": {\"font\": {\"color\": \"#4D5663\"}, \"text\": \"\"}, \"zerolinecolor\": \"#E1E5ED\"}, \"yaxis11\": {\"anchor\": \"x11\", \"domain\": [0.2675, 0.465], \"gridcolor\": \"#E1E5ED\", \"showgrid\": false, \"tickfont\": {\"color\": \"#4D5663\"}, \"title\": {\"font\": {\"color\": \"#4D5663\"}, \"text\": \"\"}, \"zerolinecolor\": \"#E1E5ED\"}, \"yaxis12\": {\"anchor\": \"x12\", \"domain\": [0.2675, 0.465], \"gridcolor\": \"#E1E5ED\", \"showgrid\": false, \"tickfont\": {\"color\": \"#4D5663\"}, \"title\": {\"font\": {\"color\": \"#4D5663\"}, \"text\": \"\"}, \"zerolinecolor\": \"#E1E5ED\"}, \"yaxis13\": {\"anchor\": \"x13\", \"domain\": [0.0, 0.1975], \"gridcolor\": \"#E1E5ED\", \"showgrid\": false, \"tickfont\": {\"color\": \"#4D5663\"}, \"title\": {\"font\": {\"color\": \"#4D5663\"}, \"text\": \"\"}, \"zerolinecolor\": \"#E1E5ED\"}, \"yaxis14\": {\"anchor\": \"x14\", \"domain\": [0.0, 0.1975], \"gridcolor\": \"#E1E5ED\", \"showgrid\": false, \"tickfont\": {\"color\": \"#4D5663\"}, \"title\": {\"font\": {\"color\": \"#4D5663\"}, \"text\": \"\"}, \"zerolinecolor\": \"#E1E5ED\"}, \"yaxis15\": {\"anchor\": \"x15\", \"domain\": [0.0, 0.1975], \"gridcolor\": \"#E1E5ED\", \"showgrid\": false, \"tickfont\": {\"color\": \"#4D5663\"}, \"title\": {\"font\": {\"color\": \"#4D5663\"}, \"text\": \"\"}, \"zerolinecolor\": \"#E1E5ED\"}, \"yaxis16\": {\"anchor\": \"x16\", \"domain\": [0.0, 0.1975], \"gridcolor\": \"#E1E5ED\", \"showgrid\": false, \"tickfont\": {\"color\": \"#4D5663\"}, \"title\": {\"font\": {\"color\": \"#4D5663\"}, \"text\": \"\"}, \"zerolinecolor\": \"#E1E5ED\"}, \"yaxis2\": {\"anchor\": \"x2\", \"domain\": [0.8025, 1.0], \"gridcolor\": \"#E1E5ED\", \"showgrid\": false, \"tickfont\": {\"color\": \"#4D5663\"}, \"title\": {\"font\": {\"color\": \"#4D5663\"}, \"text\": \"\"}, \"zerolinecolor\": \"#E1E5ED\"}, \"yaxis3\": {\"anchor\": \"x3\", \"domain\": [0.8025, 1.0], \"gridcolor\": \"#E1E5ED\", \"showgrid\": false, \"tickfont\": {\"color\": \"#4D5663\"}, \"title\": {\"font\": {\"color\": \"#4D5663\"}, \"text\": \"\"}, \"zerolinecolor\": \"#E1E5ED\"}, \"yaxis4\": {\"anchor\": \"x4\", \"domain\": [0.8025, 1.0], \"gridcolor\": \"#E1E5ED\", \"showgrid\": false, \"tickfont\": {\"color\": \"#4D5663\"}, \"title\": {\"font\": {\"color\": \"#4D5663\"}, \"text\": \"\"}, \"zerolinecolor\": \"#E1E5ED\"}, \"yaxis5\": {\"anchor\": \"x5\", \"domain\": [0.535, 0.7325], \"gridcolor\": \"#E1E5ED\", \"showgrid\": false, \"tickfont\": {\"color\": \"#4D5663\"}, \"title\": {\"font\": {\"color\": \"#4D5663\"}, \"text\": \"\"}, \"zerolinecolor\": \"#E1E5ED\"}, \"yaxis6\": {\"anchor\": \"x6\", \"domain\": [0.535, 0.7325], \"gridcolor\": \"#E1E5ED\", \"showgrid\": false, \"tickfont\": {\"color\": \"#4D5663\"}, \"title\": {\"font\": {\"color\": \"#4D5663\"}, \"text\": \"\"}, \"zerolinecolor\": \"#E1E5ED\"}, \"yaxis7\": {\"anchor\": \"x7\", \"domain\": [0.535, 0.7325], \"gridcolor\": \"#E1E5ED\", \"showgrid\": false, \"tickfont\": {\"color\": \"#4D5663\"}, \"title\": {\"font\": {\"color\": \"#4D5663\"}, \"text\": \"\"}, \"zerolinecolor\": \"#E1E5ED\"}, \"yaxis8\": {\"anchor\": \"x8\", \"domain\": [0.535, 0.7325], \"gridcolor\": \"#E1E5ED\", \"showgrid\": false, \"tickfont\": {\"color\": \"#4D5663\"}, \"title\": {\"font\": {\"color\": \"#4D5663\"}, \"text\": \"\"}, \"zerolinecolor\": \"#E1E5ED\"}, \"yaxis9\": {\"anchor\": \"x9\", \"domain\": [0.2675, 0.465], \"gridcolor\": \"#E1E5ED\", \"showgrid\": false, \"tickfont\": {\"color\": \"#4D5663\"}, \"title\": {\"font\": {\"color\": \"#4D5663\"}, \"text\": \"\"}, \"zerolinecolor\": \"#E1E5ED\"}},\n",
       "                        {\"showLink\": true, \"linkText\": \"Export to plot.ly\", \"plotlyServerURL\": \"https://plot.ly\", \"responsive\": true}\n",
       "                    ).then(function(){\n",
       "                            \n",
       "var gd = document.getElementById('523babbf-126a-4d40-a70c-9c97bf4a1cd1');\n",
       "var x = new MutationObserver(function (mutations, observer) {{\n",
       "        var display = window.getComputedStyle(gd).display;\n",
       "        if (!display || display === 'none') {{\n",
       "            console.log([gd, 'removed!']);\n",
       "            Plotly.purge(gd);\n",
       "            observer.disconnect();\n",
       "        }}\n",
       "}});\n",
       "\n",
       "// Listen for the removal of the full notebook cells\n",
       "var notebookContainer = gd.closest('#notebook-container');\n",
       "if (notebookContainer) {{\n",
       "    x.observe(notebookContainer, {childList: true});\n",
       "}}\n",
       "\n",
       "// Listen for the clearing of the current output cell\n",
       "var outputEl = gd.closest('.output');\n",
       "if (outputEl) {{\n",
       "    x.observe(outputEl, {childList: true});\n",
       "}}\n",
       "\n",
       "                        })\n",
       "                };\n",
       "                });\n",
       "            </script>\n",
       "        </div>"
      ]
     },
     "metadata": {},
     "output_type": "display_data"
    }
   ],
   "source": [
    "# all cols need to be numerical\n",
    "# crash python kernal is data set too large\n",
    "df.scatter_matrix()"
   ]
  },
  {
   "cell_type": "code",
   "execution_count": null,
   "metadata": {},
   "outputs": [],
   "source": []
  }
 ],
 "metadata": {
  "kernelspec": {
   "display_name": "Python 3",
   "language": "python",
   "name": "python3"
  },
  "language_info": {
   "codemirror_mode": {
    "name": "ipython",
    "version": 3
   },
   "file_extension": ".py",
   "mimetype": "text/x-python",
   "name": "python",
   "nbconvert_exporter": "python",
   "pygments_lexer": "ipython3",
   "version": "3.7.4"
  }
 },
 "nbformat": 4,
 "nbformat_minor": 2
}
