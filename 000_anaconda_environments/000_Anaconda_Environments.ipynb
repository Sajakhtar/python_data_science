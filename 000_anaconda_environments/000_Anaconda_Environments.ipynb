{
 "cells": [
  {
   "cell_type": "markdown",
   "metadata": {},
   "source": [
    "# Anaconda Virtual Environments\n",
    "<hr>"
   ]
  },
  {
   "cell_type": "markdown",
   "metadata": {},
   "source": [
    "* Virual Environments allow you to setup virtual installations of Python libraries on your computer\n",
    "* You can have multiple versions of Python or libraries and easily activate or deactivate these environments\n",
    "* virtualenv library for normal python distributions\n",
    "* Anaconda has built-in virtual environment manager:\n",
    "    * https://conda.io/projects/conda/en/latest/user-guide/tasks/manage-environments.html\n",
    "    * https://conda.io/projects/conda/en/latest/user-guide/concepts/environments.html\n"
   ]
  },
  {
   "cell_type": "markdown",
   "metadata": {},
   "source": [
    "### Use case for Virtual Environments\n"
   ]
  },
  {
   "cell_type": "markdown",
   "metadata": {},
   "source": [
    "* Sometimes you'll want to program in different versions of a library e.g You develop in SciKit-Leanr 0.17, then Sci-kit 0.18 is released. You want to explore 0.18 but don't want your old code to break \n",
    "* Sometimes you'll want to make sure your library installations are in the correct location e.g. you want multiple versions of python on your computer, py2.7 and Py3.7, so can have an environment for each"
   ]
  },
  {
   "cell_type": "markdown",
   "metadata": {},
   "source": [
    "In Anaconda Prompt\n",
    "\n",
    "Default environment is \"base\"\n",
    "\n",
    "To create new Environment:\n",
    "* just environment: > conda create --name myenv\n",
    "* with specific python version: > conda create -n myenv python=3.6\n",
    "* with specific package: > conda create -n myenv numpy\n",
    "* with both: > conda create -n myenv python=3.6 numpy\n",
    "\n",
    "\n",
    "If you don't specify a specific version of Python, the base version installed will be used for that environment\n",
    "\n",
    "* Activate environment: > activate myenv\n",
    "* Deactivate > deactivate\n",
    "* List environments: > conda info --envs"
   ]
  },
  {
   "cell_type": "markdown",
   "metadata": {},
   "source": [
    "#### Create Environment for bootcamp\n",
    "\n",
    "> conda create --name pybootcamp\n",
    "\n",
    "> activate pybootcamp\n",
    "\n",
    "> deactivate"
   ]
  },
  {
   "cell_type": "markdown",
   "metadata": {},
   "source": [
    "#### Jupyter Notebooks and Environments\n",
    "\n",
    "First activate environment in Anaconda Prompt that you wish to use, then start jupyter notebooks\n",
    "\n",
    "https://medium.com/@nrk25693/how-to-add-your-conda-environment-to-your-jupyter-notebook-in-just-4-steps-abeab8b8d084\n",
    "\n",
    "https://software.intel.com/en-us/forums/intel-devcloud/topic/829120"
   ]
  },
  {
   "cell_type": "code",
   "execution_count": null,
   "metadata": {},
   "outputs": [],
   "source": []
  }
 ],
 "metadata": {
  "kernelspec": {
   "display_name": "Python 3",
   "language": "python",
   "name": "python3"
  },
  "language_info": {
   "codemirror_mode": {
    "name": "ipython",
    "version": 3
   },
   "file_extension": ".py",
   "mimetype": "text/x-python",
   "name": "python",
   "nbconvert_exporter": "python",
   "pygments_lexer": "ipython3",
   "version": "3.7.4"
  }
 },
 "nbformat": 4,
 "nbformat_minor": 2
}
